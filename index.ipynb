{
  "cells": [
    {
      "cell_type": "markdown",
      "metadata": {
        "id": "view-in-github",
        "colab_type": "text"
      },
      "source": [
        "<a href=\"https://colab.research.google.com/github/nuriacasana/introgeodf/blob/main/index.ipynb\" target=\"_parent\"><img src=\"https://colab.research.google.com/assets/colab-badge.svg\" alt=\"Open In Colab\"/></a>"
      ]
    },
    {
      "cell_type": "markdown",
      "metadata": {
        "id": "Rq_-jS9HtUU-"
      },
      "source": [
        "<center><img src=\"https://i.imgur.com/zRrFdsf.png\" width=\"700\"></center>"
      ]
    },
    {
      "cell_type": "code",
      "source": [
        "from google.colab import drive\n",
        "drive.mount('/content/drive')"
      ],
      "metadata": {
        "id": "YqVlTxpg2APw",
        "colab": {
          "base_uri": "https://localhost:8080/"
        },
        "outputId": "302a4e04-a66b-4cc8-85f3-eef42a6dca24"
      },
      "execution_count": null,
      "outputs": [
        {
          "output_type": "stream",
          "name": "stdout",
          "text": [
            "Mounted at /content/drive\n"
          ]
        }
      ]
    },
    {
      "cell_type": "markdown",
      "metadata": {
        "id": "-cCaZ1r2tUVA"
      },
      "source": [
        "<a target=\"_blank\" href=\"https://colab.research.google.com/github/CienciaDeDatosEspacial/intro_geodataframe/blob/main/index.ipynb\">\n",
        "  <img src=\"https://colab.research.google.com/assets/colab-badge.svg\" alt=\"Open In Colab\"/>\n",
        "</a>\n",
        "\n",
        "# The Geo Dataframe\n",
        "\n",
        "The geodataframe (GDF) is a dataframe (DF) where every row represents an spatial element (point, line, polygon).\n",
        "\n",
        "The most common file type that stores spatial elements is the shapefile. Let's take a look at some of them:\n",
        "\n",
        "1. In GitHub (cloud), create a repository named: introgeodf.\n",
        "2. Clone that repo to a local folder in your computer.\n",
        "3. In that local folder in your computer, create a folder named **maps**.\n",
        "4. Go to **Paidea** and download three compressed files from the folder **WorldMaps**."
      ]
    },
    {
      "cell_type": "markdown",
      "metadata": {
        "id": "PhGJmen1tUVB"
      },
      "source": [
        "You may see something like this:\n",
        "\n",
        "<img src=\"https://github.com/CienciaDeDatosEspacial/code_and_data/blob/main/mapsFolderImage.png?raw=true\">"
      ]
    },
    {
      "cell_type": "markdown",
      "metadata": {
        "id": "HBs3ovRstUVB"
      },
      "source": [
        "You can decompress those files:\n",
        "\n",
        "<img title=\"a title\" alt=\"Alt text\" src=\"https://github.com/CienciaDeDatosEspacial/code_and_data/blob/main/folderRar_1.png?raw=true\">"
      ]
    },
    {
      "cell_type": "markdown",
      "metadata": {
        "id": "OzvFDa2JtUVB"
      },
      "source": [
        "Now, take a look a **World_Countries**:\n",
        "\n",
        "<img src=\"https://github.com/CienciaDeDatosEspacial/code_and_data/blob/main/imageCountries_shp.png?raw=true\">"
      ]
    },
    {
      "cell_type": "markdown",
      "metadata": {
        "id": "BUOIWMOTtUVB"
      },
      "source": [
        "There, you see that this **one map** requires **several files**. That is the nature of the shapefile.\n",
        "\n",
        "Let's read the file with the help of **geopandas**:"
      ]
    },
    {
      "cell_type": "code",
      "execution_count": null,
      "metadata": {
        "id": "KJV5G0POtUVB"
      },
      "outputs": [],
      "source": [
        "import os, geopandas as gpd\n",
        "\n",
        "countries=gpd.read_file(os.path.join(\"maps\",\"World_Countries\",\"World_Countries.shp\"))"
      ]
    },
    {
      "cell_type": "markdown",
      "metadata": {
        "id": "a5AOj3mktUVC"
      },
      "source": [
        "Let's use some familiar DF functions:"
      ]
    },
    {
      "cell_type": "code",
      "execution_count": null,
      "metadata": {
        "id": "BTVBGfNatUVC",
        "colab": {
          "base_uri": "https://localhost:8080/",
          "height": 186
        },
        "outputId": "14b9ee34-7ead-41ce-8659-5ca762158c18"
      },
      "outputs": [
        {
          "output_type": "execute_result",
          "data": {
            "text/plain": [
              "geopandas.geodataframe.GeoDataFrame"
            ],
            "text/html": [
              "<div style=\"max-width:800px; border: 1px solid var(--colab-border-color);\"><style>\n",
              "      pre.function-repr-contents {\n",
              "        overflow-x: auto;\n",
              "        padding: 8px 12px;\n",
              "        max-height: 500px;\n",
              "      }\n",
              "\n",
              "      pre.function-repr-contents.function-repr-contents-collapsed {\n",
              "        cursor: pointer;\n",
              "        max-height: 100px;\n",
              "      }\n",
              "    </style>\n",
              "    <pre style=\"white-space: initial; background:\n",
              "         var(--colab-secondary-surface-color); padding: 8px 12px;\n",
              "         border-bottom: 1px solid var(--colab-border-color);\"><b>geopandas.geodataframe.GeoDataFrame</b><br/>def __init__(data=None, *args, geometry=None, crs=None, **kwargs)</pre><pre class=\"function-repr-contents function-repr-contents-collapsed\" style=\"\"><a class=\"filepath\" style=\"display:none\" href=\"#\">/usr/local/lib/python3.11/dist-packages/geopandas/geodataframe.py</a>A GeoDataFrame object is a pandas.DataFrame that has one or more columns\n",
              "containing geometry. In addition to the standard DataFrame constructor arguments,\n",
              "GeoDataFrame also accepts the following keyword arguments:\n",
              "\n",
              "Parameters\n",
              "----------\n",
              "crs : value (optional)\n",
              "    Coordinate Reference System of the geometry objects. Can be anything accepted by\n",
              "    :meth:`pyproj.CRS.from_user_input() &lt;pyproj.crs.CRS.from_user_input&gt;`,\n",
              "    such as an authority string (eg &quot;EPSG:4326&quot;) or a WKT string.\n",
              "geometry : str or array-like (optional)\n",
              "    Value to use as the active geometry column.\n",
              "    If str, treated as column name to use. If array-like, it will be\n",
              "    added as new column named &#x27;geometry&#x27; on the GeoDataFrame and set as the\n",
              "    active geometry column.\n",
              "\n",
              "    Note that if ``geometry`` is a (Geo)Series with a\n",
              "    name, the name will not be used, a column named &quot;geometry&quot; will still be\n",
              "    added. To preserve the name, you can use :meth:`~GeoDataFrame.rename_geometry`\n",
              "    to update the geometry column name.\n",
              "\n",
              "Examples\n",
              "--------\n",
              "Constructing GeoDataFrame from a dictionary.\n",
              "\n",
              "&gt;&gt;&gt; from shapely.geometry import Point\n",
              "&gt;&gt;&gt; d = {&#x27;col1&#x27;: [&#x27;name1&#x27;, &#x27;name2&#x27;], &#x27;geometry&#x27;: [Point(1, 2), Point(2, 1)]}\n",
              "&gt;&gt;&gt; gdf = geopandas.GeoDataFrame(d, crs=&quot;EPSG:4326&quot;)\n",
              "&gt;&gt;&gt; gdf\n",
              "    col1     geometry\n",
              "0  name1  POINT (1 2)\n",
              "1  name2  POINT (2 1)\n",
              "\n",
              "Notice that the inferred dtype of &#x27;geometry&#x27; columns is geometry.\n",
              "\n",
              "&gt;&gt;&gt; gdf.dtypes\n",
              "col1          object\n",
              "geometry    geometry\n",
              "dtype: object\n",
              "\n",
              "Constructing GeoDataFrame from a pandas DataFrame with a column of WKT geometries:\n",
              "\n",
              "&gt;&gt;&gt; import pandas as pd\n",
              "&gt;&gt;&gt; d = {&#x27;col1&#x27;: [&#x27;name1&#x27;, &#x27;name2&#x27;], &#x27;wkt&#x27;: [&#x27;POINT (1 2)&#x27;, &#x27;POINT (2 1)&#x27;]}\n",
              "&gt;&gt;&gt; df = pd.DataFrame(d)\n",
              "&gt;&gt;&gt; gs = geopandas.GeoSeries.from_wkt(df[&#x27;wkt&#x27;])\n",
              "&gt;&gt;&gt; gdf = geopandas.GeoDataFrame(df, geometry=gs, crs=&quot;EPSG:4326&quot;)\n",
              "&gt;&gt;&gt; gdf\n",
              "    col1          wkt     geometry\n",
              "0  name1  POINT (1 2)  POINT (1 2)\n",
              "1  name2  POINT (2 1)  POINT (2 1)\n",
              "\n",
              "See also\n",
              "--------\n",
              "GeoSeries : Series object designed to store shapely geometry objects</pre>\n",
              "      <script>\n",
              "      if (google.colab.kernel.accessAllowed && google.colab.files && google.colab.files.view) {\n",
              "        for (const element of document.querySelectorAll('.filepath')) {\n",
              "          element.style.display = 'block'\n",
              "          element.onclick = (event) => {\n",
              "            event.preventDefault();\n",
              "            event.stopPropagation();\n",
              "            google.colab.files.view(element.textContent, 78);\n",
              "          };\n",
              "        }\n",
              "      }\n",
              "      for (const element of document.querySelectorAll('.function-repr-contents')) {\n",
              "        element.onclick = (event) => {\n",
              "          event.preventDefault();\n",
              "          event.stopPropagation();\n",
              "          element.classList.toggle('function-repr-contents-collapsed');\n",
              "        };\n",
              "      }\n",
              "      </script>\n",
              "      </div>"
            ]
          },
          "metadata": {},
          "execution_count": 6
        }
      ],
      "source": [
        "# what is it?\n",
        "type(countries)"
      ]
    },
    {
      "cell_type": "code",
      "execution_count": null,
      "metadata": {
        "id": "AkvWskZytUVC",
        "colab": {
          "base_uri": "https://localhost:8080/"
        },
        "outputId": "50413c86-aced-4370-e2cb-bc39d0a1d7a7"
      },
      "outputs": [
        {
          "output_type": "execute_result",
          "data": {
            "text/plain": [
              "(252, 2)"
            ]
          },
          "metadata": {},
          "execution_count": 7
        }
      ],
      "source": [
        "# dimensions\n",
        "countries.shape"
      ]
    },
    {
      "cell_type": "code",
      "execution_count": null,
      "metadata": {
        "id": "ETJdBBR1tUVD",
        "colab": {
          "base_uri": "https://localhost:8080/"
        },
        "outputId": "4e4c79a7-df6b-406a-cea8-71070c6df382"
      },
      "outputs": [
        {
          "output_type": "execute_result",
          "data": {
            "text/plain": [
              "Index(['COUNTRY', 'geometry'], dtype='object')"
            ]
          },
          "metadata": {},
          "execution_count": 8
        }
      ],
      "source": [
        "# names\n",
        "countries.columns"
      ]
    },
    {
      "cell_type": "code",
      "execution_count": null,
      "metadata": {
        "id": "QrbZt4g5tUVD",
        "colab": {
          "base_uri": "https://localhost:8080/",
          "height": 206
        },
        "outputId": "ac8835ee-394a-4202-8d11-8fd1bab6adc7"
      },
      "outputs": [
        {
          "output_type": "execute_result",
          "data": {
            "text/plain": [
              "               COUNTRY                                           geometry\n",
              "0  Aruba (Netherlands)  POLYGON ((-69.88223 12.41111, -69.94695 12.436...\n",
              "1  Antigua and Barbuda  MULTIPOLYGON (((-61.73889 17.54055, -61.75195 ...\n",
              "2          Afghanistan  POLYGON ((61.27656 35.60725, 61.29638 35.62853...\n",
              "3              Algeria  POLYGON ((-5.15213 30.18047, -5.13917 30.19236...\n",
              "4           Azerbaijan  MULTIPOLYGON (((46.54037 38.87559, 46.49554 38..."
            ],
            "text/html": [
              "\n",
              "  <div id=\"df-fa86d6c6-f741-451b-b06a-36e7af6836ea\" class=\"colab-df-container\">\n",
              "    <div>\n",
              "<style scoped>\n",
              "    .dataframe tbody tr th:only-of-type {\n",
              "        vertical-align: middle;\n",
              "    }\n",
              "\n",
              "    .dataframe tbody tr th {\n",
              "        vertical-align: top;\n",
              "    }\n",
              "\n",
              "    .dataframe thead th {\n",
              "        text-align: right;\n",
              "    }\n",
              "</style>\n",
              "<table border=\"1\" class=\"dataframe\">\n",
              "  <thead>\n",
              "    <tr style=\"text-align: right;\">\n",
              "      <th></th>\n",
              "      <th>COUNTRY</th>\n",
              "      <th>geometry</th>\n",
              "    </tr>\n",
              "  </thead>\n",
              "  <tbody>\n",
              "    <tr>\n",
              "      <th>0</th>\n",
              "      <td>Aruba (Netherlands)</td>\n",
              "      <td>POLYGON ((-69.88223 12.41111, -69.94695 12.436...</td>\n",
              "    </tr>\n",
              "    <tr>\n",
              "      <th>1</th>\n",
              "      <td>Antigua and Barbuda</td>\n",
              "      <td>MULTIPOLYGON (((-61.73889 17.54055, -61.75195 ...</td>\n",
              "    </tr>\n",
              "    <tr>\n",
              "      <th>2</th>\n",
              "      <td>Afghanistan</td>\n",
              "      <td>POLYGON ((61.27656 35.60725, 61.29638 35.62853...</td>\n",
              "    </tr>\n",
              "    <tr>\n",
              "      <th>3</th>\n",
              "      <td>Algeria</td>\n",
              "      <td>POLYGON ((-5.15213 30.18047, -5.13917 30.19236...</td>\n",
              "    </tr>\n",
              "    <tr>\n",
              "      <th>4</th>\n",
              "      <td>Azerbaijan</td>\n",
              "      <td>MULTIPOLYGON (((46.54037 38.87559, 46.49554 38...</td>\n",
              "    </tr>\n",
              "  </tbody>\n",
              "</table>\n",
              "</div>\n",
              "    <div class=\"colab-df-buttons\">\n",
              "\n",
              "  <div class=\"colab-df-container\">\n",
              "    <button class=\"colab-df-convert\" onclick=\"convertToInteractive('df-fa86d6c6-f741-451b-b06a-36e7af6836ea')\"\n",
              "            title=\"Convert this dataframe to an interactive table.\"\n",
              "            style=\"display:none;\">\n",
              "\n",
              "  <svg xmlns=\"http://www.w3.org/2000/svg\" height=\"24px\" viewBox=\"0 -960 960 960\">\n",
              "    <path d=\"M120-120v-720h720v720H120Zm60-500h600v-160H180v160Zm220 220h160v-160H400v160Zm0 220h160v-160H400v160ZM180-400h160v-160H180v160Zm440 0h160v-160H620v160ZM180-180h160v-160H180v160Zm440 0h160v-160H620v160Z\"/>\n",
              "  </svg>\n",
              "    </button>\n",
              "\n",
              "  <style>\n",
              "    .colab-df-container {\n",
              "      display:flex;\n",
              "      gap: 12px;\n",
              "    }\n",
              "\n",
              "    .colab-df-convert {\n",
              "      background-color: #E8F0FE;\n",
              "      border: none;\n",
              "      border-radius: 50%;\n",
              "      cursor: pointer;\n",
              "      display: none;\n",
              "      fill: #1967D2;\n",
              "      height: 32px;\n",
              "      padding: 0 0 0 0;\n",
              "      width: 32px;\n",
              "    }\n",
              "\n",
              "    .colab-df-convert:hover {\n",
              "      background-color: #E2EBFA;\n",
              "      box-shadow: 0px 1px 2px rgba(60, 64, 67, 0.3), 0px 1px 3px 1px rgba(60, 64, 67, 0.15);\n",
              "      fill: #174EA6;\n",
              "    }\n",
              "\n",
              "    .colab-df-buttons div {\n",
              "      margin-bottom: 4px;\n",
              "    }\n",
              "\n",
              "    [theme=dark] .colab-df-convert {\n",
              "      background-color: #3B4455;\n",
              "      fill: #D2E3FC;\n",
              "    }\n",
              "\n",
              "    [theme=dark] .colab-df-convert:hover {\n",
              "      background-color: #434B5C;\n",
              "      box-shadow: 0px 1px 3px 1px rgba(0, 0, 0, 0.15);\n",
              "      filter: drop-shadow(0px 1px 2px rgba(0, 0, 0, 0.3));\n",
              "      fill: #FFFFFF;\n",
              "    }\n",
              "  </style>\n",
              "\n",
              "    <script>\n",
              "      const buttonEl =\n",
              "        document.querySelector('#df-fa86d6c6-f741-451b-b06a-36e7af6836ea button.colab-df-convert');\n",
              "      buttonEl.style.display =\n",
              "        google.colab.kernel.accessAllowed ? 'block' : 'none';\n",
              "\n",
              "      async function convertToInteractive(key) {\n",
              "        const element = document.querySelector('#df-fa86d6c6-f741-451b-b06a-36e7af6836ea');\n",
              "        const dataTable =\n",
              "          await google.colab.kernel.invokeFunction('convertToInteractive',\n",
              "                                                    [key], {});\n",
              "        if (!dataTable) return;\n",
              "\n",
              "        const docLinkHtml = 'Like what you see? Visit the ' +\n",
              "          '<a target=\"_blank\" href=https://colab.research.google.com/notebooks/data_table.ipynb>data table notebook</a>'\n",
              "          + ' to learn more about interactive tables.';\n",
              "        element.innerHTML = '';\n",
              "        dataTable['output_type'] = 'display_data';\n",
              "        await google.colab.output.renderOutput(dataTable, element);\n",
              "        const docLink = document.createElement('div');\n",
              "        docLink.innerHTML = docLinkHtml;\n",
              "        element.appendChild(docLink);\n",
              "      }\n",
              "    </script>\n",
              "  </div>\n",
              "\n",
              "\n",
              "    <div id=\"df-d77b71c4-3a8b-4637-a679-85d2807d9925\">\n",
              "      <button class=\"colab-df-quickchart\" onclick=\"quickchart('df-d77b71c4-3a8b-4637-a679-85d2807d9925')\"\n",
              "                title=\"Suggest charts\"\n",
              "                style=\"display:none;\">\n",
              "\n",
              "<svg xmlns=\"http://www.w3.org/2000/svg\" height=\"24px\"viewBox=\"0 0 24 24\"\n",
              "     width=\"24px\">\n",
              "    <g>\n",
              "        <path d=\"M19 3H5c-1.1 0-2 .9-2 2v14c0 1.1.9 2 2 2h14c1.1 0 2-.9 2-2V5c0-1.1-.9-2-2-2zM9 17H7v-7h2v7zm4 0h-2V7h2v10zm4 0h-2v-4h2v4z\"/>\n",
              "    </g>\n",
              "</svg>\n",
              "      </button>\n",
              "\n",
              "<style>\n",
              "  .colab-df-quickchart {\n",
              "      --bg-color: #E8F0FE;\n",
              "      --fill-color: #1967D2;\n",
              "      --hover-bg-color: #E2EBFA;\n",
              "      --hover-fill-color: #174EA6;\n",
              "      --disabled-fill-color: #AAA;\n",
              "      --disabled-bg-color: #DDD;\n",
              "  }\n",
              "\n",
              "  [theme=dark] .colab-df-quickchart {\n",
              "      --bg-color: #3B4455;\n",
              "      --fill-color: #D2E3FC;\n",
              "      --hover-bg-color: #434B5C;\n",
              "      --hover-fill-color: #FFFFFF;\n",
              "      --disabled-bg-color: #3B4455;\n",
              "      --disabled-fill-color: #666;\n",
              "  }\n",
              "\n",
              "  .colab-df-quickchart {\n",
              "    background-color: var(--bg-color);\n",
              "    border: none;\n",
              "    border-radius: 50%;\n",
              "    cursor: pointer;\n",
              "    display: none;\n",
              "    fill: var(--fill-color);\n",
              "    height: 32px;\n",
              "    padding: 0;\n",
              "    width: 32px;\n",
              "  }\n",
              "\n",
              "  .colab-df-quickchart:hover {\n",
              "    background-color: var(--hover-bg-color);\n",
              "    box-shadow: 0 1px 2px rgba(60, 64, 67, 0.3), 0 1px 3px 1px rgba(60, 64, 67, 0.15);\n",
              "    fill: var(--button-hover-fill-color);\n",
              "  }\n",
              "\n",
              "  .colab-df-quickchart-complete:disabled,\n",
              "  .colab-df-quickchart-complete:disabled:hover {\n",
              "    background-color: var(--disabled-bg-color);\n",
              "    fill: var(--disabled-fill-color);\n",
              "    box-shadow: none;\n",
              "  }\n",
              "\n",
              "  .colab-df-spinner {\n",
              "    border: 2px solid var(--fill-color);\n",
              "    border-color: transparent;\n",
              "    border-bottom-color: var(--fill-color);\n",
              "    animation:\n",
              "      spin 1s steps(1) infinite;\n",
              "  }\n",
              "\n",
              "  @keyframes spin {\n",
              "    0% {\n",
              "      border-color: transparent;\n",
              "      border-bottom-color: var(--fill-color);\n",
              "      border-left-color: var(--fill-color);\n",
              "    }\n",
              "    20% {\n",
              "      border-color: transparent;\n",
              "      border-left-color: var(--fill-color);\n",
              "      border-top-color: var(--fill-color);\n",
              "    }\n",
              "    30% {\n",
              "      border-color: transparent;\n",
              "      border-left-color: var(--fill-color);\n",
              "      border-top-color: var(--fill-color);\n",
              "      border-right-color: var(--fill-color);\n",
              "    }\n",
              "    40% {\n",
              "      border-color: transparent;\n",
              "      border-right-color: var(--fill-color);\n",
              "      border-top-color: var(--fill-color);\n",
              "    }\n",
              "    60% {\n",
              "      border-color: transparent;\n",
              "      border-right-color: var(--fill-color);\n",
              "    }\n",
              "    80% {\n",
              "      border-color: transparent;\n",
              "      border-right-color: var(--fill-color);\n",
              "      border-bottom-color: var(--fill-color);\n",
              "    }\n",
              "    90% {\n",
              "      border-color: transparent;\n",
              "      border-bottom-color: var(--fill-color);\n",
              "    }\n",
              "  }\n",
              "</style>\n",
              "\n",
              "      <script>\n",
              "        async function quickchart(key) {\n",
              "          const quickchartButtonEl =\n",
              "            document.querySelector('#' + key + ' button');\n",
              "          quickchartButtonEl.disabled = true;  // To prevent multiple clicks.\n",
              "          quickchartButtonEl.classList.add('colab-df-spinner');\n",
              "          try {\n",
              "            const charts = await google.colab.kernel.invokeFunction(\n",
              "                'suggestCharts', [key], {});\n",
              "          } catch (error) {\n",
              "            console.error('Error during call to suggestCharts:', error);\n",
              "          }\n",
              "          quickchartButtonEl.classList.remove('colab-df-spinner');\n",
              "          quickchartButtonEl.classList.add('colab-df-quickchart-complete');\n",
              "        }\n",
              "        (() => {\n",
              "          let quickchartButtonEl =\n",
              "            document.querySelector('#df-d77b71c4-3a8b-4637-a679-85d2807d9925 button');\n",
              "          quickchartButtonEl.style.display =\n",
              "            google.colab.kernel.accessAllowed ? 'block' : 'none';\n",
              "        })();\n",
              "      </script>\n",
              "    </div>\n",
              "\n",
              "    </div>\n",
              "  </div>\n"
            ],
            "application/vnd.google.colaboratory.intrinsic+json": {
              "type": "dataframe",
              "variable_name": "countries",
              "summary": "{\n  \"name\": \"countries\",\n  \"rows\": 252,\n  \"fields\": [\n    {\n      \"column\": \"COUNTRY\",\n      \"properties\": {\n        \"dtype\": \"string\",\n        \"num_unique_values\": 252,\n        \"samples\": [\n          \"Nepal\",\n          \"Armenia\",\n          \"Japan\"\n        ],\n        \"semantic_type\": \"\",\n        \"description\": \"\"\n      }\n    },\n    {\n      \"column\": \"geometry\",\n      \"properties\": {\n        \"dtype\": \"geometry\",\n        \"num_unique_values\": 252,\n        \"samples\": [\n          \"POLYGON ((82.70109558105469 27.711105346679688, 82.65790557861328 27.70763397216797, 82.61720275878906 27.696941375732422, 82.59803771972656 27.69027328491211, 82.56805419921875 27.685272216796875, 82.47886657714844 27.672771453857422, 82.45207214355469 27.672216415405273, 82.42942810058594 27.6774959564209, 82.40609741210938 27.69083023071289, 82.30429077148438 27.75916290283203, 82.2783203125 27.778053283691406, 82.14888000488281 27.86416244506836, 82.06639862060547 27.914154052734375, 82.04331970214844 27.91860580444336, 81.99971008300781 27.922218322753906, 81.96949768066406 27.91305160522461, 81.93692016601562 27.887496948242188, 81.90105438232422 27.85492706298828, 81.78082275390625 27.91082763671875, 81.7269287109375 27.955829620361328, 81.60748291015625 28.01888656616211, 81.47876739501953 28.08437156677246, 81.37442016601562 28.166107177734375, 81.29803466796875 28.163883209228516, 81.22248840332031 28.324718475341797, 81.19358825683594 28.366662979125977, 81.18887329101562 28.369163513183594, 81.16693115234375 28.375274658203125, 81.13916015625 28.382495880126953, 81.09414672851562 28.393329620361328, 81.0313720703125 28.40304946899414, 80.93025207519531 28.44554901123047, 80.7047119140625 28.578609466552734, 80.58499145507812 28.653606414794922, 80.54136657714844 28.685272216796875, 80.51901245117188 28.671384811401367, 80.50589752197266 28.6552734375, 80.51081848144531 28.621109008789062, 80.47221374511719 28.589996337890625, 80.38749694824219 28.624996185302734, 80.316650390625 28.69291114807129, 80.2502670288086 28.747495651245117, 80.15081787109375 28.793609619140625, 80.06137084960938 28.829927444458008, 80.05220031738281 28.89832878112793, 80.0576171875 28.924301147460938, 80.06971740722656 28.949440002441406, 80.19692993164062 29.12833023071289, 80.2491455078125 29.16360855102539, 80.28776550292969 29.205551147460938, 80.30192565917969 29.278610229492188, 80.30615997314453 29.30888557434082, 80.28567504882812 29.320205688476562, 80.23802947998047 29.42298126220703, 80.29026794433594 29.483051300048828, 80.31303405761719 29.49860382080078, 80.34609985351562 29.521387100219727, 80.40846252441406 29.60138511657715, 80.41658020019531 29.639995574951172, 80.39652252197266 29.660829544067383, 80.3841552734375 29.681243896484375, 80.37500762939453 29.740203857421875, 80.41581726074219 29.78569221496582, 80.44331359863281 29.796525955200195, 80.48282623291016 29.798259735107422, 80.53727722167969 29.844648361206055, 80.57415771484375 29.909996032714844, 80.59546661376953 29.949647903442383, 80.62553405761719 29.96291160583496, 80.659423828125 29.963329315185547, 80.67886352539062 29.970272064208984, 80.74401092529297 30.019580841064453, 80.8741455078125 30.140968322753906, 80.94303894042969 30.181106567382812, 81.02536010742188 30.20435333251953, 81.04443359375 30.176105499267578, 81.07388305664062 30.12860870361328, 81.09609985351562 30.084720611572266, 81.11943054199219 30.01944351196289, 81.16095733642578 30.030414581298828, 81.19984436035156 30.017776489257812, 81.23220825195312 30.011943817138672, 81.25332641601562 30.02874755859375, 81.24748229980469 30.056385040283203, 81.27859497070312 30.067218780517578, 81.29859924316406 30.078052520751953, 81.38082122802734 30.172496795654297, 81.39276123046875 30.265552520751953, 81.39096069335938 30.31527328491211, 81.40859985351562 30.375551223754883, 81.42623138427734 30.38499641418457, 81.44692993164062 30.377220153808594, 81.46638488769531 30.359439849853516, 81.49359893798828 30.341524124145508, 81.5456771850586 30.33207893371582, 81.550537109375 30.35832977294922, 81.56053161621094 30.38443946838379, 81.63025665283203 30.42471694946289, 81.65498352050781 30.41916275024414, 81.72804260253906 30.392494201660156, 81.80831909179688 30.363746643066406, 81.85304260253906 30.376663208007812, 81.95138549804688 30.36388397216797, 82.1112289428711 30.334442138671875, 82.15123748779297 30.120412826538086, 82.17525482177734 30.069232940673828, 82.22491455078125 30.074996948242188, 82.42082214355469 30.010276794433594, 82.59860229492188 29.89221954345703, 82.65235137939453 29.838329315185547, 82.77665710449219 29.733882904052734, 82.87206268310547 29.66693878173828, 82.90824890136719 29.69062042236328, 82.99859619140625 29.66999626159668, 83.01805114746094 29.658329010009766, 83.05998229980469 29.623329162597656, 83.12081146240234 29.622079849243164, 83.16499328613281 29.633052825927734, 83.19108581542969 29.631662368774414, 83.25749206542969 29.579998016357422, 83.35443115234375 29.490550994873047, 83.379150390625 29.466106414794922, 83.37747955322266 29.437633514404297, 83.38053894042969 29.416385650634766, 83.4144287109375 29.36555290222168, 83.54790496826172 29.189023971557617, 83.60594940185547 29.164718627929688, 83.62858581542969 29.165828704833984, 83.63610076904297 29.169437408447266, 83.67227172851562 29.163330078125, 83.68830871582031 29.183883666992188, 83.69511413574219 29.206382751464844, 83.72053527832031 29.2288818359375, 83.75082397460938 29.24277114868164, 83.91249084472656 29.289718627929688, 83.9760971069336 29.29694175720215, 84.11650848388672 29.260971069335938, 84.18095397949219 29.209716796875, 84.1803970336914 29.18332862854004, 84.15943145751953 29.156661987304688, 84.16207122802734 29.12999725341797, 84.23997497558594 29.05388641357422, 84.23275756835938 28.976104736328125, 84.23692321777344 28.91888427734375, 84.24443054199219 28.91360855102539, 84.32652282714844 28.871801376342773, 84.38859558105469 28.86332893371582, 84.40554809570312 28.849163055419922, 84.43026733398438 28.812496185302734, 84.45915222167969 28.759164810180664, 84.4862289428711 28.73402214050293, 84.57083129882812 28.712493896484375, 84.63638305664062 28.702774047851562, 84.70845794677734 28.65152359008789, 84.70310974121094 28.607219696044922, 84.82331848144531 28.55194091796875, 84.84664916992188 28.54444122314453, 84.94720458984375 28.54207992553711, 85.03166198730469 28.603885650634766, 85.0522689819336 28.63422966003418, 85.07221984863281 28.64138412475586, 85.10693359375 28.636661529541016, 85.19518280029297 28.59103775024414, 85.18193054199219 28.529998779296875, 85.13512420654297 28.465272903442383, 85.11360168457031 28.395828247070312, 85.10331726074219 28.316389083862305, 85.11095428466797 28.306663513183594, 85.13998413085938 28.295276641845703, 85.23692321777344 28.278610229492188, 85.28387451171875 28.272220611572266, 85.37664794921875 28.26361083984375, 85.397216796875 28.266387939453125, 85.41387939453125 28.279720306396484, 85.43692016601562 28.300134658813477, 85.45887756347656 28.30166244506836, 85.58360290527344 28.28249740600586, 85.72137451171875 28.279163360595703, 85.74248504638672 28.242633819580078, 85.78082275390625 28.206104278564453, 85.82054138183594 28.185272216796875, 85.84721374511719 28.173606872558594, 85.86942291259766 28.167339324951172, 85.88777160644531 28.148605346679688, 85.95166015625 28.01305389404297, 85.97637176513672 27.91013526916504, 86.00540161132812 27.886245727539062, 86.06971740722656 27.888050079345703, 86.08941650390625 27.89082908630371, 86.1359634399414 27.935340881347656, 86.12387084960938 27.98082733154297, 86.10386657714844 28.02694320678711, 86.09622955322266 28.086732864379883, 86.19769287109375 28.158050537109375, 86.2145767211914 28.112356185913086, 86.1969223022461 28.072080612182617, 86.2230453491211 28.01138687133789, 86.35206604003906 27.944995880126953, 86.45137023925781 27.908884048461914, 86.51776123046875 27.94027328491211, 86.53776550292969 27.959716796875, 86.54109191894531 28.024166107177734, 86.5694351196289 28.100414276123047, 86.5886001586914 28.113052368164062, 86.69526672363281 28.111661911010742, 86.72859191894531 28.10055160522461, 86.756103515625 28.08222007751465, 86.756103515625 28.05596923828125, 86.75999450683594 28.030553817749023, 86.90359497070312 27.969715118408203, 86.94707489013672 27.947635650634766, 87.03255462646484 27.9632568359375, 87.08651733398438 27.924301147460938, 87.09707641601562 27.891244888305664, 87.14151763916016 27.844024658203125, 87.1927490234375 27.82305145263672, 87.30609130859375 27.816387176513672, 87.32916259765625 27.822219848632812, 87.40887451171875 27.84305191040039, 87.53665161132812 27.840274810791016, 87.59054565429688 27.814857482910156, 87.62608337402344 27.813610076904297, 87.66053771972656 27.82888412475586, 87.72053527832031 27.804996490478516, 87.75138854980469 27.813053131103516, 87.7802734375 27.824996948242188, 87.8045654296875 27.84388542175293, 87.82527160644531 27.86971664428711, 87.84900665283203 27.910690307617188, 87.87261962890625 27.917217254638672, 87.9769287109375 27.889995574951172, 88.0030517578125 27.88582992553711, 88.02777099609375 27.888607025146484, 88.05442810058594 27.89860725402832, 88.09165954589844 27.89221954345703, 88.14279174804688 27.86605453491211, 88.15248107910156 27.86416244506836, 88.18830871582031 27.849231719970703, 88.18733978271484 27.782636642456055, 88.14888000488281 27.680274963378906, 88.12067413330078 27.611940383911133, 88.0933837890625 27.58715057373047, 88.05693054199219 27.53333282470703, 88.04734802246094 27.4964542388916, 88.03471374511719 27.283607482910156, 88.01402282714844 27.22360610961914, 88.00999450683594 27.19416046142578, 88.01081848144531 27.151391983032227, 87.99497985839844 27.112287521362305, 88.03526306152344 27.04930305480957, 88.0729751586914 27.030969619750977, 88.11859130859375 26.984439849853516, 88.17428588867188 26.876802444458008, 88.1945571899414 26.76041603088379, 88.19178009033203 26.725967407226562, 88.17970275878906 26.685272216796875, 88.17276000976562 26.66568946838379, 88.12136840820312 26.56610870361328, 88.1019287109375 26.5302791595459, 88.10741424560547 26.488813400268555, 88.09068298339844 26.433189392089844, 88.02019500732422 26.368364334106445, 87.94747161865234 26.402496337890625, 87.92720031738281 26.423328399658203, 87.90803527832031 26.44638442993164, 87.89415740966797 26.46929931640625, 87.79136657714844 26.458885192871094, 87.68678283691406 26.425273895263672, 87.65054321289062 26.39971923828125, 87.6430435180664 26.392492294311523, 87.5535888671875 26.40583038330078, 87.5302734375 26.41832733154297, 87.4858169555664 26.434022903442383, 87.45512390136719 26.43360710144043, 87.3992919921875 26.418190002441406, 87.36873626708984 26.40152359008789, 87.26971435546875 26.375274658203125, 87.16998291015625 26.39999771118164, 87.08442687988281 26.48638153076172, 87.00444030761719 26.534442901611328, 86.96517944335938 26.525829315185547, 86.94802856445312 26.530929565429688, 86.90068054199219 26.50041389465332, 86.8915786743164 26.477052688598633, 86.82095336914062 26.43673324584961, 86.73338317871094 26.420202255249023, 86.65998840332031 26.456661224365234, 86.47554016113281 26.54610824584961, 86.33415222167969 26.607772827148438, 86.20478057861328 26.587635040283203, 86.1838607788086 26.608051300048828, 86.13832092285156 26.603469848632812, 86.10498809814453 26.618606567382812, 86.08943176269531 26.6330509185791, 86.06387329101562 26.653953552246094, 86.03290557861328 26.663190841674805, 85.9658203125 26.64805030822754, 85.95060729980469 26.627704620361328, 85.8604736328125 26.572843551635742, 85.75345611572266 26.642772674560547, 85.72887420654297 26.673606872558594, 85.72499084472656 26.704994201660156, 85.7269287109375 26.733604431152344, 85.73019409179688 26.787080764770508, 85.71054077148438 26.81610870361328, 85.63075256347656 26.865968704223633, 85.56859588623047 26.845136642456055, 85.54026794433594 26.82971954345703, 85.50804138183594 26.813884735107422, 85.45304870605469 26.786941528320312, 85.33734893798828 26.7369384765625, 85.32804870605469 26.736106872558594, 85.31053161621094 26.739437103271484, 85.221923828125 26.76305389404297, 85.20116424560547 26.775066375732422, 85.18553161621094 26.798053741455078, 84.96775817871094 26.935829162597656, 84.85498046875 26.995548248291016, 84.80220031738281 27.015274047851562, 84.78109741210938 27.01138687133789, 84.75346374511719 27.007360458374023, 84.70748901367188 27.02111053466797, 84.65526580810547 27.04034423828125, 84.64623260498047 27.061386108398438, 84.66026306152344 27.09416389465332, 84.67984008789062 27.135690689086914, 84.68511962890625 27.20624542236328, 84.68025970458984 27.232215881347656, 84.65318298339844 27.29152488708496, 84.63804626464844 27.31110954284668, 84.598388671875 27.339996337890625, 84.49942016601562 27.35638427734375, 84.39498901367188 27.367496490478516, 84.3297119140625 27.37777328491211, 84.29776000976562 27.388328552246094, 84.147216796875 27.51138687133789, 84.0513687133789 27.452980041503906, 84.01914978027344 27.443050384521484, 83.9356689453125 27.44721794128418, 83.92249298095703 27.451772689819336, 83.87136840820312 27.44027328491211, 83.87220764160156 27.385272979736328, 83.85830688476562 27.352224349975586, 83.82609558105469 27.371109008789062, 83.80165100097656 27.383052825927734, 83.77748107910156 27.394718170166016, 83.74803161621094 27.408607482910156, 83.63388061523438 27.459716796875, 83.60775756835938 27.469161987304688, 83.54054260253906 27.47304916381836, 83.41831970214844 27.47277069091797, 83.39401245117188 27.411176681518555, 83.37664794921875 27.375274658203125, 83.35887145996094 27.35610580444336, 83.34235382080078 27.34249496459961, 83.30997467041016 27.336246490478516, 83.2734603881836 27.34471893310547, 83.26110076904297 27.371246337890625, 83.25179290771484 27.389995574951172, 83.17658233642578 27.44700813293457, 83.13053894042969 27.449440002441406, 83.05747985839844 27.44832992553711, 83.02873992919922 27.4495792388916, 82.96804809570312 27.461105346679688, 82.76651763916016 27.503469467163086, 82.74365997314453 27.55590057373047, 82.7469253540039 27.5816650390625, 82.73248291015625 27.63943862915039, 82.71755981445312 27.690410614013672, 82.70109558105469 27.711105346679688))\",\n          \"MULTIPOLYGON (((46.540374755859375 38.875587463378906, 46.516387939453125 38.87803649902344, 46.451934814453125 38.889991760253906, 46.376380920410156 38.90693664550781, 46.35109329223633 38.90998077392578, 46.294715881347656 38.89582061767578, 46.26860427856445 38.882347106933594, 46.2449951171875 38.86679458618164, 46.195533752441406 38.844146728515625, 46.178245544433594 38.841148376464844, 46.12360382080078 38.90998077392578, 46.107215881347656 38.93610382080078, 45.96873474121094 39.17457580566406, 45.969425201416016 39.1977653503418, 45.98609161376953 39.22304153442383, 46.005619049072266 39.2490234375, 45.98512649536133 39.2754020690918, 45.855552673339844 39.34803771972656, 45.82894515991211 39.4463005065918, 45.819358825683594 39.54916000366211, 45.79193878173828 39.5655403137207, 45.73838806152344 39.579158782958984, 45.62665557861328 39.55998992919922, 45.599159240722656 39.55165481567383, 45.558326721191406 39.53387451171875, 45.52832794189453 39.5172119140625, 45.50235366821289 39.504432678222656, 45.464988708496094 39.4940185546875, 45.32693099975586 39.5389518737793, 45.266387939453125 39.611106872558594, 45.07554244995117 39.77227783203125, 45.04706954956055 39.77915573120117, 45.02109909057617 39.76985168457031, 44.99874496459961 39.75191879272461, 44.960540771484375 39.72943115234375, 44.92679214477539 39.7198486328125, 44.88957214355469 39.722904205322266, 44.85832977294922 39.72499084472656, 44.794281005859375 39.71123123168945, 44.77886199951172 39.706382751464844, 44.74610137939453 39.730552673339844, 44.64138412475586 39.80374526977539, 44.59249496459961 39.8317985534668, 44.560264587402344 39.879432678222656, 44.551795959472656 39.89874267578125, 44.48777770996094 39.9627685546875, 44.39915466308594 40.00360870361328, 44.351661682128906 40.022220611572266, 44.28263473510742 40.04609680175781, 44.04429244995117 40.01034164428711, 43.97137451171875 40.01081848144531, 43.93388366699219 40.01361083984375, 43.91249084472656 40.01860046386719, 43.66839599609375 40.103179931640625, 43.6488151550293 40.12485122680664, 43.66852569580078 40.146175384521484, 43.715370178222656 40.15718078613281, 43.661651611328125 40.274436950683594, 43.60693359375 40.36888885498047, 43.58305358886719 40.45111083984375, 43.59276580810547 40.5010986328125, 43.653045654296875 40.53137969970703, 43.717933654785156 40.62091827392578, 43.74137878417969 40.666656494140625, 43.75040817260742 40.744998931884766, 43.74249267578125 40.770263671875, 43.672489166259766 40.92652130126953, 43.59519577026367 40.993324279785156, 43.56597137451172 40.996665954589844, 43.4838752746582 41.022769927978516, 43.45416259765625 41.09492492675781, 43.46076965332031 41.11296081542969, 43.54638671875 41.13499450683594, 43.570133209228516 41.13554763793945, 43.599708557128906 41.12971496582031, 43.63749694824219 41.123046875, 43.73442840576172 41.11360168457031, 43.75624465942383 41.11262512207031, 43.79137420654297 41.11866760253906, 43.8336067199707 41.145545959472656, 43.85651779174805 41.160125732421875, 43.892486572265625 41.1654052734375, 43.992759704589844 41.164146423339844, 44.122764587402344 41.18193054199219, 44.14470672607422 41.18498992919922, 44.172698974609375 41.196861267089844, 44.248870849609375 41.223594665527344, 44.340545654296875 41.212493896484375, 44.42999267578125 41.19221496582031, 44.484153747558594 41.18775939941406, 44.56623458862305 41.185264587402344, 44.728599548339844 41.21221160888672, 44.82471466064453 41.212493896484375, 44.848876953125 41.213050842285156, 44.869712829589844 41.21664810180664, 44.978599548339844 41.270263671875, 45.02294158935547 41.29705047607422, 45.04694366455078 41.22331237792969, 45.14360046386719 41.201515197753906, 45.19304656982422 41.17304992675781, 45.21137237548828 41.15971374511719, 45.221092224121094 41.139984130859375, 45.204708099365234 41.12075424194336, 45.175960540771484 41.11499786376953, 45.12790298461914 41.11817932128906, 45.08207321166992 41.11363220214844, 45.079986572265625 41.080406188964844, 45.09637451171875 41.05970764160156, 45.35095977783203 41.00096130371094, 45.61943435668945 40.86658477783203, 45.61804962158203 40.83596420288086, 45.60269546508789 40.800472259521484, 45.57693862915039 40.777488708496094, 45.5233154296875 40.76305389404297, 45.455543518066406 40.742210388183594, 45.436378479003906 40.733734130859375, 45.42040252685547 40.71998977661133, 45.389156341552734 40.66373825073242, 45.413604736328125 40.60803985595703, 45.53638458251953 40.45692825317383, 45.638038635253906 40.39110565185547, 45.66276550292969 40.375823974609375, 45.88220977783203 40.267486572265625, 45.91334533691406 40.26449966430664, 45.95602798461914 40.27213668823242, 45.99773025512695 40.2308235168457, 45.977413177490234 40.11845779418945, 45.9079704284668 40.023948669433594, 45.88054275512695 40.01402282714844, 45.84777069091797 40.01610565185547, 45.824432373046875 40.019981384277344, 45.76361083984375 40.024436950683594, 45.71360778808594 40.026092529296875, 45.68193054199219 40.02582550048828, 45.638038635253906 40.02165985107422, 45.61360168457031 40.014434814453125, 45.597557067871094 39.997352600097656, 45.607765197753906 39.9717903137207, 45.70526885986328 39.96137237548828, 45.729705810546875 39.95832061767578, 45.7510986328125 39.95331573486328, 45.779296875 39.94054412841797, 45.796932220458984 39.91790008544922, 45.80471420288086 39.89207458496094, 45.82026672363281 39.86040115356445, 45.85068130493164 39.829017639160156, 45.881378173828125 39.80859375, 45.91762924194336 39.79166030883789, 45.96027374267578 39.778602600097656, 45.98387145996094 39.777488708496094, 46.0086669921875 39.77019500732422, 46.030540466308594 39.74553680419922, 46.04331970214844 39.72303771972656, 46.05748748779297 39.69984436035156, 46.18971252441406 39.607215881347656, 46.2076301574707 39.597068786621094, 46.24422836303711 39.59498596191406, 46.30457305908203 39.616519927978516, 46.329429626464844 39.62512969970703, 46.357215881347656 39.62651062011719, 46.5262336730957 39.57811737060547, 46.54568862915039 39.54936599731445, 46.512969970703125 39.475608825683594, 46.44860076904297 39.457763671875, 46.404293060302734 39.45124053955078, 46.38602828979492 39.43866729736328, 46.3841552734375 39.405967712402344, 46.39817810058594 39.384151458740234, 46.55748748779297 39.26914978027344, 46.581382751464844 39.25360870361328, 46.62053680419922 39.22942352294922, 46.62047576904297 39.22165298461914, 46.54165267944336 39.189422607421875, 46.49609375 39.20360565185547, 46.45581817626953 39.217552185058594, 46.42314910888672 39.208702087402344, 46.42443084716797 39.16561508178711, 46.45832061767578 39.14276885986328, 46.47748565673828 39.13665771484375, 46.49506378173828 39.126441955566406, 46.51776885986328 39.07373809814453, 46.523597717285156 39.044158935546875, 46.51609802246094 39.024845123291016, 46.5022087097168 38.999847412109375, 46.495540618896484 38.95734786987305, 46.540374755859375 38.875587463378906), (45.02582931518555 41.030548095703125, 45.049713134765625 41.03874588012695, 45.055267333984375 41.05971908569336, 45.02388000488281 41.087074279785156, 44.99263381958008 41.08540725708008, 44.98415756225586 41.05762481689453, 45.00999069213867 41.033050537109375, 45.02582931518555 41.030548095703125), (45.22916030883789 40.96915054321289, 45.24110412597656 40.985130310058594, 45.202030181884766 40.99943542480469, 45.20637893676758 40.97943115234375, 45.22916030883789 40.96915054321289)), ((45.52888107299805 40.60609817504883, 45.506103515625 40.61207962036133, 45.491939544677734 40.636940002441406, 45.509437561035156 40.66178894042969, 45.56391525268555 40.66421127319336, 45.58790969848633 40.65110397338867, 45.57305145263672 40.63248825073242, 45.52888107299805 40.60609817504883)))\",\n          \"MULTIPOLYGON (((144.36773681640625 43.953880310058594, 144.4110870361328 43.942073822021484, 144.5 43.930824279785156, 144.53997802734375 43.92638397216797, 144.61773681640625 43.91777038574219, 144.65664672851562 43.913604736328125, 144.70053100585938 43.91082000732422, 144.7230224609375 43.91027069091797, 144.74468994140625 43.91027069091797, 144.79164123535156 43.91769790649414, 144.88333129882812 43.97443389892578, 144.90914916992188 43.993186950683594, 144.93309020996094 44.02436447143555, 144.97857666015625 44.07138442993164, 145.01971435546875 44.101661682128906, 145.08302307128906 44.13971710205078, 145.11495971679688 44.15415954589844, 145.1892852783203 44.197486877441406, 145.21788024902344 44.23096466064453, 145.2432861328125 44.260826110839844, 145.3194122314453 44.33332443237305, 145.33885192871094 44.344154357910156, 145.37759399414062 44.26784133911133, 145.359130859375 44.22943115234375, 145.33273315429688 44.185264587402344, 145.24664306640625 44.0505485534668, 145.2230224609375 44.0343017578125, 145.203857421875 44.02276611328125, 145.18496704101562 44.00471496582031, 145.1676025390625 43.98401641845703, 145.13162231445312 43.93138122558594, 145.10968017578125 43.895545959472656, 145.07066345214844 43.77749252319336, 145.07150268554688 43.754024505615234, 145.10494995117188 43.69999694824219, 145.11746215820312 43.6824951171875, 145.13929748535156 43.654296875, 145.16387939453125 43.63276672363281, 145.20159912109375 43.607032775878906, 145.22842407226562 43.601661682128906, 145.2591552734375 43.598045349121094, 145.29443359375 43.59638214111328, 145.33580017089844 43.57679748535156, 145.35684204101562 43.55318832397461, 145.2872772216797 43.546260833740234, 145.2957000732422 43.57032775878906, 145.2755126953125 43.58132553100586, 145.24383544921875 43.5958251953125, 145.2081298828125 43.60090637207031, 145.23312377929688 43.532047271728516, 145.27969360351562 43.4244384765625, 145.3035888671875 43.36859893798828, 145.28135681152344 43.3401985168457, 145.26124572753906 43.33818435668945, 145.256103515625 43.31763458251953, 145.31149291992188 43.27513122558594, 145.35745239257812 43.26361083984375, 145.38217163085938 43.25804901123047, 145.41400146484375 43.25277328491211, 145.47247314453125 43.25110626220703, 145.4970703125 43.268798828125, 145.65109252929688 43.3781852722168, 145.7713623046875 43.38304901123047, 145.81240844726562 43.365478515625, 145.73773193359375 43.32610321044922, 145.68081665039062 43.305267333984375, 145.6519317626953 43.30513000488281, 145.623291015625 43.304710388183594, 145.5717010498047 43.257076263427734, 145.55767822265625 43.217281341552734, 145.52081298828125 43.17027282714844, 145.4913330078125 43.16888427734375, 145.45858764648438 43.17610168457031, 145.42636108398438 43.17555236816406, 145.37078857421875 43.17193603515625, 145.2891387939453 43.1634635925293, 145.13705444335938 43.125823974609375, 145.11947631835938 43.099021911621094, 145.12704467773438 43.08027267456055, 145.107177734375 43.04582977294922, 145.00344848632812 42.98429870605469, 144.97857666015625 42.976932525634766, 144.9053955078125 42.97290802001953, 144.87466430664062 42.97887420654297, 144.8421173095703 43.007423400878906, 144.83615112304688 43.03464889526367, 144.8062286376953 43.0443000793457, 144.78233337402344 43.03554916381836, 144.76275634765625 43.01915740966797, 144.7348175048828 42.980201721191406, 144.74050903320312 42.96082305908203, 144.66165161132812 42.93721008300781, 144.48606872558594 42.929298400878906, 144.46359252929688 42.930824279785156, 144.40414428710938 42.9466552734375, 144.3753662109375 42.95915985107422, 144.3607940673828 42.989295959472656, 144.3321990966797 42.99818801879883, 144.29193115234375 42.993324279785156, 144.17941284179688 42.967491149902344, 144.14166259765625 42.958045959472656, 144.01539611816406 42.91818618774414, 143.98968505859375 42.906654357910156, 143.89276123046875 42.849159240722656, 143.85244750976562 42.81360626220703, 143.79998779296875 42.76666259765625, 143.7813720703125 42.74916076660156, 143.64971923828125 42.663047790527344, 143.62217712402344 42.642356872558594, 143.59097290039062 42.61493682861328, 143.562744140625 42.5877685546875, 143.53997802734375 42.56471252441406, 143.46414184570312 42.479156494140625, 143.43496704101562 42.44248962402344, 143.3861083984375 42.378326416015625, 143.37384033203125 42.361663818359375, 143.34442138671875 42.31304931640625, 143.3319091796875 42.28777313232422, 143.32565307617188 42.22019958496094, 143.33859252929688 42.165138244628906, 143.31692504882812 42.04277038574219, 143.24314880371094 41.92471694946289, 143.2027587890625 41.94415283203125, 143.17156982421875 41.97019958496094, 143.14468383789062 42, 143.11431884765625 42.026519775390625, 142.95037841796875 42.103328704833984, 142.92288208007812 42.11277389526367, 142.8671875 42.12360382080078, 142.82745361328125 42.13220977783203, 142.79330444335938 42.14166259765625, 142.70635986328125 42.172218322753906, 142.657470703125 42.190826416015625, 142.4852294921875 42.25804901123047, 142.3135986328125 42.34082794189453, 142.28651428222656 42.35610580444336, 142.254150390625 42.380271911621094, 142.10357666015625 42.454437255859375, 142.05648803710938 42.46651840209961, 142.01651000976562 42.48263168334961, 141.96359252929688 42.518882751464844, 141.92816162109375 42.548744201660156, 141.84051513671875 42.59082794189453, 141.816650390625 42.598876953125, 141.79052734375 42.60638427734375, 141.74899291992188 42.61277389526367, 141.69552612304688 42.615272521972656, 141.65887451171875 42.61610412597656, 141.62344360351562 42.61457824707031, 141.5577392578125 42.603050231933594, 141.532470703125 42.59693908691406, 141.43649291992188 42.56943893432617, 141.40219116210938 42.554298400878906, 141.15469360351562 42.42249298095703, 141.11135864257812 42.39833068847656, 141.09051513671875 42.38499450683594, 141.05580139160156 42.35874557495117, 141.0244140625 42.32721710205078, 140.99024963378906 42.2970085144043, 140.94503784179688 42.30624008178711, 140.92941284179688 42.32110595703125, 140.90428161621094 42.38888168334961, 140.89955139160156 42.41818618774414, 140.8798370361328 42.44498825073242, 140.75225830078125 42.55096435546875, 140.71580505371094 42.569580078125, 140.6873321533203 42.5755500793457, 140.520263671875 42.57916259765625, 140.4993896484375 42.577491760253906, 140.4706573486328 42.57082748413086, 140.42718505859375 42.541107177734375, 140.40386962890625 42.52027130126953, 140.38525390625 42.5030517578125, 140.35494995117188 42.47026824951172, 140.3373260498047 42.445823669433594, 140.2988739013672 42.379432678222656, 140.2847900390625 42.34490966796875, 140.28082275390625 42.31666564941406, 140.2799835205078 42.2701301574707, 140.29872131347656 42.241241455078125, 140.32872009277344 42.227073669433594, 140.35830688476562 42.220542907714844, 140.38217163085938 42.212493896484375, 140.42745971679688 42.18998718261719, 140.4746856689453 42.15485382080078, 140.48995971679688 42.138465881347656, 140.5376739501953 42.10784149169922, 140.58120727539062 42.10360336303711, 140.68817138671875 42.121238708496094, 140.7123260498047 42.12623977661133, 140.74302673339844 42.11513137817383, 140.77191162109375 42.09526824951172, 140.79302978515625 42.070274353027344, 140.81024169921875 42.0494384765625, 140.85079956054688 42.009437561035156, 140.9684295654297 41.9094352722168, 140.99134826660156 41.895687103271484, 141.01388549804688 41.88721466064453, 141.03829956054688 41.88276672363281, 141.06829833984375 41.880821228027344, 141.09329223632812 41.87554931640625, 141.13873291015625 41.85041046142578, 141.1944122314453 41.79495620727539, 141.04165649414062 41.71776580810547, 141.01165771484375 41.707496643066406, 140.9807891845703 41.70513153076172, 140.72122192382812 41.809852600097656, 140.69996643066406 41.82124328613281, 140.66636657714844 41.824161529541016, 140.63121032714844 41.805057525634766, 140.61691284179688 41.773048400878906, 140.59982299804688 41.732906341552734, 140.5240020751953 41.69693374633789, 140.4560089111328 41.68193817138672, 140.4346923828125 41.64686584472656, 140.43246459960938 41.605552673339844, 140.43844604492188 41.56443405151367, 140.4434356689453 41.542354583740234, 140.41456604003906 41.51430130004883, 140.284423828125 41.48638153076172, 140.270263671875 41.479854583740234, 140.2487335205078 41.462215423583984, 140.21981811523438 41.41887664794922, 140.19898986816406 41.39728546142578, 140.07400512695312 41.417911529541016, 140.05191040039062 41.429161071777344, 140.03219604492188 41.44915771484375, 139.9848175048828 41.5483283996582, 139.9794158935547 41.5882568359375, 140.0091552734375 41.67499542236328, 140.0230255126953 41.6987419128418, 140.07302856445312 41.757774353027344, 140.12745666503906 41.81721496582031, 140.1459503173828 41.91485595703125, 140.13763427734375 41.98360061645508, 140.05511474609375 42.08485412597656, 140.03887939453125 42.098045349121094, 140.01596069335938 42.109161376953125, 139.98828125 42.118324279785156, 139.939697265625 42.12860107421875, 139.91665649414062 42.14221954345703, 139.7860870361328 42.2431526184082, 139.76976013183594 42.312076568603516, 139.78802490234375 42.349998474121094, 139.80523681640625 42.36888122558594, 139.82518005371094 42.39790725708008, 139.84164428710938 42.44499206542969, 139.84469604492188 42.46776580810547, 139.8480224609375 42.495967864990234, 139.8474578857422 42.51985168457031, 139.8399658203125 42.54749298095703, 139.8309326171875 42.57680130004883, 139.83621215820312 42.613948822021484, 139.86363220214844 42.6531867980957, 139.89540100097656 42.67235565185547, 139.92095947265625 42.678466796875, 139.96441650390625 42.67887878417969, 139.98773193359375 42.677215576171875, 140.03538513183594 42.67985153198242, 140.13900756835938 42.75054931640625, 140.219970703125 42.798606872558594, 140.30831909179688 42.80915832519531, 140.32275390625 42.82804870605469, 140.37440490722656 42.88930130004883, 140.40554809570312 42.91693878173828, 140.46051025390625 42.95749282836914, 140.5145721435547 42.98818588256836, 140.52963256835938 43.00749206542969, 140.47857666015625 43.08387756347656, 140.421630859375 43.150543212890625, 140.38943481445312 43.166664123535156, 140.3645477294922 43.176937103271484, 140.346923828125 43.18971252441406, 140.32260131835938 43.23589324951172, 140.35621643066406 43.31652069091797, 140.48342895507812 43.36589431762695, 140.5111083984375 43.35499572753906, 140.64886474609375 43.27887725830078, 140.77719116210938 43.203880310058594, 140.79928588867188 43.18721008300781, 141.01913452148438 43.17388153076172, 141.1585235595703 43.13853454589844, 141.20816040039062 43.142356872558594, 141.24276733398438 43.15949249267578, 141.27996826171875 43.1815185546875, 141.34829711914062 43.23249053955078, 141.3671875 43.24916076660156, 141.38943481445312 43.272491455078125, 141.4110870361328 43.29693603515625, 141.42831420898438 43.3306884765625, 141.43870544433594 43.382286071777344, 141.43218994140625 43.414710998535156, 141.38272094726562 43.56694030761719, 141.33822631835938 43.711585998535156, 141.38136291503906 43.783607482910156, 141.42193603515625 43.80846405029297, 141.46189880371094 43.82152557373047, 141.48745727539062 43.821800231933594, 141.50860595703125 43.82971954345703, 141.5663604736328 43.85617446899414, 141.59747314453125 43.87804412841797, 141.62149047851562 43.90249252319336, 141.64581298828125 43.94221496582031, 141.64886474609375 43.953880310058594, 141.66552734375 44.000831604003906, 141.67025756835938 44.02887725830078, 141.66830444335938 44.06554412841797, 141.65969848632812 44.21720886230469, 141.6524658203125 44.263328552246094, 141.6585235595703 44.302974700927734, 141.67803955078125 44.32249450683594, 141.72579956054688 44.388885498046875, 141.75094604492188 44.43241882324219, 141.78829956054688 44.57971954345703, 141.79566955566406 44.616661071777344, 141.7974853515625 44.64110565185547, 141.79525756835938 44.68305206298828, 141.79385375976562 44.708885192871094, 141.78997802734375 44.73443603515625, 141.77053833007812 44.83055114746094, 141.76165771484375 44.8609619140625, 141.72134399414062 44.948326110839844, 141.70858764648438 44.9708251953125, 141.69122314453125 44.99707794189453, 141.67691040039062 45.013885498046875, 141.61163330078125 45.10999298095703, 141.60025024414062 45.12748718261719, 141.58718872070312 45.15526580810547, 141.5748291015625 45.18915557861328, 141.57357788085938 45.20985412597656, 141.5814971923828 45.2388801574707, 141.69386291503906 45.399993896484375, 141.81387329101562 45.416664123535156, 141.83303833007812 45.42332458496094, 141.86988830566406 45.44721603393555, 141.9710693359375 45.48638153076172, 141.98995971679688 45.46582794189453, 142.04830932617188 45.40470886230469, 142.0738525390625 45.38082504272461, 142.09219360351562 45.370826721191406, 142.15234375 45.347076416015625, 142.17872619628906 45.331520080566406, 142.24551391601562 45.27027130126953, 142.30191040039062 45.21360778808594, 142.31942749023438 45.19776916503906, 142.3419189453125 45.17832946777344, 142.38388061523438 45.14332580566406, 142.41302490234375 45.12054443359375, 142.45245361328125 45.089988708496094, 142.4891357421875 45.06443786621094, 142.5162353515625 45.043609619140625, 142.534423828125 45.02027130126953, 142.59024047851562 44.93693542480469, 142.61204528808594 44.904022216796875, 142.62733459472656 44.88763427734375, 142.74050903320312 44.77721405029297, 142.76165771484375 44.75721740722656, 142.77886962890625 44.74137878417969, 142.8121795654297 44.711795806884766, 142.97994995117188 44.584991455078125, 143.02804565429688 44.552215576171875, 143.12188720703125 44.490272521972656, 143.13970947265625 44.479156494140625, 143.36981201171875 44.339576721191406, 143.38470458984375 44.32555389404297, 143.40386962890625 44.31554412841797, 143.46414184570312 44.286659240722656, 143.49468994140625 44.27471160888672, 143.65887451171875 44.219154357910156, 143.691650390625 44.208045959472656, 143.68365478515625 44.18318557739258, 143.7264862060547 44.115966796875, 143.77622985839844 44.094085693359375, 143.89999389648438 44.10277557373047, 143.9912872314453 44.12998962402344, 144.0333251953125 44.13360595703125, 144.17135620117188 44.10853576660156, 144.330810546875 43.97443389892578, 144.35244750976562 43.959716796875, 144.36773681640625 43.953880310058594)), ((140.99493408203125 45.448951721191406, 141.05247497558594 45.44693374633789, 141.06802368164062 45.433326721191406, 141.07440185546875 45.414154052734375, 141.05996704101562 45.31110382080078, 141.05523681640625 45.29638671875, 141.04136657714844 45.26971435546875, 141.03041076660156 45.26652145385742, 140.99163818359375 45.37971496582031, 140.96815490722656 45.45985412597656, 140.98184204101562 45.46367263793945, 140.99493408203125 45.448951721191406)), ((141.17587280273438 45.242340087890625, 141.19732666015625 45.250274658203125, 141.21136474609375 45.24943923950195, 141.27191162109375 45.21998596191406, 141.282470703125 45.2127685546875, 141.30831909179688 45.188880920410156, 141.32052612304688 45.17694091796875, 141.32745361328125 45.168601989746094, 141.3338623046875 45.15721130371094, 141.33038330078125 45.14610290527344, 141.310791015625 45.123878479003906, 141.2828826904297 45.10277557373047, 141.25942993164062 45.098045349121094, 141.2405242919922 45.09721374511719, 141.21829223632812 45.10249328613281, 141.16580200195312 45.12804412841797, 141.14971923828125 45.138885498046875, 141.13748168945312 45.15082550048828, 141.1289825439453 45.16415786743164, 141.13357543945312 45.2108268737793, 141.16024780273438 45.232765197753906, 141.1705322265625 45.240272521972656, 141.17587280273438 45.242340087890625)), ((139.45303344726562 42.21360778808594, 139.45497131347656 42.2116584777832, 139.46524047851562 42.212493896484375, 139.53123474121094 42.229156494140625, 139.54830932617188 42.23680114746094, 139.56190490722656 42.23214340209961, 139.55331420898438 42.203880310058594, 139.51748657226562 42.113609313964844, 139.50192260742188 42.08110809326172, 139.4545440673828 42.04763412475586, 139.4272003173828 42.0634651184082, 139.40774536132812 42.15082550048828, 139.4120635986328 42.165687561035156, 139.425537109375 42.19165802001953, 139.43331909179688 42.201934814453125, 139.44192504882812 42.21138000488281, 139.45303344726562 42.21360778808594)), ((131.68020629882812 34.662208557128906, 131.74441528320312 34.674163818359375, 131.78054809570312 34.68193817138672, 131.81637573242188 34.68971252441406, 131.83273315429688 34.69609832763672, 131.8453826904297 34.7027702331543, 132.05191040039062 34.86804962158203, 132.07691955566406 34.903045654296875, 132.09884643554688 34.92610168457031, 132.13079833984375 34.94999694824219, 132.21578979492188 35.00749969482422, 132.24774169921875 35.02110290527344, 132.28887939453125 35.03193664550781, 132.29998779296875 35.036109924316406, 132.316650390625 35.051658630371094, 132.35968017578125 35.099998474121094, 132.3983154296875 35.150543212890625, 132.40469360351562 35.161376953125, 132.41470336914062 35.17207717895508, 132.54721069335938 35.24748992919922, 132.57940673828125 35.2611083984375, 132.59579467773438 35.267494201660156, 132.61328125 35.271934509277344, 132.62939453125 35.279991149902344, 132.63888549804688 35.28638458251953, 132.65191650390625 35.298606872558594, 132.65887451171875 35.30860137939453, 132.66497802734375 35.320274353027344, 132.6746826171875 35.34638214111328, 132.68136596679688 35.369022369384766, 132.67831420898438 35.38166046142578, 132.66693115234375 35.38804626464844, 132.64166259765625 35.39888000488281, 132.6299591064453 35.40776824951172, 132.63365173339844 35.421104431152344, 132.68109130859375 35.44054412841797, 132.82968139648438 35.48888397216797, 132.85302734375 35.4949951171875, 132.86605834960938 35.49638366699219, 132.88665771484375 35.49665832519531, 132.92913818359375 35.49554443359375, 132.96121215820312 35.49415969848633, 133.0546875 35.550270080566406, 133.0697021484375 35.56499481201172, 133.091064453125 35.582496643066406, 133.10162353515625 35.58221435546875, 133.24856567382812 35.528602600097656, 133.24900817871094 35.514713287353516, 133.25387573242188 35.502777099609375, 133.26748657226562 35.483604431152344, 133.2794189453125 35.47499084472656, 133.31387329101562 35.456382751464844, 133.32830810546875 35.45166015625, 133.34469604492188 35.44776916503906, 133.35995483398438 35.44554138183594, 133.38107299804688 35.44499206542969, 133.40164184570312 35.44526672363281, 133.41761779785156 35.44721221923828, 133.4346923828125 35.45777130126953, 133.44720458984375 35.46998596191406, 133.45608520507812 35.477210998535156, 133.47024536132812 35.4869384765625, 133.48025512695312 35.49249267578125, 133.51998901367188 35.505828857421875, 133.5435791015625 35.51166534423828, 133.56192016601562 35.51527404785156, 133.57467651367188 35.51666259765625, 133.59927368164062 35.5162467956543, 133.6182861328125 35.51361083984375, 133.63470458984375 35.509437561035156, 133.64913940429688 35.50471496582031, 133.69830322265625 35.492767333984375, 133.73663330078125 35.487213134765625, 133.75137329101562 35.48582458496094, 133.7794189453125 35.48499298095703, 133.8135986328125 35.48554992675781, 134.08468627929688 35.50999450683594, 134.11663818359375 35.513885498046875, 134.2600555419922 35.53902053833008, 134.27249145507812 35.54888153076172, 134.2833251953125 35.56360626220703, 134.30245971679688 35.576385498046875, 134.3349609375 35.58943176269531, 134.35885620117188 35.59526824951172, 134.36865234375 35.59754180908203, 134.39193725585938 35.60749816894531, 134.5148468017578 35.645965576171875, 134.53775024414062 35.647491455078125, 134.772216796875 35.65277099609375, 134.79412841796875 35.651100158691406, 134.81301879882812 35.646385192871094, 134.82608032226562 35.63804626464844, 134.89706420898438 35.63346862792969, 134.91651916503906 35.6351318359375, 135.03414916992188 35.682212829589844, 135.05413818359375 35.69415283203125, 135.06829833984375 35.70360565185547, 135.08609008789062 35.729156494140625, 135.16802978515625 35.75249481201172, 135.191650390625 35.75804901123047, 135.21023559570312 35.761383056640625, 135.22219848632812 35.76221466064453, 135.27804565429688 35.724708557128906, 135.28469848632812 35.71638488769531, 135.30636596679688 35.683738708496094, 135.30331420898438 35.668601989746094, 135.28968811035156 35.65964126586914, 135.27413940429688 35.6583251953125, 135.26608276367188 35.649436950683594, 135.20553588867188 35.57555389404297, 135.19802856445312 35.565826416015625, 135.19192504882812 35.554161071777344, 135.187744140625 35.53846740722656, 135.1934356689453 35.52540588378906, 135.3399658203125 35.47193145751953, 135.38720703125 35.46638488769531, 135.40158081054688 35.477901458740234, 135.3916473388672 35.499229431152344, 135.3763427734375 35.49415588378906, 135.3545379638672 35.50186538696289, 135.34579467773438 35.52471160888672, 135.34649658203125 35.53874588012695, 135.35398864746094 35.546939849853516, 135.44857788085938 35.58610534667969, 135.46109008789062 35.588043212890625, 135.47628784179688 35.539398193359375, 135.47537231445312 35.52151870727539, 135.51095581054688 35.48902130126953, 135.52163696289062 35.48638153076172, 135.62744140625 35.476654052734375, 135.71359252929688 35.47637939453125, 135.72552490234375 35.47943115234375, 135.73635864257812 35.48387908935547, 135.82220458984375 35.52165985107422, 135.83108520507812 35.52887725830078, 135.968017578125 35.64874267578125, 135.96371459960938 35.70290756225586, 135.97134399414062 35.71665954589844, 136.01470947265625 35.740966796875, 136.02955627441406 35.73804473876953, 136.0435791015625 35.711936950683594, 136.04998779296875 35.69512939453125, 136.04302978515625 35.679019927978516, 136.0372772216797 35.668460845947266, 136.06204223632812 35.6491584777832, 136.07275390625 35.64860534667969, 136.08135986328125 35.66054916381836, 136.09857177734375 35.74610137939453, 136.09857177734375 35.76277160644531, 136.0919189453125 35.78221130371094, 136.08578491210938 35.796104431152344, 136.08026123046875 35.80499267578125, 136.06192016601562 35.82499694824219, 136.05413818359375 35.83305358886719, 136.03192138671875 35.85193634033203, 136.02081298828125 35.85832977294922, 136.0067901611328 35.870479583740234, 135.9605255126953 35.959712982177734, 135.96107482910156 35.976097106933594, 136.0697021484375 36.11915588378906, 136.1282958984375 36.19554138183594, 136.18191528320312 36.241661071777344, 136.24313354492188 36.26970672607422, 136.35858154296875 36.35332489013672, 136.40692138671875 36.397216796875, 136.51858520507812 36.51305389404297, 136.53109741210938 36.526100158691406, 136.5849609375 36.582496643066406, 136.61328125 36.61388397216797, 136.64913940429688 36.65582275390625, 136.6563720703125 36.66554260253906, 136.69552612304688 36.723602294921875, 136.71246337890625 36.75138854980469, 136.72161865234375 36.76971435546875, 136.75164794921875 36.831382751464844, 136.76138305664062 36.85749816894531, 136.76885986328125 36.88276672363281, 136.76776123046875 36.96527099609375, 136.76608276367188 36.981101989746094, 136.72994995117188 37.092491149902344, 136.68328857421875 37.133811950683594, 136.67996215820312 37.147216796875, 136.68246459960938 37.17610168457031, 136.68942260742188 37.19554138183594, 136.7377471923828 37.32485580444336, 136.75247192382812 37.33971405029297, 136.77191162109375 37.353050231933594, 136.78692626953125 37.362213134765625, 136.8441162109375 37.38249206542969, 136.86773681640625 37.388885498046875, 136.88107299804688 37.38971710205078, 136.9105224609375 37.38721466064453, 136.92276000976562 37.38971710205078, 137.02719116210938 37.42332458496094, 137.07717895507812 37.443321228027344, 137.08609008789062 37.45110321044922, 137.094970703125 37.45915985107422, 137.10385131835938 37.46693420410156, 137.12579345703125 37.47748565673828, 137.14276123046875 37.48332977294922, 137.24856567382812 37.516937255859375, 137.26693725585938 37.52082824707031, 137.2802734375 37.521934509277344, 137.29470825195312 37.52082824707031, 137.32412719726562 37.51832580566406, 137.34329223632812 37.51319122314453, 137.35635375976562 37.50471496582031, 137.35968017578125 37.4949951171875, 137.35995483398438 37.43943405151367, 137.3527374267578 37.42985534667969, 137.24884033203125 37.36054992675781, 137.14553833007812 37.28638458251953, 137.07080078125 37.201934814453125, 137.0348358154297 37.18082809448242, 137.02276611328125 37.17818832397461, 137.00831604003906 37.17902374267578, 136.9564208984375 37.1971435546875, 136.92135620117188 37.19721221923828, 136.87579345703125 37.131378173828125, 136.865234375 37.09943389892578, 136.86328125 37.0877685546875, 136.86972045898438 37.06769561767578, 136.9827423095703 37.040828704833984, 137.0038604736328 37.04839324951172, 137.01443481445312 37.06166076660156, 137.04443359375 37.05665588378906, 137.05386352539062 36.991519927978516, 137.05300903320312 36.95859146118164, 137.01080322265625 36.877769470214844, 136.99037170410156 36.854854583740234, 136.99774169921875 36.83721160888672, 137.00555419921875 36.82916259765625, 137.07247924804688 36.78166198730469, 137.09274291992188 36.77165985107422, 137.17800903320312 36.74817657470703, 137.19691467285156 36.74457550048828, 137.30245971679688 36.74638366699219, 137.31497192382812 36.748329162597656, 137.33163452148438 36.75499725341797, 137.346923828125 36.763328552246094, 137.38552856445312 36.78971862792969, 137.39637756347656 36.799991607666016, 137.4044189453125 36.81471252441406, 137.42080688476562 36.85721969604492, 137.42080688476562 36.873600006103516, 137.42108154296875 36.88749694824219, 137.42941284179688 36.91228103637695, 137.4434356689453 36.925689697265625, 137.4619140625 36.934715270996094, 137.4730224609375 36.93915557861328, 137.48440551757812 36.94248962402344, 137.54525756835938 36.95582580566406, 137.58245849609375 36.96332550048828, 137.6165771484375 36.969276428222656, 137.62579345703125 36.97221374511719, 137.76498413085938 37.01554870605469, 137.80581665039062 37.027488708496094, 137.83026123046875 37.032493591308594, 137.89999389648438 37.053321838378906, 137.91165161132812 37.05693817138672, 137.93997192382812 37.06694030761719, 137.95608520507812 37.074440002441406, 138.02468872070312 37.10777282714844, 138.2099609375 37.160545349121094, 138.24383544921875 37.17249298095703, 138.27108764648438 37.18415832519531, 138.30081176757812 37.20332336425781, 138.58053588867188 37.39860534667969, 138.72940063476562 37.563880920410156, 138.740234375 37.58027648925781, 138.7471923828125 37.59165954589844, 138.75637817382812 37.61027526855469, 138.76803588867188 37.63665771484375, 138.77359008789062 37.649993896484375, 138.78082275390625 37.6744384765625, 138.784423828125 37.68665313720703, 138.78701782226562 37.69987487792969, 138.78887939453125 37.71582794189453, 138.79135131835938 37.72776794433594, 138.79885864257812 37.74694061279297, 138.81607055664062 37.7752685546875, 138.82662963867188 37.79249572753906, 138.83856201171875 37.80693817138672, 138.85662841796875 37.82249450683594, 138.87551879882812 37.83721160888672, 138.90386962890625 37.85888671875, 138.92108154296875 37.87040710449219, 138.97161865234375 37.895545959472656, 138.982177734375 37.900543212890625, 139.02719116210938 37.91777038574219, 139.03915405273438 37.921104431152344, 139.08303833007812 37.935264587402344, 139.12384033203125 37.94915771484375, 139.13497924804688 37.95332336425781, 139.23577880859375 37.99388122558594, 139.256103515625 38.006103515625, 139.27609252929688 38.018882751464844, 139.29998779296875 38.036659240722656, 139.31442260742188 38.04749298095703, 139.34274291992188 38.068885803222656, 139.36578369140625 38.08832550048828, 139.4262237548828 38.15457534790039, 139.44662475585938 38.21887969970703, 139.44998168945312 38.279991149902344, 139.4508056640625 38.296661376953125, 139.45053100585938 38.318328857421875, 139.45135498046875 38.334991455078125, 139.45358276367188 38.35221862792969, 139.46218872070312 38.381378173828125, 139.47247314453125 38.406097412109375, 139.48745727539062 38.438880920410156, 139.57025146484375 38.582496643066406, 139.6121826171875 38.65138244628906, 139.62863159179688 38.67339324951172, 139.64622497558594 38.681800842285156, 139.701904296875 38.72248840332031, 139.74163818359375 38.761383056640625, 139.75469970703125 38.774993896484375, 139.76580810546875 38.791107177734375, 139.78997802734375 38.84332275390625, 139.86050415039062 39.02777099609375, 139.90414428710938 39.15971374511719, 139.97439575195312 39.29582977294922, 139.98690795898438 39.310272216796875, 139.99411010742188 39.321380615234375, 140.01165771484375 39.35277557373047, 140.02276611328125 39.37860107421875, 140.03359985351562 39.40943145751953, 140.04635620117188 39.4466552734375, 140.05218505859375 39.464996337890625, 140.06219482421875 39.52276611328125, 140.07080078125 39.585548400878906, 140.07025146484375 39.60277557373047, 140.06442260742188 39.687767028808594, 140.0635986328125 39.698326110839844, 140.062744140625 39.708885192871094, 140.060791015625 39.719154357910156, 140.05746459960938 39.734161376953125, 140.04721069335938 39.77915954589844, 140.04248046875 39.79388427734375, 140.03829956054688 39.80304718017578, 140.02468872070312 39.82527160644531, 140.01052856445312 39.84193420410156, 139.99774169921875 39.853607177734375, 139.97744750976562 39.86804962158203, 139.96136474609375 39.87860107421875, 139.9488525390625 39.88499450683594, 139.93191528320312 39.88971710205078, 139.91220092773438 39.89304733276367, 139.895263671875 39.89166259765625, 139.87106323242188 39.88526916503906, 139.86288452148438 39.8741569519043, 139.86065673828125 39.864158630371094, 139.82289123535156 39.855411529541016, 139.75332641601562 39.85804748535156, 139.7138671875 39.90888214111328, 139.70831298828125 39.91777038574219, 139.70315551757812 39.929439544677734, 139.6962127685547 39.97901916503906, 139.69859313964844 39.99013137817383, 139.70982360839844 39.99263000488281, 139.7214813232422 39.98179244995117, 139.74163818359375 39.974159240722656, 139.80760192871094 39.95777130126953, 139.8299560546875 39.959434509277344, 139.84274291992188 39.96166229248047, 139.8541259765625 39.96582794189453, 139.88580322265625 39.983604431152344, 139.895263671875 39.99137878417969, 139.9083251953125 40.00471496582031, 139.91970825195312 40.02082824707031, 139.94052124023438 40.05638122558594, 139.96636962890625 40.10694122314453, 140.00833129882812 40.19276428222656, 140.02053833007812 40.23081970214844, 140.02664184570312 40.27638244628906, 140.02691650390625 40.28721618652344, 140.02468872070312 40.318885803222656, 140.01873779296875 40.33582305908203, 140.01193237304688 40.34693908691406, 139.93850708007812 40.42860412597656, 139.94497680664062 40.474708557128906, 139.94607543945312 40.49137878417969, 139.94497680664062 40.50721740722656, 139.93551635742188 40.53638458251953, 139.9252471923828 40.55166244506836, 139.9044189453125 40.565826416015625, 139.86550903320312 40.575687408447266, 139.8538360595703 40.5877685546875, 139.85232543945312 40.59818649291992, 139.99911499023438 40.73054504394531, 140.00888061523438 40.73804473876953, 140.0322723388672 40.74916076660156, 140.05413818359375 40.75138473510742, 140.066650390625 40.748878479003906, 140.08523559570312 40.739158630371094, 140.1031494140625 40.73207473754883, 140.11386108398438 40.73193359375, 140.13302612304688 40.737213134765625, 140.15054321289062 40.743324279785156, 140.21884155273438 40.77165985107422, 140.22994995117188 40.77665710449219, 140.24606323242188 40.785552978515625, 140.26025390625 40.797218322753906, 140.26885986328125 40.80665588378906, 140.2763671875 40.817771911621094, 140.282470703125 40.83082580566406, 140.286376953125 40.843048095703125, 140.30441284179688 40.90221405029297, 140.3399658203125 41.03777313232422, 140.316650390625 41.09443664550781, 140.32080078125 41.13471984863281, 140.32872009277344 41.20929718017578, 140.337158203125 41.23779296875, 140.34552001953125 41.247074127197266, 140.3560791015625 41.24748992919922, 140.4033660888672 41.22478103637695, 140.41525268554688 41.21415710449219, 140.42303466796875 41.20610046386719, 140.43997192382812 41.190269470214844, 140.45677185058594 41.1826286315918, 140.47898864746094 41.18165969848633, 140.49356079101562 41.18721008300781, 140.5105438232422 41.200130462646484, 140.52513122558594 41.21166229248047, 140.54872131347656 41.21998977661133, 140.56607055664062 41.221099853515625, 140.5944061279297 41.21304702758789, 140.6392822265625 41.18138122558594, 140.6483154296875 41.167076110839844, 140.64971923828125 41.15415954589844, 140.64498901367188 41.1361083984375, 140.63858032226562 41.123321533203125, 140.6324462890625 41.10499572753906, 140.63107299804688 41.08832550048828, 140.63217163085938 41.07249450683594, 140.657470703125 40.94054412841797, 140.66079711914062 40.92555236816406, 140.671630859375 40.891380310058594, 140.68386840820312 40.86888122558594, 140.69720458984375 40.85193634033203, 140.70858764648438 40.83971405029297, 140.72190856933594 40.83082962036133, 140.75372314453125 40.82068634033203, 140.77859497070312 40.820831298828125, 140.79776000976562 40.82416534423828, 140.81552124023438 40.83027648925781, 140.8258056640625 40.836936950683594, 140.83523559570312 40.84471130371094, 140.84384155273438 40.854164123535156, 140.87161254882812 40.89054870605469, 140.873291015625 40.90193176269531, 140.8702392578125 40.911659240722656, 140.85745239257812 40.94499206542969, 140.87315368652344 40.98387908935547, 140.8827362060547 40.991519927978516, 140.93206787109375 40.980960845947266, 140.94996643066406 40.971099853515625, 140.9630126953125 40.95665740966797, 140.98745727539062 40.932769775390625, 140.99746704101562 40.92555236816406, 141.0849609375 40.87471008300781, 141.11605834960938 40.86054992675781, 141.13482666015625 40.85694122314453, 141.1494140625 40.862213134765625, 141.159423828125 40.86915588378906, 141.16912841796875 40.87665557861328, 141.17970275878906 40.888885498046875, 141.19552612304688 40.91582489013672, 141.205810546875 40.93443298339844, 141.22802734375 40.978599548339844, 141.2330322265625 40.99110412597656, 141.23941040039062 41.009437561035156, 141.2787322998047 41.14693832397461, 141.2733154296875 41.169158935546875, 141.26138305664062 41.19276428222656, 141.252197265625 41.20555114746094, 141.24551391601562 41.21415710449219, 141.22885131835938 41.22998809814453, 141.19857788085938 41.25193786621094, 141.18344116210938 41.260276794433594, 141.16151428222656 41.26249694824219, 141.1446990966797 41.24165725708008, 141.15650939941406 41.23652267456055, 141.1222381591797 41.20596694946289, 141.062744140625 41.177215576171875, 141.0465087890625 41.17457580566406, 141.03121948242188 41.17596435546875, 141.00094604492188 41.186100006103516, 140.9710693359375 41.182212829589844, 140.8861083984375 41.157493591308594, 140.83551025390625 41.13471984863281, 140.81942749023438 41.125823974609375, 140.8026123046875 41.12262725830078, 140.79165649414062 41.123321533203125, 140.7813720703125 41.13054656982422, 140.77359008789062 41.13860321044922, 140.76666259765625 41.152488708496094, 140.7626190185547 41.16985321044922, 140.8385772705078 41.40054702758789, 140.91123962402344 41.52554702758789, 140.9230194091797 41.52957534790039, 141.08746337890625 41.470542907714844, 141.1060791015625 41.46082305908203, 141.13162231445312 41.44248962402344, 141.15191650390625 41.424163818359375, 141.16470336914062 41.41249084472656, 141.17135620117188 41.40387725830078, 141.1766357421875 41.394996643066406, 141.18609619140625 41.381935119628906, 141.1947021484375 41.37360382080078, 141.20858764648438 41.362213134765625, 141.22482299804688 41.35443878173828, 141.25442504882812 41.345542907714844, 141.27081298828125 41.342491149902344, 141.30081176757812 41.33971405029297, 141.31497192382812 41.34027099609375, 141.33551025390625 41.34193420410156, 141.355224609375 41.3458251953125, 141.37301635742188 41.35193634033203, 141.395263671875 41.362770080566406, 141.41775512695312 41.373878479003906, 141.455810546875 41.34387969970703, 141.41885375976562 41.20416259765625, 141.41220092773438 41.19110107421875, 141.4030303955078 41.17679977416992, 141.39678955078125 41.158599853515625, 141.39553833007812 41.14471435546875, 141.39999389648438 40.92638397216797, 141.40191650390625 40.87971496582031, 141.40386962890625 40.85999298095703, 141.41580200195312 40.745269775390625, 141.41802978515625 40.72998809814453, 141.42108154296875 40.714996337890625, 141.4285888671875 40.69054412841797, 141.46051025390625 40.59387969970703, 141.466064453125 40.57971954345703, 141.47134399414062 40.57054901123047, 141.47662353515625 40.56166076660156, 141.48190307617188 40.552772521972656, 141.5712127685547 40.53166198730469, 141.58273315429688 40.5302734375, 141.63272094726562 40.48749542236328, 141.63916015625 40.47887420654297, 141.647216796875 40.465545654296875, 141.6583251953125 40.45860290527344, 141.674560546875 40.447906494140625, 141.68914794921875 40.43693542480469, 141.69692993164062 40.42887878417969, 141.70718383789062 40.416099548339844, 141.82025146484375 40.2672119140625, 141.84133911132812 40.22526550292969, 141.86245727539062 40.157493591308594, 141.85440063476562 40.11804962158203, 141.84469604492188 40.11054992675781, 141.83663940429688 40.10027313232422, 141.83358764648438 40.08832550048828, 141.83413696289062 40.07777404785156, 141.84051513671875 40.063323974609375, 141.8480224609375 40.055267333984375, 141.89776611328125 40.01832580566406, 141.94052124023438 39.997493743896484, 141.94873046875 39.989437103271484, 141.95718383789062 39.9627685546875, 141.98855590820312 39.788330078125, 141.97885131835938 39.65277099609375, 142.03109741210938 39.606658935546875, 142.06442260742188 39.55554962158203, 142.0697021484375 39.546661376953125, 142.05470275878906 39.465824127197266, 142.03387451171875 39.414573669433594, 142.01416015625 39.414154052734375, 141.9866180419922 39.4163818359375, 141.94329833984375 39.38096618652344, 141.9063720703125 39.329994201660156, 141.89859008789062 39.26610565185547, 141.89901733398438 39.24832534790039, 141.88998413085938 39.15387725830078, 141.88470458984375 39.11749267578125, 141.8671875 39.06304931640625, 141.84815979003906 39.01985549926758, 141.74856567382812 39.018882751464844, 141.6361083984375 38.99485397338867, 141.6298065185547 38.985130310058594, 141.63363647460938 38.969482421875, 141.64358520507812 38.92249298095703, 141.64248657226562 38.88499450683594, 141.63217163085938 38.88721466064453, 141.592529296875 38.885684967041016, 141.58053588867188 38.87360382080078, 141.53305053710938 38.780548095703125, 141.5152587890625 38.68138122558594, 141.53109741210938 38.620269775390625, 141.54693603515625 38.51361083984375, 141.546630859375 38.3861083984375, 141.5374755859375 38.29888153076172, 141.51942443847656 38.263465881347656, 141.45870971679688 38.300689697265625, 141.43609619140625 38.331939697265625, 141.43885803222656 38.361663818359375, 141.42303466796875 38.38096237182617, 141.35772705078125 38.39833068847656, 141.34329223632812 38.39971923828125, 141.30746459960938 38.40221405029297, 141.29385375976562 38.40165710449219, 141.256103515625 38.39582824707031, 141.09579467773438 38.36444091796875, 141.0812225341797 38.359718322753906, 141.05581665039062 38.338043212890625, 141.04412841796875 38.317771911621094, 140.95358276367188 38.148048400878906, 140.93997192382812 38.10527038574219, 140.92303466796875 38.033607482910156, 140.91885375976562 38.005271911621094, 140.91775512695312 37.98304748535156, 140.91748046875 37.97221374511719, 140.9181671142578 37.93735122680664, 140.9205322265625 37.919158935546875, 140.92608642578125 37.89527130126953, 140.95831298828125 37.78443908691406, 140.97994995117188 37.770545959472656, 140.9993896484375 37.756103515625, 141.01443481445312 37.739715576171875, 141.01943969726562 37.73081970214844, 141.02249145507812 37.7208251953125, 141.03305053710938 37.57860565185547, 141.03887939453125 37.456382751464844, 141.03915405273438 37.37499237060547, 141.03665161132812 37.35804748535156, 141.00387573242188 37.18305206298828, 140.97454833984375 36.98471450805664, 140.96746826171875 36.968597412109375, 140.95831298828125 36.95915985107422, 140.92401123046875 36.93346405029297, 140.87274169921875 36.91944122314453, 140.82440185546875 36.90179443359375, 140.8096923828125 36.8861083984375, 140.797607421875 36.86693572998047, 140.7974853515625 36.848045349121094, 140.798583984375 36.84606170654297, 140.76748657226562 36.81304931640625, 140.7530517578125 36.790550231933594, 140.74606323242188 36.77915954589844, 140.63665771484375 36.530548095703125, 140.60580444335938 36.421661376953125, 140.5677490234375 36.2622184753418, 140.56552124023438 36.24748992919922, 140.5677490234375 36.210548400878906, 140.57025146484375 36.18971252441406, 140.57220458984375 36.17943572998047, 140.5888671875 36.109718322753906, 140.5923309326172 36.096797943115234, 140.60052490234375 36.08082580566406, 140.62188720703125 36.044715881347656, 140.63052368164062 36.03166198730469, 140.7774658203125 35.81944274902344, 140.83718872070312 35.743324279785156, 140.82412719726562 35.69499206542969, 140.67526245117188 35.67388153076172, 140.66360473632812 35.67054748535156, 140.64166259765625 35.66249084472656, 140.62606811523438 35.65443420410156, 140.5880126953125 35.62721252441406, 140.56912231445312 35.613609313964844, 140.5455322265625 35.596099853515625, 140.537109375 35.588722229003906, 140.4791259765625 35.53638458251953, 140.47052001953125 35.52777099609375, 140.4508056640625 35.503883361816406, 140.43692016601562 35.48137664794922, 140.41302490234375 35.42887878417969, 140.40554809570312 35.40971374511719, 140.39804077148438 35.38526916503906, 140.3963623046875 35.373878479003906, 140.39608764648438 35.362770080566406, 140.3983154296875 35.34721374511719, 140.4024658203125 35.332496643066406, 140.4134521484375 35.31221389770508, 140.41720581054688 35.294715881347656, 140.4163818359375 35.23387908935547, 140.41470336914062 35.22248840332031, 140.40719604492188 35.20332336425781, 140.3983154296875 35.18360137939453, 140.39080810546875 35.17332458496094, 140.33218383789062 35.129852294921875, 140.2352294921875 35.10027313232422, 140.2230224609375 35.09721374511719, 140.12188720703125 35.08638000488281, 140.002197265625 35.01527404785156, 139.99301147460938 35.008331298828125, 139.9720458984375 34.97200393676758, 139.9659423828125 34.925132751464844, 139.95468139648438 34.910823822021484, 139.941650390625 34.90470886230469, 139.907470703125 34.894996643066406, 139.88943481445312 34.891380310058594, 139.86358642578125 34.889991760253906, 139.83816528320312 34.894996643066406, 139.77206420898438 34.951377868652344, 139.7716522216797 34.96311950683594, 139.7955322265625 34.967491149902344, 139.80859375 34.968048095703125, 139.82635498046875 34.971656799316406, 139.859130859375 34.984161376953125, 139.8671875 34.99653244018555, 139.86468505859375 35.009437561035156, 139.84552001953125 35.063880920410156, 139.82440185546875 35.15415954589844, 139.82357788085938 35.164710998535156, 139.84884643554688 35.27887725830078, 139.9205322265625 35.37499237060547, 139.96969604492188 35.430274963378906, 140.04248046875 35.486656188964844, 140.1041259765625 35.53638458251953, 140.11314392089844 35.5523567199707, 140.10870361328125 35.56693649291992, 140.07525634765625 35.615272521972656, 140.06414794921875 35.62721252441406, 140.04164123535156 35.64332580566406, 139.99578857421875 35.658042907714844, 139.96856689453125 35.66082000732422, 139.93746948242188 35.656654357910156, 139.77719116210938 35.633331298828125, 139.76866149902344 35.62116241455078, 139.76641845703125 35.60655975341797, 139.7672119140625 35.589988708496094, 139.7713623046875 35.56443786621094, 139.78448486328125 35.51164245605469, 139.77804565429688 35.5019416809082, 139.75860595703125 35.489158630371094, 139.72689819335938 35.47804260253906, 139.70330810546875 35.47248840332031, 139.67776489257812 35.47026824951172, 139.64608764648438 35.45749282836914, 139.63470458984375 35.38499450683594, 139.64984130859375 35.2974967956543, 139.65719604492188 35.28137969970703, 139.68746948242188 35.263328552246094, 139.70718383789062 35.25874710083008, 139.7249755859375 35.257774353027344, 139.74502563476562 35.25172805786133, 139.67872619628906 35.13721466064453, 139.659423828125 35.12998962402344, 139.641357421875 35.125823974609375, 139.62454223632812 35.125823974609375, 139.61427307128906 35.13221740722656, 139.62188720703125 35.15971374511719, 139.62342834472656 35.17985153198242, 139.61245727539062 35.21665954589844, 139.60830688476562 35.22582244873047, 139.56788635253906 35.278465270996094, 139.55789184570312 35.285552978515625, 139.44940185546875 35.304161071777344, 139.43524169921875 35.305267333984375, 139.40277099609375 35.30387878417969, 139.344970703125 35.29999542236328, 139.3258056640625 35.29804992675781, 139.28387451171875 35.28943634033203, 139.23745727539062 35.271934509277344, 139.216064453125 35.26249694824219, 139.19024658203125 35.24916076660156, 139.17330932617188 35.2380485534668, 139.159423828125 35.22193145751953, 139.1463623046875 35.19804382324219, 139.14080810546875 35.18498992919922, 139.11282348632812 35.111114501953125, 139.0999755859375 35.09693908691406, 139.09356689453125 35.084716796875, 139.08828735351562 35.057212829589844, 139.091064453125 34.99054718017578, 139.09634399414062 34.981658935546875, 139.10926818847656 34.967628479003906, 139.1289825439453 34.96110534667969, 139.1473388671875 34.94096374511719, 139.15122985839844 34.92068862915039, 139.14303588867188 34.88749694824219, 139.13858032226562 34.87471008300781, 139.06802368164062 34.77137756347656, 139.060791015625 34.7611083984375, 138.98162841796875 34.6663818359375, 138.91192626953125 34.61915588378906, 138.88580322265625 34.606658935546875, 138.8503875732422 34.59318542480469, 138.82955932617188 34.594852447509766, 138.80746459960938 34.604164123535156, 138.74600219726562 34.680824279785156, 138.7485809326172 34.71499252319336, 138.76361083984375 34.729156494140625, 138.76580810546875 34.761940002441406, 138.76638793945312 34.82221984863281, 138.7652587890625 34.881103515625, 138.7678985595703 34.95464324951172, 138.77359008789062 34.97637939453125, 138.7827606201172 34.998046875, 138.79971313476562 35.005828857421875, 138.8238525390625 35.00999450683594, 138.8441162109375 35.00249481201172, 138.89385986328125 35.008888244628906, 138.90594482421875 35.03478240966797, 138.8460693359375 35.08055114746094, 138.83441162109375 35.086936950683594, 138.816650390625 35.09638214111328, 138.7611083984375 35.118324279785156, 138.7412109375 35.12346267700195, 138.72329711914062 35.125267028808594, 138.71051025390625 35.12443542480469, 138.69830322265625 35.12193298339844, 138.57662963867188 35.0958251953125, 138.56690979003906 35.08971405029297, 138.33245849609375 34.85804748535156, 138.22439575195312 34.70110321044922, 138.20523071289062 34.666099548339844, 138.19912719726562 34.653602600097656, 138.19775390625 34.631103515625, 138.20135498046875 34.61610412597656, 138.20663452148438 34.607215881347656, 138.21414184570312 34.599159240722656, 138.16580200195312 34.59748840332031, 138.0374755859375 34.63804626464844, 137.98245239257812 34.65221405029297, 137.96136474609375 34.653602600097656, 137.92913818359375 34.65138244628906, 137.8641357421875 34.63721466064453, 137.84567260742188 34.63502502441406, 137.8197021484375 34.63360595703125, 137.79940795898438 34.633880615234375, 137.6361083984375 34.654991149902344, 137.59133911132812 34.66888427734375, 137.52859497070312 34.66193389892578, 137.40859985351562 34.648048400878906, 137.34634399414062 34.64027404785156, 137.32803344726562 34.63721466064453, 137.29885864257812 34.628875732421875, 137.24301147460938 34.61054992675781, 137.17608642578125 34.58832550048828, 137.143310546875 34.575828552246094, 137.12551879882812 34.571937561035156, 137.02879333496094 34.567840576171875, 137.02386474609375 34.578330993652344, 137.06137084960938 34.63220977783203, 137.06997680664062 34.639991760253906, 137.08621215820312 34.64082717895508, 137.14193725585938 34.645545959472656, 137.18359375 34.65387725830078, 137.34205627441406 34.70804977416992, 137.34829711914062 34.71874237060547, 137.3277587890625 34.76221466064453, 137.32135009765625 34.770545959472656, 137.29940795898438 34.789161682128906, 137.28970336914062 34.79638671875, 137.27691650390625 34.80193328857422, 137.21414184570312 34.79791259765625, 137.15386962890625 34.76805114746094, 137.09092712402344 34.75527572631836, 137.0435791015625 34.75666046142578, 137.0267791748047 34.759300231933594, 137.01638793945312 34.76860046386719, 137.006103515625 34.781105041503906, 136.98886108398438 34.80693817138672, 136.98052978515625 34.831382751464844, 136.98101806640625 34.859130859375, 136.9835205078125 34.87337875366211, 136.98606872558594 34.90818405151367, 136.97789001464844 34.91902160644531, 136.95852661132812 34.89182662963867, 136.93768310546875 34.857322692871094, 136.9246826171875 34.82804870605469, 136.91665649414062 34.7831916809082, 136.91775512695312 34.77263259887695, 136.92385864257812 34.761383056640625, 136.95025634765625 34.733604431152344, 136.95663452148438 34.72526550292969, 136.96746826171875 34.707496643066406, 136.97384643554688 34.68540954589844, 136.96343994140625 34.68263244628906, 136.9323272705078 34.690269470214844, 136.92303466796875 34.69470977783203, 136.87774658203125 34.72026824951172, 136.86328125 34.73081970214844, 136.85467529296875 34.73832702636719, 136.84747314453125 34.74665832519531, 136.82467651367188 34.88665771484375, 136.82302856445312 34.902488708496094, 136.8238525390625 34.91387939453125, 136.82676696777344 34.929019927978516, 136.8319091796875 34.94499206542969, 136.83828735351562 34.956382751464844, 136.8499755859375 34.97026824951172, 136.86093139648438 34.97957229614258, 136.88525390625 35.003257751464844, 136.9013671875 35.031105041503906, 136.90219116210938 35.04541015625, 136.89303588867188 35.079368591308594, 136.84983825683594 35.07902526855469, 136.82135009765625 35.06443786621094, 136.7447509765625 35.02088928222656, 136.73550415039062 35.01776885986328, 136.69747924804688 35.0030517578125, 136.66665649414062 34.9869384765625, 136.65774536132812 34.97998809814453, 136.65081787109375 34.96943664550781, 136.64205932617188 34.94637680053711, 136.6485137939453 34.933738708496094, 136.6551055908203 34.91436767578125, 136.64581298828125 34.87040710449219, 136.63970947265625 34.854164123535156, 136.61605834960938 34.825828552246094, 136.60079956054688 34.81235122680664, 136.5849609375 34.799720764160156, 136.57220458984375 34.78777313232422, 136.55191040039062 34.765830993652344, 136.53720092773438 34.74638366699219, 136.53082275390625 34.73499298095703, 136.51998901367188 34.69693374633789, 136.52108764648438 34.676658630371094, 136.53573608398438 34.60127258300781, 136.57205200195312 34.588741302490234, 136.58773803710938 34.590545654296875, 136.607177734375 34.59193420410156, 136.626220703125 34.588321685791016, 136.64193725585938 34.58110809326172, 136.6947021484375 34.54332733154297, 136.7681884765625 34.49916076660156, 136.7935791015625 34.49610137939453, 136.82760620117188 34.49082565307617, 136.85800170898438 34.47637939453125, 136.86773681640625 34.46943664550781, 136.91567993164062 34.4336051940918, 136.921630859375 34.405548095703125, 136.89768981933594 34.26652145385742, 136.85275268554688 34.24415588378906, 136.83787536621094 34.241241455078125, 136.82717895507812 34.242218017578125, 136.78802490234375 34.25138854980469, 136.77149963378906 34.26277160644531, 136.7794189453125 34.269989013671875, 136.76498413085938 34.29444122314453, 136.66885375976562 34.29833221435547, 136.58969116210938 34.259437561035156, 136.48052978515625 34.22137451171875, 136.371826171875 34.191864013671875, 136.35357666015625 34.19609832763672, 136.34384155273438 34.18971252441406, 136.30331420898438 34.16027069091797, 136.29246520996094 34.142696380615234, 136.26498413085938 34.02832794189453, 136.27777099609375 33.981658935546875, 136.27468872070312 33.969154357910156, 136.26580810546875 33.961936950683594, 136.22940063476562 33.93665313720703, 136.20330810546875 33.91999053955078, 136.17526245117188 33.913604736328125, 136.14999389648438 33.90277099609375, 136.11898803710938 33.884578704833984, 136.09579467773438 33.86305236816406, 136.08358764648438 33.849998474121094, 136.07275390625 33.83526611328125, 136.0635986328125 33.81805419921875, 136.05413818359375 33.794158935546875, 136.048583984375 33.774993896484375, 136.04107666015625 33.75499725341797, 136.02386474609375 33.71776580810547, 136.01666259765625 33.708045959472656, 135.99606323242188 33.685028076171875, 135.98385620117188 33.664154052734375, 135.95135498046875 33.57666015625, 135.93829345703125 33.563323974609375, 135.90914916992188 33.537498474121094, 135.89080810546875 33.52388000488281, 135.772216796875 33.454994201660156, 135.58981323242188 33.496517181396484, 135.53192138671875 33.513328552246094, 135.45773315429688 33.53999328613281, 135.40719604492188 33.5736083984375, 135.39971923828125 33.581382751464844, 135.33621215820312 33.656795501708984, 135.34884643554688 33.68207550048828, 135.36593627929688 33.67652130126953, 135.38107299804688 33.679161071777344, 135.39852905273438 33.70151901245117, 135.37857055664062 33.71943664550781, 135.32025146484375 33.75138854980469, 135.27996826171875 33.76610565185547, 135.1947021484375 33.80804443359375, 135.06468200683594 33.875545501708984, 135.06192016601562 33.888328552246094, 135.08551025390625 33.96832275390625, 135.12911987304688 34.05665588378906, 135.19595336914062 34.140411376953125, 135.13470458984375 34.21527099609375, 135.11273193359375 34.239158630371094, 135.0980224609375 34.24943542480469, 135.1324462890625 34.31721496582031, 135.14498901367188 34.31999206542969, 135.2271728515625 34.349998474121094, 135.29580688476562 34.390830993652344, 135.36691284179688 34.44999694824219, 135.37939453125 34.46221160888672, 135.43637084960938 34.52582550048828, 135.45260620117188 34.548187255859375, 135.4579315185547 34.565277099609375, 135.45481872558594 34.62902069091797, 135.4192352294922 34.691368103027344, 135.33358764648438 34.71832275390625, 135.31497192382812 34.71582794189453, 135.22329711914062 34.684017181396484, 135.19253540039062 34.66374206542969, 135.18856811523438 34.65221405029297, 135.17025756835938 34.64110565185547, 135.1533203125 34.635826110839844, 135.0635986328125 34.61693572998047, 135.04885864257812 34.61859893798828, 134.96913146972656 34.63401794433594, 134.91302490234375 34.66332244873047, 134.89053344726562 34.68138122558594, 134.87689208984375 34.69221496582031, 134.76248168945312 34.75666046142578, 134.74258422851562 34.763031005859375, 134.70858764648438 34.772491455078125, 134.67469787597656 34.77777099609375, 134.66387939453125 34.778602600097656, 134.65109252929688 34.777488708496094, 134.49969482421875 34.75471496582031, 134.41329956054688 34.71998596191406, 134.34579467773438 34.70054626464844, 134.3231658935547 34.69832229614258, 134.29937744140625 34.70412063598633, 134.25027465820312 34.71527099609375, 134.24209594726562 34.703880310058594, 134.2493896484375 34.68915557861328, 134.18942260742188 34.62471008300781, 134.13720703125 34.59027099609375, 134.1192626953125 34.58110427856445, 134.09912109375 34.57555389404297, 134.07325744628906 34.582603454589844, 134.05941772460938 34.592491149902344, 134.04940795898438 34.59943389892578, 134.033447265625 34.60582733154297, 133.99398803710938 34.60624313354492, 133.93246459960938 34.58332443237305, 133.92677307128906 34.57346725463867, 133.9272003173828 34.56013107299805, 133.93722534179688 34.550174713134766, 133.9508056640625 34.55665588378906, 133.95773315429688 34.56666564941406, 133.97024536132812 34.578880310058594, 133.98025512695312 34.584434509277344, 134.004150390625 34.58943176269531, 134.02276611328125 34.59221649169922, 134.0420684814453 34.584716796875, 134.02394104003906 34.547176361083984, 133.9368438720703 34.45082092285156, 133.9181671142578 34.4455451965332, 133.89913940429688 34.448326110839844, 133.82635498046875 34.46388244628906, 133.76943969726562 34.490272521972656, 133.72219848632812 34.52082824707031, 133.70303344726562 34.52165985107422, 133.67913818359375 34.51666259765625, 133.66802978515625 34.51277160644531, 133.47607421875 34.421661376953125, 133.34246826171875 34.345542907714844, 133.3001251220703 34.34374237060547, 133.313720703125 34.353885650634766, 133.31594848632812 34.364994049072266, 133.2672119140625 34.42055130004883, 133.25192260742188 34.42319107055664, 133.24066162109375 34.4163818359375, 133.23468017578125 34.40415954589844, 133.2169647216797 34.35149383544922, 133.2097930908203 34.318824768066406, 133.19032287597656 34.27749252319336, 133.07115173339844 34.24978256225586, 133.06524658203125 34.30110549926758, 133.04635620117188 34.32416534423828, 132.90191650390625 34.31554412841797, 132.8201141357422 34.30790710449219, 132.8096923828125 34.30304718017578, 132.7802734375 34.27082824707031, 132.76858520507812 34.25471496582031, 132.77490234375 34.241172790527344, 132.76498413085938 34.231658935546875, 132.69052124023438 34.20707702636719, 132.65428161621094 34.19818115234375, 132.63217163085938 34.19526672363281, 132.57052612304688 34.189430236816406, 132.5504608154297 34.191932678222656, 132.5004119873047 34.293190002441406, 132.50387573242188 34.32249450683594, 132.40872192382812 34.36457824707031, 132.39859008789062 34.36444091796875, 132.3706512451172 34.35929870605469, 132.35398864746094 34.35346603393555, 132.33636474609375 34.344154357910156, 132.32247924804688 34.33415985107422, 132.22494506835938 34.23637771606445, 132.23257446289062 34.19190979003906, 132.23745727539062 34.17638397216797, 132.24105834960938 34.161102294921875, 132.23968505859375 34.14888000488281, 132.21328735351562 33.99054718017578, 132.197021484375 33.96491241455078, 132.1792449951172 33.95074462890625, 132.12953186035156 33.941471099853516, 132.1323699951172 33.90850067138672, 132.15374755859375 33.85698699951172, 132.15455627441406 33.83485412597656, 132.143310546875 33.826385498046875, 132.060791015625 33.77721405029297, 132.050537109375 33.772491455078125, 132.03775024414062 33.77110290527344, 132.06857299804688 33.805824279785156, 132.048583984375 33.89527130126953, 131.83663940429688 33.99748992919922, 131.82412719726562 34.01652145385742, 131.78720092773438 34.04332733154297, 131.74578857421875 34.05360412597656, 131.60467529296875 34.02971649169922, 131.39608764648438 33.97637939453125, 131.3349609375 33.95166015625, 131.32440185546875 33.9466552734375, 131.25831604003906 33.9184684753418, 131.172607421875 33.93221664428711, 131.16470336914062 33.94248962402344, 131.16387939453125 33.95360565185547, 131.14804077148438 33.98027038574219, 131.10858154296875 34.011383056640625, 131.09219360351562 34.02082824707031, 131.05996704101562 34.03388214111328, 131.0303955078125 34.039581298828125, 130.9977264404297 34.00735855102539, 130.9909210205078 33.98860168457031, 130.98025512695312 33.976097106933594, 130.9169158935547 33.91666030883789, 130.90512084960938 33.91373825073242, 130.893310546875 33.921661376953125, 130.88442993164062 33.93443298339844, 130.88693237304688 34.125267028808594, 130.89498901367188 34.13360595703125, 130.92373657226562 34.1663818359375, 130.92776489257812 34.18138122558594, 130.9246826171875 34.191375732421875, 130.91220092773438 34.22526550292969, 130.90609741210938 34.23387908935547, 130.88400268554688 34.26027297973633, 130.87966918945312 34.293052673339844, 130.93637084960938 34.401100158691406, 130.94468688964844 34.41387939453125, 130.9649658203125 34.425270080566406, 130.97662353515625 34.42860412597656, 131.16552734375 34.417213439941406, 131.2119140625 34.39833068847656, 131.21009826660156 34.370338439941406, 131.26275634765625 34.37693786621094, 131.316650390625 34.388885498046875, 131.40609741210938 34.42207717895508, 131.41360473632812 34.45166015625, 131.5546875 34.60332489013672, 131.591064453125 34.641937255859375, 131.60385131835938 34.653602600097656, 131.62301635742188 34.65582275390625, 131.68020629882812 34.662208557128906)), ((138.5111083984375 38.281105041503906, 138.50775146484375 38.24137878417969, 138.5 38.21110534667969, 138.4913330078125 38.191375732421875, 138.4710693359375 38.15637969970703, 138.453857421875 38.12804412841797, 138.44747924804688 38.11554718017578, 138.441650390625 38.10249328613281, 138.42982482910156 38.06047821044922, 138.44302368164062 38.04575729370117, 138.52235412597656 38.06763458251953, 138.53164672851562 38.07499313354492, 138.54275512695312 38.079715728759766, 138.56581115722656 38.075965881347656, 138.57801818847656 38.06971740722656, 138.58108520507812 38.057212829589844, 138.57858276367188 38.04527282714844, 138.56329345703125 38.013328552246094, 138.5105438232422 37.9152717590332, 138.4772491455078 37.8817253112793, 138.37551879882812 37.8236083984375, 138.3614959716797 37.81818771362305, 138.27886962890625 37.79888153076172, 138.25108337402344 37.79374694824219, 138.2285614013672 37.79652404785156, 138.21829223632812 37.80082702636719, 138.2099609375 37.81193542480469, 138.21148681640625 37.82291030883789, 138.236083984375 37.83360290527344, 138.25637817382812 37.834716796875, 138.2713623046875 37.838321685791016, 138.28219604492188 37.848876953125, 138.33274841308594 37.945823669433594, 138.33718872070312 37.96665954589844, 138.33261108398438 37.978599548339844, 138.3133087158203 37.993045806884766, 138.2991485595703 37.99790954589844, 138.28623962402344 37.99637985229492, 138.27609252929688 37.990272521972656, 138.26693725585938 37.97693634033203, 138.2555389404297 37.967071533203125, 138.2398223876953 37.973388671875, 138.23330688476562 38.01776885986328, 138.235107421875 38.058048248291016, 138.24246215820312 38.07499694824219, 138.30801391601562 38.16693878173828, 138.44830322265625 38.29388427734375, 138.4669189453125 38.30860137939453, 138.4771728515625 38.31471252441406, 138.49411010742188 38.32110595703125, 138.51206970214844 38.32138442993164, 138.5198516845703 38.3134651184082, 138.5111083984375 38.281105041503906)), ((133.29855346679688 36.318275451660156, 133.31011962890625 36.318885803222656, 133.32107543945312 36.315826416015625, 133.36273193359375 36.283607482910156, 133.38525390625 36.251522064208984, 133.37677001953125 36.198184967041016, 133.33523559570312 36.158878326416016, 133.25636291503906 36.15193557739258, 133.246337890625 36.155548095703125, 133.18856811523438 36.20304870605469, 133.18246459960938 36.23860168457031, 133.18914794921875 36.26971435546875, 133.19747924804688 36.278045654296875, 133.22775268554688 36.30665588378906, 133.24732971191406 36.31922912597656, 133.27664184570312 36.32499694824219, 133.29193115234375 36.32499694824219, 133.29855346679688 36.318275451660156)), ((129.47305297851562 34.68561553955078, 129.48828125 34.67499542236328, 129.50526428222656 34.657630920410156, 129.50027465820312 34.62804412841797, 129.48025512695312 34.54804992675781, 129.47607421875 34.53443908691406, 129.3963623046875 34.348602294921875, 129.3782958984375 34.30998992919922, 129.37078857421875 34.30138397216797, 129.35275268554688 34.296661376953125, 129.3365020751953 34.294715881347656, 129.25497436523438 34.33971405029297, 129.2452392578125 34.356658935546875, 129.30026245117188 34.55693817138672, 129.3332977294922 34.631378173828125, 129.44052124023438 34.68498992919922, 129.45997619628906 34.689849853515625, 129.47305297851562 34.68561553955078)), ((134.76220703125 34.18443298339844, 134.75177001953125 34.18596267700195, 134.73745727539062 34.193603515625, 134.6738739013672 34.23790740966797, 134.6627655029297 34.26652145385742, 134.66122436523438 34.282630920410156, 134.66693115234375 34.29694366455078, 134.67413330078125 34.30665588378906, 134.79998779296875 34.4385986328125, 134.87496948242188 34.51166534423828, 134.98272705078125 34.58638000488281, 135.00318908691406 34.59416198730469, 135.0199737548828 34.590824127197266, 135.02767944335938 34.576175689697266, 135.02484130859375 34.56013107299805, 134.9921875 34.510276794433594, 134.97329711914062 34.487213134765625, 134.94442749023438 34.458045959472656, 134.91998291015625 34.43305206298828, 134.90914916992188 34.418052673339844, 134.90164184570312 34.398048400878906, 134.89358520507812 34.366661071777344, 134.89498901367188 34.356101989746094, 134.9202423095703 34.31415939331055, 134.93580627441406 34.298606872558594, 134.94607543945312 34.28888702392578, 134.951904296875 34.27631378173828, 134.94650268554688 34.261383056640625, 134.93496704101562 34.2530517578125, 134.79025268554688 34.193321228027344, 134.76220703125 34.18443298339844)), ((134.37158203125 34.512413024902344, 134.36260986328125 34.46138000488281, 134.34927368164062 34.4315185546875, 134.19384765625 34.47137451171875, 134.1927490234375 34.50999450683594, 134.2779083251953 34.54221725463867, 134.33551025390625 34.549163818359375, 134.3648223876953 34.55082702636719, 134.37158203125 34.512413024902344)), ((133.5875244140625 34.024330139160156, 133.62051391601562 34.046592712402344, 133.64358520507812 34.099159240722656, 133.64678955078125 34.15110397338867, 133.6796875 34.22068405151367, 133.7381591796875 34.25110626220703, 133.89385986328125 34.35999298095703, 134.00637817382812 34.348602294921875, 134.08261108398438 34.338741302490234, 134.1060791015625 34.368324279785156, 134.13150024414062 34.386383056640625, 134.15232849121094 34.383880615234375, 134.22357177734375 34.34443664550781, 134.26060485839844 34.29159164428711, 134.33663940429688 34.25054931640625, 134.4342803955078 34.2076301574707, 134.47190856933594 34.200828552246094, 134.55191040039062 34.21415710449219, 134.57913208007812 34.224159240722656, 134.6324462890625 34.14582824707031, 134.61968994140625 34.11610412597656, 134.6095428466797 34.091102600097656, 134.5919189453125 34.02735137939453, 134.60523986816406 33.983951568603516, 134.64227294921875 33.9795036315918, 134.6944122314453 33.932769775390625, 134.74468994140625 33.81735610961914, 134.69857788085938 33.79777526855469, 134.6383056640625 33.77638244628906, 134.58856201171875 33.748878479003906, 134.38308715820312 33.623046875, 134.3399658203125 33.55638122558594, 134.30514526367188 33.52757263183594, 134.2965087890625 33.51958084106445, 134.26776123046875 33.48054504394531, 134.24676513671875 33.44540786743164, 134.216064453125 33.373321533203125, 134.20274353027344 33.33360290527344, 134.19802856445312 33.303321838378906, 134.19677734375 33.27207565307617, 134.18655395507812 33.24200439453125, 134.11509704589844 33.28235626220703, 134.04248046875 33.35624313354492, 134.03421020507812 33.38895034790039, 133.92454528808594 33.47401809692383, 133.90524291992188 33.482208251953125, 133.87411499023438 33.49054718017578, 133.7476043701172 33.51638412475586, 133.7169189453125 33.516937255859375, 133.657470703125 33.51471710205078, 133.63333129882812 33.51055145263672, 133.60426330566406 33.50333023071289, 133.58384704589844 33.49360656738281, 133.39443969726562 33.38860321044922, 133.3595428466797 33.384300231933594, 133.28150939941406 33.36290740966797, 133.24928283691406 33.32138442993164, 133.25302124023438 33.2776985168457, 133.26560974121094 33.25110626220703, 133.25332641601562 33.21776580810547, 133.24163818359375 33.1966552734375, 133.145263671875 33.08360290527344, 133.1102294921875 33.047027587890625, 133.0573272705078 33.02416229248047, 133.03553771972656 33.01624298095703, 133.01734924316406 32.99832534790039, 133.00790405273438 32.973602294921875, 132.99606323242188 32.85582733154297, 133.00747680664062 32.767494201660156, 132.96441650390625 32.74304962158203, 132.93482971191406 32.76874542236328, 132.9017791748047 32.77416229248047, 132.85586547851562 32.76742172241211, 132.81671142578125 32.74040985107422, 132.63929748535156 32.75180435180664, 132.63470458984375 32.774993896484375, 132.661376953125 32.83387756347656, 132.68844604492188 32.85902404785156, 132.7099609375 32.879783630371094, 132.71400451660156 32.90665817260742, 132.6519317626953 32.90846252441406, 132.64154052734375 32.90728759765625, 132.61329650878906 32.90013122558594, 132.51422119140625 32.88860321044922, 132.48301696777344 32.89554977416992, 132.46414184570312 33.024993896484375, 132.49246215820312 33.17388153076172, 132.51512145996094 33.20124053955078, 132.53469848632812 33.244712829589844, 132.48828125 33.27971649169922, 132.46109008789062 33.294158935546875, 132.4138641357422 33.29069137573242, 132.3773193359375 33.31082534790039, 132.39317321777344 33.432769775390625, 132.36671447753906 33.46773147583008, 132.30523681640625 33.45304870605469, 132.17373657226562 33.38555145263672, 132.14962768554688 33.358673095703125, 132.12744140625 33.348876953125, 132.0187225341797 33.340476989746094, 132.11009216308594 33.39638137817383, 132.2851104736328 33.47304153442383, 132.30801391601562 33.47943115234375, 132.41775512695312 33.539161682128906, 132.5635986328125 33.63555145263672, 132.58941650390625 33.647491455078125, 132.6178741455078 33.660682678222656, 132.63983154296875 33.67374038696289, 132.67164611816406 33.71221160888672, 132.69558715820312 33.755550384521484, 132.69970703125 33.80499267578125, 132.70892333984375 33.87492370605469, 132.77719116210938 33.987770080566406, 132.8969268798828 34.10610580444336, 132.94552612304688 34.117767333984375, 132.97996520996094 34.103050231933594, 133.0404052734375 34.020687103271484, 133.05441284179688 33.99610137939453, 133.06350708007812 33.962284088134766, 133.1136932373047 33.92179870605469, 133.1459503173828 33.912349700927734, 133.16830444335938 33.914154052734375, 133.2034454345703 33.92277145385742, 133.24830627441406 33.94221115112305, 133.27386474609375 33.96221160888672, 133.31532287597656 33.98394775390625, 133.3541259765625 33.984161376953125, 133.42039489746094 33.97943115234375, 133.47274780273438 33.96720886230469, 133.52310180664062 33.9627685546875, 133.548583984375 33.97582244873047, 133.5875244140625 34.024330139160156)), ((129.33078002929688 34.229698181152344, 129.330810546875 34.208885192871094, 129.29345703125 34.124298095703125, 129.270263671875 34.10332489013672, 129.23690795898438 34.08221435546875, 129.22219848632812 34.0736083984375, 129.1851806640625 34.100337982177734, 129.18331909179688 34.16443634033203, 129.187744140625 34.198875427246094, 129.20553588867188 34.302215576171875, 129.2105255126953 34.31735610961914, 129.22093200683594 34.322078704833984, 129.28274536132812 34.307212829589844, 129.34788513183594 34.27770233154297, 129.33078002929688 34.229698181152344)), ((132.49810791015625 34.25508117675781, 132.49884033203125 34.23387908935547, 132.49578857421875 34.209716796875, 132.48370361328125 34.12998962402344, 132.44607543945312 34.11485290527344, 132.39303588867188 34.218597412109375, 132.38916015625 34.22804260253906, 132.38644409179688 34.24534225463867, 132.40345764160156 34.26027297973633, 132.4821014404297 34.27721405029297, 132.4986572265625 34.25856018066406, 132.49810791015625 34.25508117675781)), ((132.42721557617188 33.896697998046875, 132.33163452148438 33.849159240722656, 132.21829223632812 33.85360336303711, 132.19692993164062 33.87915802001953, 132.19107055664062 33.88777160644531, 132.18482971191406 33.90485382080078, 132.1929473876953 33.937767028808594, 132.2130126953125 33.94554138183594, 132.24606323242188 33.947486877441406, 132.2858123779297 33.94123840332031, 132.2974853515625 33.921661376953125, 132.32801818847656 33.89485168457031, 132.35330200195312 33.903045654296875, 132.36773681640625 33.91193389892578, 132.4201202392578 33.94026565551758, 132.44830322265625 33.93360137939453, 132.45162963867188 33.922767639160156, 132.44052124023438 33.904014587402344, 132.43136596679688 33.89749526977539, 132.42721557617188 33.896697998046875)), ((129.74606323242188 32.56110382080078, 129.80609130859375 32.63054656982422, 129.85745239257812 32.6982536315918, 129.85760498046875 32.71874237060547, 129.7752685546875 32.802490234375, 129.7357177734375 32.79325866699219, 129.68551635742188 32.838043212890625, 129.6376190185547 32.94054412841797, 129.6355438232422 32.96540832519531, 129.68753051757812 33.07857131958008, 129.7248992919922 33.06669235229492, 129.7472686767578 33.05310821533203, 129.7672119140625 33.041107177734375, 129.8214874267578 32.975406646728516, 129.8199005126953 32.90745162963867, 129.8017120361328 32.93512725830078, 129.79220581054688 32.91276931762695, 129.79385375976562 32.88499450683594, 129.8040008544922 32.858463287353516, 129.8517608642578 32.82249450683594, 129.94857788085938 32.846099853515625, 129.969970703125 32.86305236816406, 129.9431610107422 32.99485397338867, 129.92691040039062 33.01277160644531, 129.88272094726562 33.04249572753906, 129.74351501464844 33.115882873535156, 129.63665771484375 33.18610382080078, 129.5701446533203 33.20950698852539, 129.566650390625 33.24193572998047, 129.5885772705078 33.36402130126953, 129.83433532714844 33.2922248840332, 129.8517303466797 33.34249496459961, 129.87838745117188 33.37506866455078, 129.87069702148438 33.39511489868164, 129.82553100585938 33.40985107421875, 129.8011932373047 33.44926071166992, 129.8692626953125 33.52721405029297, 129.9210968017578 33.53666305541992, 129.96385192871094 33.5049934387207, 129.95233154296875 33.47356414794922, 129.9827423095703 33.442073822021484, 130.00332641601562 33.439430236816406, 130.0277557373047 33.448326110839844, 130.03631591796875 33.457496643066406, 130.060791015625 33.489158630371094, 130.14498901367188 33.59137725830078, 130.20745849609375 33.65082550048828, 130.23634338378906 33.618045806884766, 130.28358459472656 33.575965881347656, 130.36537170410156 33.58401870727539, 130.3994140625 33.60416030883789, 130.41664123535156 33.62846374511719, 130.46815490722656 33.75041198730469, 130.4564208984375 33.77339172363281, 130.4510040283203 33.79957580566406, 130.496337890625 33.846099853515625, 130.53497314453125 33.87721252441406, 130.70274353027344 33.935890197753906, 130.806640625 33.919715881347656, 130.844970703125 33.912071228027344, 130.982177734375 33.881103515625, 130.95497131347656 33.81429672241211, 131.02719116210938 33.69915771484375, 131.04608154296875 33.674163818359375, 131.09877014160156 33.6125602722168, 131.19491577148438 33.60710906982422, 131.21414184570312 33.595542907714844, 131.27206420898438 33.570274353027344, 131.35189819335938 33.56249237060547, 131.41893005371094 33.5666618347168, 131.46315002441406 33.59526824951172, 131.48426818847656 33.62915802001953, 131.5055389404297 33.660823822021484, 131.52719116210938 33.66888427734375, 131.5865020751953 33.68013381958008, 131.64358520507812 33.663604736328125, 131.66970825195312 33.647491455078125, 131.69247436523438 33.62416076660156, 131.73037719726562 33.5747184753418, 131.74070739746094 33.54262924194336, 131.72955322265625 33.46638107299805, 131.70086669921875 33.41471481323242, 131.5834503173828 33.3429069519043, 131.5587158203125 33.33999252319336, 131.53164672851562 33.35152053833008, 131.503173828125 33.33992385864258, 131.50193786621094 33.315547943115234, 131.5173797607422 33.2646598815918, 131.5394287109375 33.253883361816406, 131.57122802734375 33.2469367980957, 131.59329223632812 33.24443817138672, 131.75942993164062 33.234161376953125, 131.8006591796875 33.23318862915039, 131.8264923095703 33.23527145385742, 131.84747314453125 33.24415588378906, 131.8966827392578 33.2471809387207, 131.86941528320312 33.19999694824219, 131.83663940429688 33.1583251953125, 131.81655883789062 33.11964416503906, 131.90554809570312 32.989715576171875, 131.9852294921875 32.90387725830078, 131.98941040039062 32.83055114746094, 131.897216796875 32.78333282470703, 131.8743896484375 32.73126983642578, 131.87342834472656 32.72651672363281, 131.84579467773438 32.679019927978516, 131.81796264648438 32.682281494140625, 131.76727294921875 32.64762878417969, 131.7027587890625 32.56415557861328, 131.6851806640625 32.5349235534668, 131.68975830078125 32.50839614868164, 131.70413208007812 32.46027374267578, 131.6494140625 32.393882751464844, 131.61578369140625 32.339988708496094, 131.57635498046875 32.24137878417969, 131.54275512695312 32.13416290283203, 131.47384643554688 31.969715118408203, 131.44664001464844 31.88902473449707, 131.451416015625 31.83291244506836, 131.4724578857422 31.821941375732422, 131.49078369140625 31.789579391479492, 131.45025634765625 31.618053436279297, 131.397216796875 31.489437103271484, 131.36273193359375 31.411941528320312, 131.3345489501953 31.369232177734375, 131.24627685546875 31.38492774963379, 131.2414093017578 31.412494659423828, 131.20545959472656 31.459716796875, 131.15011596679688 31.46584701538086, 131.13246154785156 31.467355728149414, 131.07162475585938 31.448745727539062, 131.0394287109375 31.422496795654297, 131.02691650390625 31.401386260986328, 131.00521850585938 31.351713180541992, 131.02996826171875 31.343887329101562, 131.05345153808594 31.342775344848633, 131.1060791015625 31.322498321533203, 131.12911987304688 31.267358779907227, 130.97802734375 31.146942138671875, 130.93496704101562 31.11707878112793, 130.89913940429688 31.106107711791992, 130.87606811523438 31.100830078125, 130.8499755859375 31.090274810791016, 130.74746704101562 31.044164657592773, 130.72120666503906 31.021663665771484, 130.70635986328125 31.006385803222656, 130.66824340820312 30.99958038330078, 130.67837524414062 31.073816299438477, 130.73190307617188 31.115135192871094, 130.7627716064453 31.15791130065918, 130.79608154296875 31.248882293701172, 130.79872131347656 31.314302444458008, 130.77191162109375 31.399301528930664, 130.67372131347656 31.54291343688965, 130.6309356689453 31.549718856811523, 130.60565185546875 31.56437110900879, 130.60211181640625 31.585899353027344, 130.65054321289062 31.617080688476562, 130.6807403564453 31.618398666381836, 130.7184295654297 31.595308303833008, 130.72232055664062 31.557865142822266, 130.7510986328125 31.553329467773438, 130.77499389648438 31.576107025146484, 130.79469299316406 31.60138511657715, 130.80718994140625 31.64069175720215, 130.80795288085938 31.6824951171875, 130.77413940429688 31.706939697265625, 130.67788696289062 31.724994659423828, 130.64498901367188 31.714160919189453, 130.6243896484375 31.694995880126953, 130.6102294921875 31.67666244506836, 130.56109619140625 31.593887329101562, 130.534423828125 31.528884887695312, 130.520263671875 31.480274200439453, 130.5155487060547 31.446245193481445, 130.52468872070312 31.41944122314453, 130.56094360351562 31.331247329711914, 130.57496643066406 31.31263542175293, 130.60745239257812 31.291664123535156, 130.63844299316406 31.278608322143555, 130.6634521484375 31.26249885559082, 130.65359497070312 31.21527099609375, 130.6383056640625 31.18228530883789, 130.58441162109375 31.15499496459961, 130.5201873779297 31.16367530822754, 130.51341247558594 31.194856643676758, 130.4861297607422 31.231590270996094, 130.45831298828125 31.235828399658203, 130.3388671875 31.24443817138672, 130.2548370361328 31.244993209838867, 130.2310791015625 31.247493743896484, 130.20330810546875 31.33916473388672, 130.23385620117188 31.395828247070312, 130.2713623046875 31.41944122314453, 130.30470275878906 31.45367431640625, 130.31829833984375 31.493328094482422, 130.33358764648438 31.55097007751465, 130.33621215820312 31.62596893310547, 130.2565155029297 31.7163143157959, 130.21788024902344 31.738605499267578, 130.18580627441406 31.75468635559082, 130.1766357421875 31.776803970336914, 130.18136596679688 31.820274353027344, 130.19940185546875 31.89944076538086, 130.1624755859375 32.00694274902344, 130.17733764648438 32.08943557739258, 130.20606994628906 32.12345886230469, 130.2578887939453 32.12276840209961, 130.2687225341797 32.10527038574219, 130.2872772216797 32.096099853515625, 130.32191467285156 32.11693572998047, 130.34527587890625 32.160987854003906, 130.46023559570312 32.32305145263672, 130.51443481445312 32.38555145263672, 130.5488739013672 32.418880462646484, 130.56455993652344 32.43526840209961, 130.5985870361328 32.503604888916016, 130.609130859375 32.58888244628906, 130.58746337890625 32.631935119628906, 130.4502410888672 32.61943435668945, 130.46246337890625 32.63652038574219, 130.56497192382812 32.691932678222656, 130.60244750976562 32.715545654296875, 130.60691833496094 32.78346633911133, 130.5848388671875 32.81541061401367, 130.55496215820312 32.840545654296875, 130.51052856445312 32.87499237060547, 130.45663452148438 32.91123962402344, 130.43331909179688 32.96027374267578, 130.42276000976562 32.989990234375, 130.4294891357422 33.04423141479492, 130.41580200195312 33.087493896484375, 130.3635711669922 33.136661529541016, 130.21109008789062 33.17082977294922, 130.13775634765625 33.10582733154297, 130.16470336914062 33.04833221435547, 130.17636108398438 33.030548095703125, 130.2184295654297 32.95818328857422, 130.18385314941406 32.9054069519043, 130.15997314453125 32.89582824707031, 130.11065673828125 32.87346267700195, 130.09620666503906 32.85401916503906, 130.12704467773438 32.835960388183594, 130.16761779785156 32.8295783996582, 130.1947021484375 32.834991455078125, 130.21954345703125 32.8479118347168, 130.24066162109375 32.86124801635742, 130.27386474609375 32.86749267578125, 130.3141326904297 32.861934661865234, 130.34239196777344 32.836936950683594, 130.37078857421875 32.79222106933594, 130.37661743164062 32.76930236816406, 130.3702392578125 32.72887420654297, 130.3394012451172 32.659297943115234, 130.21524047851562 32.59832763671875, 130.17691040039062 32.5872802734375, 130.13546752929688 32.63380813598633, 130.1446533203125 32.67401885986328, 130.19053649902344 32.701656341552734, 130.2019805908203 32.725196838378906, 130.174072265625 32.78297805786133, 130.08815002441406 32.78443908691406, 129.96578979492188 32.73943328857422, 129.94442749023438 32.726097106933594, 129.92745971679688 32.69221496582031, 129.91067504882812 32.659156799316406, 129.89749145507812 32.643882751464844, 129.82191467285156 32.58388137817383, 129.7941436767578 32.57027053833008, 129.752197265625 32.56193542480469, 129.74606323242188 32.56110382080078)), ((129.72079467773438 33.697486877441406, 129.71359252929688 33.69971466064453, 129.66302490234375 33.73554992675781, 129.65887451171875 33.74916458129883, 129.68246459960938 33.82221984863281, 129.687744140625 33.83387756347656, 129.69955444335938 33.8559684753418, 129.77247619628906 33.843326568603516, 129.79412841796875 33.76277160644531, 129.75469970703125 33.72693634033203, 129.72079467773438 33.697486877441406)), ((129.5379638671875 33.30748748779297, 129.53887939453125 33.29222106933594, 129.50247192382812 33.231658935546875, 129.49273681640625 33.21638488769531, 129.48440551757812 33.20860290527344, 129.4710693359375 33.19860076904297, 129.45663452148438 33.18998718261719, 129.44134521484375 33.1824951171875, 129.40969848632812 33.16888427734375, 129.39540100097656 33.16512680053711, 129.38525390625 33.164710998535156, 129.36106872558594 33.169715881347656, 129.45413208007812 33.3316650390625, 129.53915405273438 33.38679885864258, 129.5616455078125 33.388328552246094, 129.5687255859375 33.38040542602539, 129.565673828125 33.340267181396484, 129.5379638671875 33.30748748779297)), ((129.12368774414062 33.068519592285156, 129.1105194091797 33.04957580566406, 129.107177734375 33.03971862792969, 129.09690856933594 32.98554611206055, 129.10398864746094 32.97762680053711, 129.12579345703125 32.97998809814453, 129.13693237304688 32.98332977294922, 129.14915466308594 32.99026870727539, 129.1770477294922 32.997352600097656, 129.18304443359375 32.986106872558594, 129.17913818359375 32.97248840332031, 129.17330932617188 32.96138000488281, 129.06788635253906 32.8226318359375, 129.05552673339844 32.81867218017578, 129.00555419921875 32.93498992919922, 129.04135131835938 32.96138000488281, 129.10079956054688 33.10291290283203, 129.1151580810547 33.14242172241211, 129.12802124023438 33.08360290527344, 129.12496948242188 33.07054901123047, 129.12368774414062 33.068519592285156)), ((128.65240478515625 32.69664001464844, 128.64749145507812 32.711936950683594, 128.64749145507812 32.755828857421875, 128.64886474609375 32.774574279785156, 128.66079711914062 32.78193664550781, 128.78665161132812 32.7913818359375, 128.81329345703125 32.79249572753906, 128.8441162109375 32.75166320800781, 128.8861083984375 32.68610382080078, 128.90101623535156 32.64686965942383, 128.74191284179688 32.58915710449219, 128.66998291015625 32.59971618652344, 128.6383056640625 32.60527038574219, 128.6102294921875 32.611663818359375, 128.60107421875 32.61859893798828, 128.6196746826172 32.66172409057617, 128.65240478515625 32.69664001464844)), ((130 32.188316345214844, 129.98800659179688 32.20054626464844, 129.95523071289062 32.24360656738281, 129.9710693359375 32.355552673339844, 129.98745727539062 32.40943145751953, 129.99273681640625 32.42137908935547, 130.02719116210938 32.498329162597656, 130.04608154296875 32.51221466064453, 130.11009216308594 32.54207992553711, 130.15386962890625 32.543609619140625, 130.18295288085938 32.526309967041016, 130.19857788085938 32.483604431152344, 130.20162963867188 32.46776580810547, 130.21109008789062 32.373321533203125, 130.20761108398438 32.33346176147461, 130.09219360351562 32.23193359375, 130.07440185546875 32.218597412109375, 130.06497192382812 32.212493896484375, 130.02996826171875 32.19499206542969, 130 32.188316345214844)), ((130.2393798828125 32.460350036621094, 130.24026489257812 32.46281433105469, 130.27804565429688 32.49138259887695, 130.3319091796875 32.516387939453125, 130.36509704589844 32.522216796875, 130.44802856445312 32.505271911621094, 130.4033203125 32.423606872558594, 130.38107299804688 32.38721466064453, 130.36941528320312 32.37471008300781, 130.35885620117188 32.37054443359375, 130.2357940673828 32.39707565307617, 130.20870971679688 32.42930221557617, 130.21051025390625 32.444156646728516, 130.22384643554688 32.455963134765625, 130.2393798828125 32.460350036621094)), ((131.0718994140625 30.826675415039062, 131.08509826660156 30.803192138671875, 131.08273315429688 30.747772216796875, 131.07662963867188 30.701385498046875, 131.07440185546875 30.689163208007812, 131.05523681640625 30.632774353027344, 130.96969604492188 30.390552520751953, 130.90248107910156 30.354162216186523, 130.87911987304688 30.354995727539062, 130.8716278076172 30.365413665771484, 130.86183166503906 30.41048240661621, 130.86300659179688 30.43804931640625, 130.86636352539062 30.456939697265625, 130.86941528320312 30.469715118408203, 130.88357543945312 30.48055076599121, 130.90414428710938 30.506664276123047, 130.93109130859375 30.544998168945312, 130.94720458984375 30.570274353027344, 130.951904296875 30.583053588867188, 130.95468139648438 30.598468780517578, 130.94775390625 30.626384735107422, 130.9441375732422 30.678537368774414, 131.00833129882812 30.789440155029297, 131.03970336914062 30.83110809326172, 131.05108642578125 30.839025497436523, 131.06593322753906 30.8337459564209, 131.0718994140625 30.826675415039062)), ((130.52352905273438 30.443096160888672, 130.54637145996094 30.442495346069336, 130.59246826171875 30.42471694946289, 130.63333129882812 30.4052734375, 130.64303588867188 30.398883819580078, 130.66818237304688 30.38013458251953, 130.67135620117188 30.37027359008789, 130.661376953125 30.324718475341797, 130.65664672851562 30.30416488647461, 130.64747619628906 30.28569221496582, 130.59829711914062 30.243606567382812, 130.5616455078125 30.236799240112305, 130.5223388671875 30.236244201660156, 130.4891357421875 30.241104125976562, 130.4444122314453 30.250690460205078, 130.38845825195312 30.349578857421875, 130.38388061523438 30.367218017578125, 130.38189697265625 30.37749481201172, 130.38433837890625 30.394092559814453, 130.47384643554688 30.454994201660156, 130.48663330078125 30.460411071777344, 130.51080322265625 30.458885192871094, 130.51971435546875 30.45193862915039, 130.52352905273438 30.443096160888672)), ((129.69046020507812 28.497718811035156, 129.69607543945312 28.491382598876953, 129.70440673828125 28.478607177734375, 129.71551513671875 28.451107025146484, 129.71774291992188 28.433813095092773, 129.70773315429688 28.424163818359375, 129.66275024414062 28.404163360595703, 129.64971923828125 28.404163360595703, 129.62161254882812 28.39749526977539, 129.58441162109375 28.3699951171875, 129.51193237304688 28.294998168945312, 129.46551513671875 28.211383819580078, 129.373291015625 28.116315841674805, 129.15774536132812 28.23499298095703, 129.143310546875 28.25249671936035, 129.25665283203125 28.320831298828125, 129.32662963867188 28.352218627929688, 129.57498168945312 28.46166229248047, 129.62161254882812 28.476940155029297, 129.6196746826172 28.451385498046875, 129.66748046875 28.476940155029297, 129.69046020507812 28.497718811035156)), ((128.93362426757812 27.901103973388672, 128.93914794921875 27.905134201049805, 128.95053100585938 27.906801223754883, 128.95970153808594 27.90069007873535, 129.02928161621094 27.771663665771484, 129.02178955078125 27.74749755859375, 129.00665283203125 27.727218627929688, 128.98550415039062 27.701107025146484, 128.9534454345703 27.677078247070312, 128.9413604736328 27.67666244506836, 128.9188690185547 27.687633514404297, 128.897216796875 27.725826263427734, 128.8806610107422 27.822080612182617, 128.88189697265625 27.83721923828125, 128.88552856445312 27.86221694946289, 128.8902587890625 27.881938934326172, 128.89886474609375 27.89777374267578, 128.93362426757812 27.901103973388672)), ((128.28720092773438 26.854995727539062, 128.30026245117188 26.848052978515625, 128.3113555908203 26.839580535888672, 128.33010864257812 26.809581756591797, 128.33303833007812 26.79694366455078, 128.33551025390625 26.764999389648438, 128.33261108398438 26.755414962768555, 128.2713623046875 26.658329010009766, 128.25277709960938 26.638885498046875, 128.240234375 26.62860870361328, 128.14663696289062 26.568885803222656, 127.94637298583984 26.451107025146484, 127.87468719482422 26.44666290283203, 127.86360168457031 26.44416046142578, 127.84971618652344 26.436382293701172, 127.83929443359375 26.4258975982666, 127.7785873413086 26.23666000366211, 127.81011962890625 26.19027328491211, 127.81818389892578 26.184301376342773, 127.81302642822266 26.15555191040039, 127.78749084472656 26.12749481201172, 127.77609252929688 26.11638641357422, 127.72859191894531 26.088607788085938, 127.716796875 26.0826358795166, 127.70247650146484 26.079998016357422, 127.68094635009766 26.078746795654297, 127.65221405029297 26.085691452026367, 127.63997650146484 26.208606719970703, 127.67192077636719 26.23110580444336, 127.72484588623047 26.271526336669922, 127.74414825439453 26.3094425201416, 127.73442077636719 26.346664428710938, 127.72527313232422 26.381938934326172, 127.71804809570312 26.41277313232422, 127.71754455566406 26.432079315185547, 127.7644271850586 26.43860626220703, 127.79789733886719 26.4415225982666, 127.95999145507812 26.5473575592041, 127.9658203125 26.56777572631836, 127.96513366699219 26.581802368164062, 127.94595336914062 26.600133895874023, 127.91249084472656 26.60027313232422, 127.8840103149414 26.611940383911133, 127.87678527832031 26.623746871948242, 127.88388061523438 26.667495727539062, 127.90776062011719 26.688884735107422, 127.94331359863281 26.69416046142578, 127.95845794677734 26.6955509185791, 127.99567413330078 26.680828094482422, 127.98567199707031 26.659996032714844, 127.98650360107422 26.64374542236328, 127.99373626708984 26.636245727539062, 128.02386474609375 26.631107330322266, 128.06747436523438 26.642494201660156, 128.1050262451172 26.667564392089844, 128.10052490234375 26.680967330932617, 128.103759765625 26.692951202392578, 128.123291015625 26.716106414794922, 128.2471923828125 26.839996337890625, 128.28720092773438 26.854995727539062)), ((125.2883071899414 24.865550994873047, 125.32513427734375 24.807497024536133, 125.34970092773438 24.781248092651367, 125.36012268066406 24.775970458984375, 125.38832092285156 24.77694320678711, 125.40248107910156 24.77499771118164, 125.44261932373047 24.75499725341797, 125.45054626464844 24.742216110229492, 125.44637298583984 24.732772827148438, 125.34526062011719 24.71749496459961, 125.32026672363281 24.716384887695312, 125.30427551269531 24.716384887695312, 125.27332305908203 24.721107482910156, 125.25916290283203 24.72735595703125, 125.25221252441406 24.737773895263672, 125.26602935791016 24.88298225402832, 125.2813720703125 24.875274658203125, 125.2883071899414 24.865550994873047)), ((124.09491729736328 24.439495086669922, 124.1483154296875 24.434579849243164, 124.19178771972656 24.436105728149414, 124.21720886230469 24.44513511657715, 124.24609375 24.496105194091797, 124.28567504882812 24.55680274963379, 124.31108093261719 24.58346939086914, 124.32505798339844 24.58610725402832, 124.33055114746094 24.5736083984375, 124.32630157470703 24.55451011657715, 124.30498504638672 24.537635803222656, 124.29609680175781 24.528053283691406, 124.27637481689453 24.49068832397461, 124.26165771484375 24.457496643066406, 124.25360107421875 24.417495727539062, 124.25248718261719 24.4052734375, 124.25249481201172 24.390413284301758, 124.23943328857422 24.35138702392578, 124.23165130615234 24.34013557434082, 124.21914672851562 24.33527374267578, 124.17915344238281 24.328330993652344, 124.16373443603516 24.32735824584961, 124.15386962890625 24.32944107055664, 124.14166259765625 24.333606719970703, 124.12371826171875 24.343191146850586, 124.07678985595703 24.42235565185547, 124.08074951171875 24.435758590698242, 124.09491729736328 24.439495086669922)), ((123.79225158691406 24.405242919921875, 123.90220642089844 24.376663208007812, 123.92741394042969 24.367218017578125, 123.93650817871094 24.35430145263672, 123.92526245117188 24.32138442993164, 123.90193176269531 24.283607482910156, 123.87289428710938 24.253887176513672, 123.86193084716797 24.251386642456055, 123.71832275390625 24.2772216796875, 123.67886352539062 24.31610870361328, 123.76915740966797 24.41624641418457, 123.78108978271484 24.416522979736328, 123.79225158691406 24.405242919921875)))\"\n        ],\n        \"semantic_type\": \"\",\n        \"description\": \"\"\n      }\n    }\n  ]\n}"
            }
          },
          "metadata": {},
          "execution_count": 9
        }
      ],
      "source": [
        "# some content\n",
        "countries.head()"
      ]
    },
    {
      "cell_type": "code",
      "execution_count": null,
      "metadata": {
        "id": "2iqP-0r8uicC",
        "colab": {
          "base_uri": "https://localhost:8080/"
        },
        "outputId": "5e26144c-e8b9-414c-f578-a55aa8ce5a77"
      },
      "outputs": [
        {
          "output_type": "execute_result",
          "data": {
            "text/plain": [
              "array(['Polygon', 'MultiPolygon'], dtype=object)"
            ]
          },
          "metadata": {},
          "execution_count": 10
        }
      ],
      "source": [
        "# what geometry?\n",
        "countries.geom_type.unique()"
      ]
    },
    {
      "cell_type": "code",
      "execution_count": null,
      "metadata": {
        "id": "vPHdGEtatUVD",
        "colab": {
          "base_uri": "https://localhost:8080/",
          "height": 53
        },
        "outputId": "ffd14fbb-bd8c-4c8f-c351-bb5030b00a18"
      },
      "outputs": [
        {
          "output_type": "execute_result",
          "data": {
            "text/plain": [
              "Empty GeoDataFrame\n",
              "Columns: [COUNTRY, geometry]\n",
              "Index: []"
            ],
            "text/html": [
              "\n",
              "  <div id=\"df-af4ab944-687c-4c40-9ceb-45e3601cffc9\" class=\"colab-df-container\">\n",
              "    <div>\n",
              "<style scoped>\n",
              "    .dataframe tbody tr th:only-of-type {\n",
              "        vertical-align: middle;\n",
              "    }\n",
              "\n",
              "    .dataframe tbody tr th {\n",
              "        vertical-align: top;\n",
              "    }\n",
              "\n",
              "    .dataframe thead th {\n",
              "        text-align: right;\n",
              "    }\n",
              "</style>\n",
              "<table border=\"1\" class=\"dataframe\">\n",
              "  <thead>\n",
              "    <tr style=\"text-align: right;\">\n",
              "      <th></th>\n",
              "      <th>COUNTRY</th>\n",
              "      <th>geometry</th>\n",
              "    </tr>\n",
              "  </thead>\n",
              "  <tbody>\n",
              "  </tbody>\n",
              "</table>\n",
              "</div>\n",
              "    <div class=\"colab-df-buttons\">\n",
              "\n",
              "  <div class=\"colab-df-container\">\n",
              "    <button class=\"colab-df-convert\" onclick=\"convertToInteractive('df-af4ab944-687c-4c40-9ceb-45e3601cffc9')\"\n",
              "            title=\"Convert this dataframe to an interactive table.\"\n",
              "            style=\"display:none;\">\n",
              "\n",
              "  <svg xmlns=\"http://www.w3.org/2000/svg\" height=\"24px\" viewBox=\"0 -960 960 960\">\n",
              "    <path d=\"M120-120v-720h720v720H120Zm60-500h600v-160H180v160Zm220 220h160v-160H400v160Zm0 220h160v-160H400v160ZM180-400h160v-160H180v160Zm440 0h160v-160H620v160ZM180-180h160v-160H180v160Zm440 0h160v-160H620v160Z\"/>\n",
              "  </svg>\n",
              "    </button>\n",
              "\n",
              "  <style>\n",
              "    .colab-df-container {\n",
              "      display:flex;\n",
              "      gap: 12px;\n",
              "    }\n",
              "\n",
              "    .colab-df-convert {\n",
              "      background-color: #E8F0FE;\n",
              "      border: none;\n",
              "      border-radius: 50%;\n",
              "      cursor: pointer;\n",
              "      display: none;\n",
              "      fill: #1967D2;\n",
              "      height: 32px;\n",
              "      padding: 0 0 0 0;\n",
              "      width: 32px;\n",
              "    }\n",
              "\n",
              "    .colab-df-convert:hover {\n",
              "      background-color: #E2EBFA;\n",
              "      box-shadow: 0px 1px 2px rgba(60, 64, 67, 0.3), 0px 1px 3px 1px rgba(60, 64, 67, 0.15);\n",
              "      fill: #174EA6;\n",
              "    }\n",
              "\n",
              "    .colab-df-buttons div {\n",
              "      margin-bottom: 4px;\n",
              "    }\n",
              "\n",
              "    [theme=dark] .colab-df-convert {\n",
              "      background-color: #3B4455;\n",
              "      fill: #D2E3FC;\n",
              "    }\n",
              "\n",
              "    [theme=dark] .colab-df-convert:hover {\n",
              "      background-color: #434B5C;\n",
              "      box-shadow: 0px 1px 3px 1px rgba(0, 0, 0, 0.15);\n",
              "      filter: drop-shadow(0px 1px 2px rgba(0, 0, 0, 0.3));\n",
              "      fill: #FFFFFF;\n",
              "    }\n",
              "  </style>\n",
              "\n",
              "    <script>\n",
              "      const buttonEl =\n",
              "        document.querySelector('#df-af4ab944-687c-4c40-9ceb-45e3601cffc9 button.colab-df-convert');\n",
              "      buttonEl.style.display =\n",
              "        google.colab.kernel.accessAllowed ? 'block' : 'none';\n",
              "\n",
              "      async function convertToInteractive(key) {\n",
              "        const element = document.querySelector('#df-af4ab944-687c-4c40-9ceb-45e3601cffc9');\n",
              "        const dataTable =\n",
              "          await google.colab.kernel.invokeFunction('convertToInteractive',\n",
              "                                                    [key], {});\n",
              "        if (!dataTable) return;\n",
              "\n",
              "        const docLinkHtml = 'Like what you see? Visit the ' +\n",
              "          '<a target=\"_blank\" href=https://colab.research.google.com/notebooks/data_table.ipynb>data table notebook</a>'\n",
              "          + ' to learn more about interactive tables.';\n",
              "        element.innerHTML = '';\n",
              "        dataTable['output_type'] = 'display_data';\n",
              "        await google.colab.output.renderOutput(dataTable, element);\n",
              "        const docLink = document.createElement('div');\n",
              "        docLink.innerHTML = docLinkHtml;\n",
              "        element.appendChild(docLink);\n",
              "      }\n",
              "    </script>\n",
              "  </div>\n",
              "\n",
              "\n",
              "    </div>\n",
              "  </div>\n"
            ],
            "application/vnd.google.colaboratory.intrinsic+json": {
              "type": "dataframe",
              "repr_error": "Out of range float values are not JSON compliant: nan"
            }
          },
          "metadata": {},
          "execution_count": 11
        }
      ],
      "source": [
        "# any missing values?\n",
        "countries[countries.isna().any(axis=1)]"
      ]
    },
    {
      "cell_type": "code",
      "execution_count": null,
      "metadata": {
        "id": "TWXmBv-vtUVD",
        "scrolled": true,
        "colab": {
          "base_uri": "https://localhost:8080/"
        },
        "outputId": "e7d2e554-7b29-4839-d277-3bf551bd94f2"
      },
      "outputs": [
        {
          "output_type": "stream",
          "name": "stdout",
          "text": [
            "<class 'geopandas.geodataframe.GeoDataFrame'>\n",
            "RangeIndex: 252 entries, 0 to 251\n",
            "Data columns (total 2 columns):\n",
            " #   Column    Non-Null Count  Dtype   \n",
            "---  ------    --------------  -----   \n",
            " 0   COUNTRY   252 non-null    object  \n",
            " 1   geometry  252 non-null    geometry\n",
            "dtypes: geometry(1), object(1)\n",
            "memory usage: 4.1+ KB\n"
          ]
        }
      ],
      "source": [
        "# types\n",
        "countries.info()"
      ]
    },
    {
      "cell_type": "markdown",
      "metadata": {
        "id": "QzT4ctrjtUVD"
      },
      "source": [
        "As you see, those pandas commands are working fine, but now we have a new column type: **geometry**. Let's see this map of countries:"
      ]
    },
    {
      "cell_type": "code",
      "execution_count": null,
      "metadata": {
        "id": "DjMj9myHtUVD",
        "colab": {
          "base_uri": "https://localhost:8080/",
          "height": 317
        },
        "outputId": "d393d621-a3e7-4d86-9a0f-f4e16539b804"
      },
      "outputs": [
        {
          "output_type": "execute_result",
          "data": {
            "text/plain": [
              "<Axes: >"
            ]
          },
          "metadata": {},
          "execution_count": 13
        },
        {
          "output_type": "display_data",
          "data": {
            "text/plain": [
              "<Figure size 640x480 with 1 Axes>"
            ],
            "image/png": "[encoded data removed]"
          },
          "metadata": {}
        }
      ],
      "source": [
        "countries.plot(facecolor=\"azure\",#color of polygon fill\n",
        "               edgecolor='red', #color of lines\n",
        "               linewidth=0.1) #thickness of lines"
      ]
    },
    {
      "cell_type": "markdown",
      "metadata": {
        "id": "iCtifGnqtUVD"
      },
      "source": [
        "Let's open the other maps:"
      ]
    },
    {
      "cell_type": "code",
      "execution_count": null,
      "metadata": {
        "id": "lPbJ4wFHtUVD"
      },
      "outputs": [],
      "source": [
        "rivers=gpd.read_file(os.path.join(\"maps\",\"World_Hydrography\",\"World_Hydrography.shp\"))\n",
        "cities=gpd.read_file(os.path.join(\"maps\",\"World_Cities\",\"World_Cities.shp\"))"
      ]
    },
    {
      "cell_type": "code",
      "execution_count": null,
      "metadata": {
        "id": "0uSjsr32uicE",
        "colab": {
          "base_uri": "https://localhost:8080/"
        },
        "outputId": "769e8f49-6c91-4862-e829-0d0423423b4f"
      },
      "outputs": [
        {
          "output_type": "execute_result",
          "data": {
            "text/plain": [
              "(array(['LineString', 'MultiLineString'], dtype=object),\n",
              " array(['Point'], dtype=object))"
            ]
          },
          "metadata": {},
          "execution_count": 15
        }
      ],
      "source": [
        "# what geo?\n",
        "rivers.geom_type.unique(), cities.geom_type.unique()"
      ]
    },
    {
      "cell_type": "markdown",
      "metadata": {
        "id": "pEEhe2LC910_"
      },
      "source": [
        "This is the rivers map:"
      ]
    },
    {
      "cell_type": "code",
      "execution_count": null,
      "metadata": {
        "id": "8Gap_au4tUVD",
        "colab": {
          "base_uri": "https://localhost:8080/",
          "height": 253
        },
        "outputId": "aef2b1a7-d26e-44d7-f2ff-e43557da01e7"
      },
      "outputs": [
        {
          "output_type": "execute_result",
          "data": {
            "text/plain": [
              "<Axes: >"
            ]
          },
          "metadata": {},
          "execution_count": 16
        },
        {
          "output_type": "display_data",
          "data": {
            "text/plain": [
              "<Figure size 640x480 with 1 Axes>"
            ],
            "image/png": "[encoded data removed]"
          },
          "metadata": {}
        }
      ],
      "source": [
        "rivers.plot(edgecolor='blue',\n",
        "            linewidth=1,\n",
        "            linestyle='dotted')"
      ]
    },
    {
      "cell_type": "markdown",
      "metadata": {
        "id": "kw_THmHJ910_"
      },
      "source": [
        "This is the cities map:"
      ]
    },
    {
      "cell_type": "code",
      "execution_count": null,
      "metadata": {
        "id": "8nAC2GkptUVD",
        "colab": {
          "base_uri": "https://localhost:8080/",
          "height": 272
        },
        "outputId": "ceed19bf-d41d-418f-bb1f-72c27d5de1d1"
      },
      "outputs": [
        {
          "output_type": "execute_result",
          "data": {
            "text/plain": [
              "<Axes: >"
            ]
          },
          "metadata": {},
          "execution_count": 17
        },
        {
          "output_type": "display_data",
          "data": {
            "text/plain": [
              "<Figure size 640x480 with 1 Axes>"
            ],
            "image/png": "[encoded data removed]"
          },
          "metadata": {}
        }
      ],
      "source": [
        "cities.plot(marker='.', # marker type\n",
        "            color='red',\n",
        "            markersize=1,\n",
        "            alpha=0.3) # transparency"
      ]
    },
    {
      "cell_type": "markdown",
      "metadata": {
        "id": "ZOiFM3uYtUVE"
      },
      "source": [
        "You can start by creating the layer on the back (the base), and add layers on top:"
      ]
    },
    {
      "cell_type": "code",
      "execution_count": null,
      "metadata": {
        "id": "rqkVAvHstUVE",
        "colab": {
          "base_uri": "https://localhost:8080/",
          "height": 537
        },
        "outputId": "0f585074-88b5-4810-eb9a-52f7ddb66414"
      },
      "outputs": [
        {
          "output_type": "execute_result",
          "data": {
            "text/plain": [
              "<Axes: >"
            ]
          },
          "metadata": {},
          "execution_count": 18
        },
        {
          "output_type": "display_data",
          "data": {
            "text/plain": [
              "<Figure size 1200x1200 with 1 Axes>"
            ],
            "image/png": "[encoded data removed]"
          },
          "metadata": {}
        }
      ],
      "source": [
        "base = countries.plot(facecolor=\"white\",\n",
        "                      edgecolor='black',\n",
        "                      linewidth=0.1,\n",
        "                      figsize=(12,12))\n",
        "\n",
        "rivers.plot(edgecolor='blue', linewidth=0.4,\n",
        "            ax=base)# on top of...\n",
        "cities.plot(marker='.', color='red', markersize=1,alpha=0.7,\n",
        "            ax=base) # on top of...\n"
      ]
    },
    {
      "cell_type": "markdown",
      "metadata": {
        "id": "KmWmPIzU911A"
      },
      "source": [
        "Saving into a different format (not shapefile):"
      ]
    },
    {
      "cell_type": "code",
      "execution_count": null,
      "metadata": {
        "id": "MpkiTGvI911A"
      },
      "outputs": [],
      "source": [
        "# ONE file - SEVERAL layers\n",
        "import os\n",
        "\n",
        "countries.to_file(os.path.join(\"maps\",\"worldMaps.gpkg\"), layer='countries', driver=\"GPKG\")\n",
        "rivers.to_file(os.path.join(\"maps\",\"worldMaps.gpkg\"), layer='rivers', driver=\"GPKG\")\n",
        "cities.to_file(os.path.join(\"maps\",\"worldMaps.gpkg\"), layer='cities', driver=\"GPKG\")"
      ]
    },
    {
      "cell_type": "markdown",
      "metadata": {
        "id": "acfb54f3-247c-4a37-a049-7fdbba2653d4"
      },
      "source": [
        "\n",
        "# Map Projection\n",
        "\n",
        "The CRS is a very important property of the maps. They affect three some aspects:\n",
        "\n",
        "* shape\n",
        "* area\n",
        "* scale\n",
        "* direction\n",
        "\n",
        "Most maps come with a default CRS: 4326. Pay attention:"
      ]
    },
    {
      "cell_type": "code",
      "execution_count": null,
      "metadata": {
        "id": "SPHIKjXnxk4S"
      },
      "outputs": [],
      "source": [
        "Germany=countries[countries.COUNTRY=='Germany']"
      ]
    },
    {
      "cell_type": "code",
      "execution_count": null,
      "metadata": {
        "id": "032135e2-edb7-42fd-908e-8873d3e6683e",
        "colab": {
          "base_uri": "https://localhost:8080/"
        },
        "outputId": "9930f854-3595-40e6-f52e-60c8b1ea6e3a"
      },
      "outputs": [
        {
          "output_type": "execute_result",
          "data": {
            "text/plain": [
              "<Geographic 2D CRS: EPSG:4326>\n",
              "Name: WGS 84\n",
              "Axis Info [ellipsoidal]:\n",
              "- Lat[north]: Geodetic latitude (degree)\n",
              "- Lon[east]: Geodetic longitude (degree)\n",
              "Area of Use:\n",
              "- name: World.\n",
              "- bounds: (-180.0, -90.0, 180.0, 90.0)\n",
              "Datum: World Geodetic System 1984 ensemble\n",
              "- Ellipsoid: WGS 84\n",
              "- Prime Meridian: Greenwich"
            ]
          },
          "metadata": {},
          "execution_count": 21
        }
      ],
      "source": [
        "Germany.crs"
      ]
    },
    {
      "cell_type": "code",
      "execution_count": null,
      "metadata": {
        "id": "d6125ed3-d5da-46ed-b530-532a30ec35f8",
        "colab": {
          "base_uri": "https://localhost:8080/"
        },
        "outputId": "9718592b-842a-47a5-c455-31ee4554887f"
      },
      "outputs": [
        {
          "output_type": "execute_result",
          "data": {
            "text/plain": [
              "[Axis(name=Geodetic latitude, abbrev=Lat, direction=north, unit_auth_code=EPSG, unit_code=9122, unit_name=degree),\n",
              " Axis(name=Geodetic longitude, abbrev=Lon, direction=east, unit_auth_code=EPSG, unit_code=9122, unit_name=degree)]"
            ]
          },
          "metadata": {},
          "execution_count": 22
        }
      ],
      "source": [
        "# check units of measurement\n",
        "Germany.crs.axis_info"
      ]
    },
    {
      "cell_type": "code",
      "execution_count": null,
      "metadata": {
        "id": "7b4fa59a-25e3-4ef2-8b2e-9e868d92c5a1",
        "colab": {
          "base_uri": "https://localhost:8080/"
        },
        "outputId": "ce5b7285-6f9e-4a4c-efda-1503c835f6fe"
      },
      "outputs": [
        {
          "output_type": "execute_result",
          "data": {
            "text/plain": [
              "False"
            ]
          },
          "metadata": {},
          "execution_count": 23
        }
      ],
      "source": [
        "# is this CRS projected?\n",
        "Germany.crs.is_projected"
      ]
    },
    {
      "cell_type": "markdown",
      "metadata": {
        "id": "2005d64e-0437-4b66-8f93-e170ffe5f1d1"
      },
      "source": [
        "Polygons have a centroid. When we try getting a centroid from an **unprojected** polygon, you get:"
      ]
    },
    {
      "cell_type": "code",
      "execution_count": null,
      "metadata": {
        "id": "d1dde3fd-bfcb-4004-89fa-2c9bb3f8d784",
        "colab": {
          "base_uri": "https://localhost:8080/",
          "height": 187
        },
        "outputId": "684c8a1b-bdbc-41dc-8516-f6e28d782e6f"
      },
      "outputs": [
        {
          "output_type": "stream",
          "name": "stderr",
          "text": [
            "<ipython-input-24-2f788ec693f9>:2: UserWarning: Geometry is in a geographic CRS. Results from 'centroid' are likely incorrect. Use 'GeoSeries.to_crs()' to re-project geometries to a projected CRS before this operation.\n",
            "\n",
            "  Germany.centroid\n"
          ]
        },
        {
          "output_type": "execute_result",
          "data": {
            "text/plain": [
              "87    POINT (10.39365 51.10656)\n",
              "dtype: geometry"
            ],
            "text/html": [
              "<div>\n",
              "<style scoped>\n",
              "    .dataframe tbody tr th:only-of-type {\n",
              "        vertical-align: middle;\n",
              "    }\n",
              "\n",
              "    .dataframe tbody tr th {\n",
              "        vertical-align: top;\n",
              "    }\n",
              "\n",
              "    .dataframe thead th {\n",
              "        text-align: right;\n",
              "    }\n",
              "</style>\n",
              "<table border=\"1\" class=\"dataframe\">\n",
              "  <thead>\n",
              "    <tr style=\"text-align: right;\">\n",
              "      <th></th>\n",
              "      <th>0</th>\n",
              "    </tr>\n",
              "  </thead>\n",
              "  <tbody>\n",
              "    <tr>\n",
              "      <th>87</th>\n",
              "      <td>POINT (10.39365 51.10656)</td>\n",
              "    </tr>\n",
              "  </tbody>\n",
              "</table>\n",
              "</div><br><label><b>dtype:</b> geometry</label>"
            ]
          },
          "metadata": {},
          "execution_count": 24
        }
      ],
      "source": [
        "# centroid\n",
        "Germany.centroid"
      ]
    },
    {
      "cell_type": "markdown",
      "metadata": {
        "id": "a182ba5b-fb0a-4c43-beeb-0a6c2a4fcfc8"
      },
      "source": [
        "## Reprojecting\n",
        "\n",
        "A projected CRS will have units in meters or feet (or similar). You can request a crs per country [here](https://epsg.io/?q=brazil+kind%3APROJCRS):"
      ]
    },
    {
      "cell_type": "code",
      "execution_count": null,
      "metadata": {
        "id": "8c63293a-d9a0-4869-a7e8-7fbe2f4bbb59",
        "colab": {
          "base_uri": "https://localhost:8080/"
        },
        "outputId": "d3ac7653-2be6-453d-8821-a5d7aed6da16"
      },
      "outputs": [
        {
          "output_type": "execute_result",
          "data": {
            "text/plain": [
              "[Axis(name=Easting, abbrev=E, direction=east, unit_auth_code=EPSG, unit_code=9001, unit_name=metre),\n",
              " Axis(name=Northing, abbrev=N, direction=north, unit_auth_code=EPSG, unit_code=9001, unit_name=metre)]"
            ]
          },
          "metadata": {},
          "execution_count": 28
        }
      ],
      "source": [
        "# recommended for Germany (meters)\n",
        "Germany.to_crs(5243).crs.axis_info"
      ]
    },
    {
      "cell_type": "code",
      "execution_count": null,
      "metadata": {
        "id": "3c24db6e-8716-4f59-9a81-fead758b59e6",
        "colab": {
          "base_uri": "https://localhost:8080/",
          "height": 115
        },
        "outputId": "baf22b27-7a38-4dfe-8261-ed9f7185b3ce"
      },
      "outputs": [
        {
          "output_type": "execute_result",
          "data": {
            "text/plain": [
              "87    POINT (-8846.157 5657.148)\n",
              "dtype: geometry"
            ],
            "text/html": [
              "<div>\n",
              "<style scoped>\n",
              "    .dataframe tbody tr th:only-of-type {\n",
              "        vertical-align: middle;\n",
              "    }\n",
              "\n",
              "    .dataframe tbody tr th {\n",
              "        vertical-align: top;\n",
              "    }\n",
              "\n",
              "    .dataframe thead th {\n",
              "        text-align: right;\n",
              "    }\n",
              "</style>\n",
              "<table border=\"1\" class=\"dataframe\">\n",
              "  <thead>\n",
              "    <tr style=\"text-align: right;\">\n",
              "      <th></th>\n",
              "      <th>0</th>\n",
              "    </tr>\n",
              "  </thead>\n",
              "  <tbody>\n",
              "    <tr>\n",
              "      <th>87</th>\n",
              "      <td>POINT (-8846.157 5657.148)</td>\n",
              "    </tr>\n",
              "  </tbody>\n",
              "</table>\n",
              "</div><br><label><b>dtype:</b> geometry</label>"
            ]
          },
          "metadata": {},
          "execution_count": 29
        }
      ],
      "source": [
        "# now this works with no warning\n",
        "Germany.to_crs(5243).centroid"
      ]
    },
    {
      "cell_type": "code",
      "execution_count": null,
      "metadata": {
        "id": "7c8e31a4-54d4-4c95-adb7-81b1466e9938",
        "colab": {
          "base_uri": "https://localhost:8080/",
          "height": 447
        },
        "outputId": "3ebfe8a7-dda0-4894-fc91-553df86b3525"
      },
      "outputs": [
        {
          "output_type": "execute_result",
          "data": {
            "text/plain": [
              "<Axes: >"
            ]
          },
          "metadata": {},
          "execution_count": 31
        },
        {
          "output_type": "display_data",
          "data": {
            "text/plain": [
              "<Figure size 640x480 with 1 Axes>"
            ],
            "image/png": "[encoded data removed]"
          },
          "metadata": {}
        }
      ],
      "source": [
        "# replotting:\n",
        "\n",
        "base5243=Germany.to_crs(5243).plot()\n",
        "Germany.to_crs(5243).centroid.plot(color='red',ax=base5243)"
      ]
    },
    {
      "cell_type": "markdown",
      "metadata": {
        "id": "7402b0e4-fda8-431b-ad8d-62e0c12278f6"
      },
      "source": [
        "Let's keep the projected version for all our maps:"
      ]
    },
    {
      "cell_type": "code",
      "execution_count": 36,
      "metadata": {
        "id": "ufejejnzzNjY"
      },
      "outputs": [],
      "source": [
        "cities_Germany_5243=cities[cities.COUNTRY=='Germany'].to_crs(5243)"
      ]
    },
    {
      "cell_type": "code",
      "execution_count": 37,
      "metadata": {
        "id": "oydGjZPQzrS8"
      },
      "outputs": [],
      "source": [
        "riversGermany_clipped=gpd.clip(rivers,Germany)"
      ]
    },
    {
      "cell_type": "code",
      "execution_count": 38,
      "metadata": {
        "id": "71d42ed2-f296-480a-b603-7213575761c6"
      },
      "outputs": [],
      "source": [
        "Germany_5243=Germany.to_crs(5243)\n",
        "\n",
        "rivers_Germany_5243=riversGermany_clipped.to_crs(Germany_5243.crs)"
      ]
    },
    {
      "cell_type": "code",
      "execution_count": 39,
      "metadata": {
        "id": "2f54a006-ca29-43db-9942-fdfa5c38e075"
      },
      "outputs": [],
      "source": [
        "## saving\n",
        "\n",
        "\n",
        "import os\n",
        "\n",
        "Germany_5243.to_file(os.path.join(\"maps\",\"GermanyMaps_5243.gpkg\"), layer='country', driver=\"GPKG\")\n",
        "cities_Germany_5243.to_file(os.path.join(\"maps\",\"GermanyMaps_5243.gpkg\"), layer='cities', driver=\"GPKG\")\n",
        "rivers_Germany_5243.to_file(os.path.join(\"maps\",\"GermanyMaps_5243.gpkg\"), layer='rivers', driver=\"GPKG\")\n",
        "#Germany_5243.centroid.to_file(os.path.join(\"maps\",\"GermanyMaps_5243.gpkg\"), layer='centroid', driver=\"GPKG\")"
      ]
    },
    {
      "cell_type": "markdown",
      "metadata": {
        "id": "67c0b63b-c198-4b76-8f24-68f2f4e24ccf"
      },
      "source": [
        "### Exercise 1\n",
        "<div class=\"alert-success\">\n",
        "\n",
        "1. Reproject your country's map layers.\n",
        "2. Plot the reprojected layers\n",
        "3. Save the reprojected layers as **gpkg**.\n",
        "    \n",
        "</div>"
      ]
    },
    {
      "cell_type": "markdown",
      "metadata": {
        "id": "57780f1f-2c19-49b4-8fbe-b3cc954a83f2"
      },
      "source": [
        "## Creating Spatial data\n",
        "\n",
        "You have a \"data\"folder in **Paideia** with a CSV file with information on the airports in Brazil. Create a similar 'data' folder in your local computer, inside the current _repo_.\n",
        "\n",
        "Let's open the **CSV**:"
      ]
    },
    {
      "cell_type": "code",
      "execution_count": 96,
      "metadata": {
        "id": "c95003f5-30f7-4941-85d1-fd2d87743c80",
        "colab": {
          "base_uri": "https://localhost:8080/",
          "height": 529
        },
        "outputId": "c5c4b5be-bd9e-41d9-fb58-867c73fa73c7"
      },
      "outputs": [
        {
          "output_type": "execute_result",
          "data": {
            "text/plain": [
              "           id    ident           type                       name  \\\n",
              "0        6523      00A       heliport          Total RF Heliport   \n",
              "1      323361     00AA  small_airport       Aero B Ranch Airport   \n",
              "2        6524     00AK  small_airport               Lowell Field   \n",
              "3        6525     00AL  small_airport               Epps Airpark   \n",
              "83094   46378  ZZ-0001       heliport            Sealand Helipad   \n",
              "83095  307326  ZZ-0002  small_airport  Glorioso Islands Airstrip   \n",
              "83096  346788  ZZ-0003  small_airport      Fainting Goat Airport   \n",
              "83097  313629     ZZZZ  small_airport     Satsuma Iōjima Airport   \n",
              "\n",
              "       latitude_deg  longitude_deg  elevation_ft continent iso_country  \\\n",
              "0         40.070985     -74.933689          11.0       NaN          US   \n",
              "1         38.704022    -101.473911        3435.0       NaN          US   \n",
              "2         59.947733    -151.692524         450.0       NaN          US   \n",
              "3         34.864799     -86.770302         820.0       NaN          US   \n",
              "83094     51.894444       1.482500          40.0        EU          GB   \n",
              "83095    -11.584278      47.296389          11.0        AF          TF   \n",
              "83096     32.110587     -97.356312         690.0       NaN          US   \n",
              "83097     30.784722     130.270556         338.0        AS          JP   \n",
              "\n",
              "      iso_region      municipality scheduled_service icao_code iata_code  \\\n",
              "0          US-PA          Bensalem                no       NaN       NaN   \n",
              "1          US-KS             Leoti                no       NaN       NaN   \n",
              "2          US-AK      Anchor Point                no       NaN       NaN   \n",
              "3          US-AL           Harvest                no       NaN       NaN   \n",
              "83094     GB-ENG           Sealand                no       NaN       NaN   \n",
              "83095     TF-U-A  Grande Glorieuse                no       NaN       NaN   \n",
              "83096      US-TX              Blum                no       NaN       NaN   \n",
              "83097      JP-46           Mishima                no       NaN       NaN   \n",
              "\n",
              "      gps_code local_code                                          home_link  \\\n",
              "0         K00A        00A  https://www.penndot.pa.gov/TravelInPA/airports...   \n",
              "1         00AA       00AA                                                NaN   \n",
              "2         00AK       00AK                                                NaN   \n",
              "3         00AL       00AL                                                NaN   \n",
              "83094      NaN        NaN                         http://www.sealandgov.org/   \n",
              "83095      NaN        NaN                                                NaN   \n",
              "83096     87TX       87TX                                                NaN   \n",
              "83097     RJX7       RJX7                                                NaN   \n",
              "\n",
              "                                          wikipedia_link              keywords  \n",
              "0                                                    NaN                   NaN  \n",
              "1                                                    NaN                   NaN  \n",
              "2                                                    NaN                   NaN  \n",
              "3                                                    NaN                   NaN  \n",
              "83094  https://en.wikipedia.org/wiki/Principality_of_...  Roughs Tower Helipad  \n",
              "83095                                                NaN                   NaN  \n",
              "83096                                                NaN                   NaN  \n",
              "83097  http://wikimapia.org/6705190/Satsuma-Iwo-jima-...  SATSUMA,IWOJIMA,RJX7  "
            ],
            "text/html": [
              "\n",
              "  <div id=\"df-82d1df50-99f6-4762-a66d-418ab3465f42\" class=\"colab-df-container\">\n",
              "    <div>\n",
              "<style scoped>\n",
              "    .dataframe tbody tr th:only-of-type {\n",
              "        vertical-align: middle;\n",
              "    }\n",
              "\n",
              "    .dataframe tbody tr th {\n",
              "        vertical-align: top;\n",
              "    }\n",
              "\n",
              "    .dataframe thead th {\n",
              "        text-align: right;\n",
              "    }\n",
              "</style>\n",
              "<table border=\"1\" class=\"dataframe\">\n",
              "  <thead>\n",
              "    <tr style=\"text-align: right;\">\n",
              "      <th></th>\n",
              "      <th>id</th>\n",
              "      <th>ident</th>\n",
              "      <th>type</th>\n",
              "      <th>name</th>\n",
              "      <th>latitude_deg</th>\n",
              "      <th>longitude_deg</th>\n",
              "      <th>elevation_ft</th>\n",
              "      <th>continent</th>\n",
              "      <th>iso_country</th>\n",
              "      <th>iso_region</th>\n",
              "      <th>municipality</th>\n",
              "      <th>scheduled_service</th>\n",
              "      <th>icao_code</th>\n",
              "      <th>iata_code</th>\n",
              "      <th>gps_code</th>\n",
              "      <th>local_code</th>\n",
              "      <th>home_link</th>\n",
              "      <th>wikipedia_link</th>\n",
              "      <th>keywords</th>\n",
              "    </tr>\n",
              "  </thead>\n",
              "  <tbody>\n",
              "    <tr>\n",
              "      <th>0</th>\n",
              "      <td>6523</td>\n",
              "      <td>00A</td>\n",
              "      <td>heliport</td>\n",
              "      <td>Total RF Heliport</td>\n",
              "      <td>40.070985</td>\n",
              "      <td>-74.933689</td>\n",
              "      <td>11.0</td>\n",
              "      <td>NaN</td>\n",
              "      <td>US</td>\n",
              "      <td>US-PA</td>\n",
              "      <td>Bensalem</td>\n",
              "      <td>no</td>\n",
              "      <td>NaN</td>\n",
              "      <td>NaN</td>\n",
              "      <td>K00A</td>\n",
              "      <td>00A</td>\n",
              "      <td>https://www.penndot.pa.gov/TravelInPA/airports...</td>\n",
              "      <td>NaN</td>\n",
              "      <td>NaN</td>\n",
              "    </tr>\n",
              "    <tr>\n",
              "      <th>1</th>\n",
              "      <td>323361</td>\n",
              "      <td>00AA</td>\n",
              "      <td>small_airport</td>\n",
              "      <td>Aero B Ranch Airport</td>\n",
              "      <td>38.704022</td>\n",
              "      <td>-101.473911</td>\n",
              "      <td>3435.0</td>\n",
              "      <td>NaN</td>\n",
              "      <td>US</td>\n",
              "      <td>US-KS</td>\n",
              "      <td>Leoti</td>\n",
              "      <td>no</td>\n",
              "      <td>NaN</td>\n",
              "      <td>NaN</td>\n",
              "      <td>00AA</td>\n",
              "      <td>00AA</td>\n",
              "      <td>NaN</td>\n",
              "      <td>NaN</td>\n",
              "      <td>NaN</td>\n",
              "    </tr>\n",
              "    <tr>\n",
              "      <th>2</th>\n",
              "      <td>6524</td>\n",
              "      <td>00AK</td>\n",
              "      <td>small_airport</td>\n",
              "      <td>Lowell Field</td>\n",
              "      <td>59.947733</td>\n",
              "      <td>-151.692524</td>\n",
              "      <td>450.0</td>\n",
              "      <td>NaN</td>\n",
              "      <td>US</td>\n",
              "      <td>US-AK</td>\n",
              "      <td>Anchor Point</td>\n",
              "      <td>no</td>\n",
              "      <td>NaN</td>\n",
              "      <td>NaN</td>\n",
              "      <td>00AK</td>\n",
              "      <td>00AK</td>\n",
              "      <td>NaN</td>\n",
              "      <td>NaN</td>\n",
              "      <td>NaN</td>\n",
              "    </tr>\n",
              "    <tr>\n",
              "      <th>3</th>\n",
              "      <td>6525</td>\n",
              "      <td>00AL</td>\n",
              "      <td>small_airport</td>\n",
              "      <td>Epps Airpark</td>\n",
              "      <td>34.864799</td>\n",
              "      <td>-86.770302</td>\n",
              "      <td>820.0</td>\n",
              "      <td>NaN</td>\n",
              "      <td>US</td>\n",
              "      <td>US-AL</td>\n",
              "      <td>Harvest</td>\n",
              "      <td>no</td>\n",
              "      <td>NaN</td>\n",
              "      <td>NaN</td>\n",
              "      <td>00AL</td>\n",
              "      <td>00AL</td>\n",
              "      <td>NaN</td>\n",
              "      <td>NaN</td>\n",
              "      <td>NaN</td>\n",
              "    </tr>\n",
              "    <tr>\n",
              "      <th>83094</th>\n",
              "      <td>46378</td>\n",
              "      <td>ZZ-0001</td>\n",
              "      <td>heliport</td>\n",
              "      <td>Sealand Helipad</td>\n",
              "      <td>51.894444</td>\n",
              "      <td>1.482500</td>\n",
              "      <td>40.0</td>\n",
              "      <td>EU</td>\n",
              "      <td>GB</td>\n",
              "      <td>GB-ENG</td>\n",
              "      <td>Sealand</td>\n",
              "      <td>no</td>\n",
              "      <td>NaN</td>\n",
              "      <td>NaN</td>\n",
              "      <td>NaN</td>\n",
              "      <td>NaN</td>\n",
              "      <td>http://www.sealandgov.org/</td>\n",
              "      <td>https://en.wikipedia.org/wiki/Principality_of_...</td>\n",
              "      <td>Roughs Tower Helipad</td>\n",
              "    </tr>\n",
              "    <tr>\n",
              "      <th>83095</th>\n",
              "      <td>307326</td>\n",
              "      <td>ZZ-0002</td>\n",
              "      <td>small_airport</td>\n",
              "      <td>Glorioso Islands Airstrip</td>\n",
              "      <td>-11.584278</td>\n",
              "      <td>47.296389</td>\n",
              "      <td>11.0</td>\n",
              "      <td>AF</td>\n",
              "      <td>TF</td>\n",
              "      <td>TF-U-A</td>\n",
              "      <td>Grande Glorieuse</td>\n",
              "      <td>no</td>\n",
              "      <td>NaN</td>\n",
              "      <td>NaN</td>\n",
              "      <td>NaN</td>\n",
              "      <td>NaN</td>\n",
              "      <td>NaN</td>\n",
              "      <td>NaN</td>\n",
              "      <td>NaN</td>\n",
              "    </tr>\n",
              "    <tr>\n",
              "      <th>83096</th>\n",
              "      <td>346788</td>\n",
              "      <td>ZZ-0003</td>\n",
              "      <td>small_airport</td>\n",
              "      <td>Fainting Goat Airport</td>\n",
              "      <td>32.110587</td>\n",
              "      <td>-97.356312</td>\n",
              "      <td>690.0</td>\n",
              "      <td>NaN</td>\n",
              "      <td>US</td>\n",
              "      <td>US-TX</td>\n",
              "      <td>Blum</td>\n",
              "      <td>no</td>\n",
              "      <td>NaN</td>\n",
              "      <td>NaN</td>\n",
              "      <td>87TX</td>\n",
              "      <td>87TX</td>\n",
              "      <td>NaN</td>\n",
              "      <td>NaN</td>\n",
              "      <td>NaN</td>\n",
              "    </tr>\n",
              "    <tr>\n",
              "      <th>83097</th>\n",
              "      <td>313629</td>\n",
              "      <td>ZZZZ</td>\n",
              "      <td>small_airport</td>\n",
              "      <td>Satsuma Iōjima Airport</td>\n",
              "      <td>30.784722</td>\n",
              "      <td>130.270556</td>\n",
              "      <td>338.0</td>\n",
              "      <td>AS</td>\n",
              "      <td>JP</td>\n",
              "      <td>JP-46</td>\n",
              "      <td>Mishima</td>\n",
              "      <td>no</td>\n",
              "      <td>NaN</td>\n",
              "      <td>NaN</td>\n",
              "      <td>RJX7</td>\n",
              "      <td>RJX7</td>\n",
              "      <td>NaN</td>\n",
              "      <td>http://wikimapia.org/6705190/Satsuma-Iwo-jima-...</td>\n",
              "      <td>SATSUMA,IWOJIMA,RJX7</td>\n",
              "    </tr>\n",
              "  </tbody>\n",
              "</table>\n",
              "</div>\n",
              "    <div class=\"colab-df-buttons\">\n",
              "\n",
              "  <div class=\"colab-df-container\">\n",
              "    <button class=\"colab-df-convert\" onclick=\"convertToInteractive('df-82d1df50-99f6-4762-a66d-418ab3465f42')\"\n",
              "            title=\"Convert this dataframe to an interactive table.\"\n",
              "            style=\"display:none;\">\n",
              "\n",
              "  <svg xmlns=\"http://www.w3.org/2000/svg\" height=\"24px\" viewBox=\"0 -960 960 960\">\n",
              "    <path d=\"M120-120v-720h720v720H120Zm60-500h600v-160H180v160Zm220 220h160v-160H400v160Zm0 220h160v-160H400v160ZM180-400h160v-160H180v160Zm440 0h160v-160H620v160ZM180-180h160v-160H180v160Zm440 0h160v-160H620v160Z\"/>\n",
              "  </svg>\n",
              "    </button>\n",
              "\n",
              "  <style>\n",
              "    .colab-df-container {\n",
              "      display:flex;\n",
              "      gap: 12px;\n",
              "    }\n",
              "\n",
              "    .colab-df-convert {\n",
              "      background-color: #E8F0FE;\n",
              "      border: none;\n",
              "      border-radius: 50%;\n",
              "      cursor: pointer;\n",
              "      display: none;\n",
              "      fill: #1967D2;\n",
              "      height: 32px;\n",
              "      padding: 0 0 0 0;\n",
              "      width: 32px;\n",
              "    }\n",
              "\n",
              "    .colab-df-convert:hover {\n",
              "      background-color: #E2EBFA;\n",
              "      box-shadow: 0px 1px 2px rgba(60, 64, 67, 0.3), 0px 1px 3px 1px rgba(60, 64, 67, 0.15);\n",
              "      fill: #174EA6;\n",
              "    }\n",
              "\n",
              "    .colab-df-buttons div {\n",
              "      margin-bottom: 4px;\n",
              "    }\n",
              "\n",
              "    [theme=dark] .colab-df-convert {\n",
              "      background-color: #3B4455;\n",
              "      fill: #D2E3FC;\n",
              "    }\n",
              "\n",
              "    [theme=dark] .colab-df-convert:hover {\n",
              "      background-color: #434B5C;\n",
              "      box-shadow: 0px 1px 3px 1px rgba(0, 0, 0, 0.15);\n",
              "      filter: drop-shadow(0px 1px 2px rgba(0, 0, 0, 0.3));\n",
              "      fill: #FFFFFF;\n",
              "    }\n",
              "  </style>\n",
              "\n",
              "    <script>\n",
              "      const buttonEl =\n",
              "        document.querySelector('#df-82d1df50-99f6-4762-a66d-418ab3465f42 button.colab-df-convert');\n",
              "      buttonEl.style.display =\n",
              "        google.colab.kernel.accessAllowed ? 'block' : 'none';\n",
              "\n",
              "      async function convertToInteractive(key) {\n",
              "        const element = document.querySelector('#df-82d1df50-99f6-4762-a66d-418ab3465f42');\n",
              "        const dataTable =\n",
              "          await google.colab.kernel.invokeFunction('convertToInteractive',\n",
              "                                                    [key], {});\n",
              "        if (!dataTable) return;\n",
              "\n",
              "        const docLinkHtml = 'Like what you see? Visit the ' +\n",
              "          '<a target=\"_blank\" href=https://colab.research.google.com/notebooks/data_table.ipynb>data table notebook</a>'\n",
              "          + ' to learn more about interactive tables.';\n",
              "        element.innerHTML = '';\n",
              "        dataTable['output_type'] = 'display_data';\n",
              "        await google.colab.output.renderOutput(dataTable, element);\n",
              "        const docLink = document.createElement('div');\n",
              "        docLink.innerHTML = docLinkHtml;\n",
              "        element.appendChild(docLink);\n",
              "      }\n",
              "    </script>\n",
              "  </div>\n",
              "\n",
              "\n",
              "    <div id=\"df-74f8ac27-aa7b-453e-afe7-23cd8d56d27a\">\n",
              "      <button class=\"colab-df-quickchart\" onclick=\"quickchart('df-74f8ac27-aa7b-453e-afe7-23cd8d56d27a')\"\n",
              "                title=\"Suggest charts\"\n",
              "                style=\"display:none;\">\n",
              "\n",
              "<svg xmlns=\"http://www.w3.org/2000/svg\" height=\"24px\"viewBox=\"0 0 24 24\"\n",
              "     width=\"24px\">\n",
              "    <g>\n",
              "        <path d=\"M19 3H5c-1.1 0-2 .9-2 2v14c0 1.1.9 2 2 2h14c1.1 0 2-.9 2-2V5c0-1.1-.9-2-2-2zM9 17H7v-7h2v7zm4 0h-2V7h2v10zm4 0h-2v-4h2v4z\"/>\n",
              "    </g>\n",
              "</svg>\n",
              "      </button>\n",
              "\n",
              "<style>\n",
              "  .colab-df-quickchart {\n",
              "      --bg-color: #E8F0FE;\n",
              "      --fill-color: #1967D2;\n",
              "      --hover-bg-color: #E2EBFA;\n",
              "      --hover-fill-color: #174EA6;\n",
              "      --disabled-fill-color: #AAA;\n",
              "      --disabled-bg-color: #DDD;\n",
              "  }\n",
              "\n",
              "  [theme=dark] .colab-df-quickchart {\n",
              "      --bg-color: #3B4455;\n",
              "      --fill-color: #D2E3FC;\n",
              "      --hover-bg-color: #434B5C;\n",
              "      --hover-fill-color: #FFFFFF;\n",
              "      --disabled-bg-color: #3B4455;\n",
              "      --disabled-fill-color: #666;\n",
              "  }\n",
              "\n",
              "  .colab-df-quickchart {\n",
              "    background-color: var(--bg-color);\n",
              "    border: none;\n",
              "    border-radius: 50%;\n",
              "    cursor: pointer;\n",
              "    display: none;\n",
              "    fill: var(--fill-color);\n",
              "    height: 32px;\n",
              "    padding: 0;\n",
              "    width: 32px;\n",
              "  }\n",
              "\n",
              "  .colab-df-quickchart:hover {\n",
              "    background-color: var(--hover-bg-color);\n",
              "    box-shadow: 0 1px 2px rgba(60, 64, 67, 0.3), 0 1px 3px 1px rgba(60, 64, 67, 0.15);\n",
              "    fill: var(--button-hover-fill-color);\n",
              "  }\n",
              "\n",
              "  .colab-df-quickchart-complete:disabled,\n",
              "  .colab-df-quickchart-complete:disabled:hover {\n",
              "    background-color: var(--disabled-bg-color);\n",
              "    fill: var(--disabled-fill-color);\n",
              "    box-shadow: none;\n",
              "  }\n",
              "\n",
              "  .colab-df-spinner {\n",
              "    border: 2px solid var(--fill-color);\n",
              "    border-color: transparent;\n",
              "    border-bottom-color: var(--fill-color);\n",
              "    animation:\n",
              "      spin 1s steps(1) infinite;\n",
              "  }\n",
              "\n",
              "  @keyframes spin {\n",
              "    0% {\n",
              "      border-color: transparent;\n",
              "      border-bottom-color: var(--fill-color);\n",
              "      border-left-color: var(--fill-color);\n",
              "    }\n",
              "    20% {\n",
              "      border-color: transparent;\n",
              "      border-left-color: var(--fill-color);\n",
              "      border-top-color: var(--fill-color);\n",
              "    }\n",
              "    30% {\n",
              "      border-color: transparent;\n",
              "      border-left-color: var(--fill-color);\n",
              "      border-top-color: var(--fill-color);\n",
              "      border-right-color: var(--fill-color);\n",
              "    }\n",
              "    40% {\n",
              "      border-color: transparent;\n",
              "      border-right-color: var(--fill-color);\n",
              "      border-top-color: var(--fill-color);\n",
              "    }\n",
              "    60% {\n",
              "      border-color: transparent;\n",
              "      border-right-color: var(--fill-color);\n",
              "    }\n",
              "    80% {\n",
              "      border-color: transparent;\n",
              "      border-right-color: var(--fill-color);\n",
              "      border-bottom-color: var(--fill-color);\n",
              "    }\n",
              "    90% {\n",
              "      border-color: transparent;\n",
              "      border-bottom-color: var(--fill-color);\n",
              "    }\n",
              "  }\n",
              "</style>\n",
              "\n",
              "      <script>\n",
              "        async function quickchart(key) {\n",
              "          const quickchartButtonEl =\n",
              "            document.querySelector('#' + key + ' button');\n",
              "          quickchartButtonEl.disabled = true;  // To prevent multiple clicks.\n",
              "          quickchartButtonEl.classList.add('colab-df-spinner');\n",
              "          try {\n",
              "            const charts = await google.colab.kernel.invokeFunction(\n",
              "                'suggestCharts', [key], {});\n",
              "          } catch (error) {\n",
              "            console.error('Error during call to suggestCharts:', error);\n",
              "          }\n",
              "          quickchartButtonEl.classList.remove('colab-df-spinner');\n",
              "          quickchartButtonEl.classList.add('colab-df-quickchart-complete');\n",
              "        }\n",
              "        (() => {\n",
              "          let quickchartButtonEl =\n",
              "            document.querySelector('#df-74f8ac27-aa7b-453e-afe7-23cd8d56d27a button');\n",
              "          quickchartButtonEl.style.display =\n",
              "            google.colab.kernel.accessAllowed ? 'block' : 'none';\n",
              "        })();\n",
              "      </script>\n",
              "    </div>\n",
              "\n",
              "    </div>\n",
              "  </div>\n"
            ],
            "application/vnd.google.colaboratory.intrinsic+json": {
              "type": "dataframe",
              "repr_error": "Out of range float values are not JSON compliant: nan"
            }
          },
          "metadata": {},
          "execution_count": 96
        }
      ],
      "source": [
        "import pandas as pd\n",
        "infoairports=pd.read_csv(os.path.join(\"data\",\"airports.csv\"))\n",
        "\n",
        "# some rows\n",
        "\n",
        "infoairports.iloc[[0,1,2,3,-4,-3,-2,-1],:] #head and tail\n"
      ]
    },
    {
      "cell_type": "code",
      "source": [
        "infoairports['iso_country']"
      ],
      "metadata": {
        "colab": {
          "base_uri": "https://localhost:8080/",
          "height": 458
        },
        "id": "MaIDAV3NoaNn",
        "outputId": "008fea2a-1051-48e4-a9f2-a4065d739404"
      },
      "execution_count": 92,
      "outputs": [
        {
          "output_type": "execute_result",
          "data": {
            "text/plain": [
              "0        US\n",
              "1        US\n",
              "2        US\n",
              "3        US\n",
              "4        US\n",
              "         ..\n",
              "83093    CN\n",
              "83094    GB\n",
              "83095    TF\n",
              "83096    US\n",
              "83097    JP\n",
              "Name: iso_country, Length: 83098, dtype: object"
            ],
            "text/html": [
              "<div>\n",
              "<style scoped>\n",
              "    .dataframe tbody tr th:only-of-type {\n",
              "        vertical-align: middle;\n",
              "    }\n",
              "\n",
              "    .dataframe tbody tr th {\n",
              "        vertical-align: top;\n",
              "    }\n",
              "\n",
              "    .dataframe thead th {\n",
              "        text-align: right;\n",
              "    }\n",
              "</style>\n",
              "<table border=\"1\" class=\"dataframe\">\n",
              "  <thead>\n",
              "    <tr style=\"text-align: right;\">\n",
              "      <th></th>\n",
              "      <th>iso_country</th>\n",
              "    </tr>\n",
              "  </thead>\n",
              "  <tbody>\n",
              "    <tr>\n",
              "      <th>0</th>\n",
              "      <td>US</td>\n",
              "    </tr>\n",
              "    <tr>\n",
              "      <th>1</th>\n",
              "      <td>US</td>\n",
              "    </tr>\n",
              "    <tr>\n",
              "      <th>2</th>\n",
              "      <td>US</td>\n",
              "    </tr>\n",
              "    <tr>\n",
              "      <th>3</th>\n",
              "      <td>US</td>\n",
              "    </tr>\n",
              "    <tr>\n",
              "      <th>4</th>\n",
              "      <td>US</td>\n",
              "    </tr>\n",
              "    <tr>\n",
              "      <th>...</th>\n",
              "      <td>...</td>\n",
              "    </tr>\n",
              "    <tr>\n",
              "      <th>83093</th>\n",
              "      <td>CN</td>\n",
              "    </tr>\n",
              "    <tr>\n",
              "      <th>83094</th>\n",
              "      <td>GB</td>\n",
              "    </tr>\n",
              "    <tr>\n",
              "      <th>83095</th>\n",
              "      <td>TF</td>\n",
              "    </tr>\n",
              "    <tr>\n",
              "      <th>83096</th>\n",
              "      <td>US</td>\n",
              "    </tr>\n",
              "    <tr>\n",
              "      <th>83097</th>\n",
              "      <td>JP</td>\n",
              "    </tr>\n",
              "  </tbody>\n",
              "</table>\n",
              "<p>83098 rows × 1 columns</p>\n",
              "</div><br><label><b>dtype:</b> object</label>"
            ]
          },
          "metadata": {},
          "execution_count": 92
        }
      ]
    },
    {
      "cell_type": "code",
      "source": [
        "infoairports = infoairports[infoairports['iso_country'] == 'DE']"
      ],
      "metadata": {
        "id": "NFbIPk0UpPwX"
      },
      "execution_count": 97,
      "outputs": []
    },
    {
      "cell_type": "markdown",
      "metadata": {
        "id": "186b6ca4-e5f0-4502-91b4-dea1021fcdd2"
      },
      "source": [
        "This needs some cleaning:"
      ]
    },
    {
      "cell_type": "code",
      "execution_count": 99,
      "metadata": {
        "id": "faf009a8-7a75-461c-ba05-0e5760c971ff",
        "colab": {
          "base_uri": "https://localhost:8080/",
          "height": 365
        },
        "outputId": "865785ff-bed0-412e-a426-8d55ab918aee"
      },
      "outputs": [
        {
          "output_type": "execute_result",
          "data": {
            "text/plain": [
              "       id    ident           type                   name  latitude_deg  \\\n",
              "1  332693  DE-0002         closed  Ahlhorn Highway Strip     52.929984   \n",
              "2  299694  DE-0003  small_airport  August Euler Airfield     49.853757   \n",
              "3   28576  DE-0004  small_airport       Gransee Airfield     53.006280   \n",
              "4  322973  DE-0005  small_airport       Warngau Airfield     47.823990   \n",
              "5   43128  DE-0006  small_airport       Locktow Airfield     52.116500   \n",
              "\n",
              "   longitude_deg  elevation_ft continent iso_country iso_region  municipality  \\\n",
              "1       8.173538           NaN        EU          DE      DE-NI  Großenkneten   \n",
              "2       8.586243         358.0        EU          DE      DE-HE     Griesheim   \n",
              "3      13.202177         164.0        EU          DE      DE-BR       Gransee   \n",
              "4      11.703980        2380.0        EU          DE      DE-BY       Warngau   \n",
              "5      12.709562         213.0        EU          DE      DE-BR      Planetal   \n",
              "\n",
              "  scheduled_service icao_code iata_code gps_code local_code  \\\n",
              "1                no       NaN       NaN      NaN        NaN   \n",
              "2                no       NaN       NaN     EDES        NaN   \n",
              "3                no      EDUG       NaN      NaN        NaN   \n",
              "4                no       NaN       NaN      NaN        NaN   \n",
              "5                no       NaN       NaN      NaN        NaN   \n",
              "\n",
              "                                           home_link  \\\n",
              "1                                                NaN   \n",
              "2  https://web.archive.org/web/20201019233127/htt...   \n",
              "3                              http://www.gojump.de/   \n",
              "4                  http://www.fliegerclub-warngau.de   \n",
              "5                                                NaN   \n",
              "\n",
              "                                    wikipedia_link  \\\n",
              "1                                              NaN   \n",
              "2  https://en.wikipedia.org/wiki/Griesheim_Airport   \n",
              "3  https://de.wikipedia.org/wiki/Flugplatz_Gransee   \n",
              "4                                              NaN   \n",
              "5                                              NaN   \n",
              "\n",
              "                                         keywords  \n",
              "1              Ahlhorn Autobahn-Notlandeplatz NLP  \n",
              "2  ZCS, August-Euler Flugplatz, Griesheim Airport  \n",
              "3                                             NaN  \n",
              "4                         münchen, munich, wargau  \n",
              "5                        Sonderlandeplatz Locktow  "
            ],
            "text/html": [
              "\n",
              "  <div id=\"df-e204ca26-8455-4ee6-9cf5-ee8e7577acf2\" class=\"colab-df-container\">\n",
              "    <div>\n",
              "<style scoped>\n",
              "    .dataframe tbody tr th:only-of-type {\n",
              "        vertical-align: middle;\n",
              "    }\n",
              "\n",
              "    .dataframe tbody tr th {\n",
              "        vertical-align: top;\n",
              "    }\n",
              "\n",
              "    .dataframe thead th {\n",
              "        text-align: right;\n",
              "    }\n",
              "</style>\n",
              "<table border=\"1\" class=\"dataframe\">\n",
              "  <thead>\n",
              "    <tr style=\"text-align: right;\">\n",
              "      <th></th>\n",
              "      <th>id</th>\n",
              "      <th>ident</th>\n",
              "      <th>type</th>\n",
              "      <th>name</th>\n",
              "      <th>latitude_deg</th>\n",
              "      <th>longitude_deg</th>\n",
              "      <th>elevation_ft</th>\n",
              "      <th>continent</th>\n",
              "      <th>iso_country</th>\n",
              "      <th>iso_region</th>\n",
              "      <th>municipality</th>\n",
              "      <th>scheduled_service</th>\n",
              "      <th>icao_code</th>\n",
              "      <th>iata_code</th>\n",
              "      <th>gps_code</th>\n",
              "      <th>local_code</th>\n",
              "      <th>home_link</th>\n",
              "      <th>wikipedia_link</th>\n",
              "      <th>keywords</th>\n",
              "    </tr>\n",
              "  </thead>\n",
              "  <tbody>\n",
              "    <tr>\n",
              "      <th>1</th>\n",
              "      <td>332693</td>\n",
              "      <td>DE-0002</td>\n",
              "      <td>closed</td>\n",
              "      <td>Ahlhorn Highway Strip</td>\n",
              "      <td>52.929984</td>\n",
              "      <td>8.173538</td>\n",
              "      <td>NaN</td>\n",
              "      <td>EU</td>\n",
              "      <td>DE</td>\n",
              "      <td>DE-NI</td>\n",
              "      <td>Großenkneten</td>\n",
              "      <td>no</td>\n",
              "      <td>NaN</td>\n",
              "      <td>NaN</td>\n",
              "      <td>NaN</td>\n",
              "      <td>NaN</td>\n",
              "      <td>NaN</td>\n",
              "      <td>NaN</td>\n",
              "      <td>Ahlhorn Autobahn-Notlandeplatz NLP</td>\n",
              "    </tr>\n",
              "    <tr>\n",
              "      <th>2</th>\n",
              "      <td>299694</td>\n",
              "      <td>DE-0003</td>\n",
              "      <td>small_airport</td>\n",
              "      <td>August Euler Airfield</td>\n",
              "      <td>49.853757</td>\n",
              "      <td>8.586243</td>\n",
              "      <td>358.0</td>\n",
              "      <td>EU</td>\n",
              "      <td>DE</td>\n",
              "      <td>DE-HE</td>\n",
              "      <td>Griesheim</td>\n",
              "      <td>no</td>\n",
              "      <td>NaN</td>\n",
              "      <td>NaN</td>\n",
              "      <td>EDES</td>\n",
              "      <td>NaN</td>\n",
              "      <td>https://web.archive.org/web/20201019233127/htt...</td>\n",
              "      <td>https://en.wikipedia.org/wiki/Griesheim_Airport</td>\n",
              "      <td>ZCS, August-Euler Flugplatz, Griesheim Airport</td>\n",
              "    </tr>\n",
              "    <tr>\n",
              "      <th>3</th>\n",
              "      <td>28576</td>\n",
              "      <td>DE-0004</td>\n",
              "      <td>small_airport</td>\n",
              "      <td>Gransee Airfield</td>\n",
              "      <td>53.006280</td>\n",
              "      <td>13.202177</td>\n",
              "      <td>164.0</td>\n",
              "      <td>EU</td>\n",
              "      <td>DE</td>\n",
              "      <td>DE-BR</td>\n",
              "      <td>Gransee</td>\n",
              "      <td>no</td>\n",
              "      <td>EDUG</td>\n",
              "      <td>NaN</td>\n",
              "      <td>NaN</td>\n",
              "      <td>NaN</td>\n",
              "      <td>http://www.gojump.de/</td>\n",
              "      <td>https://de.wikipedia.org/wiki/Flugplatz_Gransee</td>\n",
              "      <td>NaN</td>\n",
              "    </tr>\n",
              "    <tr>\n",
              "      <th>4</th>\n",
              "      <td>322973</td>\n",
              "      <td>DE-0005</td>\n",
              "      <td>small_airport</td>\n",
              "      <td>Warngau Airfield</td>\n",
              "      <td>47.823990</td>\n",
              "      <td>11.703980</td>\n",
              "      <td>2380.0</td>\n",
              "      <td>EU</td>\n",
              "      <td>DE</td>\n",
              "      <td>DE-BY</td>\n",
              "      <td>Warngau</td>\n",
              "      <td>no</td>\n",
              "      <td>NaN</td>\n",
              "      <td>NaN</td>\n",
              "      <td>NaN</td>\n",
              "      <td>NaN</td>\n",
              "      <td>http://www.fliegerclub-warngau.de</td>\n",
              "      <td>NaN</td>\n",
              "      <td>münchen, munich, wargau</td>\n",
              "    </tr>\n",
              "    <tr>\n",
              "      <th>5</th>\n",
              "      <td>43128</td>\n",
              "      <td>DE-0006</td>\n",
              "      <td>small_airport</td>\n",
              "      <td>Locktow Airfield</td>\n",
              "      <td>52.116500</td>\n",
              "      <td>12.709562</td>\n",
              "      <td>213.0</td>\n",
              "      <td>EU</td>\n",
              "      <td>DE</td>\n",
              "      <td>DE-BR</td>\n",
              "      <td>Planetal</td>\n",
              "      <td>no</td>\n",
              "      <td>NaN</td>\n",
              "      <td>NaN</td>\n",
              "      <td>NaN</td>\n",
              "      <td>NaN</td>\n",
              "      <td>NaN</td>\n",
              "      <td>NaN</td>\n",
              "      <td>Sonderlandeplatz Locktow</td>\n",
              "    </tr>\n",
              "  </tbody>\n",
              "</table>\n",
              "</div>\n",
              "    <div class=\"colab-df-buttons\">\n",
              "\n",
              "  <div class=\"colab-df-container\">\n",
              "    <button class=\"colab-df-convert\" onclick=\"convertToInteractive('df-e204ca26-8455-4ee6-9cf5-ee8e7577acf2')\"\n",
              "            title=\"Convert this dataframe to an interactive table.\"\n",
              "            style=\"display:none;\">\n",
              "\n",
              "  <svg xmlns=\"http://www.w3.org/2000/svg\" height=\"24px\" viewBox=\"0 -960 960 960\">\n",
              "    <path d=\"M120-120v-720h720v720H120Zm60-500h600v-160H180v160Zm220 220h160v-160H400v160Zm0 220h160v-160H400v160ZM180-400h160v-160H180v160Zm440 0h160v-160H620v160ZM180-180h160v-160H180v160Zm440 0h160v-160H620v160Z\"/>\n",
              "  </svg>\n",
              "    </button>\n",
              "\n",
              "  <style>\n",
              "    .colab-df-container {\n",
              "      display:flex;\n",
              "      gap: 12px;\n",
              "    }\n",
              "\n",
              "    .colab-df-convert {\n",
              "      background-color: #E8F0FE;\n",
              "      border: none;\n",
              "      border-radius: 50%;\n",
              "      cursor: pointer;\n",
              "      display: none;\n",
              "      fill: #1967D2;\n",
              "      height: 32px;\n",
              "      padding: 0 0 0 0;\n",
              "      width: 32px;\n",
              "    }\n",
              "\n",
              "    .colab-df-convert:hover {\n",
              "      background-color: #E2EBFA;\n",
              "      box-shadow: 0px 1px 2px rgba(60, 64, 67, 0.3), 0px 1px 3px 1px rgba(60, 64, 67, 0.15);\n",
              "      fill: #174EA6;\n",
              "    }\n",
              "\n",
              "    .colab-df-buttons div {\n",
              "      margin-bottom: 4px;\n",
              "    }\n",
              "\n",
              "    [theme=dark] .colab-df-convert {\n",
              "      background-color: #3B4455;\n",
              "      fill: #D2E3FC;\n",
              "    }\n",
              "\n",
              "    [theme=dark] .colab-df-convert:hover {\n",
              "      background-color: #434B5C;\n",
              "      box-shadow: 0px 1px 3px 1px rgba(0, 0, 0, 0.15);\n",
              "      filter: drop-shadow(0px 1px 2px rgba(0, 0, 0, 0.3));\n",
              "      fill: #FFFFFF;\n",
              "    }\n",
              "  </style>\n",
              "\n",
              "    <script>\n",
              "      const buttonEl =\n",
              "        document.querySelector('#df-e204ca26-8455-4ee6-9cf5-ee8e7577acf2 button.colab-df-convert');\n",
              "      buttonEl.style.display =\n",
              "        google.colab.kernel.accessAllowed ? 'block' : 'none';\n",
              "\n",
              "      async function convertToInteractive(key) {\n",
              "        const element = document.querySelector('#df-e204ca26-8455-4ee6-9cf5-ee8e7577acf2');\n",
              "        const dataTable =\n",
              "          await google.colab.kernel.invokeFunction('convertToInteractive',\n",
              "                                                    [key], {});\n",
              "        if (!dataTable) return;\n",
              "\n",
              "        const docLinkHtml = 'Like what you see? Visit the ' +\n",
              "          '<a target=\"_blank\" href=https://colab.research.google.com/notebooks/data_table.ipynb>data table notebook</a>'\n",
              "          + ' to learn more about interactive tables.';\n",
              "        element.innerHTML = '';\n",
              "        dataTable['output_type'] = 'display_data';\n",
              "        await google.colab.output.renderOutput(dataTable, element);\n",
              "        const docLink = document.createElement('div');\n",
              "        docLink.innerHTML = docLinkHtml;\n",
              "        element.appendChild(docLink);\n",
              "      }\n",
              "    </script>\n",
              "  </div>\n",
              "\n",
              "\n",
              "    <div id=\"df-06e7d55a-a7c6-4537-b43a-4969db87759c\">\n",
              "      <button class=\"colab-df-quickchart\" onclick=\"quickchart('df-06e7d55a-a7c6-4537-b43a-4969db87759c')\"\n",
              "                title=\"Suggest charts\"\n",
              "                style=\"display:none;\">\n",
              "\n",
              "<svg xmlns=\"http://www.w3.org/2000/svg\" height=\"24px\"viewBox=\"0 0 24 24\"\n",
              "     width=\"24px\">\n",
              "    <g>\n",
              "        <path d=\"M19 3H5c-1.1 0-2 .9-2 2v14c0 1.1.9 2 2 2h14c1.1 0 2-.9 2-2V5c0-1.1-.9-2-2-2zM9 17H7v-7h2v7zm4 0h-2V7h2v10zm4 0h-2v-4h2v4z\"/>\n",
              "    </g>\n",
              "</svg>\n",
              "      </button>\n",
              "\n",
              "<style>\n",
              "  .colab-df-quickchart {\n",
              "      --bg-color: #E8F0FE;\n",
              "      --fill-color: #1967D2;\n",
              "      --hover-bg-color: #E2EBFA;\n",
              "      --hover-fill-color: #174EA6;\n",
              "      --disabled-fill-color: #AAA;\n",
              "      --disabled-bg-color: #DDD;\n",
              "  }\n",
              "\n",
              "  [theme=dark] .colab-df-quickchart {\n",
              "      --bg-color: #3B4455;\n",
              "      --fill-color: #D2E3FC;\n",
              "      --hover-bg-color: #434B5C;\n",
              "      --hover-fill-color: #FFFFFF;\n",
              "      --disabled-bg-color: #3B4455;\n",
              "      --disabled-fill-color: #666;\n",
              "  }\n",
              "\n",
              "  .colab-df-quickchart {\n",
              "    background-color: var(--bg-color);\n",
              "    border: none;\n",
              "    border-radius: 50%;\n",
              "    cursor: pointer;\n",
              "    display: none;\n",
              "    fill: var(--fill-color);\n",
              "    height: 32px;\n",
              "    padding: 0;\n",
              "    width: 32px;\n",
              "  }\n",
              "\n",
              "  .colab-df-quickchart:hover {\n",
              "    background-color: var(--hover-bg-color);\n",
              "    box-shadow: 0 1px 2px rgba(60, 64, 67, 0.3), 0 1px 3px 1px rgba(60, 64, 67, 0.15);\n",
              "    fill: var(--button-hover-fill-color);\n",
              "  }\n",
              "\n",
              "  .colab-df-quickchart-complete:disabled,\n",
              "  .colab-df-quickchart-complete:disabled:hover {\n",
              "    background-color: var(--disabled-bg-color);\n",
              "    fill: var(--disabled-fill-color);\n",
              "    box-shadow: none;\n",
              "  }\n",
              "\n",
              "  .colab-df-spinner {\n",
              "    border: 2px solid var(--fill-color);\n",
              "    border-color: transparent;\n",
              "    border-bottom-color: var(--fill-color);\n",
              "    animation:\n",
              "      spin 1s steps(1) infinite;\n",
              "  }\n",
              "\n",
              "  @keyframes spin {\n",
              "    0% {\n",
              "      border-color: transparent;\n",
              "      border-bottom-color: var(--fill-color);\n",
              "      border-left-color: var(--fill-color);\n",
              "    }\n",
              "    20% {\n",
              "      border-color: transparent;\n",
              "      border-left-color: var(--fill-color);\n",
              "      border-top-color: var(--fill-color);\n",
              "    }\n",
              "    30% {\n",
              "      border-color: transparent;\n",
              "      border-left-color: var(--fill-color);\n",
              "      border-top-color: var(--fill-color);\n",
              "      border-right-color: var(--fill-color);\n",
              "    }\n",
              "    40% {\n",
              "      border-color: transparent;\n",
              "      border-right-color: var(--fill-color);\n",
              "      border-top-color: var(--fill-color);\n",
              "    }\n",
              "    60% {\n",
              "      border-color: transparent;\n",
              "      border-right-color: var(--fill-color);\n",
              "    }\n",
              "    80% {\n",
              "      border-color: transparent;\n",
              "      border-right-color: var(--fill-color);\n",
              "      border-bottom-color: var(--fill-color);\n",
              "    }\n",
              "    90% {\n",
              "      border-color: transparent;\n",
              "      border-bottom-color: var(--fill-color);\n",
              "    }\n",
              "  }\n",
              "</style>\n",
              "\n",
              "      <script>\n",
              "        async function quickchart(key) {\n",
              "          const quickchartButtonEl =\n",
              "            document.querySelector('#' + key + ' button');\n",
              "          quickchartButtonEl.disabled = true;  // To prevent multiple clicks.\n",
              "          quickchartButtonEl.classList.add('colab-df-spinner');\n",
              "          try {\n",
              "            const charts = await google.colab.kernel.invokeFunction(\n",
              "                'suggestCharts', [key], {});\n",
              "          } catch (error) {\n",
              "            console.error('Error during call to suggestCharts:', error);\n",
              "          }\n",
              "          quickchartButtonEl.classList.remove('colab-df-spinner');\n",
              "          quickchartButtonEl.classList.add('colab-df-quickchart-complete');\n",
              "        }\n",
              "        (() => {\n",
              "          let quickchartButtonEl =\n",
              "            document.querySelector('#df-06e7d55a-a7c6-4537-b43a-4969db87759c button');\n",
              "          quickchartButtonEl.style.display =\n",
              "            google.colab.kernel.accessAllowed ? 'block' : 'none';\n",
              "        })();\n",
              "      </script>\n",
              "    </div>\n",
              "\n",
              "    </div>\n",
              "  </div>\n"
            ],
            "application/vnd.google.colaboratory.intrinsic+json": {
              "type": "dataframe",
              "variable_name": "infoairports",
              "summary": "{\n  \"name\": \"infoairports\",\n  \"rows\": 1398,\n  \"fields\": [\n    {\n      \"column\": \"id\",\n      \"properties\": {\n        \"dtype\": \"number\",\n        \"std\": 204292,\n        \"min\": 2183,\n        \"max\": 597934,\n        \"num_unique_values\": 1398,\n        \"samples\": [\n          309513,\n          354463,\n          320634\n        ],\n        \"semantic_type\": \"\",\n        \"description\": \"\"\n      }\n    },\n    {\n      \"column\": \"ident\",\n      \"properties\": {\n        \"dtype\": \"string\",\n        \"num_unique_values\": 1398,\n        \"samples\": [\n          \"DE-0080\",\n          \"DE-0481\",\n          \"DE-0357\"\n        ],\n        \"semantic_type\": \"\",\n        \"description\": \"\"\n      }\n    },\n    {\n      \"column\": \"type\",\n      \"properties\": {\n        \"dtype\": \"category\",\n        \"num_unique_values\": 7,\n        \"samples\": [\n          \"closed\",\n          \"small_airport\",\n          \"large_airport\"\n        ],\n        \"semantic_type\": \"\",\n        \"description\": \"\"\n      }\n    },\n    {\n      \"column\": \"name\",\n      \"properties\": {\n        \"dtype\": \"string\",\n        \"num_unique_values\": 1398,\n        \"samples\": [\n          \"F\\u00fcrth-Seckendorf Airfield\",\n          \"Eschborn Air Base\",\n          \"Brauna Airfield\"\n        ],\n        \"semantic_type\": \"\",\n        \"description\": \"\"\n      }\n    },\n    {\n      \"column\": \"latitude_deg\",\n      \"properties\": {\n        \"dtype\": \"number\",\n        \"std\": 1.7350345959218243,\n        \"min\": 47.43736,\n        \"max\": 54.9132,\n        \"num_unique_values\": 1398,\n        \"samples\": [\n          49.48152,\n          50.135764,\n          51.282857\n        ],\n        \"semantic_type\": \"\",\n        \"description\": \"\"\n      }\n    },\n    {\n      \"column\": \"longitude_deg\",\n      \"properties\": {\n        \"dtype\": \"number\",\n        \"std\": 2.058198734549266,\n        \"min\": 6.04242,\n        \"max\": 14.96984,\n        \"num_unique_values\": 1396,\n        \"samples\": [\n          13.68585,\n          10.218056,\n          11.7834\n        ],\n        \"semantic_type\": \"\",\n        \"description\": \"\"\n      }\n    },\n    {\n      \"column\": \"elevation_ft\",\n      \"properties\": {\n        \"dtype\": \"number\",\n        \"std\": 699.2454410804311,\n        \"min\": -10.0,\n        \"max\": 4541.0,\n        \"num_unique_values\": 762,\n        \"samples\": [\n          1355.0,\n          1610.0,\n          1870.0\n        ],\n        \"semantic_type\": \"\",\n        \"description\": \"\"\n      }\n    },\n    {\n      \"column\": \"continent\",\n      \"properties\": {\n        \"dtype\": \"category\",\n        \"num_unique_values\": 1,\n        \"samples\": [\n          \"EU\"\n        ],\n        \"semantic_type\": \"\",\n        \"description\": \"\"\n      }\n    },\n    {\n      \"column\": \"iso_country\",\n      \"properties\": {\n        \"dtype\": \"category\",\n        \"num_unique_values\": 1,\n        \"samples\": [\n          \"DE\"\n        ],\n        \"semantic_type\": \"\",\n        \"description\": \"\"\n      }\n    },\n    {\n      \"column\": \"iso_region\",\n      \"properties\": {\n        \"dtype\": \"category\",\n        \"num_unique_values\": 17,\n        \"samples\": [\n          \"DE-NI\"\n        ],\n        \"semantic_type\": \"\",\n        \"description\": \"\"\n      }\n    },\n    {\n      \"column\": \"municipality\",\n      \"properties\": {\n        \"dtype\": \"string\",\n        \"num_unique_values\": 1063,\n        \"samples\": [\n          \"Vilseck\"\n        ],\n        \"semantic_type\": \"\",\n        \"description\": \"\"\n      }\n    },\n    {\n      \"column\": \"scheduled_service\",\n      \"properties\": {\n        \"dtype\": \"category\",\n        \"num_unique_values\": 2,\n        \"samples\": [\n          \"yes\"\n        ],\n        \"semantic_type\": \"\",\n        \"description\": \"\"\n      }\n    },\n    {\n      \"column\": \"icao_code\",\n      \"properties\": {\n        \"dtype\": \"category\",\n        \"num_unique_values\": 107,\n        \"samples\": [\n          \"EDVK\"\n        ],\n        \"semantic_type\": \"\",\n        \"description\": \"\"\n      }\n    },\n    {\n      \"column\": \"iata_code\",\n      \"properties\": {\n        \"dtype\": \"category\",\n        \"num_unique_values\": 85,\n        \"samples\": [\n          \"KZG\"\n        ],\n        \"semantic_type\": \"\",\n        \"description\": \"\"\n      }\n    },\n    {\n      \"column\": \"gps_code\",\n      \"properties\": {\n        \"dtype\": \"category\",\n        \"num_unique_values\": 481,\n        \"samples\": [\n          \"EDCS\"\n        ],\n        \"semantic_type\": \"\",\n        \"description\": \"\"\n      }\n    },\n    {\n      \"column\": \"local_code\",\n      \"properties\": {\n        \"dtype\": \"category\",\n        \"num_unique_values\": 13,\n        \"samples\": [\n          \"IKHB\"\n        ],\n        \"semantic_type\": \"\",\n        \"description\": \"\"\n      }\n    },\n    {\n      \"column\": \"home_link\",\n      \"properties\": {\n        \"dtype\": \"category\",\n        \"num_unique_values\": 387,\n        \"samples\": [\n          \"https://www.flugplatz-schleissheim.de/\"\n        ],\n        \"semantic_type\": \"\",\n        \"description\": \"\"\n      }\n    },\n    {\n      \"column\": \"wikipedia_link\",\n      \"properties\": {\n        \"dtype\": \"category\",\n        \"num_unique_values\": 565,\n        \"samples\": [\n          \"https://en.wikipedia.org/wiki/Laupheim_Air_Base\"\n        ],\n        \"semantic_type\": \"\",\n        \"description\": \"\"\n      }\n    },\n    {\n      \"column\": \"keywords\",\n      \"properties\": {\n        \"dtype\": \"category\",\n        \"num_unique_values\": 474,\n        \"samples\": [\n          \"Flugplatz Tutow\"\n        ],\n        \"semantic_type\": \"\",\n        \"description\": \"\"\n      }\n    }\n  ]\n}"
            }
          },
          "metadata": {},
          "execution_count": 99
        }
      ],
      "source": [
        "# bye first row\n",
        "infoairports.reset_index(drop=True, inplace=True)\n",
        "infoairports.drop(index=0,inplace=True)\n",
        "infoairports.head()"
      ]
    },
    {
      "cell_type": "code",
      "execution_count": 100,
      "metadata": {
        "id": "5d857678-c28e-4988-86b4-2ee6b11efdba",
        "colab": {
          "base_uri": "https://localhost:8080/"
        },
        "outputId": "803486df-79a8-4399-d136-b79e8e05d56f"
      },
      "outputs": [
        {
          "output_type": "execute_result",
          "data": {
            "text/plain": [
              "Index(['id', 'ident', 'type', 'name', 'latitude_deg', 'longitude_deg',\n",
              "       'elevation_ft', 'continent', 'iso_country', 'iso_region',\n",
              "       'municipality', 'scheduled_service', 'icao_code', 'iata_code',\n",
              "       'gps_code', 'local_code', 'home_link', 'wikipedia_link', 'keywords'],\n",
              "      dtype='object')"
            ]
          },
          "metadata": {},
          "execution_count": 100
        }
      ],
      "source": [
        "# keep the  columns needed\n",
        "\n",
        "infoairports.columns\n"
      ]
    },
    {
      "cell_type": "code",
      "execution_count": 101,
      "metadata": {
        "id": "22dd51af-cad6-4aa3-843d-f2dbadefb990",
        "colab": {
          "base_uri": "https://localhost:8080/"
        },
        "outputId": "421c88c2-b51f-4058-b7b3-7a37e5cef55a"
      },
      "outputs": [
        {
          "output_type": "stream",
          "name": "stdout",
          "text": [
            "<class 'pandas.core.frame.DataFrame'>\n",
            "RangeIndex: 1398 entries, 1 to 1398\n",
            "Data columns (total 7 columns):\n",
            " #   Column         Non-Null Count  Dtype  \n",
            "---  ------         --------------  -----  \n",
            " 0   name           1398 non-null   object \n",
            " 1   type           1398 non-null   object \n",
            " 2   latitude_deg   1398 non-null   float64\n",
            " 3   longitude_deg  1398 non-null   float64\n",
            " 4   elevation_ft   1214 non-null   float64\n",
            " 5   iso_region     1398 non-null   object \n",
            " 6   municipality   1365 non-null   object \n",
            "dtypes: float64(3), object(4)\n",
            "memory usage: 76.6+ KB\n"
          ]
        }
      ],
      "source": [
        "keep=['name','type','latitude_deg', 'longitude_deg','elevation_ft','iso_region','municipality']\n",
        "infoairports=infoairports.loc[:,keep]\n",
        "\n",
        "infoairports.info()"
      ]
    },
    {
      "cell_type": "markdown",
      "metadata": {
        "id": "a9f96cbf-6d53-45d1-9c5d-e236d6e3e652"
      },
      "source": [
        "Some formatting:"
      ]
    },
    {
      "cell_type": "code",
      "execution_count": 102,
      "metadata": {
        "id": "b4cb8ee0-18a7-40c1-864b-cbc8086861c8"
      },
      "outputs": [],
      "source": [
        "numericCols=['latitude_deg', 'longitude_deg','elevation_ft']\n",
        "infoairports[numericCols]=infoairports.loc[:,numericCols].apply(lambda x:pd.to_numeric(x))"
      ]
    },
    {
      "cell_type": "code",
      "execution_count": 103,
      "metadata": {
        "id": "4e7f0d14-934f-4465-b42f-d0c60efb6d32",
        "colab": {
          "base_uri": "https://localhost:8080/"
        },
        "outputId": "2f261b52-2e5b-4fa4-87b4-e6c1831f9c00"
      },
      "outputs": [
        {
          "output_type": "stream",
          "name": "stdout",
          "text": [
            "<class 'pandas.core.frame.DataFrame'>\n",
            "RangeIndex: 1398 entries, 1 to 1398\n",
            "Data columns (total 7 columns):\n",
            " #   Column         Non-Null Count  Dtype  \n",
            "---  ------         --------------  -----  \n",
            " 0   name           1398 non-null   object \n",
            " 1   type           1398 non-null   object \n",
            " 2   latitude_deg   1398 non-null   float64\n",
            " 3   longitude_deg  1398 non-null   float64\n",
            " 4   elevation_ft   1214 non-null   float64\n",
            " 5   iso_region     1398 non-null   object \n",
            " 6   municipality   1365 non-null   object \n",
            "dtypes: float64(3), object(4)\n",
            "memory usage: 76.6+ KB\n"
          ]
        }
      ],
      "source": [
        "# now\n",
        "infoairports.info()"
      ]
    },
    {
      "cell_type": "code",
      "execution_count": 104,
      "metadata": {
        "id": "b340ab20-2258-41a2-bbd4-6b6c31d422a0",
        "colab": {
          "base_uri": "https://localhost:8080/",
          "height": 467
        },
        "outputId": "3bec588a-e238-491d-97a9-0e12ebb7a8ba"
      },
      "outputs": [
        {
          "output_type": "execute_result",
          "data": {
            "text/plain": [
              "<Axes: xlabel='longitude_deg', ylabel='latitude_deg'>"
            ]
          },
          "metadata": {},
          "execution_count": 104
        },
        {
          "output_type": "display_data",
          "data": {
            "text/plain": [
              "<Figure size 640x480 with 1 Axes>"
            ],
            "image/png": "[encoded data removed]"
          },
          "metadata": {}
        }
      ],
      "source": [
        "# let's plot\n",
        "\n",
        "base = Germany_5243.plot(color='white', edgecolor='black') #unprojected\n",
        "\n",
        "infoairports.plot.scatter(x = 'longitude_deg', y = 'latitude_deg',ax=base)"
      ]
    },
    {
      "cell_type": "markdown",
      "metadata": {
        "id": "77acc474-bb83-4174-9579-a8a641ff6adc"
      },
      "source": [
        "Why is it wrong?"
      ]
    },
    {
      "cell_type": "code",
      "execution_count": 105,
      "metadata": {
        "id": "7b04453e-c335-4857-8fff-6a26c2daf730",
        "colab": {
          "base_uri": "https://localhost:8080/",
          "height": 447
        },
        "outputId": "676a9703-8b5e-49d9-bf13-22a43fc895c1"
      },
      "outputs": [
        {
          "output_type": "execute_result",
          "data": {
            "text/plain": [
              "<Axes: >"
            ]
          },
          "metadata": {},
          "execution_count": 105
        },
        {
          "output_type": "display_data",
          "data": {
            "text/plain": [
              "<Figure size 640x480 with 1 Axes>"
            ],
            "image/png": "[encoded data removed]"
          },
          "metadata": {}
        }
      ],
      "source": [
        "airports=gpd.GeoDataFrame(data=infoairports.copy(),\n",
        "                 geometry=gpd.points_from_xy(infoairports.longitude_deg,\n",
        "                                             infoairports.latitude_deg),\n",
        "                 crs=Germany.crs.to_epsg())# the coordinates were in degrees - unprojected\n",
        "\n",
        "# let's plot\n",
        "\n",
        "base = Germany_5243.plot(color='white', edgecolor='black')\n",
        "airports.plot(ax=base)"
      ]
    },
    {
      "cell_type": "code",
      "execution_count": 106,
      "metadata": {
        "id": "755fb348-f7a6-4383-bd1c-54195e23eea2",
        "colab": {
          "base_uri": "https://localhost:8080/"
        },
        "outputId": "cfde5ad3-4fc1-411c-a98a-b51f7b26758d"
      },
      "outputs": [
        {
          "output_type": "execute_result",
          "data": {
            "text/plain": [
              "(geopandas.geodataframe.GeoDataFrame, pandas.core.frame.DataFrame)"
            ]
          },
          "metadata": {},
          "execution_count": 106
        }
      ],
      "source": [
        "#remember:\n",
        "type(airports), type(infoairports)"
      ]
    },
    {
      "cell_type": "markdown",
      "metadata": {
        "id": "1bfd9c61-b4cf-4de2-8d65-cfce0f82a8a2"
      },
      "source": [
        "Let's re project!"
      ]
    },
    {
      "cell_type": "code",
      "execution_count": 107,
      "metadata": {
        "id": "a6791c26-5306-4cc3-86cb-8a42fba88276",
        "colab": {
          "base_uri": "https://localhost:8080/",
          "height": 447
        },
        "outputId": "cb0b2af1-0a12-444b-b420-5b7889d20582"
      },
      "outputs": [
        {
          "output_type": "execute_result",
          "data": {
            "text/plain": [
              "<Axes: >"
            ]
          },
          "metadata": {},
          "execution_count": 107
        },
        {
          "output_type": "display_data",
          "data": {
            "text/plain": [
              "<Figure size 640x480 with 1 Axes>"
            ],
            "image/png": "[encoded data removed]"
          },
          "metadata": {}
        }
      ],
      "source": [
        "airports_5243=airports.to_crs(5243)\n",
        "\n",
        "## then\n",
        "\n",
        "base = Germany_5243.plot(color='white', edgecolor='black')\n",
        "airports_5243.plot(ax=base)"
      ]
    },
    {
      "cell_type": "markdown",
      "metadata": {
        "id": "980c890f-bcdb-4a11-b926-f587df9cace2"
      },
      "source": [
        "Remember you have type of airports:"
      ]
    },
    {
      "cell_type": "code",
      "execution_count": 108,
      "metadata": {
        "id": "5d44ab9b-d949-4976-af37-5b80786459f3",
        "colab": {
          "base_uri": "https://localhost:8080/",
          "height": 335
        },
        "outputId": "da8247ea-0364-43c2-f84b-034aa7ef9a6d"
      },
      "outputs": [
        {
          "output_type": "execute_result",
          "data": {
            "text/plain": [
              "type\n",
              "small_airport     768\n",
              "heliport          450\n",
              "closed            105\n",
              "medium_airport     62\n",
              "large_airport      10\n",
              "balloonport         2\n",
              "seaplane_base       1\n",
              "Name: count, dtype: int64"
            ],
            "text/html": [
              "<div>\n",
              "<style scoped>\n",
              "    .dataframe tbody tr th:only-of-type {\n",
              "        vertical-align: middle;\n",
              "    }\n",
              "\n",
              "    .dataframe tbody tr th {\n",
              "        vertical-align: top;\n",
              "    }\n",
              "\n",
              "    .dataframe thead th {\n",
              "        text-align: right;\n",
              "    }\n",
              "</style>\n",
              "<table border=\"1\" class=\"dataframe\">\n",
              "  <thead>\n",
              "    <tr style=\"text-align: right;\">\n",
              "      <th></th>\n",
              "      <th>count</th>\n",
              "    </tr>\n",
              "    <tr>\n",
              "      <th>type</th>\n",
              "      <th></th>\n",
              "    </tr>\n",
              "  </thead>\n",
              "  <tbody>\n",
              "    <tr>\n",
              "      <th>small_airport</th>\n",
              "      <td>768</td>\n",
              "    </tr>\n",
              "    <tr>\n",
              "      <th>heliport</th>\n",
              "      <td>450</td>\n",
              "    </tr>\n",
              "    <tr>\n",
              "      <th>closed</th>\n",
              "      <td>105</td>\n",
              "    </tr>\n",
              "    <tr>\n",
              "      <th>medium_airport</th>\n",
              "      <td>62</td>\n",
              "    </tr>\n",
              "    <tr>\n",
              "      <th>large_airport</th>\n",
              "      <td>10</td>\n",
              "    </tr>\n",
              "    <tr>\n",
              "      <th>balloonport</th>\n",
              "      <td>2</td>\n",
              "    </tr>\n",
              "    <tr>\n",
              "      <th>seaplane_base</th>\n",
              "      <td>1</td>\n",
              "    </tr>\n",
              "  </tbody>\n",
              "</table>\n",
              "</div><br><label><b>dtype:</b> int64</label>"
            ]
          },
          "metadata": {},
          "execution_count": 108
        }
      ],
      "source": [
        "airports_5243['type'].value_counts() # this will not work: airports.type.value_counts()"
      ]
    },
    {
      "cell_type": "markdown",
      "metadata": {
        "id": "d6e6386d-2636-4194-a79b-594ece5958d0"
      },
      "source": [
        "We may use that in the future. For now, just rename the **type** column to a different one."
      ]
    },
    {
      "cell_type": "code",
      "execution_count": 109,
      "metadata": {
        "id": "576e913d-62e9-45a0-ba8c-58ba2504a052"
      },
      "outputs": [],
      "source": [
        "airports_5243.rename(columns={'type':'kind'},inplace=True)\n",
        "\n",
        "## adding the airports to GPKG\n",
        "airports_5243.to_file(os.path.join(\"maps\",\"GermanylMaps_5243.gpkg\"), layer='airports', driver=\"GPKG\")"
      ]
    },
    {
      "cell_type": "markdown",
      "metadata": {
        "id": "90565e2b-836a-4495-95da-2b722ae43b5d"
      },
      "source": [
        "### Exercise 2\n",
        "<div class=\"alert-success\">\n",
        "\n",
        "1. Find the airports for your country [here](https://ourairports.com/data/). The data is in a CSV file.\n",
        "2. Create projected layer of airports.\n",
        "3. Plot all the layers and airports on top.\n",
        "    \n",
        "</div>"
      ]
    },
    {
      "cell_type": "markdown",
      "metadata": {
        "id": "1a244be3"
      },
      "source": [
        "<a class=\"anchor\" id=\"11\"></a>\n",
        "\n",
        "## Formating Geoseries projections\n",
        "\n"
      ]
    },
    {
      "cell_type": "markdown",
      "metadata": {
        "id": "56f39f71"
      },
      "source": [
        "You know **brazil_5641** is a multipolygon:"
      ]
    },
    {
      "cell_type": "code",
      "execution_count": 110,
      "metadata": {
        "id": "0c0f557c",
        "colab": {
          "base_uri": "https://localhost:8080/",
          "height": 89
        },
        "outputId": "52a86f00-ef7c-42fe-da1d-0e09b1dfaac1"
      },
      "outputs": [
        {
          "output_type": "execute_result",
          "data": {
            "text/plain": [
              "    COUNTRY                                           geometry\n",
              "87  Germany  MULTIPOLYGON (((-228178.47 -198681.783, -22862..."
            ],
            "text/html": [
              "\n",
              "  <div id=\"df-4b26f804-eae1-442e-b7f1-f396f6062e54\" class=\"colab-df-container\">\n",
              "    <div>\n",
              "<style scoped>\n",
              "    .dataframe tbody tr th:only-of-type {\n",
              "        vertical-align: middle;\n",
              "    }\n",
              "\n",
              "    .dataframe tbody tr th {\n",
              "        vertical-align: top;\n",
              "    }\n",
              "\n",
              "    .dataframe thead th {\n",
              "        text-align: right;\n",
              "    }\n",
              "</style>\n",
              "<table border=\"1\" class=\"dataframe\">\n",
              "  <thead>\n",
              "    <tr style=\"text-align: right;\">\n",
              "      <th></th>\n",
              "      <th>COUNTRY</th>\n",
              "      <th>geometry</th>\n",
              "    </tr>\n",
              "  </thead>\n",
              "  <tbody>\n",
              "    <tr>\n",
              "      <th>87</th>\n",
              "      <td>Germany</td>\n",
              "      <td>MULTIPOLYGON (((-228178.47 -198681.783, -22862...</td>\n",
              "    </tr>\n",
              "  </tbody>\n",
              "</table>\n",
              "</div>\n",
              "    <div class=\"colab-df-buttons\">\n",
              "\n",
              "  <div class=\"colab-df-container\">\n",
              "    <button class=\"colab-df-convert\" onclick=\"convertToInteractive('df-4b26f804-eae1-442e-b7f1-f396f6062e54')\"\n",
              "            title=\"Convert this dataframe to an interactive table.\"\n",
              "            style=\"display:none;\">\n",
              "\n",
              "  <svg xmlns=\"http://www.w3.org/2000/svg\" height=\"24px\" viewBox=\"0 -960 960 960\">\n",
              "    <path d=\"M120-120v-720h720v720H120Zm60-500h600v-160H180v160Zm220 220h160v-160H400v160Zm0 220h160v-160H400v160ZM180-400h160v-160H180v160Zm440 0h160v-160H620v160ZM180-180h160v-160H180v160Zm440 0h160v-160H620v160Z\"/>\n",
              "  </svg>\n",
              "    </button>\n",
              "\n",
              "  <style>\n",
              "    .colab-df-container {\n",
              "      display:flex;\n",
              "      gap: 12px;\n",
              "    }\n",
              "\n",
              "    .colab-df-convert {\n",
              "      background-color: #E8F0FE;\n",
              "      border: none;\n",
              "      border-radius: 50%;\n",
              "      cursor: pointer;\n",
              "      display: none;\n",
              "      fill: #1967D2;\n",
              "      height: 32px;\n",
              "      padding: 0 0 0 0;\n",
              "      width: 32px;\n",
              "    }\n",
              "\n",
              "    .colab-df-convert:hover {\n",
              "      background-color: #E2EBFA;\n",
              "      box-shadow: 0px 1px 2px rgba(60, 64, 67, 0.3), 0px 1px 3px 1px rgba(60, 64, 67, 0.15);\n",
              "      fill: #174EA6;\n",
              "    }\n",
              "\n",
              "    .colab-df-buttons div {\n",
              "      margin-bottom: 4px;\n",
              "    }\n",
              "\n",
              "    [theme=dark] .colab-df-convert {\n",
              "      background-color: #3B4455;\n",
              "      fill: #D2E3FC;\n",
              "    }\n",
              "\n",
              "    [theme=dark] .colab-df-convert:hover {\n",
              "      background-color: #434B5C;\n",
              "      box-shadow: 0px 1px 3px 1px rgba(0, 0, 0, 0.15);\n",
              "      filter: drop-shadow(0px 1px 2px rgba(0, 0, 0, 0.3));\n",
              "      fill: #FFFFFF;\n",
              "    }\n",
              "  </style>\n",
              "\n",
              "    <script>\n",
              "      const buttonEl =\n",
              "        document.querySelector('#df-4b26f804-eae1-442e-b7f1-f396f6062e54 button.colab-df-convert');\n",
              "      buttonEl.style.display =\n",
              "        google.colab.kernel.accessAllowed ? 'block' : 'none';\n",
              "\n",
              "      async function convertToInteractive(key) {\n",
              "        const element = document.querySelector('#df-4b26f804-eae1-442e-b7f1-f396f6062e54');\n",
              "        const dataTable =\n",
              "          await google.colab.kernel.invokeFunction('convertToInteractive',\n",
              "                                                    [key], {});\n",
              "        if (!dataTable) return;\n",
              "\n",
              "        const docLinkHtml = 'Like what you see? Visit the ' +\n",
              "          '<a target=\"_blank\" href=https://colab.research.google.com/notebooks/data_table.ipynb>data table notebook</a>'\n",
              "          + ' to learn more about interactive tables.';\n",
              "        element.innerHTML = '';\n",
              "        dataTable['output_type'] = 'display_data';\n",
              "        await google.colab.output.renderOutput(dataTable, element);\n",
              "        const docLink = document.createElement('div');\n",
              "        docLink.innerHTML = docLinkHtml;\n",
              "        element.appendChild(docLink);\n",
              "      }\n",
              "    </script>\n",
              "  </div>\n",
              "\n",
              "\n",
              "  <div id=\"id_e594d4d4-feb7-4458-b69e-2b9a31dfdb7d\">\n",
              "    <style>\n",
              "      .colab-df-generate {\n",
              "        background-color: #E8F0FE;\n",
              "        border: none;\n",
              "        border-radius: 50%;\n",
              "        cursor: pointer;\n",
              "        display: none;\n",
              "        fill: #1967D2;\n",
              "        height: 32px;\n",
              "        padding: 0 0 0 0;\n",
              "        width: 32px;\n",
              "      }\n",
              "\n",
              "      .colab-df-generate:hover {\n",
              "        background-color: #E2EBFA;\n",
              "        box-shadow: 0px 1px 2px rgba(60, 64, 67, 0.3), 0px 1px 3px 1px rgba(60, 64, 67, 0.15);\n",
              "        fill: #174EA6;\n",
              "      }\n",
              "\n",
              "      [theme=dark] .colab-df-generate {\n",
              "        background-color: #3B4455;\n",
              "        fill: #D2E3FC;\n",
              "      }\n",
              "\n",
              "      [theme=dark] .colab-df-generate:hover {\n",
              "        background-color: #434B5C;\n",
              "        box-shadow: 0px 1px 3px 1px rgba(0, 0, 0, 0.15);\n",
              "        filter: drop-shadow(0px 1px 2px rgba(0, 0, 0, 0.3));\n",
              "        fill: #FFFFFF;\n",
              "      }\n",
              "    </style>\n",
              "    <button class=\"colab-df-generate\" onclick=\"generateWithVariable('Germany_5243')\"\n",
              "            title=\"Generate code using this dataframe.\"\n",
              "            style=\"display:none;\">\n",
              "\n",
              "  <svg xmlns=\"http://www.w3.org/2000/svg\" height=\"24px\"viewBox=\"0 0 24 24\"\n",
              "       width=\"24px\">\n",
              "    <path d=\"M7,19H8.4L18.45,9,17,7.55,7,17.6ZM5,21V16.75L18.45,3.32a2,2,0,0,1,2.83,0l1.4,1.43a1.91,1.91,0,0,1,.58,1.4,1.91,1.91,0,0,1-.58,1.4L9.25,21ZM18.45,9,17,7.55Zm-12,3A5.31,5.31,0,0,0,4.9,8.1,5.31,5.31,0,0,0,1,6.5,5.31,5.31,0,0,0,4.9,4.9,5.31,5.31,0,0,0,6.5,1,5.31,5.31,0,0,0,8.1,4.9,5.31,5.31,0,0,0,12,6.5,5.46,5.46,0,0,0,6.5,12Z\"/>\n",
              "  </svg>\n",
              "    </button>\n",
              "    <script>\n",
              "      (() => {\n",
              "      const buttonEl =\n",
              "        document.querySelector('#id_e594d4d4-feb7-4458-b69e-2b9a31dfdb7d button.colab-df-generate');\n",
              "      buttonEl.style.display =\n",
              "        google.colab.kernel.accessAllowed ? 'block' : 'none';\n",
              "\n",
              "      buttonEl.onclick = () => {\n",
              "        google.colab.notebook.generateWithVariable('Germany_5243');\n",
              "      }\n",
              "      })();\n",
              "    </script>\n",
              "  </div>\n",
              "\n",
              "    </div>\n",
              "  </div>\n"
            ],
            "application/vnd.google.colaboratory.intrinsic+json": {
              "type": "dataframe",
              "variable_name": "Germany_5243",
              "summary": "{\n  \"name\": \"Germany_5243\",\n  \"rows\": 1,\n  \"fields\": [\n    {\n      \"column\": \"COUNTRY\",\n      \"properties\": {\n        \"dtype\": \"string\",\n        \"num_unique_values\": 1,\n        \"samples\": [\n          \"Germany\"\n        ],\n        \"semantic_type\": \"\",\n        \"description\": \"\"\n      }\n    },\n    {\n      \"column\": \"geometry\",\n      \"properties\": {\n        \"dtype\": \"geometry\",\n        \"num_unique_values\": 1,\n        \"samples\": [\n          \"MULTIPOLYGON (((-228178.47011408766 -198681.78348779998, -228621.5569828455 -200536.57669975347, -234230.67871820848 -204776.26281549025, -244248.91512806527 -203278.02573039127, -248670.70181266576 -202363.98055051925, -253537.83260365183 -195458.16813130717, -259881.84871633002 -191512.9822932272, -266020.8923365608 -192119.39518157966, -265439.9954098475 -195518.86305199465, -267208.00950803736 -198402.43635715084, -274773.1025209169 -196620.76883596307, -275692.09868853807 -194385.6661668922, -277406.3109611971 -187872.7845397177, -283412.6685544792 -174414.82035111886, -286925.5882056941 -167454.57603559952, -289195.08723668236 -165229.18359012261, -291976.7734331085 -163004.80022696074, -295837.39153377863 -161198.8505654143, -299669.67541836656 -162799.54599885046, -299439.5751543196 -159497.1193350928, -299664.6892872765 -155398.63046974505, -294153.18533614295 -140124.10168854575, -290265.97817425005 -137316.23298773472, -287783.5008021066 -135932.79546010602, -285866.7732677519 -124785.54891342715, -288868.84583733627 -124243.4207745731, -292633.08638647106 -124283.32312565132, -295031.81880451617 -123160.37431055518, -300184.35872430465 -119468.1476093444, -300511.35584546527 -118671.4958992643, -304869.1866809855 -115410.66467293174, -306106.05764955684 -113653.2960303623, -310056.23427903897 -107453.61057087366, -312180.73586157395 -102564.58423373074, -312764.01486199367 -100303.43317344454, -313727.06659363734 -95405.65410989232, -313128.5399285652 -91714.69774325845, -312168.1734579724 -88616.97544859647, -311736.56763090816 -87675.95343866, -311182.781159995 -84747.63125612416, -308802.0368873128 -77064.30636523686, -300299.93404441845 -71002.88332932275, -295219.1450815821 -68045.38550479905, -291709.66886884865 -67084.94805344829, -292723.46793804195 -53668.669733451075, -294874.4301180778 -48677.08081204047, -296628.38341624005 -47432.97452727731, -300075.1274934245 -47173.792605206276, -300687.2784386549 -36964.03403522641, -298892.06832982035 -33651.18200450331, -305937.0346680414 -29173.292574966847, -313419.70341671415 -21241.606906655557, -316214.15122264 -17323.621076733427, -316172.5759374652 -12321.617883567766, -315300.0481404249 -7982.896516313468, -312326.33134581737 -7181.141309405548, -310336.3181446251 -4896.678404471514, -310305.15246108855 -150.8134307506543, -313798.0675036996 7104.786565028611, -319439.8267925192 8155.132220554729, -322439.849885288 7097.034323718033, -324400.7015323858 12316.739339605807, -324526.41359084484 15271.238591087735, -321567.201355906 17064.920589975423, -314608.80644378474 18977.35224810467, -307697.1390005062 23785.684647506252, -308320.6387257342 28628.739274907104, -308945.3683621472 33101.248583223125, -308346.8824050967 36103.927460719286, -303436.39460812905 41810.899277574266, -297470.9420102264 49022.17869660735, -296826.6424756484 60582.6917366802, -297721.0358296239 65768.70707214883, -300628.962432621 70934.79552152718, -302246.80261140806 72422.67171722748, -304808.4583210368 76473.05622533783, -308598.8743728313 87931.61009107239, -313614.6323893074 92790.55951306222, -311366.68684918503 94844.50701157028, -312413.3579914732 99302.51206849243, -309541.80283892335 101724.35518757277, -300869.49463691213 107666.50839166963, -296797.6676296209 108229.24841335005, -285497.0850255051 102320.08053710942, -277786.9239424388 102508.84311381492, -273212.92096797837 104579.16615049815, -268466.13014124194 106736.82670970514, -262199.88142658735 108138.88018802859, -259679.68200008935 106477.81459788044, -257992.4401615812 107303.43933042018, -255369.848868239 109242.26245575037, -251935.65329486455 114750.55075407252, -253908.12663051806 118521.67404534291, -258477.05483666772 121706.62122467798, -257709.0738825664 126274.77911836539, -255918.5352458357 130402.76450984323, -249281.45023841405 130728.25710445584, -247860.9788919003 133092.41428676606, -245815.00541601246 136316.2990966017, -241479.5317619321 138116.02720053247, -235973.4411233495 142461.03047700567, -235200.2810045971 143103.21972345604, -236624.0623662979 147677.91314741835, -236068.07121467247 150720.40350333246, -234338.3479165889 154180.0368922661, -233407.04149236548 156161.51972552246, -233729.8667055118 160087.43865696047, -238742.3903156325 167715.26173739677, -240871.70149339616 165575.74106313242, -253996.58240738636 168870.834215857, -257561.80770480368 172085.1441353159, -258181.8079674449 179060.93890975363, -255902.66955752805 179932.96143281975, -253461.96478136582 180387.86129692983, -255208.08634799608 186485.57766125165, -255759.84812987744 187424.68614242302, -255615.58257594614 187712.91651334707, -252456.49191982148 189971.80388512925, -242985.4562112238 189159.23181873496, -234447.23423306132 187086.65373047578, -233028.8811436429 188844.44752556522, -231970.75732667226 196789.17822880475, -231674.3712607461 201121.07657520552, -231423.57391419334 204681.34751058248, -230805.4435502328 207683.4273905172, -229523.20962491844 209537.67071791645, -226433.54636686243 215182.77206645752, -223069.89117764076 220071.4527653727, -221823.36732827546 223169.8805727945, -220600.1492886452 228280.04821049035, -220018.69847298125 246875.49389235533, -219610.3429564196 254284.89317905306, -216086.04708181744 262283.9241937684, -211486.8454303076 262183.7233370527, -209799.51833702004 261032.04566980328, -210644.01754226978 262827.96172636223, -217908.25597938272 264631.35985902336, -220750.53301248205 265253.350156774, -224579.82866657543 265335.0402721003, -227486.77376384396 265144.3205801039, -229660.1466825137 265694.5892586109, -231540.07049748718 269596.97002729715, -231621.16154469014 273445.7005468386, -230988.25205661886 277051.6265075009, -230087.87253055436 281449.54066723003, -225485.89687242484 293024.59988574474, -219183.38775546453 298755.94760212535, -215930.6778658755 301395.21358762955, -211633.5038401629 303217.43275157525, -208628.85951150872 303458.7740224814, -200215.90859472466 302810.3690466835, -197326.36522294857 301144.8834231463, -192781.91677238457 301999.5355364551, -184998.78498608005 303799.915132055, -175372.58356086607 304989.8707137763, -172775.0105540471 305268.0017232705, -171117.89868464586 305425.9468342576, -168376.29415194987 305113.34643359855, -166240.34068974364 304791.58148853946, -164112.7334132719 303946.381162158, -163479.36379282345 301840.38719366, -161904.57856579137 295303.4002144197, -157324.84509435063 289956.40067824826, -154944.18599267406 286980.69057235576, -154695.1804343915 283655.5781726516, -157226.2038727839 281602.29275931546, -159617.02803002577 280937.9714409186, -161701.77308897738 280767.11173902114, -161121.9486665484 277105.8401477155, -159563.00699266113 274410.75236420415, -152236.28588252288 269568.5577337544, -150638.57269266516 269240.8900080317, -149849.59341102725 269355.9278226959, -147140.77155371977 271399.07732573914, -145307.12885655052 275287.2672438089, -144609.90776549175 280747.97990904195, -145535.81981239465 282924.9412485405, -147990.85286204013 282488.7923078677, -150269.0229292149 282875.3331523933, -149933.9588717912 286723.61992137483, -149432.45339225142 289862.2789013278, -147604.41836923896 292188.00489599176, -145156.44604490703 293166.4199726605, -143434.7712743011 292929.7307442381, -132886.8175168477 285918.62502898433, -131772.10740971102 280833.0242009777, -133054.18575636324 278602.68326854653, -133860.30883789467 275602.0298041626, -133966.2832221512 270054.0097418261, -133740.01400384615 266167.57781419693, -132843.11968636131 264473.54745102953, -132538.11152168864 271963.2822990355, -132992.04090499505 274959.5825849397, -132445.89016489632 277913.0472713427, -128602.76809865399 281399.8291460182, -128254.44013966915 282907.1201552213, -131554.23178353652 292810.0665537623, -132840.63125925287 296370.5993618095, -133171.59840382435 300547.5419124272, -128557.53520825708 315122.2830989302, -126521.10827960074 319151.68451431365, -124661.16306802949 321778.7572813347, -121043.25189184315 323202.9239314855, -119515.04245188028 323304.2282878645, -117647.82081514748 320636.6377897218, -114764.34481645044 317930.8042444658, -113518.96415732178 317220.96013575007, -112105.03964078941 316662.1530958412, -108445.11966192829 315898.3234962254, -104864.70420507644 315633.40389690635, -97379.40984246132 317549.72090736416, -91768.47095315163 319295.2653568368, -90209.35369186962 319575.1406142609, -84482.89240508083 319332.8539269066, -80063.85137171282 318221.40546755964, -77548.99625872006 315134.93669528386, -75690.10575519703 311749.6734473934, -73904.51456634798 307578.21138734714, -71788.61967912702 303836.2662852161, -62550.43604050261 290011.03169792943, -61055.72722419327 288230.0564129386, -54816.178854489815 284476.56121832895, -53294.841968853594 283872.9519075871, -48735.221764745875 283096.6962966421, -45787.64104301311 281956.6673222863, -44474.39805747063 282829.671651065, -47768.6180465595 285129.19692459865, -50279.17280113347 285479.669044992, -51399.33697982062 285552.49569819734, -53033.6927914387 285879.0927882074, -54791.48703948721 286671.24928047665, -61195.45503901183 291014.49998241063, -62590.81708079023 292593.4595265518, -70322.79178224258 305654.360361151, -71396.32140412339 308685.510348853, -71984.16933914034 311044.29879770614, -72857.60647690781 314443.30152698804, -76815.78650683032 318107.1674877718, -80095.50471423549 320449.1173423293, -83226.3581068672 321707.7709512241, -84626.31800988848 322103.28401064937, -94470.60500265878 323213.27378764097, -99670.54751732101 322629.5993677772, -102045.13268131178 324388.38787851395, -103329.67726532456 325807.23512695736, -104653.20996399308 327505.9599436889, -106148.39533670688 330477.3030401963, -108198.72720013147 335844.033317997, -108509.486748726 338731.3625287276, -105770.82613253512 339780.548776477, -103104.54695990673 338887.10423013504, -101400.89597120899 337644.45626359305, -99981.60219641 336702.7265136718, -98204.24801896814 337655.9950477362, -97494.96883304112 339853.18404195784, -97063.78414658777 344082.9870247573, -99973.85972210947 349339.36168672395, -107746.8056860013 349097.28705350455, -109321.38502460466 351770.524740731, -110214.76237834012 354390.03888772853, -109692.08447153009 357008.2569278404, -107871.0903306474 363155.1554070996, -105296.75465869693 367554.28493946313, -108790.60091901837 367538.8864457385, -117966.09918311339 364885.85359676386, -119770.1166929536 365000.2999760037, -121367.87070135828 365922.32578728354, -123113.07422425016 369185.7147651007, -123643.92948594238 371581.95425605564, -122098.82090759775 377361.1796004123, -120715.34162828316 379384.036662108, -112480.93203966835 380714.84452863724, -108709.13571332254 381061.02252079017, -107537.2077455185 379997.4545099537, -104786.42718523364 380911.28937778005, -97699.9687289991 384970.3364387427, -96399.69940927939 387512.2898541718, -96511.15651496525 390686.997710234, -99481.4252745294 395081.52684823604, -100790.50882925045 395727.9601167325, -102359.63920238707 397231.78572430316, -106615.58735785894 403980.26551603235, -109138.14871439614 410291.3755655179, -112605.49468033438 414242.3125425555, -113870.20506483005 415325.2805724716, -116217.74489487549 418261.7271125426, -118990.42457125572 424995.24702251144, -119557.67612002903 427851.1335582338, -123678.05414131818 430762.27658761793, -125603.57552383227 432287.5734485388, -135606.2660962562 432155.3625332533, -141373.13080547008 431155.1530199454, -141892.41015003406 427694.08757277636, -141909.79060518066 422491.8452444133, -142400.69219323824 418515.29817888787, -142954.79332288363 422120.5313153243, -142682.75685739942 427873.11002230464, -141712.0431180553 436082.7633386847, -140712.39690913932 439676.5741728574, -136147.90846449367 450725.4183307522, -135146.15411760236 452462.06720194663, -133852.122166299 453246.15158814273, -130915.27871576043 452543.6491128085, -132016.50416430307 449585.01843935327, -134028.56979316022 447984.48263594933, -136363.12837723087 446363.49755753763, -137655.63658477095 443272.29382984823, -133492.50084919302 437971.6066741728, -130935.40133729375 435706.9120746693, -129055.5850015197 435720.2259184378, -121962.40810993506 436670.2237216512, -117843.39670645127 436824.6032683041, -116078.46540954795 434856.3810994319, -114378.69062481537 434287.96597139083, -111827.1120841027 435001.3013690245, -110075.95305691868 435857.93251847394, -106893.6729136232 436641.3276718506, -101457.11210070274 435881.72789294826, -100107.53007882806 435573.9398702695, -85563.84207522182 430767.7563876522, -81737.17650582177 428981.3286288018, -81651.155378944 426719.48507310235, -80556.97238182748 424843.08257078775, -73964.28939921444 424503.2965880799, -72236.8550149975 426380.9648123852, -69815.10910631908 426978.96614837466, -67857.01686358723 426066.95770875434, -68265.61356149829 424131.0988201267, -59301.52425712735 425968.9808860601, -54028.439487489195 424419.48998238595, -46011.723288503155 421425.144230257, -38498.34238519294 421915.0082075254, -36337.284480674134 420876.79558567505, -34024.00059965257 418498.558873534, -29877.862183188958 408160.8383721831, -29731.956860813625 404241.9035975758, -30271.79740889697 395577.6522943986, -32121.114875290754 392076.0134473084, -34321.14064238565 390282.6740755715, -39368.407894631884 387474.42949701956, -40795.9729791 386990.92667106766, -42454.53829373741 386920.40944061906, -41144.30636137753 384742.95043140743, -39376.25234582795 384349.4084346472, -32005.100999016016 386560.9319047296, -25544.689947060753 388215.8086773349, -24193.416198172567 388239.3579983873, -8549.761186882022 382152.4360022493, 7137.186200993195 373795.7089338443, 9518.287310939664 371224.24994556775, 12409.884613074271 368098.3449664703, 17747.450580893423 367883.60399903654, 19210.541972230643 368461.11180564173, 21602.79312257529 370474.9796908434, 25060.5010767573 374010.6967365154, 29024.67854673021 376547.2213438055, 31171.95974108173 376120.11842143023, 29796.01838319361 375932.8866909619, 31666.03850476612 375163.9434909443, 33618.35487089692 374960.57358889154, 35425.07676301936 374943.0245014866, 37316.081997614034 375700.13480940025, 38774.70245684194 356677.08109872916, 36581.903970427535 353512.4337165806, 24909.618093203375 343810.10483992234, 21745.902867815967 343802.4162293886, 19728.323638742448 343639.1118464482, 17177.637754886728 339964.1839572959, 16867.214226189255 337658.89672081737, 18172.07724349689 334416.19546081324, 19388.484758770068 333184.1594325673, 21138.557605900896 333036.9155637394, 23708.043426361142 333018.2806092999, 24919.919734035455 332135.0393695088, 25617.522394998166 328620.4377393095, 23896.179764600205 324452.20765216684, 20946.899902294655 321445.42236979393, 26206.07108809767 326041.46232812345, 26554.398973412593 328964.4094685053, 30496.581543762353 331540.1904496671, 33656.59512277666 333232.0344513207, 36423.743922496324 334596.8153902231, 38997.3700504491 335313.5004668844, 44823.00249854264 335178.1057552524, 49371.19529097341 327077.1859615112, 59982.00377471058 325074.5938905244, 64393.7414656214 329647.0369936616, 65126.26427032104 333476.5588617523, 66988.72139884798 337809.12688812736, 68483.31272246955 337064.27791012306, 69137.91086784018 337135.63977957837, 70573.38231506899 337976.25461754965, 73738.4845453994 343378.529565081, 73673.47895824874 346583.11850861635, 77613.71802267952 351331.35704729304, 81529.00004124061 351744.9867667699, 97083.0956611984 353921.3784186289, 106419.36049031615 356099.21336187667, 119031.02596600897 367039.5992713028, 120477.43141728971 368917.6445617134, 125889.76230182215 378851.96765528736, 128564.4131008609 384834.9871013809, 131482.79359306465 388257.43825114093, 132412.68079381526 386581.0726480469, 138806.09046898008 385655.0000666471, 140231.99155134617 385380.8414835746, 141555.27362954934 385289.83295289206, 149516.48586529875 385260.15868595394, 155834.65337759646 385446.5992422412, 157241.24696601406 383832.5375526879, 154637.58461124945 382018.0248170498, 146697.31494289794 381890.32937410247, 144772.99602006472 382981.508461808, 143100.21295339573 383634.1964305042, 141000.47213713126 381894.27009982883, 139219.0887712297 381760.381272438, 127628.63798264507 379346.9537079347, 125222.10286761324 376761.0853245314, 121502.693519153 369167.5237927345, 122189.29884173555 364419.6692150889, 124433.06619782068 362953.02316773956, 127259.81681503728 363135.6011616939, 125431.01116263522 364116.2648820567, 125053.3154333662 366613.36595428095, 128873.9385001469 372339.20845956425, 133312.65598442106 375648.6314469435, 135383.37250291306 376573.9295806778, 138149.9966407183 377147.8622222834, 141912.68983442997 377629.61908353324, 147250.94913349862 377388.9847957426, 163991.4984308539 380967.9448132254, 170632.3873014359 367463.01477694476, 176848.38295822282 364956.245262661, 181654.02615610912 363232.71278054797, 188047.06338156507 356745.57651647355, 193316.1685223388 348333.93558291305, 195485.4456421916 347338.0474471345, 196317.8144856693 347232.51819669805, 195140.6395014124 350899.6346411394, 209713.68000413702 357240.7268423052, 215112.71969760096 350668.3706639362, 215903.09857069963 347855.0780653441, 215228.29277249897 344017.0307697325, 218403.3721026134 337070.15747087507, 221152.65149614858 328032.613438277, 218391.7950469396 324811.81992678164, 217673.97596326467 322372.1790708078, 227994.38793152128 313956.0275700999, 245845.83924441173 306563.7545396397, 248009.26906505952 306287.02242892666, 249268.64357020854 306542.0445517797, 252344.73814263992 290706.94898579415, 260478.64840682736 266999.7215796181, 260650.69422478072 263163.09773440677, 260190.59981259884 245281.60933644522, 259627.9776405151 241460.70495196225, 257783.9426041618 234540.78048247774, 254367.15372588878 231008.35444387366, 249958.38854599863 227454.14109172873, 248296.48742839342 226906.19226467167, 246255.15396088688 225535.17875465757, 244907.72977762826 223898.2658071857, 245542.5161074301 213187.95457844491, 249571.6909199373 208470.6603331022, 260047.19718872398 201183.01836824045, 262059.4872122884 199339.80961183057, 266773.19400130084 193404.4034361044, 268963.4079637324 190985.34640754157, 271454.85268268513 189636.01211407737, 274239.4513029522 188458.68984353167, 277149.1850993389 186349.14776937675, 280321.9925069306 182756.5869378828, 280428.32453449717 173581.85259049488, 277460.99461266084 167769.99946292155, 276013.03703771794 166947.0799391044, 274776.86342802143 165618.4088517018, 274287.25729481794 162738.0017478836, 278037.29536001536 150927.37089361338, 279428.9747337958 149272.5046581838, 283385.4646761052 148103.1407828681, 285919.92481909954 147597.1909572434, 287026.34659843886 146678.24957513643, 291758.9690099954 127377.71001926971, 289610.9490218163 113138.9772425883, 288003.84413484327 107905.99492499504, 285150.37926200643 104218.21544555083, 282832.4133626338 102185.56163745075, 282376.5669033762 99028.58533153131, 287591.6920261874 88613.54705833689, 289801.7411029541 86326.93149550373, 291530.3199146656 85173.45807894925, 294033.1530098959 82619.49906505691, 294630.0330200314 76058.2075660149, 291909.4047014232 70025.50539990501, 293781.12453416013 66993.66594593703, 300751.27823503286 64291.96523736282, 306652.9947221782 62788.483415748444, 308946.36216826335 61596.60538211367, 310702.7356996055 58455.38411832784, 311630.78843823454 50407.728502975115, 310997.8814083654 49163.16547180313, 311968.15520271903 46593.2996902883, 313424.16622385895 44810.31600072686, 315798.29067947593 41600.03973531735, 316012.33244972536 36324.466489607265, 314200.1452721864 22788.072514359614, 313386.4748257195 18253.600158356057, 312630.9316231952 15299.636613103807, 310555.2232482112 9637.63511987119, 308449.5005692511 4717.436340440862, 303990.2506441704 -4052.430233439364, 304254.0740915589 -5954.442657014008, 304081.693573645 -7016.173154294562, 302769.1854849305 -11175.505497978467, 300572.0432352719 -11458.346228882581, 298300.8858330421 -10971.602608515941, 296724.99138890463 -10474.585988153087, 291965.7593777882 -8735.401159156132, 289618.72687848174 -7639.04918043832, 290329.6761649895 -5055.946671336418, 289850.0875558851 -351.5357719051792, 287303.5391397276 6061.466339351644, 285196.54180438665 8510.817607416939, 279582.4966417426 11665.105832645655, 266516.47460337146 12734.035811660879, 265154.5322113543 10994.774627782437, 263470.49008722504 6193.404439686845, 268180.08830215066 980.1589279081644, 271546.3177339965 -79.9683744785623, 267856.5526144385 -6146.942116193594, 257130.40105323712 -11050.99733796395, 245693.95175076232 -14790.301102448899, 239704.01410521695 -17991.873878630748, 238923.19871683934 -20176.406445991277, 228058.84961183264 -24900.012515417126, 223521.72824518505 -25653.631282401584, 221091.62435747607 -26159.31345810059, 217450.52700693568 -27734.900305559393, 214642.44486423934 -30045.71391666536, 212684.74084818937 -34483.32518654922, 213263.63509964856 -35424.917424905194, 209555.04487931976 -40048.60631284166, 207649.40336485495 -39723.705382791835, 206081.4104988707 -39105.969451528836, 203421.69338002693 -37202.59875799335, 194494.18499077018 -42023.95850708445, 192786.13255936335 -46285.20608254109, 191701.68924582104 -49774.05547393125, 190435.85223501426 -51782.25355298455, 182819.48189494378 -52579.924578094106, 178496.80500364842 -59263.64564538911, 176910.0999252827 -61341.20596224666, 176467.35815547197 -61665.024988807134, 173599.95515710098 -62687.667034352504, 171630.62165287562 -62227.636020119586, 170251.69807156958 -61099.04903038683, 167175.48728393976 -59314.69438970779, 164959.96221746108 -58180.55367029805, 161234.52456723375 -59192.4954354771, 159024.06183061615 -60758.51634640791, 154190.18722062302 -63080.800163026885, 150611.08742351554 -63185.29689773069, 143176.6394307468 -65556.72565659767, 141153.68716917062 -67773.14624774581, 135119.7959445088 -75035.75927949, 130123.15292526892 -83284.91721115327, 130026.21339463459 -86560.59628316757, 127003.41482798329 -85322.5100839979, 119738.58901342687 -74808.60693735593, 113391.8011307549 -74065.82586359525, 115445.08303330405 -75584.4860064284, 122015.96950007396 -91539.87845407515, 120990.39529825877 -94598.02119634705, 121948.20611575914 -97922.85019882458, 126300.94290744452 -102278.26072744554, 129351.7498921315 -104273.7956733255, 138232.9548291022 -110007.90948285266, 141241.36878040215 -110823.88544058899, 142724.22250266248 -111896.03664473143, 146840.13474800263 -119149.34689431456, 141654.47591596903 -133313.38334306955, 140985.07961023613 -143107.47809400733, 142480.77239802864 -143592.60809561843, 145360.47612231443 -145027.4744908151, 148377.67348369618 -151677.96724749816, 150278.4976952843 -157863.70205034924, 151768.67320200845 -161497.5932635207, 157650.7065277604 -172725.71311776785, 166845.05373765706 -181914.6973327315, 173376.24057521403 -181648.87878419438, 178610.90945760804 -182082.63834099582, 184025.11982957582 -187143.867606929, 194827.80473000975 -200171.90204323828, 205704.4646754313 -207151.8524826504, 211594.24430894377 -212671.45721087145, 212252.47076440442 -217427.42302957366, 220239.1207523862 -220855.14668644694, 224263.68440024587 -220558.48796178514, 226571.58925628642 -222269.3276691776, 228868.38707674097 -223261.425595062, 230964.35202820163 -227979.32459229007, 232521.2494308725 -229581.22289164324, 234564.45167938343 -230621.5334335412, 236655.91575880226 -230305.89312318998, 237989.80443515873 -231421.92052481204, 239287.55898526713 -234123.79119292102, 240701.0396903888 -235390.25265661863, 243207.86068708895 -239041.86804303032, 243768.54808857426 -241281.8623964243, 244926.80475358645 -241924.95508574462, 243718.1354726473 -245937.08865854293, 245041.51795780243 -257781.9455127204, 243688.16712287877 -263239.05888032174, 238283.77314864378 -270942.9158075166, 234582.57478172748 -269245.0715474945, 232850.34738039182 -267162.9955851929, 228941.69472270188 -265504.83063610573, 222659.49052228633 -263927.1273441538, 217210.46209434466 -266857.39400266, 218462.98177896877 -271780.6498741559, 217399.7162616935 -281408.16074506304, 216382.96657422572 -285723.2466449, 214502.85666023512 -288572.92969037563, 210220.23413854075 -292913.8265792324, 208648.20704442315 -294396.67910740443, 206633.26394496366 -295647.8900118321, 204641.36994384896 -296434.64753997966, 196983.81457561074 -297457.9504200227, 186970.7045534464 -301459.0522526153, 176296.17150843478 -308105.170672246, 168284.55299769033 -317392.50417424226, 168905.9951780126 -321771.0107705228, 171454.66569628232 -324767.93338436476, 174399.2890746761 -327411.13915282954, 175921.6769401916 -329372.6052357951, 176602.55858183373 -331281.02664650313, 180733.77210744045 -335245.9399142204, 184491.91597596678 -340779.1086776093, 187849.0643721248 -346541.33033293975, 185142.96859506352 -351488.1101942913, 183246.82446832312 -353979.51458015514, 181215.5741955497 -361143.96830036613, 187244.18931699774 -362149.35572437086, 189405.55947730865 -360961.92875562864, 192122.73012000837 -362878.3288610374, 193634.64246305072 -364913.19427000836, 195509.50326260197 -369796.20218397846, 192553.14827264092 -386085.84462862456, 189580.6285174508 -389281.9021390177, 185433.3066292429 -388617.0842722872, 173758.30159733587 -380342.93632235803, 172267.51576367216 -377180.9402790049, 173496.15709926272 -373654.98329120636, 175118.88497130986 -372892.3961282929, 168074.53816848696 -366268.4570809401, 162725.7742598336 -366173.39969303866, 158076.79843175257 -367723.45177497354, 156135.75389214378 -370909.41462145513, 155411.66417048487 -371177.8372450254, 151512.0421670949 -372252.2431754051, 146940.09636323847 -368533.68130582094, 127887.60846830106 -370151.4408982353, 128416.36280800031 -372823.7089265569, 128035.76207455702 -375102.2365121001, 123513.69258583296 -375414.3977702853, 121226.912310489 -375063.27893624105, 117367.89084437635 -374496.8265466832, 113326.06849604362 -374148.00530231063, 106849.87129020855 -375420.7993977156, 89075.07558089266 -379013.38119645155, 81404.99351678217 -385879.1963004531, 79502.75621723424 -386857.9322733678, 75805.71971359971 -387620.51349115564, 72198.59264983023 -387328.97504809883, 60151.339153351255 -396747.9353695927, 45652.19200279649 -400488.11278310517, 39953.33663972278 -400671.7078633586, 38420.35812226213 -400620.52228292054, 36023.707222238074 -400141.89045891043, 30870.459833183417 -387063.52872635925, 14377.735084430107 -383142.51318522904, 5233.41319882667 -384673.51119703596, -1370.0394749355512 -379529.00853866705, -4994.140930801529 -380198.97446781996, -4795.059748826039 -385911.0749444244, -2551.7966946100582 -391060.0555466842, -1982.4923920920126 -396099.3015650611, -5311.709269381819 -400719.36947310576, -12365.662044056417 -409992.71098072286, -17084.486097070505 -412631.34232460207, -20540.246033272975 -414049.9315238645, -24749.9035631359 -414179.7538757218, -21824.70654626061 -408873.59052271943, -20284.818077889213 -403174.4388207304, -34467.67948441689 -389577.0641858344, -41072.924751893486 -384585.7507371105, -51870.316446821475 -378435.7921990221, -54550.08372833807 -378734.3937396467, -56774.77344592636 -381540.9020699482, -57816.93307355932 -384280.521180555, -60865.2440355349 -385539.46277378884, -63957.42360451643 -385504.6416275569, -67178.39584827394 -385466.53538996185, -69493.31667290199 -384558.23441719264, -70332.35723384225 -384210.09766142454, -76939.22768198968 -380182.0846215822, -93133.36160875553 -370251.0618408639, -106498.72418945238 -367497.40148142754, -110196.47366556046 -367100.0667135287, -112655.03522774743 -367885.6456026698, -114286.76251986339 -369042.27953717805, -116696.14534786789 -370399.0666286529, -118348.81154247372 -370997.44738637586, -120387.20827276063 -371061.70639020053, -121551.01516530491 -370666.8198358222, -123504.37379826915 -365644.0825858779, -124999.89243707027 -363477.2223821066, -127190.4361837345 -361424.7643140406, -129577.59349018738 -363603.0773315859, -127731.80097638353 -367457.8398144746, -131216.3702352352 -366053.4693239977, -133695.15987398638 -365658.140740069, -132760.11561167828 -364382.210133086, -132314.48774412565 -358962.58689444856, -136051.6602130781 -355578.8810661264, -137831.63058030317 -354266.8104709962, -141541.6195007183 -353523.55528622336, -145186.72377879408 -353119.1773681906, -151728.84941201864 -356954.78566745936, -157206.10963923237 -364462.5863850932, -156386.7204906674 -367593.6129252951, -151480.44921008236 -370714.4949514441, -148710.41454244443 -370279.25992783724, -147284.4680817352 -368910.5295424253, -144265.92426660744 -368510.7274272802, -142036.72063802584 -368666.1523937458, -140964.0593575207 -369976.0661448461, -143523.05030359369 -376106.5269654219, -144801.49651944826 -377095.4251542244, -145306.5814449264 -376284.20584444935, -145738.64778921707 -374061.9622878067, -148662.76050828065 -372391.59096198896, -152667.4360255245 -375104.1005477302, -155437.26172555104 -378784.3390635177, -158804.58448595004 -377977.78076509206, -166364.9401695651 -374515.8542140572, -169960.15253631983 -373254.6819899062, -173346.6264292048 -373048.9004513222, -180588.79987096103 -378303.36187481566, -185801.4810893285 -379797.27488191053, -194514.78591430842 -379707.0063147479, -205660.73167878776 -379404.43770544184, -211161.61786796406 -380311.34010078193, -214226.37132663195 -379388.90357206017, -216815.55793454367 -378112.8952598691, -213160.40421337698 -376591.53653777455, -212519.24544070344 -373391.1491307196, -215166.79864462867 -373412.82780617225, -219184.7284809855 -375415.92680207855, -219083.97366945547 -373812.2059716129, -220755.1768619718 -369262.98628814856, -223395.70725783767 -366566.0530369556, -224416.29231718948 -362881.53466825985, -222903.5564291652 -352594.81772597466, -220281.50809574756 -344379.4172839331, -218086.72769766403 -339951.57918274263, -214865.7611328268 -332315.020152773, -215019.25738730578 -329695.66805741674, -217561.03032457852 -326177.69530044054, -218485.10077641206 -324261.13402645226, -218382.45276577363 -319465.1321375761, -217574.22881349278 -316159.5991493787, -215184.09529180249 -311023.3175464611, -208342.07837044832 -298798.90431004146, -203986.43584195874 -292350.7943436782, -204257.89881132744 -288409.7982012036, -204635.31397441318 -285845.17305441777, -203859.74218084733 -282432.28122452094, -199041.19899710346 -265819.581154556, -192955.2928161472 -256210.1248875677, -186692.51208465785 -249753.95488242919, -176823.86578115943 -241246.93199020956, -175818.34618166788 -239517.67625949474, -175272.37529450652 -236847.33664942803, -174441.54795306892 -234494.31880376965, -173179.95841736655 -231398.42201729616, -168505.62920047852 -224624.9601279223, -166444.0248433434 -223687.66847821098, -171562.02585749378 -222195.28130396453, -179470.36561464818 -218399.24592308357, -187343.37449776416 -213603.68802387457, -195722.013543446 -213582.41587488112, -201863.9151880112 -213757.40887303866, -206877.43306709192 -213627.73773220804, -208092.67681845036 -213278.58322679534, -209751.18353920756 -210734.87380336915, -219609.99003698648 -199553.5889500532, -224024.69489411684 -198003.11557223304, -227462.66736248496 -198313.64489621966, -228178.47011408766 -198681.78348779998)), ((-124994.13469464945 411487.78459976177, -129847.87058043208 411772.89727989683, -130488.94358924386 411945.2609413196, -135577.11147881378 414680.55864841625, -134762.65892116848 417158.18959490117, -133702.9443282772 418196.39944021875, -132466.66032188668 418842.92680144554, -131363.664695435 419214.5022042072, -126396.15380339054 419451.0258136627, -125594.9906227936 419274.93109137774, -124406.39070191236 418841.2983879113, -123429.78239057877 418172.81004407036, -122874.37110896248 415410.61192574486, -124572.45322883621 411832.16057902464, -124994.13469464945 411487.78459976177)), ((180455.938986544 365431.70335782797, 179487.31743603887 365642.74487230694, 172957.94831587878 370788.86371216, 170406.94637203013 374172.38261730096, 171253.37074153303 378064.69076001574, 172542.0733093484 378544.71673527523, 175575.74011205242 378376.31318681134, 176861.0395427897 378083.14571825415, 177872.881885685 378337.9697151529, 179661.25276002515 379333.49072767637, 177912.52674298128 382776.3251980255, 175819.01318799402 384553.0610670532, 172993.2392588849 385145.4113004455, 177017.90934246566 388709.2367725791, 177166.06233989916 391035.6623840112, 172842.70343998264 393948.35287273413, 171400.09817487173 397489.52251185506, 176835.9776861939 398456.86548190337, 178408.9770222751 398384.5991846738, 181542.25808781898 398387.4332512894, 183659.84570805426 400265.5862214636, 185515.8002291779 401902.342413379, 186285.63055551125 399440.09863527364, 187466.3149823707 397689.55178663513, 189204.7757614894 395497.85730727384, 191101.55405700073 391922.01022410125, 193483.35120795213 391438.45530760166, 194687.4011606333 392530.7590033745, 195470.5927595644 394823.3608810542, 194395.99457672113 398837.3786620747, 191599.13569542798 398839.61666648835, 189360.8019277204 400894.8976125294, 186567.0971327427 401711.67679989646, 185857.40888941733 405220.0483512127, 184639.12406931145 404534.98234048724, 183069.43973482214 402067.8140918451, 181870.3099366366 400968.7428069562, 180199.64892038918 399898.90326844406, 177937.5032977505 399086.51527931, 176155.14212252415 408318.44038862555, 177265.64119701614 410086.16960659897, 178425.24014567042 411244.8532507569, 179391.3661312093 411807.8545363923, 180261.45178184545 412057.75837982766, 184895.12733175227 412917.5092582624, 186143.58943758468 413121.1704708864, 188922.72534589682 413416.9354713285, 189893.37578741423 412595.5624693046, 188930.05766848833 410753.0772965195, 186920.8062642268 409790.88897437864, 186340.41088319718 408792.3019831545, 186946.15101222586 404914.8335350859, 188067.8461112542 402930.24251245585, 189796.9184982319 401781.6554696963, 191297.1817451433 401319.8900092449, 192937.6501495995 401560.12951953156, 195147.1718072153 401882.1093414983, 200087.04735045906 402970.4912034192, 201678.84849731709 403192.59581969626, 203022.3167284682 403118.3418548476, 205440.47797269135 401177.8187894846, 205857.3861392772 398508.7313233479, 205749.50910147006 397048.03043406666, 205274.9900494004 396144.9185034977, 203727.46547504258 395257.5149105647, 200193.73118930662 391654.4020785984, 199619.45025444988 389865.26337059395, 199663.07566005862 388705.1556695987, 200144.64160671708 387022.86761686864, 202623.04646974982 382853.28744526044, 203418.05839664166 382639.5796719006, 204408.6986899714 382712.5137154324, 206031.19046284884 382798.4215622099, 208116.4534841468 381386.70464297105, 208683.04809695494 380621.65055716864, 210137.6094780814 377758.96253938164, 211084.16673192894 375168.14979121124, 210400.43378521208 368898.1120511193, 209366.89864568098 368496.4495997806, 208164.97478880416 369566.6859653264, 209100.62955557203 371272.32646364183, 209084.08536983377 374135.7467504494, 207295.92520545158 376968.44693676004, 195588.09439847156 375747.4784621569, 193248.33877964245 374104.5459254224, 186214.47449081286 367679.62227926817, 186263.62584238726 366180.30428016145, 189461.1749096428 366909.0096153613, 190396.44433078653 366404.4296962394, 190885.5862817609 365046.35509750055, 190893.9017342086 363699.77639153454, 188900.8734290118 362041.8162857945, 183777.37679749983 364845.4161811162, 180455.938986544 365431.70335782797)), ((50226.2277540377 384991.38120911317, 52104.600958623945 381144.4972540314, 52791.429078093955 379404.2798199058, 41531.19495422951 379107.00519799814, 40538.239889962926 379129.92085244675, 33831.07231925541 382621.58264288364, 33043.98777196486 383558.147490167, 32846.68613964657 384717.29181134026, 33174.30233969924 386870.634541131, 33631.83289785653 388420.67389026406, 34278.35239989681 389956.84177597746, 35248.42966881277 391495.50831360824, 36719.63954125399 393317.4525456494, 44337.62361499109 391757.55182789685, 47470.585338868426 389899.9749762241, 48227.571104020695 388948.40823811566, 50226.2277540377 384991.38120911317)), ((31171.95974108173 376120.11842143023, 32182.33110886614 376281.4776250129, 33579.553719831776 375981.3342215281, 32158.568522084057 375785.8830304636, 31171.95974108173 376120.11842143023)), ((244671.68261963312 331891.57986238133, 244194.52593285215 328678.2738570575, 244569.48644501547 325244.58300887566, 242866.06195456267 325824.9331328071, 235583.85673798528 325278.5372165589, 232769.1481056776 324747.14912448614, 230295.1512567198 322624.1014875875, 226977.6261787316 321554.05220778927, 222794.12568739592 320972.6439088621, 219007.8015660647 322958.2517902277, 221723.80117488344 325148.91671685356, 225382.7254137422 327485.5029859406, 225979.74695381903 329448.62158733065, 227019.93993931237 332422.8864208984, 228514.3279741146 334882.8808841331, 230592.35024605595 333518.7732649368, 232393.52193946065 332849.25093216164, 233242.59259807793 337596.2639695307, 232587.39981483374 339856.4504887054, 230334.04119919083 340723.58606192394, 229531.115302042 342806.17466228356, 227875.4972993733 345336.5962215091, 226165.8868309292 345694.7446203719, 224213.05703517114 345432.408947286, 224030.82668463912 342365.51108725433, 222905.51682444068 340124.89330066927, 220257.7945761764 338609.84535921994, 217695.29175172944 342641.61114509706, 216597.50477432733 346487.89510517585, 216571.94122667337 350149.2669598488, 212911.71878221259 354765.6877005708, 213500.6169686643 356850.6703344174, 216388.2479780066 357080.7611786431, 217443.752611787 354434.2812580151, 220175.61281081446 350557.4863150033, 221977.00971858102 348815.7751447856, 224478.39208303357 347737.06513593177, 226843.55966807855 347140.9127307518, 229231.81445606812 346376.4836213663, 236378.8303107035 339280.7189045969, 241847.49224565836 333731.13185082783, 243902.50299389413 332286.3637904145, 244671.68261963312 331891.57986238133)), ((-136830.61606801098 -365946.52377248165, -137152.95453738383 -364879.9254385354, -134762.84350237978 -364027.9617686962, -134443.28824861176 -365619.5960319784, -136830.61606801098 -365946.52377248165)))\"\n        ],\n        \"semantic_type\": \"\",\n        \"description\": \"\"\n      }\n    }\n  ]\n}"
            }
          },
          "metadata": {},
          "execution_count": 110
        }
      ],
      "source": [
        "Germany_5243"
      ]
    },
    {
      "cell_type": "markdown",
      "metadata": {
        "id": "a1623e72"
      },
      "source": [
        "Sometime, you just need the border (lines):"
      ]
    },
    {
      "cell_type": "code",
      "execution_count": 111,
      "metadata": {
        "id": "39db903a",
        "colab": {
          "base_uri": "https://localhost:8080/",
          "height": 115
        },
        "outputId": "238f65a5-a2fc-4425-fd3d-826fa33b22a1"
      },
      "outputs": [
        {
          "output_type": "execute_result",
          "data": {
            "text/plain": [
              "87    MULTILINESTRING ((-228178.47 -198681.783, -228...\n",
              "dtype: geometry"
            ],
            "text/html": [
              "<div>\n",
              "<style scoped>\n",
              "    .dataframe tbody tr th:only-of-type {\n",
              "        vertical-align: middle;\n",
              "    }\n",
              "\n",
              "    .dataframe tbody tr th {\n",
              "        vertical-align: top;\n",
              "    }\n",
              "\n",
              "    .dataframe thead th {\n",
              "        text-align: right;\n",
              "    }\n",
              "</style>\n",
              "<table border=\"1\" class=\"dataframe\">\n",
              "  <thead>\n",
              "    <tr style=\"text-align: right;\">\n",
              "      <th></th>\n",
              "      <th>0</th>\n",
              "    </tr>\n",
              "  </thead>\n",
              "  <tbody>\n",
              "    <tr>\n",
              "      <th>87</th>\n",
              "      <td>MULTILINESTRING ((-228178.47 -198681.783, -228...</td>\n",
              "    </tr>\n",
              "  </tbody>\n",
              "</table>\n",
              "</div><br><label><b>dtype:</b> geometry</label>"
            ]
          },
          "metadata": {},
          "execution_count": 111
        }
      ],
      "source": [
        "Germany_5243.boundary"
      ]
    },
    {
      "cell_type": "code",
      "execution_count": 112,
      "metadata": {
        "id": "ef42fd87",
        "colab": {
          "base_uri": "https://localhost:8080/",
          "height": 447
        },
        "outputId": "685918ea-f978-4ff7-d60b-f79c7eb09420"
      },
      "outputs": [
        {
          "output_type": "execute_result",
          "data": {
            "text/plain": [
              "<Axes: >"
            ]
          },
          "metadata": {},
          "execution_count": 112
        },
        {
          "output_type": "display_data",
          "data": {
            "text/plain": [
              "<Figure size 640x480 with 1 Axes>"
            ],
            "image/png": "[encoded data removed]"
          },
          "metadata": {}
        }
      ],
      "source": [
        "# This is just the borderline\n",
        "Germany_5243.boundary.plot()"
      ]
    },
    {
      "cell_type": "markdown",
      "metadata": {
        "id": "24f53d89"
      },
      "source": [
        "Always check the data type:"
      ]
    },
    {
      "cell_type": "code",
      "execution_count": 113,
      "metadata": {
        "id": "a18b7ce2",
        "colab": {
          "base_uri": "https://localhost:8080/",
          "height": 187
        },
        "outputId": "64409f72-de39-4029-c1a3-54217ffe7c67"
      },
      "outputs": [
        {
          "output_type": "execute_result",
          "data": {
            "text/plain": [
              "geopandas.geoseries.GeoSeries"
            ],
            "text/html": [
              "<div style=\"max-width:800px; border: 1px solid var(--colab-border-color);\"><style>\n",
              "      pre.function-repr-contents {\n",
              "        overflow-x: auto;\n",
              "        padding: 8px 12px;\n",
              "        max-height: 500px;\n",
              "      }\n",
              "\n",
              "      pre.function-repr-contents.function-repr-contents-collapsed {\n",
              "        cursor: pointer;\n",
              "        max-height: 100px;\n",
              "      }\n",
              "    </style>\n",
              "    <pre style=\"white-space: initial; background:\n",
              "         var(--colab-secondary-surface-color); padding: 8px 12px;\n",
              "         border-bottom: 1px solid var(--colab-border-color);\"><b>geopandas.geoseries.GeoSeries</b><br/>def __init__(data=None, index=None, crs: Optional[Any]=None, **kwargs)</pre><pre class=\"function-repr-contents function-repr-contents-collapsed\" style=\"\"><a class=\"filepath\" style=\"display:none\" href=\"#\">/usr/local/lib/python3.11/dist-packages/geopandas/geoseries.py</a>A Series object designed to store shapely geometry objects.\n",
              "\n",
              "Parameters\n",
              "----------\n",
              "data : array-like, dict, scalar value\n",
              "    The geometries to store in the GeoSeries.\n",
              "index : array-like or Index\n",
              "    The index for the GeoSeries.\n",
              "crs : value (optional)\n",
              "    Coordinate Reference System of the geometry objects. Can be anything accepted by\n",
              "    :meth:`pyproj.CRS.from_user_input() &lt;pyproj.crs.CRS.from_user_input&gt;`,\n",
              "    such as an authority string (eg &quot;EPSG:4326&quot;) or a WKT string.\n",
              "\n",
              "kwargs\n",
              "    Additional arguments passed to the Series constructor,\n",
              "     e.g. ``name``.\n",
              "\n",
              "Examples\n",
              "--------\n",
              "\n",
              "&gt;&gt;&gt; from shapely.geometry import Point\n",
              "&gt;&gt;&gt; s = geopandas.GeoSeries([Point(1, 1), Point(2, 2), Point(3, 3)])\n",
              "&gt;&gt;&gt; s\n",
              "0    POINT (1 1)\n",
              "1    POINT (2 2)\n",
              "2    POINT (3 3)\n",
              "dtype: geometry\n",
              "\n",
              "&gt;&gt;&gt; s = geopandas.GeoSeries(\n",
              "...     [Point(1, 1), Point(2, 2), Point(3, 3)], crs=&quot;EPSG:3857&quot;\n",
              "... )\n",
              "&gt;&gt;&gt; s.crs  # doctest: +SKIP\n",
              "&lt;Projected CRS: EPSG:3857&gt;\n",
              "Name: WGS 84 / Pseudo-Mercator\n",
              "Axis Info [cartesian]:\n",
              "- X[east]: Easting (metre)\n",
              "- Y[north]: Northing (metre)\n",
              "Area of Use:\n",
              "- name: World - 85°S to 85°N\n",
              "- bounds: (-180.0, -85.06, 180.0, 85.06)\n",
              "Coordinate Operation:\n",
              "- name: Popular Visualisation Pseudo-Mercator\n",
              "- method: Popular Visualisation Pseudo Mercator\n",
              "Datum: World Geodetic System 1984\n",
              "- Ellipsoid: WGS 84\n",
              "- Prime Meridian: Greenwich\n",
              "\n",
              "&gt;&gt;&gt; s = geopandas.GeoSeries(\n",
              "...    [Point(1, 1), Point(2, 2), Point(3, 3)], index=[&quot;a&quot;, &quot;b&quot;, &quot;c&quot;], crs=4326\n",
              "... )\n",
              "&gt;&gt;&gt; s\n",
              "a    POINT (1 1)\n",
              "b    POINT (2 2)\n",
              "c    POINT (3 3)\n",
              "dtype: geometry\n",
              "\n",
              "&gt;&gt;&gt; s.crs\n",
              "&lt;Geographic 2D CRS: EPSG:4326&gt;\n",
              "Name: WGS 84\n",
              "Axis Info [ellipsoidal]:\n",
              "- Lat[north]: Geodetic latitude (degree)\n",
              "- Lon[east]: Geodetic longitude (degree)\n",
              "Area of Use:\n",
              "- name: World.\n",
              "- bounds: (-180.0, -90.0, 180.0, 90.0)\n",
              "Datum: World Geodetic System 1984 ensemble\n",
              "- Ellipsoid: WGS 84\n",
              "- Prime Meridian: Greenwich\n",
              "\n",
              "See Also\n",
              "--------\n",
              "GeoDataFrame\n",
              "pandas.Series</pre>\n",
              "      <script>\n",
              "      if (google.colab.kernel.accessAllowed && google.colab.files && google.colab.files.view) {\n",
              "        for (const element of document.querySelectorAll('.filepath')) {\n",
              "          element.style.display = 'block'\n",
              "          element.onclick = (event) => {\n",
              "            event.preventDefault();\n",
              "            event.stopPropagation();\n",
              "            google.colab.files.view(element.textContent, 79);\n",
              "          };\n",
              "        }\n",
              "      }\n",
              "      for (const element of document.querySelectorAll('.function-repr-contents')) {\n",
              "        element.onclick = (event) => {\n",
              "          event.preventDefault();\n",
              "          event.stopPropagation();\n",
              "          element.classList.toggle('function-repr-contents-collapsed');\n",
              "        };\n",
              "      }\n",
              "      </script>\n",
              "      </div>"
            ]
          },
          "metadata": {},
          "execution_count": 113
        }
      ],
      "source": [
        "# does 'boundary' return a GDF?\n",
        "type(Germany_5243.boundary)"
      ]
    },
    {
      "cell_type": "markdown",
      "metadata": {
        "id": "5b3845aa"
      },
      "source": [
        "Some operations in geopandas require GDF or GS. If you need a GDF instead of a GS:"
      ]
    },
    {
      "cell_type": "code",
      "execution_count": 114,
      "metadata": {
        "id": "c4899f6e",
        "colab": {
          "base_uri": "https://localhost:8080/",
          "height": 81
        },
        "outputId": "719b397b-1b31-41a8-e04f-f4e1ee2444cb"
      },
      "outputs": [
        {
          "output_type": "execute_result",
          "data": {
            "text/plain": [
              "                                                    0\n",
              "87  MULTILINESTRING ((-228178.47 -198681.783, -228..."
            ],
            "text/html": [
              "\n",
              "  <div id=\"df-89503be4-8d21-4ecf-a4b4-9da4a8fa4c7c\" class=\"colab-df-container\">\n",
              "    <div>\n",
              "<style scoped>\n",
              "    .dataframe tbody tr th:only-of-type {\n",
              "        vertical-align: middle;\n",
              "    }\n",
              "\n",
              "    .dataframe tbody tr th {\n",
              "        vertical-align: top;\n",
              "    }\n",
              "\n",
              "    .dataframe thead th {\n",
              "        text-align: right;\n",
              "    }\n",
              "</style>\n",
              "<table border=\"1\" class=\"dataframe\">\n",
              "  <thead>\n",
              "    <tr style=\"text-align: right;\">\n",
              "      <th></th>\n",
              "      <th>0</th>\n",
              "    </tr>\n",
              "  </thead>\n",
              "  <tbody>\n",
              "    <tr>\n",
              "      <th>87</th>\n",
              "      <td>MULTILINESTRING ((-228178.47 -198681.783, -228...</td>\n",
              "    </tr>\n",
              "  </tbody>\n",
              "</table>\n",
              "</div>\n",
              "    <div class=\"colab-df-buttons\">\n",
              "\n",
              "  <div class=\"colab-df-container\">\n",
              "    <button class=\"colab-df-convert\" onclick=\"convertToInteractive('df-89503be4-8d21-4ecf-a4b4-9da4a8fa4c7c')\"\n",
              "            title=\"Convert this dataframe to an interactive table.\"\n",
              "            style=\"display:none;\">\n",
              "\n",
              "  <svg xmlns=\"http://www.w3.org/2000/svg\" height=\"24px\" viewBox=\"0 -960 960 960\">\n",
              "    <path d=\"M120-120v-720h720v720H120Zm60-500h600v-160H180v160Zm220 220h160v-160H400v160Zm0 220h160v-160H400v160ZM180-400h160v-160H180v160Zm440 0h160v-160H620v160ZM180-180h160v-160H180v160Zm440 0h160v-160H620v160Z\"/>\n",
              "  </svg>\n",
              "    </button>\n",
              "\n",
              "  <style>\n",
              "    .colab-df-container {\n",
              "      display:flex;\n",
              "      gap: 12px;\n",
              "    }\n",
              "\n",
              "    .colab-df-convert {\n",
              "      background-color: #E8F0FE;\n",
              "      border: none;\n",
              "      border-radius: 50%;\n",
              "      cursor: pointer;\n",
              "      display: none;\n",
              "      fill: #1967D2;\n",
              "      height: 32px;\n",
              "      padding: 0 0 0 0;\n",
              "      width: 32px;\n",
              "    }\n",
              "\n",
              "    .colab-df-convert:hover {\n",
              "      background-color: #E2EBFA;\n",
              "      box-shadow: 0px 1px 2px rgba(60, 64, 67, 0.3), 0px 1px 3px 1px rgba(60, 64, 67, 0.15);\n",
              "      fill: #174EA6;\n",
              "    }\n",
              "\n",
              "    .colab-df-buttons div {\n",
              "      margin-bottom: 4px;\n",
              "    }\n",
              "\n",
              "    [theme=dark] .colab-df-convert {\n",
              "      background-color: #3B4455;\n",
              "      fill: #D2E3FC;\n",
              "    }\n",
              "\n",
              "    [theme=dark] .colab-df-convert:hover {\n",
              "      background-color: #434B5C;\n",
              "      box-shadow: 0px 1px 3px 1px rgba(0, 0, 0, 0.15);\n",
              "      filter: drop-shadow(0px 1px 2px rgba(0, 0, 0, 0.3));\n",
              "      fill: #FFFFFF;\n",
              "    }\n",
              "  </style>\n",
              "\n",
              "    <script>\n",
              "      const buttonEl =\n",
              "        document.querySelector('#df-89503be4-8d21-4ecf-a4b4-9da4a8fa4c7c button.colab-df-convert');\n",
              "      buttonEl.style.display =\n",
              "        google.colab.kernel.accessAllowed ? 'block' : 'none';\n",
              "\n",
              "      async function convertToInteractive(key) {\n",
              "        const element = document.querySelector('#df-89503be4-8d21-4ecf-a4b4-9da4a8fa4c7c');\n",
              "        const dataTable =\n",
              "          await google.colab.kernel.invokeFunction('convertToInteractive',\n",
              "                                                    [key], {});\n",
              "        if (!dataTable) return;\n",
              "\n",
              "        const docLinkHtml = 'Like what you see? Visit the ' +\n",
              "          '<a target=\"_blank\" href=https://colab.research.google.com/notebooks/data_table.ipynb>data table notebook</a>'\n",
              "          + ' to learn more about interactive tables.';\n",
              "        element.innerHTML = '';\n",
              "        dataTable['output_type'] = 'display_data';\n",
              "        await google.colab.output.renderOutput(dataTable, element);\n",
              "        const docLink = document.createElement('div');\n",
              "        docLink.innerHTML = docLinkHtml;\n",
              "        element.appendChild(docLink);\n",
              "      }\n",
              "    </script>\n",
              "  </div>\n",
              "\n",
              "\n",
              "    </div>\n",
              "  </div>\n"
            ],
            "application/vnd.google.colaboratory.intrinsic+json": {
              "type": "dataframe",
              "summary": "{\n  \"name\": \"Germany_5243\",\n  \"rows\": 1,\n  \"fields\": [\n    {\n      \"column\": 0,\n      \"properties\": {\n        \"dtype\": \"geometry\",\n        \"num_unique_values\": 1,\n        \"samples\": [\n          \"MULTILINESTRING ((-228178.47011408766 -198681.78348779998, -228621.5569828455 -200536.57669975347, -234230.67871820848 -204776.26281549025, -244248.91512806527 -203278.02573039127, -248670.70181266576 -202363.98055051925, -253537.83260365183 -195458.16813130717, -259881.84871633002 -191512.9822932272, -266020.8923365608 -192119.39518157966, -265439.9954098475 -195518.86305199465, -267208.00950803736 -198402.43635715084, -274773.1025209169 -196620.76883596307, -275692.09868853807 -194385.6661668922, -277406.3109611971 -187872.7845397177, -283412.6685544792 -174414.82035111886, -286925.5882056941 -167454.57603559952, -289195.08723668236 -165229.18359012261, -291976.7734331085 -163004.80022696074, -295837.39153377863 -161198.8505654143, -299669.67541836656 -162799.54599885046, -299439.5751543196 -159497.1193350928, -299664.6892872765 -155398.63046974505, -294153.18533614295 -140124.10168854575, -290265.97817425005 -137316.23298773472, -287783.5008021066 -135932.79546010602, -285866.7732677519 -124785.54891342715, -288868.84583733627 -124243.4207745731, -292633.08638647106 -124283.32312565132, -295031.81880451617 -123160.37431055518, -300184.35872430465 -119468.1476093444, -300511.35584546527 -118671.4958992643, -304869.1866809855 -115410.66467293174, -306106.05764955684 -113653.2960303623, -310056.23427903897 -107453.61057087366, -312180.73586157395 -102564.58423373074, -312764.01486199367 -100303.43317344454, -313727.06659363734 -95405.65410989232, -313128.5399285652 -91714.69774325845, -312168.1734579724 -88616.97544859647, -311736.56763090816 -87675.95343866, -311182.781159995 -84747.63125612416, -308802.0368873128 -77064.30636523686, -300299.93404441845 -71002.88332932275, -295219.1450815821 -68045.38550479905, -291709.66886884865 -67084.94805344829, -292723.46793804195 -53668.669733451075, -294874.4301180778 -48677.08081204047, -296628.38341624005 -47432.97452727731, -300075.1274934245 -47173.792605206276, -300687.2784386549 -36964.03403522641, -298892.06832982035 -33651.18200450331, -305937.0346680414 -29173.292574966847, -313419.70341671415 -21241.606906655557, -316214.15122264 -17323.621076733427, -316172.5759374652 -12321.617883567766, -315300.0481404249 -7982.896516313468, -312326.33134581737 -7181.141309405548, -310336.3181446251 -4896.678404471514, -310305.15246108855 -150.8134307506543, -313798.0675036996 7104.786565028611, -319439.8267925192 8155.132220554729, -322439.849885288 7097.034323718033, -324400.7015323858 12316.739339605807, -324526.41359084484 15271.238591087735, -321567.201355906 17064.920589975423, -314608.80644378474 18977.35224810467, -307697.1390005062 23785.684647506252, -308320.6387257342 28628.739274907104, -308945.3683621472 33101.248583223125, -308346.8824050967 36103.927460719286, -303436.39460812905 41810.899277574266, -297470.9420102264 49022.17869660735, -296826.6424756484 60582.6917366802, -297721.0358296239 65768.70707214883, -300628.962432621 70934.79552152718, -302246.80261140806 72422.67171722748, -304808.4583210368 76473.05622533783, -308598.8743728313 87931.61009107239, -313614.6323893074 92790.55951306222, -311366.68684918503 94844.50701157028, -312413.3579914732 99302.51206849243, -309541.80283892335 101724.35518757277, -300869.49463691213 107666.50839166963, -296797.6676296209 108229.24841335005, -285497.0850255051 102320.08053710942, -277786.9239424388 102508.84311381492, -273212.92096797837 104579.16615049815, -268466.13014124194 106736.82670970514, -262199.88142658735 108138.88018802859, -259679.68200008935 106477.81459788044, -257992.4401615812 107303.43933042018, -255369.848868239 109242.26245575037, -251935.65329486455 114750.55075407252, -253908.12663051806 118521.67404534291, -258477.05483666772 121706.62122467798, -257709.0738825664 126274.77911836539, -255918.5352458357 130402.76450984323, -249281.45023841405 130728.25710445584, -247860.9788919003 133092.41428676606, -245815.00541601246 136316.2990966017, -241479.5317619321 138116.02720053247, -235973.4411233495 142461.03047700567, -235200.2810045971 143103.21972345604, -236624.0623662979 147677.91314741835, -236068.07121467247 150720.40350333246, -234338.3479165889 154180.0368922661, -233407.04149236548 156161.51972552246, -233729.8667055118 160087.43865696047, -238742.3903156325 167715.26173739677, -240871.70149339616 165575.74106313242, -253996.58240738636 168870.834215857, -257561.80770480368 172085.1441353159, -258181.8079674449 179060.93890975363, -255902.66955752805 179932.96143281975, -253461.96478136582 180387.86129692983, -255208.08634799608 186485.57766125165, -255759.84812987744 187424.68614242302, -255615.58257594614 187712.91651334707, -252456.49191982148 189971.80388512925, -242985.4562112238 189159.23181873496, -234447.23423306132 187086.65373047578, -233028.8811436429 188844.44752556522, -231970.75732667226 196789.17822880475, -231674.3712607461 201121.07657520552, -231423.57391419334 204681.34751058248, -230805.4435502328 207683.4273905172, -229523.20962491844 209537.67071791645, -226433.54636686243 215182.77206645752, -223069.89117764076 220071.4527653727, -221823.36732827546 223169.8805727945, -220600.1492886452 228280.04821049035, -220018.69847298125 246875.49389235533, -219610.3429564196 254284.89317905306, -216086.04708181744 262283.9241937684, -211486.8454303076 262183.7233370527, -209799.51833702004 261032.04566980328, -210644.01754226978 262827.96172636223, -217908.25597938272 264631.35985902336, -220750.53301248205 265253.350156774, -224579.82866657543 265335.0402721003, -227486.77376384396 265144.3205801039, -229660.1466825137 265694.5892586109, -231540.07049748718 269596.97002729715, -231621.16154469014 273445.7005468386, -230988.25205661886 277051.6265075009, -230087.87253055436 281449.54066723003, -225485.89687242484 293024.59988574474, -219183.38775546453 298755.94760212535, -215930.6778658755 301395.21358762955, -211633.5038401629 303217.43275157525, -208628.85951150872 303458.7740224814, -200215.90859472466 302810.3690466835, -197326.36522294857 301144.8834231463, -192781.91677238457 301999.5355364551, -184998.78498608005 303799.915132055, -175372.58356086607 304989.8707137763, -172775.0105540471 305268.0017232705, -171117.89868464586 305425.9468342576, -168376.29415194987 305113.34643359855, -166240.34068974364 304791.58148853946, -164112.7334132719 303946.381162158, -163479.36379282345 301840.38719366, -161904.57856579137 295303.4002144197, -157324.84509435063 289956.40067824826, -154944.18599267406 286980.69057235576, -154695.1804343915 283655.5781726516, -157226.2038727839 281602.29275931546, -159617.02803002577 280937.9714409186, -161701.77308897738 280767.11173902114, -161121.9486665484 277105.8401477155, -159563.00699266113 274410.75236420415, -152236.28588252288 269568.5577337544, -150638.57269266516 269240.8900080317, -149849.59341102725 269355.9278226959, -147140.77155371977 271399.07732573914, -145307.12885655052 275287.2672438089, -144609.90776549175 280747.97990904195, -145535.81981239465 282924.9412485405, -147990.85286204013 282488.7923078677, -150269.0229292149 282875.3331523933, -149933.9588717912 286723.61992137483, -149432.45339225142 289862.2789013278, -147604.41836923896 292188.00489599176, -145156.44604490703 293166.4199726605, -143434.7712743011 292929.7307442381, -132886.8175168477 285918.62502898433, -131772.10740971102 280833.0242009777, -133054.18575636324 278602.68326854653, -133860.30883789467 275602.0298041626, -133966.2832221512 270054.0097418261, -133740.01400384615 266167.57781419693, -132843.11968636131 264473.54745102953, -132538.11152168864 271963.2822990355, -132992.04090499505 274959.5825849397, -132445.89016489632 277913.0472713427, -128602.76809865399 281399.8291460182, -128254.44013966915 282907.1201552213, -131554.23178353652 292810.0665537623, -132840.63125925287 296370.5993618095, -133171.59840382435 300547.5419124272, -128557.53520825708 315122.2830989302, -126521.10827960074 319151.68451431365, -124661.16306802949 321778.7572813347, -121043.25189184315 323202.9239314855, -119515.04245188028 323304.2282878645, -117647.82081514748 320636.6377897218, -114764.34481645044 317930.8042444658, -113518.96415732178 317220.96013575007, -112105.03964078941 316662.1530958412, -108445.11966192829 315898.3234962254, -104864.70420507644 315633.40389690635, -97379.40984246132 317549.72090736416, -91768.47095315163 319295.2653568368, -90209.35369186962 319575.1406142609, -84482.89240508083 319332.8539269066, -80063.85137171282 318221.40546755964, -77548.99625872006 315134.93669528386, -75690.10575519703 311749.6734473934, -73904.51456634798 307578.21138734714, -71788.61967912702 303836.2662852161, -62550.43604050261 290011.03169792943, -61055.72722419327 288230.0564129386, -54816.178854489815 284476.56121832895, -53294.841968853594 283872.9519075871, -48735.221764745875 283096.6962966421, -45787.64104301311 281956.6673222863, -44474.39805747063 282829.671651065, -47768.6180465595 285129.19692459865, -50279.17280113347 285479.669044992, -51399.33697982062 285552.49569819734, -53033.6927914387 285879.0927882074, -54791.48703948721 286671.24928047665, -61195.45503901183 291014.49998241063, -62590.81708079023 292593.4595265518, -70322.79178224258 305654.360361151, -71396.32140412339 308685.510348853, -71984.16933914034 311044.29879770614, -72857.60647690781 314443.30152698804, -76815.78650683032 318107.1674877718, -80095.50471423549 320449.1173423293, -83226.3581068672 321707.7709512241, -84626.31800988848 322103.28401064937, -94470.60500265878 323213.27378764097, -99670.54751732101 322629.5993677772, -102045.13268131178 324388.38787851395, -103329.67726532456 325807.23512695736, -104653.20996399308 327505.9599436889, -106148.39533670688 330477.3030401963, -108198.72720013147 335844.033317997, -108509.486748726 338731.3625287276, -105770.82613253512 339780.548776477, -103104.54695990673 338887.10423013504, -101400.89597120899 337644.45626359305, -99981.60219641 336702.7265136718, -98204.24801896814 337655.9950477362, -97494.96883304112 339853.18404195784, -97063.78414658777 344082.9870247573, -99973.85972210947 349339.36168672395, -107746.8056860013 349097.28705350455, -109321.38502460466 351770.524740731, -110214.76237834012 354390.03888772853, -109692.08447153009 357008.2569278404, -107871.0903306474 363155.1554070996, -105296.75465869693 367554.28493946313, -108790.60091901837 367538.8864457385, -117966.09918311339 364885.85359676386, -119770.1166929536 365000.2999760037, -121367.87070135828 365922.32578728354, -123113.07422425016 369185.7147651007, -123643.92948594238 371581.95425605564, -122098.82090759775 377361.1796004123, -120715.34162828316 379384.036662108, -112480.93203966835 380714.84452863724, -108709.13571332254 381061.02252079017, -107537.2077455185 379997.4545099537, -104786.42718523364 380911.28937778005, -97699.9687289991 384970.3364387427, -96399.69940927939 387512.2898541718, -96511.15651496525 390686.997710234, -99481.4252745294 395081.52684823604, -100790.50882925045 395727.9601167325, -102359.63920238707 397231.78572430316, -106615.58735785894 403980.26551603235, -109138.14871439614 410291.3755655179, -112605.49468033438 414242.3125425555, -113870.20506483005 415325.2805724716, -116217.74489487549 418261.7271125426, -118990.42457125572 424995.24702251144, -119557.67612002903 427851.1335582338, -123678.05414131818 430762.27658761793, -125603.57552383227 432287.5734485388, -135606.2660962562 432155.3625332533, -141373.13080547008 431155.1530199454, -141892.41015003406 427694.08757277636, -141909.79060518066 422491.8452444133, -142400.69219323824 418515.29817888787, -142954.79332288363 422120.5313153243, -142682.75685739942 427873.11002230464, -141712.0431180553 436082.7633386847, -140712.39690913932 439676.5741728574, -136147.90846449367 450725.4183307522, -135146.15411760236 452462.06720194663, -133852.122166299 453246.15158814273, -130915.27871576043 452543.6491128085, -132016.50416430307 449585.01843935327, -134028.56979316022 447984.48263594933, -136363.12837723087 446363.49755753763, -137655.63658477095 443272.29382984823, -133492.50084919302 437971.6066741728, -130935.40133729375 435706.9120746693, -129055.5850015197 435720.2259184378, -121962.40810993506 436670.2237216512, -117843.39670645127 436824.6032683041, -116078.46540954795 434856.3810994319, -114378.69062481537 434287.96597139083, -111827.1120841027 435001.3013690245, -110075.95305691868 435857.93251847394, -106893.6729136232 436641.3276718506, -101457.11210070274 435881.72789294826, -100107.53007882806 435573.9398702695, -85563.84207522182 430767.7563876522, -81737.17650582177 428981.3286288018, -81651.155378944 426719.48507310235, -80556.97238182748 424843.08257078775, -73964.28939921444 424503.2965880799, -72236.8550149975 426380.9648123852, -69815.10910631908 426978.96614837466, -67857.01686358723 426066.95770875434, -68265.61356149829 424131.0988201267, -59301.52425712735 425968.9808860601, -54028.439487489195 424419.48998238595, -46011.723288503155 421425.144230257, -38498.34238519294 421915.0082075254, -36337.284480674134 420876.79558567505, -34024.00059965257 418498.558873534, -29877.862183188958 408160.8383721831, -29731.956860813625 404241.9035975758, -30271.79740889697 395577.6522943986, -32121.114875290754 392076.0134473084, -34321.14064238565 390282.6740755715, -39368.407894631884 387474.42949701956, -40795.9729791 386990.92667106766, -42454.53829373741 386920.40944061906, -41144.30636137753 384742.95043140743, -39376.25234582795 384349.4084346472, -32005.100999016016 386560.9319047296, -25544.689947060753 388215.8086773349, -24193.416198172567 388239.3579983873, -8549.761186882022 382152.4360022493, 7137.186200993195 373795.7089338443, 9518.287310939664 371224.24994556775, 12409.884613074271 368098.3449664703, 17747.450580893423 367883.60399903654, 19210.541972230643 368461.11180564173, 21602.79312257529 370474.9796908434, 25060.5010767573 374010.6967365154, 29024.67854673021 376547.2213438055, 31171.95974108173 376120.11842143023, 29796.01838319361 375932.8866909619, 31666.03850476612 375163.9434909443, 33618.35487089692 374960.57358889154, 35425.07676301936 374943.0245014866, 37316.081997614034 375700.13480940025, 38774.70245684194 356677.08109872916, 36581.903970427535 353512.4337165806, 24909.618093203375 343810.10483992234, 21745.902867815967 343802.4162293886, 19728.323638742448 343639.1118464482, 17177.637754886728 339964.1839572959, 16867.214226189255 337658.89672081737, 18172.07724349689 334416.19546081324, 19388.484758770068 333184.1594325673, 21138.557605900896 333036.9155637394, 23708.043426361142 333018.2806092999, 24919.919734035455 332135.0393695088, 25617.522394998166 328620.4377393095, 23896.179764600205 324452.20765216684, 20946.899902294655 321445.42236979393, 26206.07108809767 326041.46232812345, 26554.398973412593 328964.4094685053, 30496.581543762353 331540.1904496671, 33656.59512277666 333232.0344513207, 36423.743922496324 334596.8153902231, 38997.3700504491 335313.5004668844, 44823.00249854264 335178.1057552524, 49371.19529097341 327077.1859615112, 59982.00377471058 325074.5938905244, 64393.7414656214 329647.0369936616, 65126.26427032104 333476.5588617523, 66988.72139884798 337809.12688812736, 68483.31272246955 337064.27791012306, 69137.91086784018 337135.63977957837, 70573.38231506899 337976.25461754965, 73738.4845453994 343378.529565081, 73673.47895824874 346583.11850861635, 77613.71802267952 351331.35704729304, 81529.00004124061 351744.9867667699, 97083.0956611984 353921.3784186289, 106419.36049031615 356099.21336187667, 119031.02596600897 367039.5992713028, 120477.43141728971 368917.6445617134, 125889.76230182215 378851.96765528736, 128564.4131008609 384834.9871013809, 131482.79359306465 388257.43825114093, 132412.68079381526 386581.0726480469, 138806.09046898008 385655.0000666471, 140231.99155134617 385380.8414835746, 141555.27362954934 385289.83295289206, 149516.48586529875 385260.15868595394, 155834.65337759646 385446.5992422412, 157241.24696601406 383832.5375526879, 154637.58461124945 382018.0248170498, 146697.31494289794 381890.32937410247, 144772.99602006472 382981.508461808, 143100.21295339573 383634.1964305042, 141000.47213713126 381894.27009982883, 139219.0887712297 381760.381272438, 127628.63798264507 379346.9537079347, 125222.10286761324 376761.0853245314, 121502.693519153 369167.5237927345, 122189.29884173555 364419.6692150889, 124433.06619782068 362953.02316773956, 127259.81681503728 363135.6011616939, 125431.01116263522 364116.2648820567, 125053.3154333662 366613.36595428095, 128873.9385001469 372339.20845956425, 133312.65598442106 375648.6314469435, 135383.37250291306 376573.9295806778, 138149.9966407183 377147.8622222834, 141912.68983442997 377629.61908353324, 147250.94913349862 377388.9847957426, 163991.4984308539 380967.9448132254, 170632.3873014359 367463.01477694476, 176848.38295822282 364956.245262661, 181654.02615610912 363232.71278054797, 188047.06338156507 356745.57651647355, 193316.1685223388 348333.93558291305, 195485.4456421916 347338.0474471345, 196317.8144856693 347232.51819669805, 195140.6395014124 350899.6346411394, 209713.68000413702 357240.7268423052, 215112.71969760096 350668.3706639362, 215903.09857069963 347855.0780653441, 215228.29277249897 344017.0307697325, 218403.3721026134 337070.15747087507, 221152.65149614858 328032.613438277, 218391.7950469396 324811.81992678164, 217673.97596326467 322372.1790708078, 227994.38793152128 313956.0275700999, 245845.83924441173 306563.7545396397, 248009.26906505952 306287.02242892666, 249268.64357020854 306542.0445517797, 252344.73814263992 290706.94898579415, 260478.64840682736 266999.7215796181, 260650.69422478072 263163.09773440677, 260190.59981259884 245281.60933644522, 259627.9776405151 241460.70495196225, 257783.9426041618 234540.78048247774, 254367.15372588878 231008.35444387366, 249958.38854599863 227454.14109172873, 248296.48742839342 226906.19226467167, 246255.15396088688 225535.17875465757, 244907.72977762826 223898.2658071857, 245542.5161074301 213187.95457844491, 249571.6909199373 208470.6603331022, 260047.19718872398 201183.01836824045, 262059.4872122884 199339.80961183057, 266773.19400130084 193404.4034361044, 268963.4079637324 190985.34640754157, 271454.85268268513 189636.01211407737, 274239.4513029522 188458.68984353167, 277149.1850993389 186349.14776937675, 280321.9925069306 182756.5869378828, 280428.32453449717 173581.85259049488, 277460.99461266084 167769.99946292155, 276013.03703771794 166947.0799391044, 274776.86342802143 165618.4088517018, 274287.25729481794 162738.0017478836, 278037.29536001536 150927.37089361338, 279428.9747337958 149272.5046581838, 283385.4646761052 148103.1407828681, 285919.92481909954 147597.1909572434, 287026.34659843886 146678.24957513643, 291758.9690099954 127377.71001926971, 289610.9490218163 113138.9772425883, 288003.84413484327 107905.99492499504, 285150.37926200643 104218.21544555083, 282832.4133626338 102185.56163745075, 282376.5669033762 99028.58533153131, 287591.6920261874 88613.54705833689, 289801.7411029541 86326.93149550373, 291530.3199146656 85173.45807894925, 294033.1530098959 82619.49906505691, 294630.0330200314 76058.2075660149, 291909.4047014232 70025.50539990501, 293781.12453416013 66993.66594593703, 300751.27823503286 64291.96523736282, 306652.9947221782 62788.483415748444, 308946.36216826335 61596.60538211367, 310702.7356996055 58455.38411832784, 311630.78843823454 50407.728502975115, 310997.8814083654 49163.16547180313, 311968.15520271903 46593.2996902883, 313424.16622385895 44810.31600072686, 315798.29067947593 41600.03973531735, 316012.33244972536 36324.466489607265, 314200.1452721864 22788.072514359614, 313386.4748257195 18253.600158356057, 312630.9316231952 15299.636613103807, 310555.2232482112 9637.63511987119, 308449.5005692511 4717.436340440862, 303990.2506441704 -4052.430233439364, 304254.0740915589 -5954.442657014008, 304081.693573645 -7016.173154294562, 302769.1854849305 -11175.505497978467, 300572.0432352719 -11458.346228882581, 298300.8858330421 -10971.602608515941, 296724.99138890463 -10474.585988153087, 291965.7593777882 -8735.401159156132, 289618.72687848174 -7639.04918043832, 290329.6761649895 -5055.946671336418, 289850.0875558851 -351.5357719051792, 287303.5391397276 6061.466339351644, 285196.54180438665 8510.817607416939, 279582.4966417426 11665.105832645655, 266516.47460337146 12734.035811660879, 265154.5322113543 10994.774627782437, 263470.49008722504 6193.404439686845, 268180.08830215066 980.1589279081644, 271546.3177339965 -79.9683744785623, 267856.5526144385 -6146.942116193594, 257130.40105323712 -11050.99733796395, 245693.95175076232 -14790.301102448899, 239704.01410521695 -17991.873878630748, 238923.19871683934 -20176.406445991277, 228058.84961183264 -24900.012515417126, 223521.72824518505 -25653.631282401584, 221091.62435747607 -26159.31345810059, 217450.52700693568 -27734.900305559393, 214642.44486423934 -30045.71391666536, 212684.74084818937 -34483.32518654922, 213263.63509964856 -35424.917424905194, 209555.04487931976 -40048.60631284166, 207649.40336485495 -39723.705382791835, 206081.4104988707 -39105.969451528836, 203421.69338002693 -37202.59875799335, 194494.18499077018 -42023.95850708445, 192786.13255936335 -46285.20608254109, 191701.68924582104 -49774.05547393125, 190435.85223501426 -51782.25355298455, 182819.48189494378 -52579.924578094106, 178496.80500364842 -59263.64564538911, 176910.0999252827 -61341.20596224666, 176467.35815547197 -61665.024988807134, 173599.95515710098 -62687.667034352504, 171630.62165287562 -62227.636020119586, 170251.69807156958 -61099.04903038683, 167175.48728393976 -59314.69438970779, 164959.96221746108 -58180.55367029805, 161234.52456723375 -59192.4954354771, 159024.06183061615 -60758.51634640791, 154190.18722062302 -63080.800163026885, 150611.08742351554 -63185.29689773069, 143176.6394307468 -65556.72565659767, 141153.68716917062 -67773.14624774581, 135119.7959445088 -75035.75927949, 130123.15292526892 -83284.91721115327, 130026.21339463459 -86560.59628316757, 127003.41482798329 -85322.5100839979, 119738.58901342687 -74808.60693735593, 113391.8011307549 -74065.82586359525, 115445.08303330405 -75584.4860064284, 122015.96950007396 -91539.87845407515, 120990.39529825877 -94598.02119634705, 121948.20611575914 -97922.85019882458, 126300.94290744452 -102278.26072744554, 129351.7498921315 -104273.7956733255, 138232.9548291022 -110007.90948285266, 141241.36878040215 -110823.88544058899, 142724.22250266248 -111896.03664473143, 146840.13474800263 -119149.34689431456, 141654.47591596903 -133313.38334306955, 140985.07961023613 -143107.47809400733, 142480.77239802864 -143592.60809561843, 145360.47612231443 -145027.4744908151, 148377.67348369618 -151677.96724749816, 150278.4976952843 -157863.70205034924, 151768.67320200845 -161497.5932635207, 157650.7065277604 -172725.71311776785, 166845.05373765706 -181914.6973327315, 173376.24057521403 -181648.87878419438, 178610.90945760804 -182082.63834099582, 184025.11982957582 -187143.867606929, 194827.80473000975 -200171.90204323828, 205704.4646754313 -207151.8524826504, 211594.24430894377 -212671.45721087145, 212252.47076440442 -217427.42302957366, 220239.1207523862 -220855.14668644694, 224263.68440024587 -220558.48796178514, 226571.58925628642 -222269.3276691776, 228868.38707674097 -223261.425595062, 230964.35202820163 -227979.32459229007, 232521.2494308725 -229581.22289164324, 234564.45167938343 -230621.5334335412, 236655.91575880226 -230305.89312318998, 237989.80443515873 -231421.92052481204, 239287.55898526713 -234123.79119292102, 240701.0396903888 -235390.25265661863, 243207.86068708895 -239041.86804303032, 243768.54808857426 -241281.8623964243, 244926.80475358645 -241924.95508574462, 243718.1354726473 -245937.08865854293, 245041.51795780243 -257781.9455127204, 243688.16712287877 -263239.05888032174, 238283.77314864378 -270942.9158075166, 234582.57478172748 -269245.0715474945, 232850.34738039182 -267162.9955851929, 228941.69472270188 -265504.83063610573, 222659.49052228633 -263927.1273441538, 217210.46209434466 -266857.39400266, 218462.98177896877 -271780.6498741559, 217399.7162616935 -281408.16074506304, 216382.96657422572 -285723.2466449, 214502.85666023512 -288572.92969037563, 210220.23413854075 -292913.8265792324, 208648.20704442315 -294396.67910740443, 206633.26394496366 -295647.8900118321, 204641.36994384896 -296434.64753997966, 196983.81457561074 -297457.9504200227, 186970.7045534464 -301459.0522526153, 176296.17150843478 -308105.170672246, 168284.55299769033 -317392.50417424226, 168905.9951780126 -321771.0107705228, 171454.66569628232 -324767.93338436476, 174399.2890746761 -327411.13915282954, 175921.6769401916 -329372.6052357951, 176602.55858183373 -331281.02664650313, 180733.77210744045 -335245.9399142204, 184491.91597596678 -340779.1086776093, 187849.0643721248 -346541.33033293975, 185142.96859506352 -351488.1101942913, 183246.82446832312 -353979.51458015514, 181215.5741955497 -361143.96830036613, 187244.18931699774 -362149.35572437086, 189405.55947730865 -360961.92875562864, 192122.73012000837 -362878.3288610374, 193634.64246305072 -364913.19427000836, 195509.50326260197 -369796.20218397846, 192553.14827264092 -386085.84462862456, 189580.6285174508 -389281.9021390177, 185433.3066292429 -388617.0842722872, 173758.30159733587 -380342.93632235803, 172267.51576367216 -377180.9402790049, 173496.15709926272 -373654.98329120636, 175118.88497130986 -372892.3961282929, 168074.53816848696 -366268.4570809401, 162725.7742598336 -366173.39969303866, 158076.79843175257 -367723.45177497354, 156135.75389214378 -370909.41462145513, 155411.66417048487 -371177.8372450254, 151512.0421670949 -372252.2431754051, 146940.09636323847 -368533.68130582094, 127887.60846830106 -370151.4408982353, 128416.36280800031 -372823.7089265569, 128035.76207455702 -375102.2365121001, 123513.69258583296 -375414.3977702853, 121226.912310489 -375063.27893624105, 117367.89084437635 -374496.8265466832, 113326.06849604362 -374148.00530231063, 106849.87129020855 -375420.7993977156, 89075.07558089266 -379013.38119645155, 81404.99351678217 -385879.1963004531, 79502.75621723424 -386857.9322733678, 75805.71971359971 -387620.51349115564, 72198.59264983023 -387328.97504809883, 60151.339153351255 -396747.9353695927, 45652.19200279649 -400488.11278310517, 39953.33663972278 -400671.7078633586, 38420.35812226213 -400620.52228292054, 36023.707222238074 -400141.89045891043, 30870.459833183417 -387063.52872635925, 14377.735084430107 -383142.51318522904, 5233.41319882667 -384673.51119703596, -1370.0394749355512 -379529.00853866705, -4994.140930801529 -380198.97446781996, -4795.059748826039 -385911.0749444244, -2551.7966946100582 -391060.0555466842, -1982.4923920920126 -396099.3015650611, -5311.709269381819 -400719.36947310576, -12365.662044056417 -409992.71098072286, -17084.486097070505 -412631.34232460207, -20540.246033272975 -414049.9315238645, -24749.9035631359 -414179.7538757218, -21824.70654626061 -408873.59052271943, -20284.818077889213 -403174.4388207304, -34467.67948441689 -389577.0641858344, -41072.924751893486 -384585.7507371105, -51870.316446821475 -378435.7921990221, -54550.08372833807 -378734.3937396467, -56774.77344592636 -381540.9020699482, -57816.93307355932 -384280.521180555, -60865.2440355349 -385539.46277378884, -63957.42360451643 -385504.6416275569, -67178.39584827394 -385466.53538996185, -69493.31667290199 -384558.23441719264, -70332.35723384225 -384210.09766142454, -76939.22768198968 -380182.0846215822, -93133.36160875553 -370251.0618408639, -106498.72418945238 -367497.40148142754, -110196.47366556046 -367100.0667135287, -112655.03522774743 -367885.6456026698, -114286.76251986339 -369042.27953717805, -116696.14534786789 -370399.0666286529, -118348.81154247372 -370997.44738637586, -120387.20827276063 -371061.70639020053, -121551.01516530491 -370666.8198358222, -123504.37379826915 -365644.0825858779, -124999.89243707027 -363477.2223821066, -127190.4361837345 -361424.7643140406, -129577.59349018738 -363603.0773315859, -127731.80097638353 -367457.8398144746, -131216.3702352352 -366053.4693239977, -133695.15987398638 -365658.140740069, -132760.11561167828 -364382.210133086, -132314.48774412565 -358962.58689444856, -136051.6602130781 -355578.8810661264, -137831.63058030317 -354266.8104709962, -141541.6195007183 -353523.55528622336, -145186.72377879408 -353119.1773681906, -151728.84941201864 -356954.78566745936, -157206.10963923237 -364462.5863850932, -156386.7204906674 -367593.6129252951, -151480.44921008236 -370714.4949514441, -148710.41454244443 -370279.25992783724, -147284.4680817352 -368910.5295424253, -144265.92426660744 -368510.7274272802, -142036.72063802584 -368666.1523937458, -140964.0593575207 -369976.0661448461, -143523.05030359369 -376106.5269654219, -144801.49651944826 -377095.4251542244, -145306.5814449264 -376284.20584444935, -145738.64778921707 -374061.9622878067, -148662.76050828065 -372391.59096198896, -152667.4360255245 -375104.1005477302, -155437.26172555104 -378784.3390635177, -158804.58448595004 -377977.78076509206, -166364.9401695651 -374515.8542140572, -169960.15253631983 -373254.6819899062, -173346.6264292048 -373048.9004513222, -180588.79987096103 -378303.36187481566, -185801.4810893285 -379797.27488191053, -194514.78591430842 -379707.0063147479, -205660.73167878776 -379404.43770544184, -211161.61786796406 -380311.34010078193, -214226.37132663195 -379388.90357206017, -216815.55793454367 -378112.8952598691, -213160.40421337698 -376591.53653777455, -212519.24544070344 -373391.1491307196, -215166.79864462867 -373412.82780617225, -219184.7284809855 -375415.92680207855, -219083.97366945547 -373812.2059716129, -220755.1768619718 -369262.98628814856, -223395.70725783767 -366566.0530369556, -224416.29231718948 -362881.53466825985, -222903.5564291652 -352594.81772597466, -220281.50809574756 -344379.4172839331, -218086.72769766403 -339951.57918274263, -214865.7611328268 -332315.020152773, -215019.25738730578 -329695.66805741674, -217561.03032457852 -326177.69530044054, -218485.10077641206 -324261.13402645226, -218382.45276577363 -319465.1321375761, -217574.22881349278 -316159.5991493787, -215184.09529180249 -311023.3175464611, -208342.07837044832 -298798.90431004146, -203986.43584195874 -292350.7943436782, -204257.89881132744 -288409.7982012036, -204635.31397441318 -285845.17305441777, -203859.74218084733 -282432.28122452094, -199041.19899710346 -265819.581154556, -192955.2928161472 -256210.1248875677, -186692.51208465785 -249753.95488242919, -176823.86578115943 -241246.93199020956, -175818.34618166788 -239517.67625949474, -175272.37529450652 -236847.33664942803, -174441.54795306892 -234494.31880376965, -173179.95841736655 -231398.42201729616, -168505.62920047852 -224624.9601279223, -166444.0248433434 -223687.66847821098, -171562.02585749378 -222195.28130396453, -179470.36561464818 -218399.24592308357, -187343.37449776416 -213603.68802387457, -195722.013543446 -213582.41587488112, -201863.9151880112 -213757.40887303866, -206877.43306709192 -213627.73773220804, -208092.67681845036 -213278.58322679534, -209751.18353920756 -210734.87380336915, -219609.99003698648 -199553.5889500532, -224024.69489411684 -198003.11557223304, -227462.66736248496 -198313.64489621966, -228178.47011408766 -198681.78348779998), (-124994.13469464945 411487.78459976177, -129847.87058043208 411772.89727989683, -130488.94358924386 411945.2609413196, -135577.11147881378 414680.55864841625, -134762.65892116848 417158.18959490117, -133702.9443282772 418196.39944021875, -132466.66032188668 418842.92680144554, -131363.664695435 419214.5022042072, -126396.15380339054 419451.0258136627, -125594.9906227936 419274.93109137774, -124406.39070191236 418841.2983879113, -123429.78239057877 418172.81004407036, -122874.37110896248 415410.61192574486, -124572.45322883621 411832.16057902464, -124994.13469464945 411487.78459976177), (180455.938986544 365431.70335782797, 179487.31743603887 365642.74487230694, 172957.94831587878 370788.86371216, 170406.94637203013 374172.38261730096, 171253.37074153303 378064.69076001574, 172542.0733093484 378544.71673527523, 175575.74011205242 378376.31318681134, 176861.0395427897 378083.14571825415, 177872.881885685 378337.9697151529, 179661.25276002515 379333.49072767637, 177912.52674298128 382776.3251980255, 175819.01318799402 384553.0610670532, 172993.2392588849 385145.4113004455, 177017.90934246566 388709.2367725791, 177166.06233989916 391035.6623840112, 172842.70343998264 393948.35287273413, 171400.09817487173 397489.52251185506, 176835.9776861939 398456.86548190337, 178408.9770222751 398384.5991846738, 181542.25808781898 398387.4332512894, 183659.84570805426 400265.5862214636, 185515.8002291779 401902.342413379, 186285.63055551125 399440.09863527364, 187466.3149823707 397689.55178663513, 189204.7757614894 395497.85730727384, 191101.55405700073 391922.01022410125, 193483.35120795213 391438.45530760166, 194687.4011606333 392530.7590033745, 195470.5927595644 394823.3608810542, 194395.99457672113 398837.3786620747, 191599.13569542798 398839.61666648835, 189360.8019277204 400894.8976125294, 186567.0971327427 401711.67679989646, 185857.40888941733 405220.0483512127, 184639.12406931145 404534.98234048724, 183069.43973482214 402067.8140918451, 181870.3099366366 400968.7428069562, 180199.64892038918 399898.90326844406, 177937.5032977505 399086.51527931, 176155.14212252415 408318.44038862555, 177265.64119701614 410086.16960659897, 178425.24014567042 411244.8532507569, 179391.3661312093 411807.8545363923, 180261.45178184545 412057.75837982766, 184895.12733175227 412917.5092582624, 186143.58943758468 413121.1704708864, 188922.72534589682 413416.9354713285, 189893.37578741423 412595.5624693046, 188930.05766848833 410753.0772965195, 186920.8062642268 409790.88897437864, 186340.41088319718 408792.3019831545, 186946.15101222586 404914.8335350859, 188067.8461112542 402930.24251245585, 189796.9184982319 401781.6554696963, 191297.1817451433 401319.8900092449, 192937.6501495995 401560.12951953156, 195147.1718072153 401882.1093414983, 200087.04735045906 402970.4912034192, 201678.84849731709 403192.59581969626, 203022.3167284682 403118.3418548476, 205440.47797269135 401177.8187894846, 205857.3861392772 398508.7313233479, 205749.50910147006 397048.03043406666, 205274.9900494004 396144.9185034977, 203727.46547504258 395257.5149105647, 200193.73118930662 391654.4020785984, 199619.45025444988 389865.26337059395, 199663.07566005862 388705.1556695987, 200144.64160671708 387022.86761686864, 202623.04646974982 382853.28744526044, 203418.05839664166 382639.5796719006, 204408.6986899714 382712.5137154324, 206031.19046284884 382798.4215622099, 208116.4534841468 381386.70464297105, 208683.04809695494 380621.65055716864, 210137.6094780814 377758.96253938164, 211084.16673192894 375168.14979121124, 210400.43378521208 368898.1120511193, 209366.89864568098 368496.4495997806, 208164.97478880416 369566.6859653264, 209100.62955557203 371272.32646364183, 209084.08536983377 374135.7467504494, 207295.92520545158 376968.44693676004, 195588.09439847156 375747.4784621569, 193248.33877964245 374104.5459254224, 186214.47449081286 367679.62227926817, 186263.62584238726 366180.30428016145, 189461.1749096428 366909.0096153613, 190396.44433078653 366404.4296962394, 190885.5862817609 365046.35509750055, 190893.9017342086 363699.77639153454, 188900.8734290118 362041.8162857945, 183777.37679749983 364845.4161811162, 180455.938986544 365431.70335782797), (50226.2277540377 384991.38120911317, 52104.600958623945 381144.4972540314, 52791.429078093955 379404.2798199058, 41531.19495422951 379107.00519799814, 40538.239889962926 379129.92085244675, 33831.07231925541 382621.58264288364, 33043.98777196486 383558.147490167, 32846.68613964657 384717.29181134026, 33174.30233969924 386870.634541131, 33631.83289785653 388420.67389026406, 34278.35239989681 389956.84177597746, 35248.42966881277 391495.50831360824, 36719.63954125399 393317.4525456494, 44337.62361499109 391757.55182789685, 47470.585338868426 389899.9749762241, 48227.571104020695 388948.40823811566, 50226.2277540377 384991.38120911317), (31171.95974108173 376120.11842143023, 32182.33110886614 376281.4776250129, 33579.553719831776 375981.3342215281, 32158.568522084057 375785.8830304636, 31171.95974108173 376120.11842143023), (244671.68261963312 331891.57986238133, 244194.52593285215 328678.2738570575, 244569.48644501547 325244.58300887566, 242866.06195456267 325824.9331328071, 235583.85673798528 325278.5372165589, 232769.1481056776 324747.14912448614, 230295.1512567198 322624.1014875875, 226977.6261787316 321554.05220778927, 222794.12568739592 320972.6439088621, 219007.8015660647 322958.2517902277, 221723.80117488344 325148.91671685356, 225382.7254137422 327485.5029859406, 225979.74695381903 329448.62158733065, 227019.93993931237 332422.8864208984, 228514.3279741146 334882.8808841331, 230592.35024605595 333518.7732649368, 232393.52193946065 332849.25093216164, 233242.59259807793 337596.2639695307, 232587.39981483374 339856.4504887054, 230334.04119919083 340723.58606192394, 229531.115302042 342806.17466228356, 227875.4972993733 345336.5962215091, 226165.8868309292 345694.7446203719, 224213.05703517114 345432.408947286, 224030.82668463912 342365.51108725433, 222905.51682444068 340124.89330066927, 220257.7945761764 338609.84535921994, 217695.29175172944 342641.61114509706, 216597.50477432733 346487.89510517585, 216571.94122667337 350149.2669598488, 212911.71878221259 354765.6877005708, 213500.6169686643 356850.6703344174, 216388.2479780066 357080.7611786431, 217443.752611787 354434.2812580151, 220175.61281081446 350557.4863150033, 221977.00971858102 348815.7751447856, 224478.39208303357 347737.06513593177, 226843.55966807855 347140.9127307518, 229231.81445606812 346376.4836213663, 236378.8303107035 339280.7189045969, 241847.49224565836 333731.13185082783, 243902.50299389413 332286.3637904145, 244671.68261963312 331891.57986238133), (-136830.61606801098 -365946.52377248165, -137152.95453738383 -364879.9254385354, -134762.84350237978 -364027.9617686962, -134443.28824861176 -365619.5960319784, -136830.61606801098 -365946.52377248165))\"\n        ],\n        \"semantic_type\": \"\",\n        \"description\": \"\"\n      }\n    }\n  ]\n}"
            }
          },
          "metadata": {},
          "execution_count": 114
        }
      ],
      "source": [
        "# converting into GDF\n",
        "Germany_5243.boundary.to_frame()"
      ]
    },
    {
      "cell_type": "code",
      "execution_count": 115,
      "metadata": {
        "id": "EWdGY-5K6feq",
        "colab": {
          "base_uri": "https://localhost:8080/"
        },
        "outputId": "bb665842-83da-4322-aaf3-54a17271dba6"
      },
      "outputs": [
        {
          "output_type": "stream",
          "name": "stdout",
          "text": [
            "<class 'geopandas.geodataframe.GeoDataFrame'>\n",
            "Index: 1 entries, 87 to 87\n",
            "Data columns (total 1 columns):\n",
            " #   Column  Non-Null Count  Dtype   \n",
            "---  ------  --------------  -----   \n",
            " 0   0       1 non-null      geometry\n",
            "dtypes: geometry(1)\n",
            "memory usage: 16.0 bytes\n"
          ]
        }
      ],
      "source": [
        "Germany_5243.boundary.to_frame().info()"
      ]
    },
    {
      "cell_type": "markdown",
      "metadata": {
        "id": "ee31770d"
      },
      "source": [
        "Notice you get a very simple GDF, and you may want to add some information:"
      ]
    },
    {
      "cell_type": "code",
      "execution_count": 119,
      "metadata": {
        "id": "1aa88edb",
        "colab": {
          "base_uri": "https://localhost:8080/"
        },
        "outputId": "f113452a-e847-4df9-dfdc-3b4eeb4da778"
      },
      "outputs": [
        {
          "output_type": "execute_result",
          "data": {
            "text/plain": [
              "<Projected CRS: EPSG:5243>\n",
              "Name: ETRS89 / LCC Germany (E-N)\n",
              "Axis Info [cartesian]:\n",
              "- E[east]: Easting (metre)\n",
              "- N[north]: Northing (metre)\n",
              "Area of Use:\n",
              "- name: Germany - onshore - states of Baden-Wurtemberg, Bayern, Berlin, Brandenburg, Bremen, Hamburg, Hessen, Mecklenburg-Vorpommern, Niedersachsen, Nordrhein-Westfalen, Rheinland-Pfalz, Saarland, Sachsen, Sachsen-Anhalt, Schleswig-Holstein, Thuringen.\n",
              "- bounds: (5.86, 47.27, 15.04, 55.09)\n",
              "Coordinate Operation:\n",
              "- name: LCC Germany\n",
              "- method: Lambert Conic Conformal (2SP)\n",
              "Datum: European Terrestrial Reference System 1989 ensemble\n",
              "- Ellipsoid: GRS 1980\n",
              "- Prime Meridian: Greenwich"
            ]
          },
          "metadata": {},
          "execution_count": 119
        }
      ],
      "source": [
        "# conversion\n",
        "Germany_border=Germany_5243.boundary.to_frame()\n",
        "\n",
        "# new column (optional)\n",
        "Germany_border['name']='Germany'\n",
        "\n",
        "# renaming the geometry column\n",
        "Germany_border.rename(columns={0:'geometry'},inplace=True)\n",
        "\n",
        "#setting the geometry (the name is not enough)\n",
        "Germany_border = Germany_border.set_geometry(\"geometry\")\n",
        "\n",
        "# verifying:\n",
        "Germany_border.crs"
      ]
    },
    {
      "cell_type": "code",
      "execution_count": 120,
      "metadata": {
        "id": "m4ce9tnN64x2",
        "colab": {
          "base_uri": "https://localhost:8080/",
          "height": 89
        },
        "outputId": "397a400e-dc9e-46c6-ea5d-de7046111b19"
      },
      "outputs": [
        {
          "output_type": "execute_result",
          "data": {
            "text/plain": [
              "                                             geometry     name\n",
              "87  MULTILINESTRING ((-228178.47 -198681.783, -228...  Germany"
            ],
            "text/html": [
              "\n",
              "  <div id=\"df-8ef5fbc8-db45-483e-b8c1-1e19a2609148\" class=\"colab-df-container\">\n",
              "    <div>\n",
              "<style scoped>\n",
              "    .dataframe tbody tr th:only-of-type {\n",
              "        vertical-align: middle;\n",
              "    }\n",
              "\n",
              "    .dataframe tbody tr th {\n",
              "        vertical-align: top;\n",
              "    }\n",
              "\n",
              "    .dataframe thead th {\n",
              "        text-align: right;\n",
              "    }\n",
              "</style>\n",
              "<table border=\"1\" class=\"dataframe\">\n",
              "  <thead>\n",
              "    <tr style=\"text-align: right;\">\n",
              "      <th></th>\n",
              "      <th>geometry</th>\n",
              "      <th>name</th>\n",
              "    </tr>\n",
              "  </thead>\n",
              "  <tbody>\n",
              "    <tr>\n",
              "      <th>87</th>\n",
              "      <td>MULTILINESTRING ((-228178.47 -198681.783, -228...</td>\n",
              "      <td>Germany</td>\n",
              "    </tr>\n",
              "  </tbody>\n",
              "</table>\n",
              "</div>\n",
              "    <div class=\"colab-df-buttons\">\n",
              "\n",
              "  <div class=\"colab-df-container\">\n",
              "    <button class=\"colab-df-convert\" onclick=\"convertToInteractive('df-8ef5fbc8-db45-483e-b8c1-1e19a2609148')\"\n",
              "            title=\"Convert this dataframe to an interactive table.\"\n",
              "            style=\"display:none;\">\n",
              "\n",
              "  <svg xmlns=\"http://www.w3.org/2000/svg\" height=\"24px\" viewBox=\"0 -960 960 960\">\n",
              "    <path d=\"M120-120v-720h720v720H120Zm60-500h600v-160H180v160Zm220 220h160v-160H400v160Zm0 220h160v-160H400v160ZM180-400h160v-160H180v160Zm440 0h160v-160H620v160ZM180-180h160v-160H180v160Zm440 0h160v-160H620v160Z\"/>\n",
              "  </svg>\n",
              "    </button>\n",
              "\n",
              "  <style>\n",
              "    .colab-df-container {\n",
              "      display:flex;\n",
              "      gap: 12px;\n",
              "    }\n",
              "\n",
              "    .colab-df-convert {\n",
              "      background-color: #E8F0FE;\n",
              "      border: none;\n",
              "      border-radius: 50%;\n",
              "      cursor: pointer;\n",
              "      display: none;\n",
              "      fill: #1967D2;\n",
              "      height: 32px;\n",
              "      padding: 0 0 0 0;\n",
              "      width: 32px;\n",
              "    }\n",
              "\n",
              "    .colab-df-convert:hover {\n",
              "      background-color: #E2EBFA;\n",
              "      box-shadow: 0px 1px 2px rgba(60, 64, 67, 0.3), 0px 1px 3px 1px rgba(60, 64, 67, 0.15);\n",
              "      fill: #174EA6;\n",
              "    }\n",
              "\n",
              "    .colab-df-buttons div {\n",
              "      margin-bottom: 4px;\n",
              "    }\n",
              "\n",
              "    [theme=dark] .colab-df-convert {\n",
              "      background-color: #3B4455;\n",
              "      fill: #D2E3FC;\n",
              "    }\n",
              "\n",
              "    [theme=dark] .colab-df-convert:hover {\n",
              "      background-color: #434B5C;\n",
              "      box-shadow: 0px 1px 3px 1px rgba(0, 0, 0, 0.15);\n",
              "      filter: drop-shadow(0px 1px 2px rgba(0, 0, 0, 0.3));\n",
              "      fill: #FFFFFF;\n",
              "    }\n",
              "  </style>\n",
              "\n",
              "    <script>\n",
              "      const buttonEl =\n",
              "        document.querySelector('#df-8ef5fbc8-db45-483e-b8c1-1e19a2609148 button.colab-df-convert');\n",
              "      buttonEl.style.display =\n",
              "        google.colab.kernel.accessAllowed ? 'block' : 'none';\n",
              "\n",
              "      async function convertToInteractive(key) {\n",
              "        const element = document.querySelector('#df-8ef5fbc8-db45-483e-b8c1-1e19a2609148');\n",
              "        const dataTable =\n",
              "          await google.colab.kernel.invokeFunction('convertToInteractive',\n",
              "                                                    [key], {});\n",
              "        if (!dataTable) return;\n",
              "\n",
              "        const docLinkHtml = 'Like what you see? Visit the ' +\n",
              "          '<a target=\"_blank\" href=https://colab.research.google.com/notebooks/data_table.ipynb>data table notebook</a>'\n",
              "          + ' to learn more about interactive tables.';\n",
              "        element.innerHTML = '';\n",
              "        dataTable['output_type'] = 'display_data';\n",
              "        await google.colab.output.renderOutput(dataTable, element);\n",
              "        const docLink = document.createElement('div');\n",
              "        docLink.innerHTML = docLinkHtml;\n",
              "        element.appendChild(docLink);\n",
              "      }\n",
              "    </script>\n",
              "  </div>\n",
              "\n",
              "\n",
              "  <div id=\"id_0c5ea545-8ceb-4248-8170-be97626c6550\">\n",
              "    <style>\n",
              "      .colab-df-generate {\n",
              "        background-color: #E8F0FE;\n",
              "        border: none;\n",
              "        border-radius: 50%;\n",
              "        cursor: pointer;\n",
              "        display: none;\n",
              "        fill: #1967D2;\n",
              "        height: 32px;\n",
              "        padding: 0 0 0 0;\n",
              "        width: 32px;\n",
              "      }\n",
              "\n",
              "      .colab-df-generate:hover {\n",
              "        background-color: #E2EBFA;\n",
              "        box-shadow: 0px 1px 2px rgba(60, 64, 67, 0.3), 0px 1px 3px 1px rgba(60, 64, 67, 0.15);\n",
              "        fill: #174EA6;\n",
              "      }\n",
              "\n",
              "      [theme=dark] .colab-df-generate {\n",
              "        background-color: #3B4455;\n",
              "        fill: #D2E3FC;\n",
              "      }\n",
              "\n",
              "      [theme=dark] .colab-df-generate:hover {\n",
              "        background-color: #434B5C;\n",
              "        box-shadow: 0px 1px 3px 1px rgba(0, 0, 0, 0.15);\n",
              "        filter: drop-shadow(0px 1px 2px rgba(0, 0, 0, 0.3));\n",
              "        fill: #FFFFFF;\n",
              "      }\n",
              "    </style>\n",
              "    <button class=\"colab-df-generate\" onclick=\"generateWithVariable('Germany_border')\"\n",
              "            title=\"Generate code using this dataframe.\"\n",
              "            style=\"display:none;\">\n",
              "\n",
              "  <svg xmlns=\"http://www.w3.org/2000/svg\" height=\"24px\"viewBox=\"0 0 24 24\"\n",
              "       width=\"24px\">\n",
              "    <path d=\"M7,19H8.4L18.45,9,17,7.55,7,17.6ZM5,21V16.75L18.45,3.32a2,2,0,0,1,2.83,0l1.4,1.43a1.91,1.91,0,0,1,.58,1.4,1.91,1.91,0,0,1-.58,1.4L9.25,21ZM18.45,9,17,7.55Zm-12,3A5.31,5.31,0,0,0,4.9,8.1,5.31,5.31,0,0,0,1,6.5,5.31,5.31,0,0,0,4.9,4.9,5.31,5.31,0,0,0,6.5,1,5.31,5.31,0,0,0,8.1,4.9,5.31,5.31,0,0,0,12,6.5,5.46,5.46,0,0,0,6.5,12Z\"/>\n",
              "  </svg>\n",
              "    </button>\n",
              "    <script>\n",
              "      (() => {\n",
              "      const buttonEl =\n",
              "        document.querySelector('#id_0c5ea545-8ceb-4248-8170-be97626c6550 button.colab-df-generate');\n",
              "      buttonEl.style.display =\n",
              "        google.colab.kernel.accessAllowed ? 'block' : 'none';\n",
              "\n",
              "      buttonEl.onclick = () => {\n",
              "        google.colab.notebook.generateWithVariable('Germany_border');\n",
              "      }\n",
              "      })();\n",
              "    </script>\n",
              "  </div>\n",
              "\n",
              "    </div>\n",
              "  </div>\n"
            ],
            "application/vnd.google.colaboratory.intrinsic+json": {
              "type": "dataframe",
              "variable_name": "Germany_border",
              "summary": "{\n  \"name\": \"Germany_border\",\n  \"rows\": 1,\n  \"fields\": [\n    {\n      \"column\": \"geometry\",\n      \"properties\": {\n        \"dtype\": \"geometry\",\n        \"num_unique_values\": 1,\n        \"samples\": [\n          \"MULTILINESTRING ((-228178.47011408766 -198681.78348779998, -228621.5569828455 -200536.57669975347, -234230.67871820848 -204776.26281549025, -244248.91512806527 -203278.02573039127, -248670.70181266576 -202363.98055051925, -253537.83260365183 -195458.16813130717, -259881.84871633002 -191512.9822932272, -266020.8923365608 -192119.39518157966, -265439.9954098475 -195518.86305199465, -267208.00950803736 -198402.43635715084, -274773.1025209169 -196620.76883596307, -275692.09868853807 -194385.6661668922, -277406.3109611971 -187872.7845397177, -283412.6685544792 -174414.82035111886, -286925.5882056941 -167454.57603559952, -289195.08723668236 -165229.18359012261, -291976.7734331085 -163004.80022696074, -295837.39153377863 -161198.8505654143, -299669.67541836656 -162799.54599885046, -299439.5751543196 -159497.1193350928, -299664.6892872765 -155398.63046974505, -294153.18533614295 -140124.10168854575, -290265.97817425005 -137316.23298773472, -287783.5008021066 -135932.79546010602, -285866.7732677519 -124785.54891342715, -288868.84583733627 -124243.4207745731, -292633.08638647106 -124283.32312565132, -295031.81880451617 -123160.37431055518, -300184.35872430465 -119468.1476093444, -300511.35584546527 -118671.4958992643, -304869.1866809855 -115410.66467293174, -306106.05764955684 -113653.2960303623, -310056.23427903897 -107453.61057087366, -312180.73586157395 -102564.58423373074, -312764.01486199367 -100303.43317344454, -313727.06659363734 -95405.65410989232, -313128.5399285652 -91714.69774325845, -312168.1734579724 -88616.97544859647, -311736.56763090816 -87675.95343866, -311182.781159995 -84747.63125612416, -308802.0368873128 -77064.30636523686, -300299.93404441845 -71002.88332932275, -295219.1450815821 -68045.38550479905, -291709.66886884865 -67084.94805344829, -292723.46793804195 -53668.669733451075, -294874.4301180778 -48677.08081204047, -296628.38341624005 -47432.97452727731, -300075.1274934245 -47173.792605206276, -300687.2784386549 -36964.03403522641, -298892.06832982035 -33651.18200450331, -305937.0346680414 -29173.292574966847, -313419.70341671415 -21241.606906655557, -316214.15122264 -17323.621076733427, -316172.5759374652 -12321.617883567766, -315300.0481404249 -7982.896516313468, -312326.33134581737 -7181.141309405548, -310336.3181446251 -4896.678404471514, -310305.15246108855 -150.8134307506543, -313798.0675036996 7104.786565028611, -319439.8267925192 8155.132220554729, -322439.849885288 7097.034323718033, -324400.7015323858 12316.739339605807, -324526.41359084484 15271.238591087735, -321567.201355906 17064.920589975423, -314608.80644378474 18977.35224810467, -307697.1390005062 23785.684647506252, -308320.6387257342 28628.739274907104, -308945.3683621472 33101.248583223125, -308346.8824050967 36103.927460719286, -303436.39460812905 41810.899277574266, -297470.9420102264 49022.17869660735, -296826.6424756484 60582.6917366802, -297721.0358296239 65768.70707214883, -300628.962432621 70934.79552152718, -302246.80261140806 72422.67171722748, -304808.4583210368 76473.05622533783, -308598.8743728313 87931.61009107239, -313614.6323893074 92790.55951306222, -311366.68684918503 94844.50701157028, -312413.3579914732 99302.51206849243, -309541.80283892335 101724.35518757277, -300869.49463691213 107666.50839166963, -296797.6676296209 108229.24841335005, -285497.0850255051 102320.08053710942, -277786.9239424388 102508.84311381492, -273212.92096797837 104579.16615049815, -268466.13014124194 106736.82670970514, -262199.88142658735 108138.88018802859, -259679.68200008935 106477.81459788044, -257992.4401615812 107303.43933042018, -255369.848868239 109242.26245575037, -251935.65329486455 114750.55075407252, -253908.12663051806 118521.67404534291, -258477.05483666772 121706.62122467798, -257709.0738825664 126274.77911836539, -255918.5352458357 130402.76450984323, -249281.45023841405 130728.25710445584, -247860.9788919003 133092.41428676606, -245815.00541601246 136316.2990966017, -241479.5317619321 138116.02720053247, -235973.4411233495 142461.03047700567, -235200.2810045971 143103.21972345604, -236624.0623662979 147677.91314741835, -236068.07121467247 150720.40350333246, -234338.3479165889 154180.0368922661, -233407.04149236548 156161.51972552246, -233729.8667055118 160087.43865696047, -238742.3903156325 167715.26173739677, -240871.70149339616 165575.74106313242, -253996.58240738636 168870.834215857, -257561.80770480368 172085.1441353159, -258181.8079674449 179060.93890975363, -255902.66955752805 179932.96143281975, -253461.96478136582 180387.86129692983, -255208.08634799608 186485.57766125165, -255759.84812987744 187424.68614242302, -255615.58257594614 187712.91651334707, -252456.49191982148 189971.80388512925, -242985.4562112238 189159.23181873496, -234447.23423306132 187086.65373047578, -233028.8811436429 188844.44752556522, -231970.75732667226 196789.17822880475, -231674.3712607461 201121.07657520552, -231423.57391419334 204681.34751058248, -230805.4435502328 207683.4273905172, -229523.20962491844 209537.67071791645, -226433.54636686243 215182.77206645752, -223069.89117764076 220071.4527653727, -221823.36732827546 223169.8805727945, -220600.1492886452 228280.04821049035, -220018.69847298125 246875.49389235533, -219610.3429564196 254284.89317905306, -216086.04708181744 262283.9241937684, -211486.8454303076 262183.7233370527, -209799.51833702004 261032.04566980328, -210644.01754226978 262827.96172636223, -217908.25597938272 264631.35985902336, -220750.53301248205 265253.350156774, -224579.82866657543 265335.0402721003, -227486.77376384396 265144.3205801039, -229660.1466825137 265694.5892586109, -231540.07049748718 269596.97002729715, -231621.16154469014 273445.7005468386, -230988.25205661886 277051.6265075009, -230087.87253055436 281449.54066723003, -225485.89687242484 293024.59988574474, -219183.38775546453 298755.94760212535, -215930.6778658755 301395.21358762955, -211633.5038401629 303217.43275157525, -208628.85951150872 303458.7740224814, -200215.90859472466 302810.3690466835, -197326.36522294857 301144.8834231463, -192781.91677238457 301999.5355364551, -184998.78498608005 303799.915132055, -175372.58356086607 304989.8707137763, -172775.0105540471 305268.0017232705, -171117.89868464586 305425.9468342576, -168376.29415194987 305113.34643359855, -166240.34068974364 304791.58148853946, -164112.7334132719 303946.381162158, -163479.36379282345 301840.38719366, -161904.57856579137 295303.4002144197, -157324.84509435063 289956.40067824826, -154944.18599267406 286980.69057235576, -154695.1804343915 283655.5781726516, -157226.2038727839 281602.29275931546, -159617.02803002577 280937.9714409186, -161701.77308897738 280767.11173902114, -161121.9486665484 277105.8401477155, -159563.00699266113 274410.75236420415, -152236.28588252288 269568.5577337544, -150638.57269266516 269240.8900080317, -149849.59341102725 269355.9278226959, -147140.77155371977 271399.07732573914, -145307.12885655052 275287.2672438089, -144609.90776549175 280747.97990904195, -145535.81981239465 282924.9412485405, -147990.85286204013 282488.7923078677, -150269.0229292149 282875.3331523933, -149933.9588717912 286723.61992137483, -149432.45339225142 289862.2789013278, -147604.41836923896 292188.00489599176, -145156.44604490703 293166.4199726605, -143434.7712743011 292929.7307442381, -132886.8175168477 285918.62502898433, -131772.10740971102 280833.0242009777, -133054.18575636324 278602.68326854653, -133860.30883789467 275602.0298041626, -133966.2832221512 270054.0097418261, -133740.01400384615 266167.57781419693, -132843.11968636131 264473.54745102953, -132538.11152168864 271963.2822990355, -132992.04090499505 274959.5825849397, -132445.89016489632 277913.0472713427, -128602.76809865399 281399.8291460182, -128254.44013966915 282907.1201552213, -131554.23178353652 292810.0665537623, -132840.63125925287 296370.5993618095, -133171.59840382435 300547.5419124272, -128557.53520825708 315122.2830989302, -126521.10827960074 319151.68451431365, -124661.16306802949 321778.7572813347, -121043.25189184315 323202.9239314855, -119515.04245188028 323304.2282878645, -117647.82081514748 320636.6377897218, -114764.34481645044 317930.8042444658, -113518.96415732178 317220.96013575007, -112105.03964078941 316662.1530958412, -108445.11966192829 315898.3234962254, -104864.70420507644 315633.40389690635, -97379.40984246132 317549.72090736416, -91768.47095315163 319295.2653568368, -90209.35369186962 319575.1406142609, -84482.89240508083 319332.8539269066, -80063.85137171282 318221.40546755964, -77548.99625872006 315134.93669528386, -75690.10575519703 311749.6734473934, -73904.51456634798 307578.21138734714, -71788.61967912702 303836.2662852161, -62550.43604050261 290011.03169792943, -61055.72722419327 288230.0564129386, -54816.178854489815 284476.56121832895, -53294.841968853594 283872.9519075871, -48735.221764745875 283096.6962966421, -45787.64104301311 281956.6673222863, -44474.39805747063 282829.671651065, -47768.6180465595 285129.19692459865, -50279.17280113347 285479.669044992, -51399.33697982062 285552.49569819734, -53033.6927914387 285879.0927882074, -54791.48703948721 286671.24928047665, -61195.45503901183 291014.49998241063, -62590.81708079023 292593.4595265518, -70322.79178224258 305654.360361151, -71396.32140412339 308685.510348853, -71984.16933914034 311044.29879770614, -72857.60647690781 314443.30152698804, -76815.78650683032 318107.1674877718, -80095.50471423549 320449.1173423293, -83226.3581068672 321707.7709512241, -84626.31800988848 322103.28401064937, -94470.60500265878 323213.27378764097, -99670.54751732101 322629.5993677772, -102045.13268131178 324388.38787851395, -103329.67726532456 325807.23512695736, -104653.20996399308 327505.9599436889, -106148.39533670688 330477.3030401963, -108198.72720013147 335844.033317997, -108509.486748726 338731.3625287276, -105770.82613253512 339780.548776477, -103104.54695990673 338887.10423013504, -101400.89597120899 337644.45626359305, -99981.60219641 336702.7265136718, -98204.24801896814 337655.9950477362, -97494.96883304112 339853.18404195784, -97063.78414658777 344082.9870247573, -99973.85972210947 349339.36168672395, -107746.8056860013 349097.28705350455, -109321.38502460466 351770.524740731, -110214.76237834012 354390.03888772853, -109692.08447153009 357008.2569278404, -107871.0903306474 363155.1554070996, -105296.75465869693 367554.28493946313, -108790.60091901837 367538.8864457385, -117966.09918311339 364885.85359676386, -119770.1166929536 365000.2999760037, -121367.87070135828 365922.32578728354, -123113.07422425016 369185.7147651007, -123643.92948594238 371581.95425605564, -122098.82090759775 377361.1796004123, -120715.34162828316 379384.036662108, -112480.93203966835 380714.84452863724, -108709.13571332254 381061.02252079017, -107537.2077455185 379997.4545099537, -104786.42718523364 380911.28937778005, -97699.9687289991 384970.3364387427, -96399.69940927939 387512.2898541718, -96511.15651496525 390686.997710234, -99481.4252745294 395081.52684823604, -100790.50882925045 395727.9601167325, -102359.63920238707 397231.78572430316, -106615.58735785894 403980.26551603235, -109138.14871439614 410291.3755655179, -112605.49468033438 414242.3125425555, -113870.20506483005 415325.2805724716, -116217.74489487549 418261.7271125426, -118990.42457125572 424995.24702251144, -119557.67612002903 427851.1335582338, -123678.05414131818 430762.27658761793, -125603.57552383227 432287.5734485388, -135606.2660962562 432155.3625332533, -141373.13080547008 431155.1530199454, -141892.41015003406 427694.08757277636, -141909.79060518066 422491.8452444133, -142400.69219323824 418515.29817888787, -142954.79332288363 422120.5313153243, -142682.75685739942 427873.11002230464, -141712.0431180553 436082.7633386847, -140712.39690913932 439676.5741728574, -136147.90846449367 450725.4183307522, -135146.15411760236 452462.06720194663, -133852.122166299 453246.15158814273, -130915.27871576043 452543.6491128085, -132016.50416430307 449585.01843935327, -134028.56979316022 447984.48263594933, -136363.12837723087 446363.49755753763, -137655.63658477095 443272.29382984823, -133492.50084919302 437971.6066741728, -130935.40133729375 435706.9120746693, -129055.5850015197 435720.2259184378, -121962.40810993506 436670.2237216512, -117843.39670645127 436824.6032683041, -116078.46540954795 434856.3810994319, -114378.69062481537 434287.96597139083, -111827.1120841027 435001.3013690245, -110075.95305691868 435857.93251847394, -106893.6729136232 436641.3276718506, -101457.11210070274 435881.72789294826, -100107.53007882806 435573.9398702695, -85563.84207522182 430767.7563876522, -81737.17650582177 428981.3286288018, -81651.155378944 426719.48507310235, -80556.97238182748 424843.08257078775, -73964.28939921444 424503.2965880799, -72236.8550149975 426380.9648123852, -69815.10910631908 426978.96614837466, -67857.01686358723 426066.95770875434, -68265.61356149829 424131.0988201267, -59301.52425712735 425968.9808860601, -54028.439487489195 424419.48998238595, -46011.723288503155 421425.144230257, -38498.34238519294 421915.0082075254, -36337.284480674134 420876.79558567505, -34024.00059965257 418498.558873534, -29877.862183188958 408160.8383721831, -29731.956860813625 404241.9035975758, -30271.79740889697 395577.6522943986, -32121.114875290754 392076.0134473084, -34321.14064238565 390282.6740755715, -39368.407894631884 387474.42949701956, -40795.9729791 386990.92667106766, -42454.53829373741 386920.40944061906, -41144.30636137753 384742.95043140743, -39376.25234582795 384349.4084346472, -32005.100999016016 386560.9319047296, -25544.689947060753 388215.8086773349, -24193.416198172567 388239.3579983873, -8549.761186882022 382152.4360022493, 7137.186200993195 373795.7089338443, 9518.287310939664 371224.24994556775, 12409.884613074271 368098.3449664703, 17747.450580893423 367883.60399903654, 19210.541972230643 368461.11180564173, 21602.79312257529 370474.9796908434, 25060.5010767573 374010.6967365154, 29024.67854673021 376547.2213438055, 31171.95974108173 376120.11842143023, 29796.01838319361 375932.8866909619, 31666.03850476612 375163.9434909443, 33618.35487089692 374960.57358889154, 35425.07676301936 374943.0245014866, 37316.081997614034 375700.13480940025, 38774.70245684194 356677.08109872916, 36581.903970427535 353512.4337165806, 24909.618093203375 343810.10483992234, 21745.902867815967 343802.4162293886, 19728.323638742448 343639.1118464482, 17177.637754886728 339964.1839572959, 16867.214226189255 337658.89672081737, 18172.07724349689 334416.19546081324, 19388.484758770068 333184.1594325673, 21138.557605900896 333036.9155637394, 23708.043426361142 333018.2806092999, 24919.919734035455 332135.0393695088, 25617.522394998166 328620.4377393095, 23896.179764600205 324452.20765216684, 20946.899902294655 321445.42236979393, 26206.07108809767 326041.46232812345, 26554.398973412593 328964.4094685053, 30496.581543762353 331540.1904496671, 33656.59512277666 333232.0344513207, 36423.743922496324 334596.8153902231, 38997.3700504491 335313.5004668844, 44823.00249854264 335178.1057552524, 49371.19529097341 327077.1859615112, 59982.00377471058 325074.5938905244, 64393.7414656214 329647.0369936616, 65126.26427032104 333476.5588617523, 66988.72139884798 337809.12688812736, 68483.31272246955 337064.27791012306, 69137.91086784018 337135.63977957837, 70573.38231506899 337976.25461754965, 73738.4845453994 343378.529565081, 73673.47895824874 346583.11850861635, 77613.71802267952 351331.35704729304, 81529.00004124061 351744.9867667699, 97083.0956611984 353921.3784186289, 106419.36049031615 356099.21336187667, 119031.02596600897 367039.5992713028, 120477.43141728971 368917.6445617134, 125889.76230182215 378851.96765528736, 128564.4131008609 384834.9871013809, 131482.79359306465 388257.43825114093, 132412.68079381526 386581.0726480469, 138806.09046898008 385655.0000666471, 140231.99155134617 385380.8414835746, 141555.27362954934 385289.83295289206, 149516.48586529875 385260.15868595394, 155834.65337759646 385446.5992422412, 157241.24696601406 383832.5375526879, 154637.58461124945 382018.0248170498, 146697.31494289794 381890.32937410247, 144772.99602006472 382981.508461808, 143100.21295339573 383634.1964305042, 141000.47213713126 381894.27009982883, 139219.0887712297 381760.381272438, 127628.63798264507 379346.9537079347, 125222.10286761324 376761.0853245314, 121502.693519153 369167.5237927345, 122189.29884173555 364419.6692150889, 124433.06619782068 362953.02316773956, 127259.81681503728 363135.6011616939, 125431.01116263522 364116.2648820567, 125053.3154333662 366613.36595428095, 128873.9385001469 372339.20845956425, 133312.65598442106 375648.6314469435, 135383.37250291306 376573.9295806778, 138149.9966407183 377147.8622222834, 141912.68983442997 377629.61908353324, 147250.94913349862 377388.9847957426, 163991.4984308539 380967.9448132254, 170632.3873014359 367463.01477694476, 176848.38295822282 364956.245262661, 181654.02615610912 363232.71278054797, 188047.06338156507 356745.57651647355, 193316.1685223388 348333.93558291305, 195485.4456421916 347338.0474471345, 196317.8144856693 347232.51819669805, 195140.6395014124 350899.6346411394, 209713.68000413702 357240.7268423052, 215112.71969760096 350668.3706639362, 215903.09857069963 347855.0780653441, 215228.29277249897 344017.0307697325, 218403.3721026134 337070.15747087507, 221152.65149614858 328032.613438277, 218391.7950469396 324811.81992678164, 217673.97596326467 322372.1790708078, 227994.38793152128 313956.0275700999, 245845.83924441173 306563.7545396397, 248009.26906505952 306287.02242892666, 249268.64357020854 306542.0445517797, 252344.73814263992 290706.94898579415, 260478.64840682736 266999.7215796181, 260650.69422478072 263163.09773440677, 260190.59981259884 245281.60933644522, 259627.9776405151 241460.70495196225, 257783.9426041618 234540.78048247774, 254367.15372588878 231008.35444387366, 249958.38854599863 227454.14109172873, 248296.48742839342 226906.19226467167, 246255.15396088688 225535.17875465757, 244907.72977762826 223898.2658071857, 245542.5161074301 213187.95457844491, 249571.6909199373 208470.6603331022, 260047.19718872398 201183.01836824045, 262059.4872122884 199339.80961183057, 266773.19400130084 193404.4034361044, 268963.4079637324 190985.34640754157, 271454.85268268513 189636.01211407737, 274239.4513029522 188458.68984353167, 277149.1850993389 186349.14776937675, 280321.9925069306 182756.5869378828, 280428.32453449717 173581.85259049488, 277460.99461266084 167769.99946292155, 276013.03703771794 166947.0799391044, 274776.86342802143 165618.4088517018, 274287.25729481794 162738.0017478836, 278037.29536001536 150927.37089361338, 279428.9747337958 149272.5046581838, 283385.4646761052 148103.1407828681, 285919.92481909954 147597.1909572434, 287026.34659843886 146678.24957513643, 291758.9690099954 127377.71001926971, 289610.9490218163 113138.9772425883, 288003.84413484327 107905.99492499504, 285150.37926200643 104218.21544555083, 282832.4133626338 102185.56163745075, 282376.5669033762 99028.58533153131, 287591.6920261874 88613.54705833689, 289801.7411029541 86326.93149550373, 291530.3199146656 85173.45807894925, 294033.1530098959 82619.49906505691, 294630.0330200314 76058.2075660149, 291909.4047014232 70025.50539990501, 293781.12453416013 66993.66594593703, 300751.27823503286 64291.96523736282, 306652.9947221782 62788.483415748444, 308946.36216826335 61596.60538211367, 310702.7356996055 58455.38411832784, 311630.78843823454 50407.728502975115, 310997.8814083654 49163.16547180313, 311968.15520271903 46593.2996902883, 313424.16622385895 44810.31600072686, 315798.29067947593 41600.03973531735, 316012.33244972536 36324.466489607265, 314200.1452721864 22788.072514359614, 313386.4748257195 18253.600158356057, 312630.9316231952 15299.636613103807, 310555.2232482112 9637.63511987119, 308449.5005692511 4717.436340440862, 303990.2506441704 -4052.430233439364, 304254.0740915589 -5954.442657014008, 304081.693573645 -7016.173154294562, 302769.1854849305 -11175.505497978467, 300572.0432352719 -11458.346228882581, 298300.8858330421 -10971.602608515941, 296724.99138890463 -10474.585988153087, 291965.7593777882 -8735.401159156132, 289618.72687848174 -7639.04918043832, 290329.6761649895 -5055.946671336418, 289850.0875558851 -351.5357719051792, 287303.5391397276 6061.466339351644, 285196.54180438665 8510.817607416939, 279582.4966417426 11665.105832645655, 266516.47460337146 12734.035811660879, 265154.5322113543 10994.774627782437, 263470.49008722504 6193.404439686845, 268180.08830215066 980.1589279081644, 271546.3177339965 -79.9683744785623, 267856.5526144385 -6146.942116193594, 257130.40105323712 -11050.99733796395, 245693.95175076232 -14790.301102448899, 239704.01410521695 -17991.873878630748, 238923.19871683934 -20176.406445991277, 228058.84961183264 -24900.012515417126, 223521.72824518505 -25653.631282401584, 221091.62435747607 -26159.31345810059, 217450.52700693568 -27734.900305559393, 214642.44486423934 -30045.71391666536, 212684.74084818937 -34483.32518654922, 213263.63509964856 -35424.917424905194, 209555.04487931976 -40048.60631284166, 207649.40336485495 -39723.705382791835, 206081.4104988707 -39105.969451528836, 203421.69338002693 -37202.59875799335, 194494.18499077018 -42023.95850708445, 192786.13255936335 -46285.20608254109, 191701.68924582104 -49774.05547393125, 190435.85223501426 -51782.25355298455, 182819.48189494378 -52579.924578094106, 178496.80500364842 -59263.64564538911, 176910.0999252827 -61341.20596224666, 176467.35815547197 -61665.024988807134, 173599.95515710098 -62687.667034352504, 171630.62165287562 -62227.636020119586, 170251.69807156958 -61099.04903038683, 167175.48728393976 -59314.69438970779, 164959.96221746108 -58180.55367029805, 161234.52456723375 -59192.4954354771, 159024.06183061615 -60758.51634640791, 154190.18722062302 -63080.800163026885, 150611.08742351554 -63185.29689773069, 143176.6394307468 -65556.72565659767, 141153.68716917062 -67773.14624774581, 135119.7959445088 -75035.75927949, 130123.15292526892 -83284.91721115327, 130026.21339463459 -86560.59628316757, 127003.41482798329 -85322.5100839979, 119738.58901342687 -74808.60693735593, 113391.8011307549 -74065.82586359525, 115445.08303330405 -75584.4860064284, 122015.96950007396 -91539.87845407515, 120990.39529825877 -94598.02119634705, 121948.20611575914 -97922.85019882458, 126300.94290744452 -102278.26072744554, 129351.7498921315 -104273.7956733255, 138232.9548291022 -110007.90948285266, 141241.36878040215 -110823.88544058899, 142724.22250266248 -111896.03664473143, 146840.13474800263 -119149.34689431456, 141654.47591596903 -133313.38334306955, 140985.07961023613 -143107.47809400733, 142480.77239802864 -143592.60809561843, 145360.47612231443 -145027.4744908151, 148377.67348369618 -151677.96724749816, 150278.4976952843 -157863.70205034924, 151768.67320200845 -161497.5932635207, 157650.7065277604 -172725.71311776785, 166845.05373765706 -181914.6973327315, 173376.24057521403 -181648.87878419438, 178610.90945760804 -182082.63834099582, 184025.11982957582 -187143.867606929, 194827.80473000975 -200171.90204323828, 205704.4646754313 -207151.8524826504, 211594.24430894377 -212671.45721087145, 212252.47076440442 -217427.42302957366, 220239.1207523862 -220855.14668644694, 224263.68440024587 -220558.48796178514, 226571.58925628642 -222269.3276691776, 228868.38707674097 -223261.425595062, 230964.35202820163 -227979.32459229007, 232521.2494308725 -229581.22289164324, 234564.45167938343 -230621.5334335412, 236655.91575880226 -230305.89312318998, 237989.80443515873 -231421.92052481204, 239287.55898526713 -234123.79119292102, 240701.0396903888 -235390.25265661863, 243207.86068708895 -239041.86804303032, 243768.54808857426 -241281.8623964243, 244926.80475358645 -241924.95508574462, 243718.1354726473 -245937.08865854293, 245041.51795780243 -257781.9455127204, 243688.16712287877 -263239.05888032174, 238283.77314864378 -270942.9158075166, 234582.57478172748 -269245.0715474945, 232850.34738039182 -267162.9955851929, 228941.69472270188 -265504.83063610573, 222659.49052228633 -263927.1273441538, 217210.46209434466 -266857.39400266, 218462.98177896877 -271780.6498741559, 217399.7162616935 -281408.16074506304, 216382.96657422572 -285723.2466449, 214502.85666023512 -288572.92969037563, 210220.23413854075 -292913.8265792324, 208648.20704442315 -294396.67910740443, 206633.26394496366 -295647.8900118321, 204641.36994384896 -296434.64753997966, 196983.81457561074 -297457.9504200227, 186970.7045534464 -301459.0522526153, 176296.17150843478 -308105.170672246, 168284.55299769033 -317392.50417424226, 168905.9951780126 -321771.0107705228, 171454.66569628232 -324767.93338436476, 174399.2890746761 -327411.13915282954, 175921.6769401916 -329372.6052357951, 176602.55858183373 -331281.02664650313, 180733.77210744045 -335245.9399142204, 184491.91597596678 -340779.1086776093, 187849.0643721248 -346541.33033293975, 185142.96859506352 -351488.1101942913, 183246.82446832312 -353979.51458015514, 181215.5741955497 -361143.96830036613, 187244.18931699774 -362149.35572437086, 189405.55947730865 -360961.92875562864, 192122.73012000837 -362878.3288610374, 193634.64246305072 -364913.19427000836, 195509.50326260197 -369796.20218397846, 192553.14827264092 -386085.84462862456, 189580.6285174508 -389281.9021390177, 185433.3066292429 -388617.0842722872, 173758.30159733587 -380342.93632235803, 172267.51576367216 -377180.9402790049, 173496.15709926272 -373654.98329120636, 175118.88497130986 -372892.3961282929, 168074.53816848696 -366268.4570809401, 162725.7742598336 -366173.39969303866, 158076.79843175257 -367723.45177497354, 156135.75389214378 -370909.41462145513, 155411.66417048487 -371177.8372450254, 151512.0421670949 -372252.2431754051, 146940.09636323847 -368533.68130582094, 127887.60846830106 -370151.4408982353, 128416.36280800031 -372823.7089265569, 128035.76207455702 -375102.2365121001, 123513.69258583296 -375414.3977702853, 121226.912310489 -375063.27893624105, 117367.89084437635 -374496.8265466832, 113326.06849604362 -374148.00530231063, 106849.87129020855 -375420.7993977156, 89075.07558089266 -379013.38119645155, 81404.99351678217 -385879.1963004531, 79502.75621723424 -386857.9322733678, 75805.71971359971 -387620.51349115564, 72198.59264983023 -387328.97504809883, 60151.339153351255 -396747.9353695927, 45652.19200279649 -400488.11278310517, 39953.33663972278 -400671.7078633586, 38420.35812226213 -400620.52228292054, 36023.707222238074 -400141.89045891043, 30870.459833183417 -387063.52872635925, 14377.735084430107 -383142.51318522904, 5233.41319882667 -384673.51119703596, -1370.0394749355512 -379529.00853866705, -4994.140930801529 -380198.97446781996, -4795.059748826039 -385911.0749444244, -2551.7966946100582 -391060.0555466842, -1982.4923920920126 -396099.3015650611, -5311.709269381819 -400719.36947310576, -12365.662044056417 -409992.71098072286, -17084.486097070505 -412631.34232460207, -20540.246033272975 -414049.9315238645, -24749.9035631359 -414179.7538757218, -21824.70654626061 -408873.59052271943, -20284.818077889213 -403174.4388207304, -34467.67948441689 -389577.0641858344, -41072.924751893486 -384585.7507371105, -51870.316446821475 -378435.7921990221, -54550.08372833807 -378734.3937396467, -56774.77344592636 -381540.9020699482, -57816.93307355932 -384280.521180555, -60865.2440355349 -385539.46277378884, -63957.42360451643 -385504.6416275569, -67178.39584827394 -385466.53538996185, -69493.31667290199 -384558.23441719264, -70332.35723384225 -384210.09766142454, -76939.22768198968 -380182.0846215822, -93133.36160875553 -370251.0618408639, -106498.72418945238 -367497.40148142754, -110196.47366556046 -367100.0667135287, -112655.03522774743 -367885.6456026698, -114286.76251986339 -369042.27953717805, -116696.14534786789 -370399.0666286529, -118348.81154247372 -370997.44738637586, -120387.20827276063 -371061.70639020053, -121551.01516530491 -370666.8198358222, -123504.37379826915 -365644.0825858779, -124999.89243707027 -363477.2223821066, -127190.4361837345 -361424.7643140406, -129577.59349018738 -363603.0773315859, -127731.80097638353 -367457.8398144746, -131216.3702352352 -366053.4693239977, -133695.15987398638 -365658.140740069, -132760.11561167828 -364382.210133086, -132314.48774412565 -358962.58689444856, -136051.6602130781 -355578.8810661264, -137831.63058030317 -354266.8104709962, -141541.6195007183 -353523.55528622336, -145186.72377879408 -353119.1773681906, -151728.84941201864 -356954.78566745936, -157206.10963923237 -364462.5863850932, -156386.7204906674 -367593.6129252951, -151480.44921008236 -370714.4949514441, -148710.41454244443 -370279.25992783724, -147284.4680817352 -368910.5295424253, -144265.92426660744 -368510.7274272802, -142036.72063802584 -368666.1523937458, -140964.0593575207 -369976.0661448461, -143523.05030359369 -376106.5269654219, -144801.49651944826 -377095.4251542244, -145306.5814449264 -376284.20584444935, -145738.64778921707 -374061.9622878067, -148662.76050828065 -372391.59096198896, -152667.4360255245 -375104.1005477302, -155437.26172555104 -378784.3390635177, -158804.58448595004 -377977.78076509206, -166364.9401695651 -374515.8542140572, -169960.15253631983 -373254.6819899062, -173346.6264292048 -373048.9004513222, -180588.79987096103 -378303.36187481566, -185801.4810893285 -379797.27488191053, -194514.78591430842 -379707.0063147479, -205660.73167878776 -379404.43770544184, -211161.61786796406 -380311.34010078193, -214226.37132663195 -379388.90357206017, -216815.55793454367 -378112.8952598691, -213160.40421337698 -376591.53653777455, -212519.24544070344 -373391.1491307196, -215166.79864462867 -373412.82780617225, -219184.7284809855 -375415.92680207855, -219083.97366945547 -373812.2059716129, -220755.1768619718 -369262.98628814856, -223395.70725783767 -366566.0530369556, -224416.29231718948 -362881.53466825985, -222903.5564291652 -352594.81772597466, -220281.50809574756 -344379.4172839331, -218086.72769766403 -339951.57918274263, -214865.7611328268 -332315.020152773, -215019.25738730578 -329695.66805741674, -217561.03032457852 -326177.69530044054, -218485.10077641206 -324261.13402645226, -218382.45276577363 -319465.1321375761, -217574.22881349278 -316159.5991493787, -215184.09529180249 -311023.3175464611, -208342.07837044832 -298798.90431004146, -203986.43584195874 -292350.7943436782, -204257.89881132744 -288409.7982012036, -204635.31397441318 -285845.17305441777, -203859.74218084733 -282432.28122452094, -199041.19899710346 -265819.581154556, -192955.2928161472 -256210.1248875677, -186692.51208465785 -249753.95488242919, -176823.86578115943 -241246.93199020956, -175818.34618166788 -239517.67625949474, -175272.37529450652 -236847.33664942803, -174441.54795306892 -234494.31880376965, -173179.95841736655 -231398.42201729616, -168505.62920047852 -224624.9601279223, -166444.0248433434 -223687.66847821098, -171562.02585749378 -222195.28130396453, -179470.36561464818 -218399.24592308357, -187343.37449776416 -213603.68802387457, -195722.013543446 -213582.41587488112, -201863.9151880112 -213757.40887303866, -206877.43306709192 -213627.73773220804, -208092.67681845036 -213278.58322679534, -209751.18353920756 -210734.87380336915, -219609.99003698648 -199553.5889500532, -224024.69489411684 -198003.11557223304, -227462.66736248496 -198313.64489621966, -228178.47011408766 -198681.78348779998), (-124994.13469464945 411487.78459976177, -129847.87058043208 411772.89727989683, -130488.94358924386 411945.2609413196, -135577.11147881378 414680.55864841625, -134762.65892116848 417158.18959490117, -133702.9443282772 418196.39944021875, -132466.66032188668 418842.92680144554, -131363.664695435 419214.5022042072, -126396.15380339054 419451.0258136627, -125594.9906227936 419274.93109137774, -124406.39070191236 418841.2983879113, -123429.78239057877 418172.81004407036, -122874.37110896248 415410.61192574486, -124572.45322883621 411832.16057902464, -124994.13469464945 411487.78459976177), (180455.938986544 365431.70335782797, 179487.31743603887 365642.74487230694, 172957.94831587878 370788.86371216, 170406.94637203013 374172.38261730096, 171253.37074153303 378064.69076001574, 172542.0733093484 378544.71673527523, 175575.74011205242 378376.31318681134, 176861.0395427897 378083.14571825415, 177872.881885685 378337.9697151529, 179661.25276002515 379333.49072767637, 177912.52674298128 382776.3251980255, 175819.01318799402 384553.0610670532, 172993.2392588849 385145.4113004455, 177017.90934246566 388709.2367725791, 177166.06233989916 391035.6623840112, 172842.70343998264 393948.35287273413, 171400.09817487173 397489.52251185506, 176835.9776861939 398456.86548190337, 178408.9770222751 398384.5991846738, 181542.25808781898 398387.4332512894, 183659.84570805426 400265.5862214636, 185515.8002291779 401902.342413379, 186285.63055551125 399440.09863527364, 187466.3149823707 397689.55178663513, 189204.7757614894 395497.85730727384, 191101.55405700073 391922.01022410125, 193483.35120795213 391438.45530760166, 194687.4011606333 392530.7590033745, 195470.5927595644 394823.3608810542, 194395.99457672113 398837.3786620747, 191599.13569542798 398839.61666648835, 189360.8019277204 400894.8976125294, 186567.0971327427 401711.67679989646, 185857.40888941733 405220.0483512127, 184639.12406931145 404534.98234048724, 183069.43973482214 402067.8140918451, 181870.3099366366 400968.7428069562, 180199.64892038918 399898.90326844406, 177937.5032977505 399086.51527931, 176155.14212252415 408318.44038862555, 177265.64119701614 410086.16960659897, 178425.24014567042 411244.8532507569, 179391.3661312093 411807.8545363923, 180261.45178184545 412057.75837982766, 184895.12733175227 412917.5092582624, 186143.58943758468 413121.1704708864, 188922.72534589682 413416.9354713285, 189893.37578741423 412595.5624693046, 188930.05766848833 410753.0772965195, 186920.8062642268 409790.88897437864, 186340.41088319718 408792.3019831545, 186946.15101222586 404914.8335350859, 188067.8461112542 402930.24251245585, 189796.9184982319 401781.6554696963, 191297.1817451433 401319.8900092449, 192937.6501495995 401560.12951953156, 195147.1718072153 401882.1093414983, 200087.04735045906 402970.4912034192, 201678.84849731709 403192.59581969626, 203022.3167284682 403118.3418548476, 205440.47797269135 401177.8187894846, 205857.3861392772 398508.7313233479, 205749.50910147006 397048.03043406666, 205274.9900494004 396144.9185034977, 203727.46547504258 395257.5149105647, 200193.73118930662 391654.4020785984, 199619.45025444988 389865.26337059395, 199663.07566005862 388705.1556695987, 200144.64160671708 387022.86761686864, 202623.04646974982 382853.28744526044, 203418.05839664166 382639.5796719006, 204408.6986899714 382712.5137154324, 206031.19046284884 382798.4215622099, 208116.4534841468 381386.70464297105, 208683.04809695494 380621.65055716864, 210137.6094780814 377758.96253938164, 211084.16673192894 375168.14979121124, 210400.43378521208 368898.1120511193, 209366.89864568098 368496.4495997806, 208164.97478880416 369566.6859653264, 209100.62955557203 371272.32646364183, 209084.08536983377 374135.7467504494, 207295.92520545158 376968.44693676004, 195588.09439847156 375747.4784621569, 193248.33877964245 374104.5459254224, 186214.47449081286 367679.62227926817, 186263.62584238726 366180.30428016145, 189461.1749096428 366909.0096153613, 190396.44433078653 366404.4296962394, 190885.5862817609 365046.35509750055, 190893.9017342086 363699.77639153454, 188900.8734290118 362041.8162857945, 183777.37679749983 364845.4161811162, 180455.938986544 365431.70335782797), (50226.2277540377 384991.38120911317, 52104.600958623945 381144.4972540314, 52791.429078093955 379404.2798199058, 41531.19495422951 379107.00519799814, 40538.239889962926 379129.92085244675, 33831.07231925541 382621.58264288364, 33043.98777196486 383558.147490167, 32846.68613964657 384717.29181134026, 33174.30233969924 386870.634541131, 33631.83289785653 388420.67389026406, 34278.35239989681 389956.84177597746, 35248.42966881277 391495.50831360824, 36719.63954125399 393317.4525456494, 44337.62361499109 391757.55182789685, 47470.585338868426 389899.9749762241, 48227.571104020695 388948.40823811566, 50226.2277540377 384991.38120911317), (31171.95974108173 376120.11842143023, 32182.33110886614 376281.4776250129, 33579.553719831776 375981.3342215281, 32158.568522084057 375785.8830304636, 31171.95974108173 376120.11842143023), (244671.68261963312 331891.57986238133, 244194.52593285215 328678.2738570575, 244569.48644501547 325244.58300887566, 242866.06195456267 325824.9331328071, 235583.85673798528 325278.5372165589, 232769.1481056776 324747.14912448614, 230295.1512567198 322624.1014875875, 226977.6261787316 321554.05220778927, 222794.12568739592 320972.6439088621, 219007.8015660647 322958.2517902277, 221723.80117488344 325148.91671685356, 225382.7254137422 327485.5029859406, 225979.74695381903 329448.62158733065, 227019.93993931237 332422.8864208984, 228514.3279741146 334882.8808841331, 230592.35024605595 333518.7732649368, 232393.52193946065 332849.25093216164, 233242.59259807793 337596.2639695307, 232587.39981483374 339856.4504887054, 230334.04119919083 340723.58606192394, 229531.115302042 342806.17466228356, 227875.4972993733 345336.5962215091, 226165.8868309292 345694.7446203719, 224213.05703517114 345432.408947286, 224030.82668463912 342365.51108725433, 222905.51682444068 340124.89330066927, 220257.7945761764 338609.84535921994, 217695.29175172944 342641.61114509706, 216597.50477432733 346487.89510517585, 216571.94122667337 350149.2669598488, 212911.71878221259 354765.6877005708, 213500.6169686643 356850.6703344174, 216388.2479780066 357080.7611786431, 217443.752611787 354434.2812580151, 220175.61281081446 350557.4863150033, 221977.00971858102 348815.7751447856, 224478.39208303357 347737.06513593177, 226843.55966807855 347140.9127307518, 229231.81445606812 346376.4836213663, 236378.8303107035 339280.7189045969, 241847.49224565836 333731.13185082783, 243902.50299389413 332286.3637904145, 244671.68261963312 331891.57986238133), (-136830.61606801098 -365946.52377248165, -137152.95453738383 -364879.9254385354, -134762.84350237978 -364027.9617686962, -134443.28824861176 -365619.5960319784, -136830.61606801098 -365946.52377248165))\"\n        ],\n        \"semantic_type\": \"\",\n        \"description\": \"\"\n      }\n    },\n    {\n      \"column\": \"name\",\n      \"properties\": {\n        \"dtype\": \"string\",\n        \"num_unique_values\": 1,\n        \"samples\": [\n          \"Germany\"\n        ],\n        \"semantic_type\": \"\",\n        \"description\": \"\"\n      }\n    }\n  ]\n}"
            }
          },
          "metadata": {},
          "execution_count": 120
        }
      ],
      "source": [
        "Germany_border"
      ]
    },
    {
      "cell_type": "markdown",
      "metadata": {
        "id": "56253f89"
      },
      "source": [
        "You can add this GDF as a layer."
      ]
    },
    {
      "cell_type": "markdown",
      "metadata": {
        "id": "a1a60dee"
      },
      "source": [
        "### Exercise 3\n",
        "\n",
        "<div class=\"alert-success\">\n",
        "    \n",
        "1. Check if your country is a polygon or multipolygon.\n",
        "    \n",
        "2. Recover just the boundaries of that country.\n",
        "    \n",
        "3. Turn the boundary into a GDF.\n",
        "</div>"
      ]
    },
    {
      "cell_type": "markdown",
      "metadata": {
        "id": "2c049934"
      },
      "source": [
        "<a class=\"anchor\" id=\"12\"></a>\n",
        "\n",
        "## Maps Lacking CRS information"
      ]
    },
    {
      "cell_type": "markdown",
      "metadata": {
        "id": "ae03899d"
      },
      "source": [
        "Reprojecting seems a simple process, but you might find some interesting cases.\n",
        "\n",
        "Download the compressed file \"Brazil_subnational\". Unzip or decompress that files. Move the decompressed folder into your current _maps_ folder.\n",
        "\n",
        "Let's read the maps on _states_(adm1) and _municipalities_ (adm2):"
      ]
    },
    {
      "cell_type": "code",
      "execution_count": null,
      "metadata": {
        "id": "8f1ffae0"
      },
      "outputs": [],
      "source": [
        "Germany_states=gpd.read_file(os.path.join(\"maps\",\"bra_adm_ibge_2020_shp\",\"bra_admbnda_adm1_ibge_2020.shp\"))\n",
        "Germany_municipalities=gpd.read_file(os.path.join(\"maps\",\"bra_adm_ibge_2020_shp\",\"bra_admbnda_adm2_ibge_2020.shp\"))"
      ]
    },
    {
      "cell_type": "markdown",
      "metadata": {
        "id": "04c40df3-a43f-4252-a589-ab8449fcd9dd"
      },
      "source": [
        "They are maps, for sure:"
      ]
    },
    {
      "cell_type": "code",
      "execution_count": null,
      "metadata": {
        "id": "c94b207d-0723-4b51-82ff-0ff999a844ac"
      },
      "outputs": [],
      "source": [
        "type(Germany_states), type(Germany_municipalities)"
      ]
    },
    {
      "cell_type": "code",
      "execution_count": null,
      "metadata": {
        "id": "b8871df8-0f49-4ef7-9c0f-c6eb7aa3205d"
      },
      "outputs": [],
      "source": [
        "Germany_states.geometry.head()"
      ]
    },
    {
      "cell_type": "code",
      "execution_count": null,
      "metadata": {
        "id": "ca1bb428-8608-44b0-ad0a-fa5a6a1f5a61"
      },
      "outputs": [],
      "source": [
        "Germany_municipalities.geometry.head()"
      ]
    },
    {
      "cell_type": "markdown",
      "metadata": {
        "id": "1fc50b42"
      },
      "source": [
        "But, notice this:"
      ]
    },
    {
      "cell_type": "code",
      "execution_count": null,
      "metadata": {
        "id": "fcf97ff7"
      },
      "outputs": [],
      "source": [
        "Germany_states.crs, Germany_municipalities.crs"
      ]
    },
    {
      "cell_type": "markdown",
      "metadata": {
        "id": "d5d3fb9f"
      },
      "source": [
        "They do not have crs information, however they can be plotted:"
      ]
    },
    {
      "cell_type": "code",
      "execution_count": null,
      "metadata": {
        "id": "55f99615"
      },
      "outputs": [],
      "source": [
        "import matplotlib.pyplot as plt\n",
        "\n",
        "fig, (ax1, ax2) = plt.subplots(ncols=2, sharex=False, sharey=False, figsize=(12,12))\n",
        "\n",
        "brazil_states.plot(ax=ax1, facecolor='lightgrey', edgecolor='black')\n",
        "brazil_municipalities.plot(ax=ax2, facecolor='lightgrey', edgecolor='black',linewidth=0.2)\n"
      ]
    },
    {
      "cell_type": "markdown",
      "metadata": {
        "id": "1b744542"
      },
      "source": [
        "Since we are using the crs 5641 for Brazil, the initial strategy could be to set the CRS with the right projection :"
      ]
    },
    {
      "cell_type": "code",
      "execution_count": null,
      "metadata": {
        "id": "931bfad1"
      },
      "outputs": [],
      "source": [
        "## uncomment this to see the error message\n",
        "# brazil_states.to_crs(5641)"
      ]
    },
    {
      "cell_type": "markdown",
      "metadata": {
        "id": "4c6125eb"
      },
      "source": [
        "Python says _\"Please set a crs on the object first\"_. This would mean to know the actual projection, of the geometry:"
      ]
    },
    {
      "cell_type": "markdown",
      "metadata": {
        "id": "947b1955"
      },
      "source": [
        "From the plots above and the rows seen, we conclude the maps are unprojected; then:"
      ]
    },
    {
      "cell_type": "code",
      "execution_count": null,
      "metadata": {
        "id": "b0cea549"
      },
      "outputs": [],
      "source": [
        "# set as unprojected\n",
        "brazil_states.crs = \"EPSG:4326\"\n",
        "brazil_municipalities.crs = \"EPSG:4326\""
      ]
    },
    {
      "cell_type": "markdown",
      "metadata": {
        "id": "370b9b22"
      },
      "source": [
        "Now, we can reproject:"
      ]
    },
    {
      "cell_type": "code",
      "execution_count": null,
      "metadata": {
        "id": "b5931b04"
      },
      "outputs": [],
      "source": [
        "brazil_states=brazil_states.to_crs(5641)\n",
        "brazil_municipalities=brazil_municipalities.to_crs(5641)"
      ]
    },
    {
      "cell_type": "code",
      "execution_count": null,
      "metadata": {
        "id": "XEfZoSqazEiS"
      },
      "outputs": [],
      "source": [
        "brazil_states.to_file(os.path.join(\"maps\",\"brazilMaps_5641.gpkg\"), layer='states', driver=\"GPKG\")\n",
        "brazil_municipalities.to_file(os.path.join(\"maps\",\"brazilMaps_5641.gpkg\"), layer='municipalities', driver=\"GPKG\")"
      ]
    },
    {
      "cell_type": "markdown",
      "metadata": {
        "id": "4bd63172"
      },
      "source": [
        "### Exercise 4\n",
        "\n",
        "<div class=\"alert-success\">\n",
        "\n",
        "1. Look for sub administrative divisions of your country\n",
        "2. Check all the CRSs of those divisions\n",
        "3. If you find one CRS is missing, fill the CRS with the right projection. If not, just state nothing is to be done.\n",
        "</div>"
      ]
    },
    {
      "cell_type": "markdown",
      "metadata": {
        "id": "cQgamTbX911A"
      },
      "source": [
        "## Geo Merging\n",
        "\n",
        "The countries map has no interesting information beyond the geometry."
      ]
    },
    {
      "cell_type": "code",
      "execution_count": null,
      "metadata": {
        "id": "QkRTmDTZ911A"
      },
      "outputs": [],
      "source": [
        "countries.head()"
      ]
    },
    {
      "cell_type": "markdown",
      "metadata": {
        "id": "mL6Pw18r911A"
      },
      "source": [
        "Let add some information to each country:"
      ]
    },
    {
      "cell_type": "code",
      "execution_count": null,
      "metadata": {
        "id": "97btXyge911A"
      },
      "outputs": [],
      "source": [
        "import pandas as pd\n",
        "\n",
        "fragilityCiaLink=\"https://github.com/CienciaDeDatosEspacial/merging/raw/main/FragilityCia_isos.csv\"\n",
        "\n",
        "fragilityCia=pd.read_csv(fragilityCiaLink)\n",
        "\n",
        "fragilityCia.head()"
      ]
    },
    {
      "cell_type": "markdown",
      "metadata": {
        "id": "ucMytkM9911A"
      },
      "source": [
        "We want to add the _fragilityCia_ data into the map. That is the merging process.\n",
        "For that, we need a common column. The _Country_ column is the option."
      ]
    },
    {
      "cell_type": "code",
      "execution_count": null,
      "metadata": {
        "id": "_vJq-o89911B"
      },
      "outputs": [],
      "source": [
        "# to upper case.\n",
        "countries['COUNTRY']=countries.COUNTRY.str.upper()"
      ]
    },
    {
      "cell_type": "markdown",
      "metadata": {
        "id": "qQjjpN3J911B"
      },
      "source": [
        "It is very unlikely the names are written the same. Verify:"
      ]
    },
    {
      "cell_type": "code",
      "execution_count": null,
      "metadata": {
        "id": "XQSKl9Nz911B"
      },
      "outputs": [],
      "source": [
        "onlyFragilCia=set(fragilityCia.Country)- set(countries.COUNTRY)\n",
        "onlyMap=set(countries.COUNTRY)- set(fragilityCia.Country)"
      ]
    },
    {
      "cell_type": "markdown",
      "metadata": {
        "id": "6HxnDC7W911B"
      },
      "source": [
        "Check here:"
      ]
    },
    {
      "cell_type": "code",
      "execution_count": null,
      "metadata": {
        "id": "hE_aSvmQ911B"
      },
      "outputs": [],
      "source": [
        "onlyFragilCia"
      ]
    },
    {
      "cell_type": "code",
      "execution_count": null,
      "metadata": {
        "id": "zbTizb6b911B"
      },
      "outputs": [],
      "source": [
        "# and here\n",
        "onlyMap"
      ]
    },
    {
      "cell_type": "markdown",
      "metadata": {
        "id": "6_UJQaV3911B"
      },
      "source": [
        "## Fuzzy merging"
      ]
    },
    {
      "cell_type": "markdown",
      "metadata": {
        "id": "1Ru8Wp9f911C"
      },
      "source": [
        "Let's find similar names:"
      ]
    },
    {
      "cell_type": "code",
      "execution_count": null,
      "metadata": {
        "id": "5kOc6YjOBuwj"
      },
      "outputs": [],
      "source": [
        "# !pip install thefuzz"
      ]
    },
    {
      "cell_type": "code",
      "execution_count": null,
      "metadata": {
        "id": "OGiG_W77911G"
      },
      "outputs": [],
      "source": [
        "from thefuzz import process\n",
        "\n",
        "[(country, process.extractOne(country,onlyMap)) for country in sorted(onlyFragilCia)]"
      ]
    },
    {
      "cell_type": "code",
      "execution_count": null,
      "metadata": {
        "id": "X_BTyMJ6911G"
      },
      "outputs": [],
      "source": [
        "# keeping high scores\n",
        "\n",
        "[(country, process.extractOne(country,onlyMap)) for country in sorted(onlyFragilCia)\n",
        " if process.extractOne(country,onlyMap)[1]>=90]"
      ]
    },
    {
      "cell_type": "markdown",
      "metadata": {
        "id": "f4HfKg5a911G"
      },
      "source": [
        "Preparing a _dict_ of changes:"
      ]
    },
    {
      "cell_type": "code",
      "execution_count": null,
      "metadata": {
        "id": "HaGAV_eE911G"
      },
      "outputs": [],
      "source": [
        "# then:\n",
        "try1={country: process.extractOne(country,onlyMap)[0] for country in sorted(onlyFragilCia)\n",
        " if process.extractOne(country,onlyMap)[1]>=90}\n",
        "try1"
      ]
    },
    {
      "cell_type": "markdown",
      "metadata": {
        "id": "SZBdNu65911G"
      },
      "source": [
        "Making changes and updating:"
      ]
    },
    {
      "cell_type": "code",
      "execution_count": null,
      "metadata": {
        "id": "2uoQ0nu-911G"
      },
      "outputs": [],
      "source": [
        "fragilityCia.replace(to_replace={'Country':try1},inplace=True)\n",
        "\n",
        "# updating\n",
        "onlyFragilCia=set(fragilityCia.Country)- set(countries.COUNTRY)\n",
        "onlyMap=set(countries.COUNTRY)- set(fragilityCia.Country)\n",
        "# new matches\n",
        "[(country, process.extractOne(country,onlyMap)) for country in sorted(onlyFragilCia)]"
      ]
    },
    {
      "cell_type": "code",
      "execution_count": null,
      "metadata": {
        "id": "SKGDe5d7911G"
      },
      "outputs": [],
      "source": [
        "# some manual\n",
        "\n",
        "countries[countries.COUNTRY.str.contains('LAO|SWA|KOR')]"
      ]
    },
    {
      "cell_type": "code",
      "execution_count": null,
      "metadata": {
        "id": "2F0OGU0z911H"
      },
      "outputs": [],
      "source": [
        "manualChanges={'SWAZILAND':'ESWATINI','LAOS':\"LAO PEOPLE'S DEMOCRATIC REPUBLIC (THE)\",'SOUTH KOREA':'KOREA (THE REPUBLIC OF)'}\n",
        "\n",
        "countries.replace(to_replace={'COUNTRY':manualChanges},inplace=True)\n",
        "\n",
        "# updating\n",
        "onlyFragilCia=set(fragilityCia.Country)- set(countries.COUNTRY)\n",
        "onlyMap=set(countries.COUNTRY)- set(fragilityCia.Country)\n",
        "# new matches\n",
        "[(country, process.extractOne(country,onlyMap)) for country in sorted(onlyFragilCia)]"
      ]
    },
    {
      "cell_type": "code",
      "execution_count": null,
      "metadata": {
        "id": "teIn9O7l911H"
      },
      "outputs": [],
      "source": [
        "# then:\n",
        "try2={country: process.extractOne(country,onlyMap)[0] for country in sorted(onlyFragilCia)}\n",
        "try2"
      ]
    },
    {
      "cell_type": "code",
      "execution_count": null,
      "metadata": {
        "id": "F7DRk15v911H"
      },
      "outputs": [],
      "source": [
        "# changing\n",
        "fragilityCia.replace(to_replace={'Country':try2},inplace=True)\n",
        "\n",
        "# new update\n",
        "onlyFragilCia=set(fragilityCia.Country)- set(countries.COUNTRY)\n",
        "onlyMap=set(countries.COUNTRY)- set(fragilityCia.Country)\n",
        "\n",
        "# new matches\n",
        "[(country, process.extractOne(country,onlyMap)) for country in sorted(onlyFragilCia)]"
      ]
    },
    {
      "cell_type": "markdown",
      "metadata": {
        "id": "zDRNBfSF911H"
      },
      "source": [
        "We can not improve the situation.\n",
        "\n",
        "Now, when you merge a GDF with a DF, **the GDF has to be on the left**:"
      ]
    },
    {
      "cell_type": "code",
      "execution_count": null,
      "metadata": {
        "id": "Uh4HwdF3911H"
      },
      "outputs": [],
      "source": [
        "theMapAndData=countries.merge(fragilityCia,left_on='COUNTRY', right_on='Country')\n",
        "\n",
        "theMapAndData.drop(columns=['Country'],inplace=True) # no need for this column\n",
        "# here it is (new map):\n",
        "theMapAndData.info()"
      ]
    },
    {
      "cell_type": "markdown",
      "metadata": {
        "id": "mZicl2ut911H"
      },
      "source": [
        "# Choropleths\n",
        "\n",
        "## Transformation of data values\n",
        "\n",
        "### Re Scaling\n",
        "\n",
        "We should plan how to color the polygons based on some variable, let me check our variables of interest:"
      ]
    },
    {
      "cell_type": "code",
      "execution_count": null,
      "metadata": {
        "id": "4KpqfrRB911H"
      },
      "outputs": [],
      "source": [
        "DataNames=['fragility', 'co2', 'ForestRev_gdp']"
      ]
    },
    {
      "cell_type": "code",
      "execution_count": null,
      "metadata": {
        "id": "owx8zLXQ911I"
      },
      "outputs": [],
      "source": [
        "\n",
        "pd.melt(theMapAndData[DataNames])"
      ]
    },
    {
      "cell_type": "code",
      "execution_count": null,
      "metadata": {
        "id": "hCvWgr63911I"
      },
      "outputs": [],
      "source": [
        "import seaborn as sns\n",
        "import matplotlib.pyplot as plt\n",
        "\n",
        "sns.displot(pd.melt(theMapAndData[DataNames]),\n",
        "            x=\"value\", hue=\"variable\",kind=\"kde\",\n",
        "            log_scale=(False,False))"
      ]
    },
    {
      "cell_type": "markdown",
      "metadata": {
        "id": "P3hCupcF911I"
      },
      "source": [
        "The variables are in different units, we should try a data rescaling strategy:"
      ]
    },
    {
      "cell_type": "code",
      "execution_count": null,
      "metadata": {
        "id": "_Vo-RpYT911I"
      },
      "outputs": [],
      "source": [
        "# !pip install -U scikit-learn"
      ]
    },
    {
      "cell_type": "markdown",
      "metadata": {
        "id": "tftzIdbg911I"
      },
      "source": [
        "* **StandardScaler**:"
      ]
    },
    {
      "cell_type": "code",
      "execution_count": null,
      "metadata": {
        "id": "IAf2hGcY911I"
      },
      "outputs": [],
      "source": [
        "from sklearn.preprocessing import StandardScaler\n",
        "\n",
        "scaler = StandardScaler()\n",
        "normalized_data = scaler.fit_transform(theMapAndData[DataNames])\n",
        "sns.displot(pd.melt(pd.DataFrame(normalized_data,columns=DataNames)),\n",
        "            x=\"value\", hue=\"variable\",kind=\"kde\",\n",
        "            log_scale=(False,False))"
      ]
    },
    {
      "cell_type": "markdown",
      "metadata": {
        "id": "ixk2GsQ8911I"
      },
      "source": [
        "* **MinMaxScaler**:"
      ]
    },
    {
      "cell_type": "code",
      "execution_count": null,
      "metadata": {
        "id": "EycFhq7i911J"
      },
      "outputs": [],
      "source": [
        "from sklearn.preprocessing import MinMaxScaler\n",
        "\n",
        "scaler = MinMaxScaler(feature_range=(0, 1))\n",
        "scaled_data=scaler.fit_transform(theMapAndData[DataNames])\n",
        "\n",
        "sns.displot(pd.melt(pd.DataFrame(scaled_data,columns=DataNames)),\n",
        "            x=\"value\", hue=\"variable\",kind=\"kde\",\n",
        "            log_scale=(False,False))"
      ]
    },
    {
      "cell_type": "markdown",
      "metadata": {
        "id": "hdV_cuuY911J"
      },
      "source": [
        "* **RobustScaler**:"
      ]
    },
    {
      "cell_type": "code",
      "execution_count": null,
      "metadata": {
        "id": "eyVByKu4911J"
      },
      "outputs": [],
      "source": [
        "from sklearn.preprocessing import RobustScaler\n",
        "scaler = RobustScaler()\n",
        "robScaled_data = scaler.fit_transform(theMapAndData[DataNames])\n",
        "\n",
        "sns.displot(pd.melt(pd.DataFrame(robScaled_data,columns=DataNames)),\n",
        "            x=\"value\", hue=\"variable\",kind=\"kde\",\n",
        "            log_scale=(False,False))"
      ]
    },
    {
      "cell_type": "markdown",
      "metadata": {
        "id": "MlIt2ggd911J"
      },
      "source": [
        "* **QuantileTransformer**:"
      ]
    },
    {
      "cell_type": "code",
      "execution_count": null,
      "metadata": {
        "id": "0r0hi-BE911J"
      },
      "outputs": [],
      "source": [
        "from sklearn.preprocessing import QuantileTransformer\n",
        "scaler = QuantileTransformer(n_quantiles=99, random_state=0,output_distribution='normal') #or 'uniform'\n",
        "QtScaled_data = scaler.fit_transform(theMapAndData[DataNames])\n",
        "\n",
        "sns.displot(pd.melt(pd.DataFrame(QtScaled_data,columns=DataNames)),\n",
        "            x=\"value\", hue=\"variable\",kind=\"kde\",\n",
        "            log_scale=(False,False))"
      ]
    },
    {
      "cell_type": "markdown",
      "metadata": {
        "id": "la4Wko9duich"
      },
      "source": [
        "Let's keep the last one:"
      ]
    },
    {
      "cell_type": "code",
      "execution_count": null,
      "metadata": {
        "id": "bM1DZOXx911J"
      },
      "outputs": [],
      "source": [
        "theMapAndData['fragility_Qt']=QtScaled_data[:,0]"
      ]
    },
    {
      "cell_type": "markdown",
      "metadata": {
        "id": "Mvu1FQMh911J"
      },
      "source": [
        "### Discretizing"
      ]
    },
    {
      "cell_type": "markdown",
      "metadata": {
        "id": "UHh74IeT911J"
      },
      "source": [
        "I will keep the _data_Qt_ data frame. Now, I want cut the data.\n",
        "Please install [**numba**](https://numba.readthedocs.io/en/stable/user/installing.html) before runing the next code; also make sure you have **pysal**, **mapclassify** and **numpy** installed:"
      ]
    },
    {
      "cell_type": "code",
      "execution_count": null,
      "metadata": {
        "id": "pSSN_XDv911K"
      },
      "outputs": [],
      "source": [
        "! pip show numba mapclassify numpy"
      ]
    },
    {
      "cell_type": "code",
      "execution_count": null,
      "metadata": {
        "id": "nBBm8XmEuicm"
      },
      "outputs": [],
      "source": [
        "# !pip install mapclassify"
      ]
    },
    {
      "cell_type": "markdown",
      "metadata": {
        "id": "XifM5dIB911K"
      },
      "source": [
        "Let me discretize **fragility_Qt**:"
      ]
    },
    {
      "cell_type": "code",
      "execution_count": null,
      "metadata": {
        "id": "CvipvzA1911K"
      },
      "outputs": [],
      "source": [
        "import mapclassify\n",
        "import numpy as np\n",
        "\n",
        "np.random.seed(12345) # so we all get the same results!\n",
        "\n",
        "# let's try 5 intervals\n",
        "K=5\n",
        "theVar=theMapAndData.fragility_Qt\n",
        "# same interval width, easy interpretation\n",
        "ei5 = mapclassify.EqualInterval(theVar, k=K)\n",
        "# same interval width based on standard deviation, easy - but not as the previous one, poor when high skewness\n",
        "msd = mapclassify.StdMean(theVar)\n",
        "# interval width varies, counts per interval are close, not easy to grasp, repeated values complicate cuts\n",
        "q5=mapclassify.Quantiles(theVar,k=K)\n",
        "\n",
        "# based on similarity, good for multimodal data\n",
        "mb5 = mapclassify.MaximumBreaks(theVar, k=K)\n",
        "# based on similarity, good for skewed data\n",
        "ht = mapclassify.HeadTailBreaks(theVar) # no K needed\n",
        "# based on similarity, optimizer\n",
        "fj5 = mapclassify.FisherJenks(theVar, k=K)\n",
        "# based on similarity, optimizer\n",
        "jc5 = mapclassify.JenksCaspall(theVar, k=K)\n",
        "# based on similarity, optimizer\n",
        "mp5 = mapclassify.MaxP(theVar, k=K)"
      ]
    },
    {
      "cell_type": "markdown",
      "metadata": {
        "id": "jMjS1bE0911K"
      },
      "source": [
        "How can we select the right classification?\n",
        "Let me use the the Absolute deviation around class median (ADCM) to make the comparisson:"
      ]
    },
    {
      "cell_type": "code",
      "execution_count": null,
      "metadata": {
        "id": "bKvo0_cQ911K"
      },
      "outputs": [],
      "source": [
        "class5 = ei5,msd, q5,mb5,  ht, fj5, jc5, mp5\n",
        "# Collect ADCM for each classifier\n",
        "fits = np.array([ c.adcm for c in class5])\n",
        "# Convert ADCM scores to a DataFrame\n",
        "adcms = pd.DataFrame(fits)\n",
        "# Add classifier names\n",
        "adcms['classifier'] = [c.name for c in class5]\n",
        "# Add column names to the ADCM\n",
        "adcms.columns = ['ADCM', 'Classifier']"
      ]
    },
    {
      "cell_type": "markdown",
      "metadata": {
        "id": "anEyZGV6911L"
      },
      "source": [
        "Now, plot the **adcms**:"
      ]
    },
    {
      "cell_type": "code",
      "execution_count": null,
      "metadata": {
        "id": "TnYEkaJf911L"
      },
      "outputs": [],
      "source": [
        "adcms.sort_values('ADCM').plot.barh(x='Classifier')"
      ]
    },
    {
      "cell_type": "markdown",
      "metadata": {
        "id": "v22izWrv911L"
      },
      "source": [
        "Let's save the best strategy:"
      ]
    },
    {
      "cell_type": "code",
      "execution_count": null,
      "metadata": {
        "id": "QVab2hAl911L"
      },
      "outputs": [],
      "source": [
        "theMapAndData['fragility_Qt_jc5'] = jc5.yb"
      ]
    },
    {
      "cell_type": "code",
      "execution_count": null,
      "metadata": {
        "id": "NlOeXrph911L"
      },
      "outputs": [],
      "source": [
        "# there you are\n",
        "theMapAndData[['fragility_Qt','fragility_Qt_jc5']].head()"
      ]
    },
    {
      "cell_type": "markdown",
      "metadata": {
        "id": "6tBZSYFY911L"
      },
      "source": [
        "Let's check the mean of 'fragility_Qt' by the labels of the columns created (from '0' to '4')"
      ]
    },
    {
      "cell_type": "code",
      "execution_count": null,
      "metadata": {
        "id": "z0hBWL1d911L"
      },
      "outputs": [],
      "source": [
        "indexList=['fragility_Qt_jc5'] # add more?\n",
        "aggregator={'fragility_Qt': ['mean']}\n",
        "\n",
        "pd.concat([theMapAndData[['fragility_Qt',col]].groupby(col,as_index=False).agg(aggregator) for col in indexList],axis=1)"
      ]
    },
    {
      "cell_type": "markdown",
      "metadata": {
        "id": "eZdX-5M4911L"
      },
      "source": [
        "We could create a new column:"
      ]
    },
    {
      "cell_type": "code",
      "execution_count": null,
      "metadata": {
        "id": "5GT4XA4C911P"
      },
      "outputs": [],
      "source": [
        "# renaming\n",
        "newLabelsForLevels={0:\"0_Great\", 1:\"1_Good\", 2:\"2_Middle\", 3:\"3_Bad\", 4:\"4_Poor\"}\n",
        "\n",
        "theMapAndData['fragility_Qt_jc5_cat']=theMapAndData.loc[:,'fragility_Qt_jc5'].replace(newLabelsForLevels)\n",
        "\n",
        "# we have\n",
        "theMapAndData[['fragility_Qt','fragility_Qt_jc5','fragility_Qt_jc5_cat']].head(20)"
      ]
    },
    {
      "cell_type": "markdown",
      "metadata": {
        "id": "WMBgSJUw911P"
      },
      "source": [
        "We are ready for a choropleth:"
      ]
    },
    {
      "cell_type": "code",
      "execution_count": null,
      "metadata": {
        "id": "0BIR7WUe911P"
      },
      "outputs": [],
      "source": [
        "import matplotlib.pyplot as plt\n",
        "\n",
        "f, ax = plt.subplots(1, figsize=(10, 10))\n",
        "theMapAndData.plot(column='fragility_Qt_jc5_cat', # variable to plot\n",
        "                   cmap='viridis', # set of colors\n",
        "                   categorical=True, # can be interpreted as category\n",
        "                   edgecolor='white', # border color\n",
        "                   linewidth=0., # width of border\n",
        "                   alpha=1, # level of transparency (0 is invisible)\n",
        "                   legend=True, # need a legend?\n",
        "                   # location of legend: 'best', 'upper right', 'upper left', 'lower left',\n",
        "                   # 'lower right', 'right', 'center left', 'center right',\n",
        "                   # 'lower center', 'upper center', 'center'\n",
        "                   legend_kwds={'loc':\"lower left\"},\n",
        "        ax=ax\n",
        "       )\n",
        "\n",
        "ax.set_axis_off()"
      ]
    },
    {
      "cell_type": "markdown",
      "metadata": {
        "id": "x-qr4wOk911P"
      },
      "source": [
        "However, once you know the ADCM, you can request the choropleth without creating a variable:"
      ]
    },
    {
      "cell_type": "code",
      "execution_count": null,
      "metadata": {
        "id": "F_IIJHYb911Q"
      },
      "outputs": [],
      "source": [
        "import matplotlib.pyplot as plt\n",
        "\n",
        "f, ax = plt.subplots(1, figsize=(10, 10))\n",
        "theMapAndData.plot(column='fragility_Qt',\n",
        "                   cmap='OrRd',\n",
        "                   scheme=\"jenkscaspall\",k=5,\n",
        "        edgecolor='grey',\n",
        "        linewidth=0.5,\n",
        "        alpha=1,\n",
        "        legend=True,\n",
        "        legend_kwds={'loc':3},\n",
        "        ax=ax\n",
        "       )\n",
        "\n",
        "ax.set_axis_off()"
      ]
    },
    {
      "cell_type": "code",
      "execution_count": null,
      "metadata": {
        "id": "w-7bSegs911Q"
      },
      "outputs": [],
      "source": [
        "# finally\n",
        "\n",
        "theMapAndData.to_file(os.path.join(\"maps\",\"worldMaps.gpkg\"), layer='indicators', driver=\"GPKG\")"
      ]
    },
    {
      "cell_type": "markdown",
      "metadata": {
        "id": "eK_uY-Ge911Q"
      },
      "source": [
        "### Exercise 5\n",
        "\n",
        "<div class=\"alert-success\">\n",
        "\n",
        "1. Transform the co2 and forest variables.\n",
        "2. Discretize the result chosen.\n",
        "3. Make the maps for the co2 and forest variables.\n",
        "4. Add another variable (merge) from the web (or any other source). Transform it , discretize it, and map it.\n",
        "   \n",
        "    \n",
        "</div>"
      ]
    }
  ],
  "metadata": {
    "anaconda-cloud": {
      "attach-environment": true,
      "summary": "test"
    },
    "colab": {
      "provenance": [],
      "include_colab_link": true
    },
    "hide_input": false,
    "kernelspec": {
      "display_name": "Python 3 (ipykernel)",
      "language": "python",
      "name": "python3"
    },
    "language_info": {
      "codemirror_mode": {
        "name": "ipython",
        "version": 3
      },
      "file_extension": ".py",
      "mimetype": "text/x-python",
      "name": "python",
      "nbconvert_exporter": "python",
      "pygments_lexer": "ipython3",
      "version": "3.11.9"
    },
    "toc-autonumbering": false
  },
  "nbformat": 4,
  "nbformat_minor": 0
}